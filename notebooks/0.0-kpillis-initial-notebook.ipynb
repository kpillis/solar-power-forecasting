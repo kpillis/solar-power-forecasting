{
 "cells": [
  {
   "cell_type": "markdown",
   "metadata": {},
   "source": [
    "# Napelemek temelésének előrejelzése gépi tanulási algoritmusok segítségével\n",
    "## A feladat\n",
    "`count félrevezet; cov,corr INF-et ad; quantile-t nem tudom használni`"
   ]
  },
  {
   "cell_type": "code",
   "execution_count": 3,
   "metadata": {},
   "outputs": [],
   "source": [
    "import math\n",
    "import pandas as pd\n",
    "import numpy as np\n",
    "\n",
    "PATH_TO_DATA = '../solar/train15.csv'\n",
    "DATE_FORMAT = '%Y%m%d %H:%M'\n",
    "INDEX_COLUMN = \"TIMESTAMP\"\n",
    "TARGET_COLUMN = \"POWER\"\n",
    "\n",
    "df = pd.read_csv(PATH_TO_DATA)\n",
    "dateparse = lambda x: pd.datetime.strptime(x, DATE_FORMAT)\n",
    "df[INDEX_COLUMN] = df[INDEX_COLUMN].apply(dateparse)\n",
    "ONE_DAY = 24\n",
    "ONE_YEAR = 365 * ONE_DAY\n",
    "ONE_WEEK = ONE_DAY * 7\n",
    "PREDICT_INTERVAL = ONE_DAY*5"
   ]
  },
  {
   "cell_type": "code",
   "execution_count": 4,
   "metadata": {},
   "outputs": [],
   "source": [
    "# Magyarázó változók hozzáadása a modellhez\n",
    "columns_to_keep = ['TIMESTAMP','ZONEID','VAR78', 'VAR79', 'VAR134', 'VAR157', 'VAR164',\n",
    "       'VAR165', 'VAR166', 'VAR167']\n",
    "\n",
    "df_features = pd.read_csv('../solar/predictors15.csv')\n",
    "df_features[INDEX_COLUMN] = df_features[INDEX_COLUMN].apply(dateparse)\n",
    "df_features = df_features[columns_to_keep]\n",
    "\n",
    "df = df.merge(df_features, how='left', on=[INDEX_COLUMN,'ZONEID'])\n",
    "#df[\"WINDSPEED\"] = df[[\"VAR165\",\"VAR166\"]].apply(lambda x: math.sqrt(pow(x[0],2) + pow(x[1],2)) , axis=1) \n",
    "#wo: 0.7892619896086219 wi:0.7886526090798553"
   ]
  },
  {
   "cell_type": "code",
   "execution_count": 5,
   "metadata": {},
   "outputs": [],
   "source": [
    "df[\"MONTH\"] = df[INDEX_COLUMN].apply(lambda x: x.month)\n",
    "df[\"HOUR\"] = df[INDEX_COLUMN].apply(lambda x: x.hour)\n",
    "# for i in np.arange(1,13):\n",
    "#     df[\"MONTH\"+str(i)]= df[\"TIMESTAMP\"].apply(lambda x: x.month == i)\n",
    "# for i in np.arange(24):\n",
    "#     df[\"HOUR\"+str(i)] = df[\"TIMESTAMP\"].apply(lambda x: x.hour == i)"
   ]
  },
  {
   "cell_type": "code",
   "execution_count": null,
   "metadata": {},
   "outputs": [],
   "source": [
    "# Zóna konvertálása kategorikus változóvá\n",
    "df[\"ZONE_1\"] = df[\"ZONEID\"].apply(lambda x: x == 1)\n",
    "df[\"ZONE_2\"] = df[\"ZONEID\"].apply(lambda x: x == 2)\n",
    "df[\"ZONE_3\"] = df[\"ZONEID\"].apply(lambda x: x == 3)\n",
    "df = df.drop(\"ZONEID\",axis=1)\n",
    "\n",
    "# Timestamp legyen az index\n",
    "df = df.set_index('TIMESTAMP')"
   ]
  },
  {
   "cell_type": "code",
   "execution_count": null,
   "metadata": {},
   "outputs": [],
   "source": [
    "#Using one year to train and one month to predict\n",
    "# df is the full data so we can calculate the rolling windows\n",
    "df = df[:ONE_YEAR+PREDICT_INTERVAL]\n",
    "y_test = df[ONE_YEAR:ONE_YEAR+PREDICT_INTERVAL].POWER.copy() # ez mekkora szopás referencia"
   ]
  },
  {
   "cell_type": "code",
   "execution_count": null,
   "metadata": {},
   "outputs": [],
   "source": [
    "def add_rolling(df,column):\n",
    "    for i in range(0+1,PREDICT_INTERVAL+1):\n",
    "        df.iloc[-1*i,df.columns.get_loc(column)] = None\n",
    "    for i in range(PREDICT_INTERVAL,PREDICT_INTERVAL+ONE_WEEK):\n",
    "        df[\"ROLLING_MEAN_\"+column+\"_\"+str(i)] = df[column].rolling(window = i).mean().shift(i)\n",
    "        df[\"ROLLING_MIN_\"+column+\"_\"+str(i)] = df[column].rolling(window = i).min().shift(i)\n",
    "        df[\"ROLLING_MAX_\"+column+\"_\"+str(i)] = df[column].rolling(window = i).max().shift(i)\n",
    "        df[\"ROLLING_SUM_\"+column+\"_\"+str(i)] = df[column].rolling(window = i).sum().shift(i)\n",
    "        df[\"ROLLING_MEDIAN_\"+column+\"_\"+str(i)] = df[column].rolling(window = i).median().shift(i)\n",
    "\n",
    "        df[\"ROLLING_STD_\"+column+\"_\"+str(i)] = df[column].rolling(window = i).std().shift(i)\n",
    "        df[\"ROLLING_VAR_\"+column+\"_\"+str(i)] = df[column].rolling(window = i).var().shift(i)\n",
    "        df[\"ROLLING_SKEW_\"+column+\"_\"+str(i)] = df[column].rolling(window = i).skew().shift(i)\n",
    "        df[\"ROLLING_KURT_\"+column+\"_\"+str(i)] = df[column].rolling(window = i).kurt().shift(i)\n",
    "    return df"
   ]
  },
  {
   "cell_type": "code",
   "execution_count": null,
   "metadata": {},
   "outputs": [],
   "source": [
    "df = add_rolling(df,TARGET_COLUMN)"
   ]
  },
  {
   "cell_type": "code",
   "execution_count": null,
   "metadata": {},
   "outputs": [],
   "source": [
    "feature_columns = ['VAR78', 'VAR79', 'VAR134', 'VAR157', 'VAR164',\n",
    "       'VAR165', 'VAR166', 'VAR167']\n",
    "for column in feature_columns:\n",
    "    df = add_rolling(df,column)"
   ]
  },
  {
   "cell_type": "code",
   "execution_count": null,
   "metadata": {},
   "outputs": [],
   "source": [
    "from xgboost import XGBRegressor #Ezt külön fel kellett rakni\n",
    "X_train = df[:ONE_YEAR].drop(TARGET_COLUMN,axis=1).drop(feature_columns, axis=1)\n",
    "y_train = df[:ONE_YEAR].POWER\n",
    "\n",
    "model = XGBRegressor(nthread=4)\n",
    "model.fit(X_train,y_train)"
   ]
  },
  {
   "cell_type": "code",
   "execution_count": null,
   "metadata": {},
   "outputs": [],
   "source": [
    "from sklearn.metrics import r2_score, median_absolute_error, mean_absolute_error\n",
    "from sklearn.metrics import median_absolute_error, mean_squared_error, mean_squared_log_error\n",
    "from sklearn.metrics import explained_variance_score\n",
    "\n",
    "X_test = df[ONE_YEAR:ONE_YEAR+PREDICT_INTERVAL].drop(TARGET_COLUMN,axis=1).drop(feature_columns, axis=1)\n",
    "y_pred = model.predict(X_test)\n",
    "\n",
    "y_true = y_test.values\n",
    "print(explained_variance_score(y_pred,y_test))\n",
    "print(median_absolute_error(y_true,y_pred))\n",
    "print(mean_squared_log_error(y_true,y_pred))"
   ]
  },
  {
   "cell_type": "code",
   "execution_count": null,
   "metadata": {},
   "outputs": [],
   "source": [
    "from bokeh.plotting import figure,show\n",
    "\n",
    "from bokeh.io import output_notebook\n",
    "\n",
    "output_notebook()\n",
    "p = figure()\n",
    "p.line(np.arange(PREDICT_INTERVAL), y_true, legend=\"real\")\n",
    "p.line(np.arange(PREDICT_INTERVAL),y_pred ,legend=\"predicter\", line_color=\"orange\")\n",
    "show(p)"
   ]
  },
  {
   "cell_type": "code",
   "execution_count": null,
   "metadata": {},
   "outputs": [],
   "source": [
    "# from bokeh.plotting import figure, output_notebook, show\n",
    "# output_notebook()\n",
    "# for column in df:\n",
    "#     print(column)\n",
    "#     p = figure(plot_width=400, plot_height=400)\n",
    "#     p.line(df.index[:24*5],df[column][:24*5])\n",
    "#     show(p)"
   ]
  },
  {
   "cell_type": "code",
   "execution_count": null,
   "metadata": {},
   "outputs": [],
   "source": [
    "# Feature nélküli modellen javított amint beraktam a hónap, óra változókat numerikusan\n",
    "# vajon mi lenne kategorikusan"
   ]
  }
 ],
 "metadata": {
  "kernelspec": {
   "display_name": "Python 3",
   "language": "python",
   "name": "python3"
  },
  "language_info": {
   "codemirror_mode": {
    "name": "ipython",
    "version": 3
   },
   "file_extension": ".py",
   "mimetype": "text/x-python",
   "name": "python",
   "nbconvert_exporter": "python",
   "pygments_lexer": "ipython3",
   "version": "3.6.5"
  }
 },
 "nbformat": 4,
 "nbformat_minor": 2
}
