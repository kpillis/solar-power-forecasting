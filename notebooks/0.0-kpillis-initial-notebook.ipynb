{
 "cells": [
  {
   "cell_type": "markdown",
   "metadata": {},
   "source": [
    "# Napelemek temelésének előrejelzése gépi tanulási algoritmusok segítségével\n",
    "## A feladat\n",
    "`count félrevezet; cov,corr INF-et ad; quantile-t nem tudom használni,mint nyugodtan kivehetem mert úgyis nulla?"
   ]
  },
  {
   "cell_type": "code",
   "execution_count": 1,
   "metadata": {},
   "outputs": [],
   "source": [
    "import math\n",
    "import pandas as pd\n",
    "import numpy as np\n",
    "\n",
    "PATH_TO_TRAIN = '../data/raw/train15.csv'\n",
    "DATE_FORMAT = '%Y%m%d %H:%M'\n",
    "INDEX_COLUMN = 'TIMESTAMP'\n",
    "TARGET_COLUMN = 'POWER'\n",
    "feature_columns = ['VAR78', 'VAR79', 'VAR134', 'VAR157', 'VAR164',\n",
    "       'VAR165', 'VAR166', 'VAR167','VAR169', 'VAR175', 'VAR178', 'VAR228']\n",
    "ACCUMLATED_FEATURE_COLUMNS = ['VAR169', 'VAR175', 'VAR178', 'VAR228']\n",
    "\n",
    "ONE_DAY = 24\n",
    "ONE_WEEK = 7 * ONE_DAY\n",
    "ONE_MONTH = 30* ONE_DAY\n",
    "ONE_YEAR = 365 * ONE_DAY\n",
    "PREDICT_INTERVAL = ONE_DAY * 5 \n",
    "\n",
    "df_original = pd.read_csv(PATH_TO_TRAIN)\n",
    "\n",
    "df = df_original.copy()\n",
    "df = df[df['ZONEID'] == 1]\n",
    "dateparse = lambda x: pd.datetime.strptime(x, DATE_FORMAT)\n",
    "df[INDEX_COLUMN] = df[INDEX_COLUMN].apply(dateparse)"
   ]
  },
  {
   "cell_type": "code",
   "execution_count": 2,
   "metadata": {},
   "outputs": [],
   "source": [
    "# Magyarázó változók hozzáadása a modellhez\n",
    "PATH_TO_PREDICTORS = '../data/raw/predictors15.csv'\n",
    "\n",
    "df_features = pd.read_csv(PATH_TO_PREDICTORS)\n",
    "df_features[INDEX_COLUMN] = df_features[INDEX_COLUMN].apply(dateparse)\n",
    "\n",
    "df = df.merge(df_features, how='left', on=[INDEX_COLUMN,'ZONEID'])"
   ]
  },
  {
   "cell_type": "code",
   "execution_count": 3,
   "metadata": {},
   "outputs": [],
   "source": [
    "df[\"MONTH\"] = df[INDEX_COLUMN].apply(lambda x: x.month)\n",
    "df[\"HOUR\"] = df[INDEX_COLUMN].apply(lambda x: x.hour)\n",
    "# for i in np.arange(1,13):\n",
    "#     df[\"MONTH\"+str(i)]= df[\"TIMESTAMP\"].apply(lambda x: x.month == i)\n",
    "# for i in np.arange(24):\n",
    "#     df[\"HOUR\"+str(i)] = df[\"TIMESTAMP\"].apply(lambda x: x.hour == i)"
   ]
  },
  {
   "cell_type": "code",
   "execution_count": 4,
   "metadata": {},
   "outputs": [],
   "source": [
    "# Zóna konvertálása kategorikus változóvá\n",
    "df[\"ZONE_1\"] = df[\"ZONEID\"].apply(lambda x: x == 1)\n",
    "df[\"ZONE_2\"] = df[\"ZONEID\"].apply(lambda x: x == 2)\n",
    "df[\"ZONE_3\"] = df[\"ZONEID\"].apply(lambda x: x == 3)\n",
    "df = df.drop(\"ZONEID\",axis=1)\n",
    "\n",
    "# Timestamp legyen az index\n",
    "df = df.set_index('TIMESTAMP')\n",
    "#df = df.drop(\"TIMESTAMP\",axis=1)"
   ]
  },
  {
   "cell_type": "code",
   "execution_count": 5,
   "metadata": {},
   "outputs": [],
   "source": [
    "#Using one year to train and one month to predict\n",
    "# df is the full data so we can calculate the rolling windows\n",
    "TRAIN_SIZE = ONE_YEAR\n",
    "df = df[:TRAIN_SIZE+PREDICT_INTERVAL]\n",
    "y_test = df[TRAIN_SIZE:TRAIN_SIZE+PREDICT_INTERVAL][TARGET_COLUMN].copy() # ez mekkora szopás referencia"
   ]
  },
  {
   "cell_type": "code",
   "execution_count": 6,
   "metadata": {},
   "outputs": [],
   "source": [
    "def clear_data_from_end(df, column, until):\n",
    "    for i in range(until):\n",
    "        df.iloc[-1*(i+1),df.columns.get_loc(column)] = None\n",
    "    return df\n",
    "\n",
    "def add_rolling(df,column, intervals, shift):\n",
    "    for i in range(min(intervals),max(intervals)):\n",
    "    #for i in intervals:\n",
    "        if i >= shift:\n",
    "            rolling_column = df[column].rolling(window = i)\n",
    "            df[\"ROLLING_MEAN_\"+column+\"_\"+str(i)] = rolling_column.mean().shift(shift)\n",
    "            df[\"ROLLING_MIN_\"+column+\"_\"+str(i)] = rolling_column.min().shift(shift)\n",
    "            df[\"ROLLING_MAX_\"+column+\"_\"+str(i)] = rolling_column.max().shift(shift)\n",
    "            df[\"ROLLING_SUM_\"+column+\"_\"+str(i)] = rolling_column.sum().shift(shift)\n",
    "            df[\"ROLLING_MEDIAN_\"+column+\"_\"+str(i)] = rolling_column.median().shift(shift)\n",
    "            df[\"ROLLING_STD_\"+column+\"_\"+str(i)] = rolling_column.std().shift(shift)\n",
    "            df[\"ROLLING_VAR_\"+column+\"_\"+str(i)] = rolling_column.var().shift(shift)\n",
    "            df[\"ROLLING_SKEW_\"+column+\"_\"+str(i)] = rolling_column.skew().shift(shift)\n",
    "            df[\"ROLLING_KURT_\"+column+\"_\"+str(i)] = rolling_column.kurt().shift(shift)\n",
    "            #df[column] =  df[column].shift(shift)\n",
    "    return df\n",
    "\n",
    "def dissipate_features(df, column):\n",
    "    return df[column].rolling(window=2).apply(lambda x: x[1] if x[1] - x[0] < 0 else x[1] - x[0])"
   ]
  },
  {
   "cell_type": "code",
   "execution_count": 7,
   "metadata": {},
   "outputs": [],
   "source": [
    "from bokeh.plotting import figure,show\n",
    "from bokeh.io import output_notebook"
   ]
  },
  {
   "cell_type": "code",
   "execution_count": 8,
   "metadata": {},
   "outputs": [
    {
     "data": {
      "text/html": [
       "\n",
       "    <div class=\"bk-root\">\n",
       "        <a href=\"https://bokeh.pydata.org\" target=\"_blank\" class=\"bk-logo bk-logo-small bk-logo-notebook\"></a>\n",
       "        <span id=\"c06a98a5-5601-4280-9acc-e78b0f6bc6c4\">Loading BokehJS ...</span>\n",
       "    </div>"
      ]
     },
     "metadata": {},
     "output_type": "display_data"
    },
    {
     "data": {
      "application/javascript": [
       "\n",
       "(function(root) {\n",
       "  function now() {\n",
       "    return new Date();\n",
       "  }\n",
       "\n",
       "  var force = true;\n",
       "\n",
       "  if (typeof (root._bokeh_onload_callbacks) === \"undefined\" || force === true) {\n",
       "    root._bokeh_onload_callbacks = [];\n",
       "    root._bokeh_is_loading = undefined;\n",
       "  }\n",
       "\n",
       "  var JS_MIME_TYPE = 'application/javascript';\n",
       "  var HTML_MIME_TYPE = 'text/html';\n",
       "  var EXEC_MIME_TYPE = 'application/vnd.bokehjs_exec.v0+json';\n",
       "  var CLASS_NAME = 'output_bokeh rendered_html';\n",
       "\n",
       "  /**\n",
       "   * Render data to the DOM node\n",
       "   */\n",
       "  function render(props, node) {\n",
       "    var script = document.createElement(\"script\");\n",
       "    node.appendChild(script);\n",
       "  }\n",
       "\n",
       "  /**\n",
       "   * Handle when an output is cleared or removed\n",
       "   */\n",
       "  function handleClearOutput(event, handle) {\n",
       "    var cell = handle.cell;\n",
       "\n",
       "    var id = cell.output_area._bokeh_element_id;\n",
       "    var server_id = cell.output_area._bokeh_server_id;\n",
       "    // Clean up Bokeh references\n",
       "    if (id !== undefined) {\n",
       "      Bokeh.index[id].model.document.clear();\n",
       "      delete Bokeh.index[id];\n",
       "    }\n",
       "\n",
       "    if (server_id !== undefined) {\n",
       "      // Clean up Bokeh references\n",
       "      var cmd = \"from bokeh.io.state import curstate; print(curstate().uuid_to_server['\" + server_id + \"'].get_sessions()[0].document.roots[0]._id)\";\n",
       "      cell.notebook.kernel.execute(cmd, {\n",
       "        iopub: {\n",
       "          output: function(msg) {\n",
       "            var element_id = msg.content.text.trim();\n",
       "            Bokeh.index[element_id].model.document.clear();\n",
       "            delete Bokeh.index[element_id];\n",
       "          }\n",
       "        }\n",
       "      });\n",
       "      // Destroy server and session\n",
       "      var cmd = \"import bokeh.io.notebook as ion; ion.destroy_server('\" + server_id + \"')\";\n",
       "      cell.notebook.kernel.execute(cmd);\n",
       "    }\n",
       "  }\n",
       "\n",
       "  /**\n",
       "   * Handle when a new output is added\n",
       "   */\n",
       "  function handleAddOutput(event, handle) {\n",
       "    var output_area = handle.output_area;\n",
       "    var output = handle.output;\n",
       "\n",
       "    // limit handleAddOutput to display_data with EXEC_MIME_TYPE content only\n",
       "    if ((output.output_type != \"display_data\") || (!output.data.hasOwnProperty(EXEC_MIME_TYPE))) {\n",
       "      return\n",
       "    }\n",
       "\n",
       "    var toinsert = output_area.element.find(\".\" + CLASS_NAME.split(' ')[0]);\n",
       "\n",
       "    if (output.metadata[EXEC_MIME_TYPE][\"id\"] !== undefined) {\n",
       "      toinsert[toinsert.length - 1].firstChild.textContent = output.data[JS_MIME_TYPE];\n",
       "      // store reference to embed id on output_area\n",
       "      output_area._bokeh_element_id = output.metadata[EXEC_MIME_TYPE][\"id\"];\n",
       "    }\n",
       "    if (output.metadata[EXEC_MIME_TYPE][\"server_id\"] !== undefined) {\n",
       "      var bk_div = document.createElement(\"div\");\n",
       "      bk_div.innerHTML = output.data[HTML_MIME_TYPE];\n",
       "      var script_attrs = bk_div.children[0].attributes;\n",
       "      for (var i = 0; i < script_attrs.length; i++) {\n",
       "        toinsert[toinsert.length - 1].firstChild.setAttribute(script_attrs[i].name, script_attrs[i].value);\n",
       "      }\n",
       "      // store reference to server id on output_area\n",
       "      output_area._bokeh_server_id = output.metadata[EXEC_MIME_TYPE][\"server_id\"];\n",
       "    }\n",
       "  }\n",
       "\n",
       "  function register_renderer(events, OutputArea) {\n",
       "\n",
       "    function append_mime(data, metadata, element) {\n",
       "      // create a DOM node to render to\n",
       "      var toinsert = this.create_output_subarea(\n",
       "        metadata,\n",
       "        CLASS_NAME,\n",
       "        EXEC_MIME_TYPE\n",
       "      );\n",
       "      this.keyboard_manager.register_events(toinsert);\n",
       "      // Render to node\n",
       "      var props = {data: data, metadata: metadata[EXEC_MIME_TYPE]};\n",
       "      render(props, toinsert[toinsert.length - 1]);\n",
       "      element.append(toinsert);\n",
       "      return toinsert\n",
       "    }\n",
       "\n",
       "    /* Handle when an output is cleared or removed */\n",
       "    events.on('clear_output.CodeCell', handleClearOutput);\n",
       "    events.on('delete.Cell', handleClearOutput);\n",
       "\n",
       "    /* Handle when a new output is added */\n",
       "    events.on('output_added.OutputArea', handleAddOutput);\n",
       "\n",
       "    /**\n",
       "     * Register the mime type and append_mime function with output_area\n",
       "     */\n",
       "    OutputArea.prototype.register_mime_type(EXEC_MIME_TYPE, append_mime, {\n",
       "      /* Is output safe? */\n",
       "      safe: true,\n",
       "      /* Index of renderer in `output_area.display_order` */\n",
       "      index: 0\n",
       "    });\n",
       "  }\n",
       "\n",
       "  // register the mime type if in Jupyter Notebook environment and previously unregistered\n",
       "  if (root.Jupyter !== undefined) {\n",
       "    var events = require('base/js/events');\n",
       "    var OutputArea = require('notebook/js/outputarea').OutputArea;\n",
       "\n",
       "    if (OutputArea.prototype.mime_types().indexOf(EXEC_MIME_TYPE) == -1) {\n",
       "      register_renderer(events, OutputArea);\n",
       "    }\n",
       "  }\n",
       "\n",
       "  \n",
       "  if (typeof (root._bokeh_timeout) === \"undefined\" || force === true) {\n",
       "    root._bokeh_timeout = Date.now() + 5000;\n",
       "    root._bokeh_failed_load = false;\n",
       "  }\n",
       "\n",
       "  var NB_LOAD_WARNING = {'data': {'text/html':\n",
       "     \"<div style='background-color: #fdd'>\\n\"+\n",
       "     \"<p>\\n\"+\n",
       "     \"BokehJS does not appear to have successfully loaded. If loading BokehJS from CDN, this \\n\"+\n",
       "     \"may be due to a slow or bad network connection. Possible fixes:\\n\"+\n",
       "     \"</p>\\n\"+\n",
       "     \"<ul>\\n\"+\n",
       "     \"<li>re-rerun `output_notebook()` to attempt to load from CDN again, or</li>\\n\"+\n",
       "     \"<li>use INLINE resources instead, as so:</li>\\n\"+\n",
       "     \"</ul>\\n\"+\n",
       "     \"<code>\\n\"+\n",
       "     \"from bokeh.resources import INLINE\\n\"+\n",
       "     \"output_notebook(resources=INLINE)\\n\"+\n",
       "     \"</code>\\n\"+\n",
       "     \"</div>\"}};\n",
       "\n",
       "  function display_loaded() {\n",
       "    var el = document.getElementById(\"c06a98a5-5601-4280-9acc-e78b0f6bc6c4\");\n",
       "    if (el != null) {\n",
       "      el.textContent = \"BokehJS is loading...\";\n",
       "    }\n",
       "    if (root.Bokeh !== undefined) {\n",
       "      if (el != null) {\n",
       "        el.textContent = \"BokehJS \" + root.Bokeh.version + \" successfully loaded.\";\n",
       "      }\n",
       "    } else if (Date.now() < root._bokeh_timeout) {\n",
       "      setTimeout(display_loaded, 100)\n",
       "    }\n",
       "  }\n",
       "\n",
       "\n",
       "  function run_callbacks() {\n",
       "    try {\n",
       "      root._bokeh_onload_callbacks.forEach(function(callback) { callback() });\n",
       "    }\n",
       "    finally {\n",
       "      delete root._bokeh_onload_callbacks\n",
       "    }\n",
       "    console.info(\"Bokeh: all callbacks have finished\");\n",
       "  }\n",
       "\n",
       "  function load_libs(js_urls, callback) {\n",
       "    root._bokeh_onload_callbacks.push(callback);\n",
       "    if (root._bokeh_is_loading > 0) {\n",
       "      console.log(\"Bokeh: BokehJS is being loaded, scheduling callback at\", now());\n",
       "      return null;\n",
       "    }\n",
       "    if (js_urls == null || js_urls.length === 0) {\n",
       "      run_callbacks();\n",
       "      return null;\n",
       "    }\n",
       "    console.log(\"Bokeh: BokehJS not loaded, scheduling load and callback at\", now());\n",
       "    root._bokeh_is_loading = js_urls.length;\n",
       "    for (var i = 0; i < js_urls.length; i++) {\n",
       "      var url = js_urls[i];\n",
       "      var s = document.createElement('script');\n",
       "      s.src = url;\n",
       "      s.async = false;\n",
       "      s.onreadystatechange = s.onload = function() {\n",
       "        root._bokeh_is_loading--;\n",
       "        if (root._bokeh_is_loading === 0) {\n",
       "          console.log(\"Bokeh: all BokehJS libraries loaded\");\n",
       "          run_callbacks()\n",
       "        }\n",
       "      };\n",
       "      s.onerror = function() {\n",
       "        console.warn(\"failed to load library \" + url);\n",
       "      };\n",
       "      console.log(\"Bokeh: injecting script tag for BokehJS library: \", url);\n",
       "      document.getElementsByTagName(\"head\")[0].appendChild(s);\n",
       "    }\n",
       "  };var element = document.getElementById(\"c06a98a5-5601-4280-9acc-e78b0f6bc6c4\");\n",
       "  if (element == null) {\n",
       "    console.log(\"Bokeh: ERROR: autoload.js configured with elementid 'c06a98a5-5601-4280-9acc-e78b0f6bc6c4' but no matching script tag was found. \")\n",
       "    return false;\n",
       "  }\n",
       "\n",
       "  var js_urls = [\"https://cdn.pydata.org/bokeh/release/bokeh-0.12.16.min.js\", \"https://cdn.pydata.org/bokeh/release/bokeh-widgets-0.12.16.min.js\", \"https://cdn.pydata.org/bokeh/release/bokeh-tables-0.12.16.min.js\", \"https://cdn.pydata.org/bokeh/release/bokeh-gl-0.12.16.min.js\"];\n",
       "\n",
       "  var inline_js = [\n",
       "    function(Bokeh) {\n",
       "      Bokeh.set_log_level(\"info\");\n",
       "    },\n",
       "    \n",
       "    function(Bokeh) {\n",
       "      \n",
       "    },\n",
       "    function(Bokeh) {\n",
       "      console.log(\"Bokeh: injecting CSS: https://cdn.pydata.org/bokeh/release/bokeh-0.12.16.min.css\");\n",
       "      Bokeh.embed.inject_css(\"https://cdn.pydata.org/bokeh/release/bokeh-0.12.16.min.css\");\n",
       "      console.log(\"Bokeh: injecting CSS: https://cdn.pydata.org/bokeh/release/bokeh-widgets-0.12.16.min.css\");\n",
       "      Bokeh.embed.inject_css(\"https://cdn.pydata.org/bokeh/release/bokeh-widgets-0.12.16.min.css\");\n",
       "      console.log(\"Bokeh: injecting CSS: https://cdn.pydata.org/bokeh/release/bokeh-tables-0.12.16.min.css\");\n",
       "      Bokeh.embed.inject_css(\"https://cdn.pydata.org/bokeh/release/bokeh-tables-0.12.16.min.css\");\n",
       "    }\n",
       "  ];\n",
       "\n",
       "  function run_inline_js() {\n",
       "    \n",
       "    if ((root.Bokeh !== undefined) || (force === true)) {\n",
       "      for (var i = 0; i < inline_js.length; i++) {\n",
       "        inline_js[i].call(root, root.Bokeh);\n",
       "      }if (force === true) {\n",
       "        display_loaded();\n",
       "      }} else if (Date.now() < root._bokeh_timeout) {\n",
       "      setTimeout(run_inline_js, 100);\n",
       "    } else if (!root._bokeh_failed_load) {\n",
       "      console.log(\"Bokeh: BokehJS failed to load within specified timeout.\");\n",
       "      root._bokeh_failed_load = true;\n",
       "    } else if (force !== true) {\n",
       "      var cell = $(document.getElementById(\"c06a98a5-5601-4280-9acc-e78b0f6bc6c4\")).parents('.cell').data().cell;\n",
       "      cell.output_area.append_execute_result(NB_LOAD_WARNING)\n",
       "    }\n",
       "\n",
       "  }\n",
       "\n",
       "  if (root._bokeh_is_loading === 0) {\n",
       "    console.log(\"Bokeh: BokehJS loaded, going straight to plotting\");\n",
       "    run_inline_js();\n",
       "  } else {\n",
       "    load_libs(js_urls, function() {\n",
       "      console.log(\"Bokeh: BokehJS plotting callback run at\", now());\n",
       "      run_inline_js();\n",
       "    });\n",
       "  }\n",
       "}(window));"
      ],
      "application/vnd.bokehjs_load.v0+json": "\n(function(root) {\n  function now() {\n    return new Date();\n  }\n\n  var force = true;\n\n  if (typeof (root._bokeh_onload_callbacks) === \"undefined\" || force === true) {\n    root._bokeh_onload_callbacks = [];\n    root._bokeh_is_loading = undefined;\n  }\n\n  \n\n  \n  if (typeof (root._bokeh_timeout) === \"undefined\" || force === true) {\n    root._bokeh_timeout = Date.now() + 5000;\n    root._bokeh_failed_load = false;\n  }\n\n  var NB_LOAD_WARNING = {'data': {'text/html':\n     \"<div style='background-color: #fdd'>\\n\"+\n     \"<p>\\n\"+\n     \"BokehJS does not appear to have successfully loaded. If loading BokehJS from CDN, this \\n\"+\n     \"may be due to a slow or bad network connection. Possible fixes:\\n\"+\n     \"</p>\\n\"+\n     \"<ul>\\n\"+\n     \"<li>re-rerun `output_notebook()` to attempt to load from CDN again, or</li>\\n\"+\n     \"<li>use INLINE resources instead, as so:</li>\\n\"+\n     \"</ul>\\n\"+\n     \"<code>\\n\"+\n     \"from bokeh.resources import INLINE\\n\"+\n     \"output_notebook(resources=INLINE)\\n\"+\n     \"</code>\\n\"+\n     \"</div>\"}};\n\n  function display_loaded() {\n    var el = document.getElementById(\"c06a98a5-5601-4280-9acc-e78b0f6bc6c4\");\n    if (el != null) {\n      el.textContent = \"BokehJS is loading...\";\n    }\n    if (root.Bokeh !== undefined) {\n      if (el != null) {\n        el.textContent = \"BokehJS \" + root.Bokeh.version + \" successfully loaded.\";\n      }\n    } else if (Date.now() < root._bokeh_timeout) {\n      setTimeout(display_loaded, 100)\n    }\n  }\n\n\n  function run_callbacks() {\n    try {\n      root._bokeh_onload_callbacks.forEach(function(callback) { callback() });\n    }\n    finally {\n      delete root._bokeh_onload_callbacks\n    }\n    console.info(\"Bokeh: all callbacks have finished\");\n  }\n\n  function load_libs(js_urls, callback) {\n    root._bokeh_onload_callbacks.push(callback);\n    if (root._bokeh_is_loading > 0) {\n      console.log(\"Bokeh: BokehJS is being loaded, scheduling callback at\", now());\n      return null;\n    }\n    if (js_urls == null || js_urls.length === 0) {\n      run_callbacks();\n      return null;\n    }\n    console.log(\"Bokeh: BokehJS not loaded, scheduling load and callback at\", now());\n    root._bokeh_is_loading = js_urls.length;\n    for (var i = 0; i < js_urls.length; i++) {\n      var url = js_urls[i];\n      var s = document.createElement('script');\n      s.src = url;\n      s.async = false;\n      s.onreadystatechange = s.onload = function() {\n        root._bokeh_is_loading--;\n        if (root._bokeh_is_loading === 0) {\n          console.log(\"Bokeh: all BokehJS libraries loaded\");\n          run_callbacks()\n        }\n      };\n      s.onerror = function() {\n        console.warn(\"failed to load library \" + url);\n      };\n      console.log(\"Bokeh: injecting script tag for BokehJS library: \", url);\n      document.getElementsByTagName(\"head\")[0].appendChild(s);\n    }\n  };var element = document.getElementById(\"c06a98a5-5601-4280-9acc-e78b0f6bc6c4\");\n  if (element == null) {\n    console.log(\"Bokeh: ERROR: autoload.js configured with elementid 'c06a98a5-5601-4280-9acc-e78b0f6bc6c4' but no matching script tag was found. \")\n    return false;\n  }\n\n  var js_urls = [\"https://cdn.pydata.org/bokeh/release/bokeh-0.12.16.min.js\", \"https://cdn.pydata.org/bokeh/release/bokeh-widgets-0.12.16.min.js\", \"https://cdn.pydata.org/bokeh/release/bokeh-tables-0.12.16.min.js\", \"https://cdn.pydata.org/bokeh/release/bokeh-gl-0.12.16.min.js\"];\n\n  var inline_js = [\n    function(Bokeh) {\n      Bokeh.set_log_level(\"info\");\n    },\n    \n    function(Bokeh) {\n      \n    },\n    function(Bokeh) {\n      console.log(\"Bokeh: injecting CSS: https://cdn.pydata.org/bokeh/release/bokeh-0.12.16.min.css\");\n      Bokeh.embed.inject_css(\"https://cdn.pydata.org/bokeh/release/bokeh-0.12.16.min.css\");\n      console.log(\"Bokeh: injecting CSS: https://cdn.pydata.org/bokeh/release/bokeh-widgets-0.12.16.min.css\");\n      Bokeh.embed.inject_css(\"https://cdn.pydata.org/bokeh/release/bokeh-widgets-0.12.16.min.css\");\n      console.log(\"Bokeh: injecting CSS: https://cdn.pydata.org/bokeh/release/bokeh-tables-0.12.16.min.css\");\n      Bokeh.embed.inject_css(\"https://cdn.pydata.org/bokeh/release/bokeh-tables-0.12.16.min.css\");\n    }\n  ];\n\n  function run_inline_js() {\n    \n    if ((root.Bokeh !== undefined) || (force === true)) {\n      for (var i = 0; i < inline_js.length; i++) {\n        inline_js[i].call(root, root.Bokeh);\n      }if (force === true) {\n        display_loaded();\n      }} else if (Date.now() < root._bokeh_timeout) {\n      setTimeout(run_inline_js, 100);\n    } else if (!root._bokeh_failed_load) {\n      console.log(\"Bokeh: BokehJS failed to load within specified timeout.\");\n      root._bokeh_failed_load = true;\n    } else if (force !== true) {\n      var cell = $(document.getElementById(\"c06a98a5-5601-4280-9acc-e78b0f6bc6c4\")).parents('.cell').data().cell;\n      cell.output_area.append_execute_result(NB_LOAD_WARNING)\n    }\n\n  }\n\n  if (root._bokeh_is_loading === 0) {\n    console.log(\"Bokeh: BokehJS loaded, going straight to plotting\");\n    run_inline_js();\n  } else {\n    load_libs(js_urls, function() {\n      console.log(\"Bokeh: BokehJS plotting callback run at\", now());\n      run_inline_js();\n    });\n  }\n}(window));"
     },
     "metadata": {},
     "output_type": "display_data"
    },
    {
     "name": "stderr",
     "output_type": "stream",
     "text": [
      "D:\\Continuum\\anaconda3\\lib\\site-packages\\ipykernel_launcher.py:24: FutureWarning: Currently, 'apply' passes the values as ndarrays to the applied function. In the future, this will change to passing it as Series objects. You need to specify 'raw=True' to keep the current behaviour, and you can pass 'raw=False' to silence this warning\n"
     ]
    },
    {
     "data": {
      "text/html": [
       "\n",
       "<div class=\"bk-root\">\n",
       "    <div class=\"bk-plotdiv\" id=\"c1ad6bef-51f8-47fb-9199-264412f36e10\"></div>\n",
       "</div>"
      ]
     },
     "metadata": {},
     "output_type": "display_data"
    },
    {
     "data": {
      "application/javascript": [
       "(function(root) {\n",
       "  function embed_document(root) {\n",
       "    \n",
       "  var docs_json = {\"7720fb98-66b6-4695-899f-b480e6eb8e2f\":{\"roots\":{\"references\":[{\"attributes\":{\"dimension\":1,\"plot\":{\"id\":\"b9c53c63-f41d-4da5-b263-d4a933a06520\",\"subtype\":\"Figure\",\"type\":\"Plot\"},\"ticker\":{\"id\":\"d5fa60e0-a547-48e0-81e1-575b3ef89948\",\"type\":\"BasicTicker\"}},\"id\":\"aca415ed-9e6d-4799-a2cc-e8421b6ed6b9\",\"type\":\"Grid\"},{\"attributes\":{\"bottom_units\":\"screen\",\"fill_alpha\":{\"value\":0.5},\"fill_color\":{\"value\":\"lightgrey\"},\"left_units\":\"screen\",\"level\":\"overlay\",\"line_alpha\":{\"value\":1.0},\"line_color\":{\"value\":\"black\"},\"line_dash\":[4,4],\"line_width\":{\"value\":2},\"plot\":null,\"render_mode\":\"css\",\"right_units\":\"screen\",\"top_units\":\"screen\"},\"id\":\"26245381-1ea9-4d2b-8aa1-929d119a5256\",\"type\":\"BoxAnnotation\"},{\"attributes\":{},\"id\":\"faca1e6c-7258-40fb-9674-fe4b5d98b04e\",\"type\":\"PanTool\"},{\"attributes\":{\"label\":{\"value\":\"real\"},\"renderers\":[{\"id\":\"5fbe39f3-f028-40ad-93d1-956669718217\",\"type\":\"GlyphRenderer\"}]},\"id\":\"0b62eb87-a6bd-49bf-bd2e-4b67d7405595\",\"type\":\"LegendItem\"},{\"attributes\":{},\"id\":\"1d261eaf-adb1-49e5-aa59-c54920dd7492\",\"type\":\"WheelZoomTool\"},{\"attributes\":{\"overlay\":{\"id\":\"26245381-1ea9-4d2b-8aa1-929d119a5256\",\"type\":\"BoxAnnotation\"}},\"id\":\"05c18d34-d166-43d2-85fc-1b9722114630\",\"type\":\"BoxZoomTool\"},{\"attributes\":{\"line_alpha\":0.1,\"line_color\":\"#1f77b4\",\"x\":{\"field\":\"x\"},\"y\":{\"field\":\"y\"}},\"id\":\"b15ac6ac-c90d-4b10-88dd-6398e132c1c8\",\"type\":\"Line\"},{\"attributes\":{},\"id\":\"1d0ed26d-ee8a-4301-be78-745e007157d8\",\"type\":\"SaveTool\"},{\"attributes\":{},\"id\":\"e5cd59fd-a46b-4c42-80be-be5cc72f7125\",\"type\":\"ResetTool\"},{\"attributes\":{\"line_color\":\"#1f77b4\",\"x\":{\"field\":\"x\"},\"y\":{\"field\":\"y\"}},\"id\":\"ed20e222-1019-41cb-a89c-e072d9176a44\",\"type\":\"Line\"},{\"attributes\":{},\"id\":\"13fea02e-d8cc-4759-b91d-7cfb1f5c2b5f\",\"type\":\"HelpTool\"},{\"attributes\":{\"source\":{\"id\":\"af28b18c-3f7c-4b4c-8f7f-81a3983ab684\",\"type\":\"ColumnDataSource\"}},\"id\":\"43140d67-8488-486f-83e3-f508dbf1bc5a\",\"type\":\"CDSView\"},{\"attributes\":{},\"id\":\"ccc1a7f7-e7c5-4114-9180-84b0bb33a4ff\",\"type\":\"BasicTickFormatter\"},{\"attributes\":{\"items\":[{\"id\":\"0b62eb87-a6bd-49bf-bd2e-4b67d7405595\",\"type\":\"LegendItem\"},{\"id\":\"beb5bffb-c12b-4053-b2ba-5a7fb6b3878f\",\"type\":\"LegendItem\"}],\"plot\":{\"id\":\"b9c53c63-f41d-4da5-b263-d4a933a06520\",\"subtype\":\"Figure\",\"type\":\"Plot\"}},\"id\":\"958dc05b-7a38-4e3f-a52c-1900696a0fb4\",\"type\":\"Legend\"},{\"attributes\":{\"data_source\":{\"id\":\"af28b18c-3f7c-4b4c-8f7f-81a3983ab684\",\"type\":\"ColumnDataSource\"},\"glyph\":{\"id\":\"ed20e222-1019-41cb-a89c-e072d9176a44\",\"type\":\"Line\"},\"hover_glyph\":null,\"muted_glyph\":null,\"nonselection_glyph\":{\"id\":\"b15ac6ac-c90d-4b10-88dd-6398e132c1c8\",\"type\":\"Line\"},\"selection_glyph\":null,\"view\":{\"id\":\"43140d67-8488-486f-83e3-f508dbf1bc5a\",\"type\":\"CDSView\"}},\"id\":\"5fbe39f3-f028-40ad-93d1-956669718217\",\"type\":\"GlyphRenderer\"},{\"attributes\":{},\"id\":\"7d7a1c58-0c2e-4bfe-8b3b-f2c76e317625\",\"type\":\"UnionRenderers\"},{\"attributes\":{\"below\":[{\"id\":\"91c5b0a9-7579-4ce6-a988-917c25bc5156\",\"type\":\"LinearAxis\"}],\"left\":[{\"id\":\"70f1eedd-bd2a-4085-8bb3-3272d5867873\",\"type\":\"LinearAxis\"}],\"renderers\":[{\"id\":\"91c5b0a9-7579-4ce6-a988-917c25bc5156\",\"type\":\"LinearAxis\"},{\"id\":\"c0ea79d9-8f81-421d-ae2a-c12a56c2b14f\",\"type\":\"Grid\"},{\"id\":\"70f1eedd-bd2a-4085-8bb3-3272d5867873\",\"type\":\"LinearAxis\"},{\"id\":\"aca415ed-9e6d-4799-a2cc-e8421b6ed6b9\",\"type\":\"Grid\"},{\"id\":\"26245381-1ea9-4d2b-8aa1-929d119a5256\",\"type\":\"BoxAnnotation\"},{\"id\":\"958dc05b-7a38-4e3f-a52c-1900696a0fb4\",\"type\":\"Legend\"},{\"id\":\"5fbe39f3-f028-40ad-93d1-956669718217\",\"type\":\"GlyphRenderer\"},{\"id\":\"00242093-15fa-4279-ab02-c95a06b8acfc\",\"type\":\"GlyphRenderer\"}],\"title\":{\"id\":\"f48bee60-1844-4887-9427-801ed5f8bae3\",\"type\":\"Title\"},\"toolbar\":{\"id\":\"52040c29-e035-4c7c-8dd7-068a0667dea5\",\"type\":\"Toolbar\"},\"x_range\":{\"id\":\"f46cd9a4-6158-4a86-b811-62f1f58d2380\",\"type\":\"DataRange1d\"},\"x_scale\":{\"id\":\"e24d8a8b-401a-47b4-9975-27bd589d32bb\",\"type\":\"LinearScale\"},\"y_range\":{\"id\":\"f7e7cb37-2e83-4c4c-bbc3-b3485ad857ff\",\"type\":\"DataRange1d\"},\"y_scale\":{\"id\":\"b85e9e69-b5fd-4619-b61f-e1060875cb1e\",\"type\":\"LinearScale\"}},\"id\":\"b9c53c63-f41d-4da5-b263-d4a933a06520\",\"subtype\":\"Figure\",\"type\":\"Plot\"},{\"attributes\":{\"line_alpha\":0.1,\"line_color\":\"#1f77b4\",\"x\":{\"field\":\"x\"},\"y\":{\"field\":\"y\"}},\"id\":\"c341e446-0f85-42f4-a5ba-4a83678d3349\",\"type\":\"Line\"},{\"attributes\":{\"callback\":null,\"data\":{\"x\":{\"__ndarray__\":\"AAAAAAEAAAACAAAAAwAAAAQAAAAFAAAABgAAAAcAAAAIAAAACQAAAAoAAAALAAAADAAAAA0AAAAOAAAADwAAABAAAAARAAAAEgAAABMAAAAUAAAAFQAAABYAAAAXAAAAGAAAABkAAAAaAAAAGwAAABwAAAAdAAAAHgAAAB8AAAAgAAAAIQAAACIAAAAjAAAAJAAAACUAAAAmAAAAJwAAACgAAAApAAAAKgAAACsAAAAsAAAALQAAAC4AAAAvAAAA\",\"dtype\":\"int32\",\"shape\":[48]},\"y\":{\"__ndarray__\":\"AAAAAAAA+H8AAACASzJFQQAAAIAfk0NBAAAAACyVPUEAAAAAEZIzQQAAAAA8hyRBAAAAACABHEEAAAAAsLnyQAAAAAAAAAAAAAAAAAAAAAAAAAAAAAAAAAAAAAAAAAAAAAAAAAAAAAAAAAAAAAAAAAAAAAAAAAAAAAAAAAAAAAAAAAAAAAAAAAAAAAAAAAAAAAAAAAAAAAAAAAAAAAAAAAAAAABwK/BAAAAAAIosIEEAAAAAZBEvQQAAAACh4DZBAAAAAFI2OkEAAAAAJIo4QQAAAAD+fTtBAAAAAACQO0EAAAAAs982QQAAAADY4TVBAAAAAB42JkEAAAAAkAADQQAAAAAAAAAAAAAAAAAAAAAAAAAAAAAAAAAAAAAAAAAAAAAAAAAAAAAAAAAAAAAAAAAAAAAAAAAAAAAAAAAAAAAAAAAAAAAAAAAAAAAAAAAAAAAAAAAAAAAAAAAAAAAAAAAAAACA//FAAAAAAE6RI0EAAAAAWx4wQQAAAAAipyhB\",\"dtype\":\"float64\",\"shape\":[48]}},\"selected\":{\"id\":\"0f234020-b286-4445-b3b9-c8f1d8adbaee\",\"type\":\"Selection\"},\"selection_policy\":{\"id\":\"b8872656-ad69-4108-82d3-ef3fec3ddc94\",\"type\":\"UnionRenderers\"}},\"id\":\"a3595dc9-aa48-488b-92a3-0c1ff4cfca1e\",\"type\":\"ColumnDataSource\"},{\"attributes\":{\"line_color\":\"orange\",\"x\":{\"field\":\"x\"},\"y\":{\"field\":\"y\"}},\"id\":\"a7a3587e-b72b-4add-ae45-66697e5569c6\",\"type\":\"Line\"},{\"attributes\":{\"data_source\":{\"id\":\"a3595dc9-aa48-488b-92a3-0c1ff4cfca1e\",\"type\":\"ColumnDataSource\"},\"glyph\":{\"id\":\"a7a3587e-b72b-4add-ae45-66697e5569c6\",\"type\":\"Line\"},\"hover_glyph\":null,\"muted_glyph\":null,\"nonselection_glyph\":{\"id\":\"c341e446-0f85-42f4-a5ba-4a83678d3349\",\"type\":\"Line\"},\"selection_glyph\":null,\"view\":{\"id\":\"4f11bf06-cd38-41dd-9b0c-5183a3752f0d\",\"type\":\"CDSView\"}},\"id\":\"00242093-15fa-4279-ab02-c95a06b8acfc\",\"type\":\"GlyphRenderer\"},{\"attributes\":{\"active_drag\":\"auto\",\"active_inspect\":\"auto\",\"active_scroll\":\"auto\",\"active_tap\":\"auto\",\"tools\":[{\"id\":\"faca1e6c-7258-40fb-9674-fe4b5d98b04e\",\"type\":\"PanTool\"},{\"id\":\"1d261eaf-adb1-49e5-aa59-c54920dd7492\",\"type\":\"WheelZoomTool\"},{\"id\":\"05c18d34-d166-43d2-85fc-1b9722114630\",\"type\":\"BoxZoomTool\"},{\"id\":\"1d0ed26d-ee8a-4301-be78-745e007157d8\",\"type\":\"SaveTool\"},{\"id\":\"e5cd59fd-a46b-4c42-80be-be5cc72f7125\",\"type\":\"ResetTool\"},{\"id\":\"13fea02e-d8cc-4759-b91d-7cfb1f5c2b5f\",\"type\":\"HelpTool\"}]},\"id\":\"52040c29-e035-4c7c-8dd7-068a0667dea5\",\"type\":\"Toolbar\"},{\"attributes\":{\"source\":{\"id\":\"a3595dc9-aa48-488b-92a3-0c1ff4cfca1e\",\"type\":\"ColumnDataSource\"}},\"id\":\"4f11bf06-cd38-41dd-9b0c-5183a3752f0d\",\"type\":\"CDSView\"},{\"attributes\":{\"callback\":null},\"id\":\"f46cd9a4-6158-4a86-b811-62f1f58d2380\",\"type\":\"DataRange1d\"},{\"attributes\":{},\"id\":\"0f234020-b286-4445-b3b9-c8f1d8adbaee\",\"type\":\"Selection\"},{\"attributes\":{\"callback\":null,\"data\":{\"x\":{\"__ndarray__\":\"AAAAAAEAAAACAAAAAwAAAAQAAAAFAAAABgAAAAcAAAAIAAAACQAAAAoAAAALAAAADAAAAA0AAAAOAAAADwAAABAAAAARAAAAEgAAABMAAAAUAAAAFQAAABYAAAAXAAAAGAAAABkAAAAaAAAAGwAAABwAAAAdAAAAHgAAAB8AAAAgAAAAIQAAACIAAAAjAAAAJAAAACUAAAAmAAAAJwAAACgAAAApAAAAKgAAACsAAAAsAAAALQAAAC4AAAAvAAAA\",\"dtype\":\"int32\",\"shape\":[48]},\"y\":{\"__ndarray__\":\"AAAAANOqQ0EAAABAj25UQQAAAAAfOF5BAAAAALXOYkEAAAAg90BlQQAAAOBqiWZBAAAA4HNpZ0EAAABA545nQQAAAEDnjmdBAAAAQOeOZ0EAAABA545nQQAAAEDnjmdBAAAAQOeOZ0EAAABA545nQQAAAEDnjmdBAAAAQOeOZ0EAAABA545nQQAAAEDnjmdBAAAAQOeOZ0EAAABA545nQQAAACA+r2dBAAAAwAayaEEAAAAAHaNqQQAAACAxf21BAAAAAFI2OkEAAAAAO2BJQQAAAACdj1NBAAAAAJ1zWkEAAADgxBVgQQAAAOD/0WJBAAAAwGE1ZEEAAAAAZIFkQQAAAABkgWRBAAAAAGSBZEEAAAAAZIFkQQAAAABkgWRBAAAAAGSBZEEAAAAAZIFkQQAAAABkgWRBAAAAAGSBZEEAAAAAZIFkQQAAAABkgWRBAAAAAGSBZEEAAAAAZIFkQQAAAABjpWRBAAAA4HfeZUEAAABAQ+JnQQAAAGC1bGlB\",\"dtype\":\"float64\",\"shape\":[48]}},\"selected\":{\"id\":\"e7f7b393-eb6e-4854-8ad7-5edb68ab3dc9\",\"type\":\"Selection\"},\"selection_policy\":{\"id\":\"7d7a1c58-0c2e-4bfe-8b3b-f2c76e317625\",\"type\":\"UnionRenderers\"}},\"id\":\"af28b18c-3f7c-4b4c-8f7f-81a3983ab684\",\"type\":\"ColumnDataSource\"},{\"attributes\":{},\"id\":\"e7f7b393-eb6e-4854-8ad7-5edb68ab3dc9\",\"type\":\"Selection\"},{\"attributes\":{\"callback\":null},\"id\":\"f7e7cb37-2e83-4c4c-bbc3-b3485ad857ff\",\"type\":\"DataRange1d\"},{\"attributes\":{},\"id\":\"e24d8a8b-401a-47b4-9975-27bd589d32bb\",\"type\":\"LinearScale\"},{\"attributes\":{\"label\":{\"value\":\"diss\"},\"renderers\":[{\"id\":\"00242093-15fa-4279-ab02-c95a06b8acfc\",\"type\":\"GlyphRenderer\"}]},\"id\":\"beb5bffb-c12b-4053-b2ba-5a7fb6b3878f\",\"type\":\"LegendItem\"},{\"attributes\":{},\"id\":\"b85e9e69-b5fd-4619-b61f-e1060875cb1e\",\"type\":\"LinearScale\"},{\"attributes\":{},\"id\":\"d5fa60e0-a547-48e0-81e1-575b3ef89948\",\"type\":\"BasicTicker\"},{\"attributes\":{},\"id\":\"260b5ef5-9ff5-4ed0-bf38-84ea4e6f0355\",\"type\":\"BasicTickFormatter\"},{\"attributes\":{\"formatter\":{\"id\":\"260b5ef5-9ff5-4ed0-bf38-84ea4e6f0355\",\"type\":\"BasicTickFormatter\"},\"plot\":{\"id\":\"b9c53c63-f41d-4da5-b263-d4a933a06520\",\"subtype\":\"Figure\",\"type\":\"Plot\"},\"ticker\":{\"id\":\"754fbc1c-4ecc-46e3-88e7-98b9666fd1a7\",\"type\":\"BasicTicker\"}},\"id\":\"91c5b0a9-7579-4ce6-a988-917c25bc5156\",\"type\":\"LinearAxis\"},{\"attributes\":{\"plot\":null,\"text\":\"\"},\"id\":\"f48bee60-1844-4887-9427-801ed5f8bae3\",\"type\":\"Title\"},{\"attributes\":{},\"id\":\"754fbc1c-4ecc-46e3-88e7-98b9666fd1a7\",\"type\":\"BasicTicker\"},{\"attributes\":{},\"id\":\"b8872656-ad69-4108-82d3-ef3fec3ddc94\",\"type\":\"UnionRenderers\"},{\"attributes\":{\"plot\":{\"id\":\"b9c53c63-f41d-4da5-b263-d4a933a06520\",\"subtype\":\"Figure\",\"type\":\"Plot\"},\"ticker\":{\"id\":\"754fbc1c-4ecc-46e3-88e7-98b9666fd1a7\",\"type\":\"BasicTicker\"}},\"id\":\"c0ea79d9-8f81-421d-ae2a-c12a56c2b14f\",\"type\":\"Grid\"},{\"attributes\":{\"formatter\":{\"id\":\"ccc1a7f7-e7c5-4114-9180-84b0bb33a4ff\",\"type\":\"BasicTickFormatter\"},\"plot\":{\"id\":\"b9c53c63-f41d-4da5-b263-d4a933a06520\",\"subtype\":\"Figure\",\"type\":\"Plot\"},\"ticker\":{\"id\":\"d5fa60e0-a547-48e0-81e1-575b3ef89948\",\"type\":\"BasicTicker\"}},\"id\":\"70f1eedd-bd2a-4085-8bb3-3272d5867873\",\"type\":\"LinearAxis\"}],\"root_ids\":[\"b9c53c63-f41d-4da5-b263-d4a933a06520\"]},\"title\":\"Bokeh Application\",\"version\":\"0.12.16\"}};\n",
       "  var render_items = [{\"docid\":\"7720fb98-66b6-4695-899f-b480e6eb8e2f\",\"elementid\":\"c1ad6bef-51f8-47fb-9199-264412f36e10\",\"modelid\":\"b9c53c63-f41d-4da5-b263-d4a933a06520\"}];\n",
       "  root.Bokeh.embed.embed_items_notebook(docs_json, render_items);\n",
       "\n",
       "  }\n",
       "  if (root.Bokeh !== undefined) {\n",
       "    embed_document(root);\n",
       "  } else {\n",
       "    var attempts = 0;\n",
       "    var timer = setInterval(function(root) {\n",
       "      if (root.Bokeh !== undefined) {\n",
       "        embed_document(root);\n",
       "        clearInterval(timer);\n",
       "      }\n",
       "      attempts++;\n",
       "      if (attempts > 100) {\n",
       "        console.log(\"Bokeh: ERROR: Unable to run BokehJS code because BokehJS library is missing\")\n",
       "        clearInterval(timer);\n",
       "      }\n",
       "    }, 10, root)\n",
       "  }\n",
       "})(window);"
      ],
      "application/vnd.bokehjs_exec.v0+json": ""
     },
     "metadata": {
      "application/vnd.bokehjs_exec.v0+json": {
       "id": "b9c53c63-f41d-4da5-b263-d4a933a06520"
      }
     },
     "output_type": "display_data"
    },
    {
     "data": {
      "text/html": [
       "\n",
       "<div class=\"bk-root\">\n",
       "    <div class=\"bk-plotdiv\" id=\"2da20989-9df8-45d0-abb3-8eed098df62b\"></div>\n",
       "</div>"
      ]
     },
     "metadata": {},
     "output_type": "display_data"
    },
    {
     "data": {
      "application/javascript": [
       "(function(root) {\n",
       "  function embed_document(root) {\n",
       "    \n",
       "  var docs_json = {\"abe9548e-cb38-41b6-809e-8ccbc8df9f23\":{\"roots\":{\"references\":[{\"attributes\":{\"line_alpha\":0.1,\"line_color\":\"#1f77b4\",\"x\":{\"field\":\"x\"},\"y\":{\"field\":\"y\"}},\"id\":\"b397cf0f-a42c-4028-b637-303b77841f68\",\"type\":\"Line\"},{\"attributes\":{},\"id\":\"e6ad5778-9b96-480b-83e5-ef60d1bea04d\",\"type\":\"Selection\"},{\"attributes\":{\"callback\":null},\"id\":\"33be9d46-4603-4a10-85cf-2a036fc6ec7f\",\"type\":\"DataRange1d\"},{\"attributes\":{\"below\":[{\"id\":\"1dbfbd71-b523-4f3c-b853-be2bc0bdf440\",\"type\":\"LinearAxis\"}],\"left\":[{\"id\":\"6892446f-c177-4d07-b600-761a4139d51a\",\"type\":\"LinearAxis\"}],\"renderers\":[{\"id\":\"1dbfbd71-b523-4f3c-b853-be2bc0bdf440\",\"type\":\"LinearAxis\"},{\"id\":\"e74a7562-3bbb-4f20-af34-30bbbcda59cc\",\"type\":\"Grid\"},{\"id\":\"6892446f-c177-4d07-b600-761a4139d51a\",\"type\":\"LinearAxis\"},{\"id\":\"c43c8eef-8fd3-403e-bce6-58e74a5560dd\",\"type\":\"Grid\"},{\"id\":\"d53028e1-f4a3-4528-946f-6451f40a91c3\",\"type\":\"BoxAnnotation\"},{\"id\":\"3ca2b9f5-bd80-431c-86ac-1c5ed4581dcb\",\"type\":\"Legend\"},{\"id\":\"383d65ed-2664-4c2e-aee2-f96ac0ff20ea\",\"type\":\"GlyphRenderer\"},{\"id\":\"4379b2d5-b3c5-4266-8666-03f8cf7a8d92\",\"type\":\"GlyphRenderer\"}],\"title\":{\"id\":\"ffe6d39c-a5b0-4319-a8d3-84889924f6be\",\"type\":\"Title\"},\"toolbar\":{\"id\":\"f93c1a42-22d8-4c51-b177-673afdd09e2b\",\"type\":\"Toolbar\"},\"x_range\":{\"id\":\"48435251-1b4f-48e5-a3eb-a232e84b13b3\",\"type\":\"DataRange1d\"},\"x_scale\":{\"id\":\"a98d2d87-6dcd-41a0-a904-cf68da2a9335\",\"type\":\"LinearScale\"},\"y_range\":{\"id\":\"33be9d46-4603-4a10-85cf-2a036fc6ec7f\",\"type\":\"DataRange1d\"},\"y_scale\":{\"id\":\"4e355885-07bc-45fc-a083-232e67731c89\",\"type\":\"LinearScale\"}},\"id\":\"84045d6b-7feb-4907-94a2-a7c232382d6e\",\"subtype\":\"Figure\",\"type\":\"Plot\"},{\"attributes\":{},\"id\":\"d5e6b79d-e578-4e18-b6bc-b8bf3d9cdea0\",\"type\":\"UnionRenderers\"},{\"attributes\":{\"label\":{\"value\":\"real\"},\"renderers\":[{\"id\":\"383d65ed-2664-4c2e-aee2-f96ac0ff20ea\",\"type\":\"GlyphRenderer\"}]},\"id\":\"2fa51c78-e310-4507-9524-f40ee2893dcb\",\"type\":\"LegendItem\"},{\"attributes\":{\"source\":{\"id\":\"c48517fc-e090-4073-8c4e-93df226523df\",\"type\":\"ColumnDataSource\"}},\"id\":\"bb7525e2-26bd-44b5-b1e3-1a6662de5119\",\"type\":\"CDSView\"},{\"attributes\":{},\"id\":\"b101c86b-34ee-478b-82c6-cb3ac7598988\",\"type\":\"BasicTickFormatter\"},{\"attributes\":{\"line_alpha\":0.1,\"line_color\":\"#1f77b4\",\"x\":{\"field\":\"x\"},\"y\":{\"field\":\"y\"}},\"id\":\"f62161b6-769e-44b7-94b4-d10c14613254\",\"type\":\"Line\"},{\"attributes\":{\"line_color\":\"orange\",\"x\":{\"field\":\"x\"},\"y\":{\"field\":\"y\"}},\"id\":\"1aadc3d4-43d9-4509-b494-cdc3408774cb\",\"type\":\"Line\"},{\"attributes\":{\"active_drag\":\"auto\",\"active_inspect\":\"auto\",\"active_scroll\":\"auto\",\"active_tap\":\"auto\",\"tools\":[{\"id\":\"67b4bd44-2166-4a60-801f-9c8983bd9aa0\",\"type\":\"PanTool\"},{\"id\":\"6ad06d9f-183d-4431-a545-798d6d93aa8d\",\"type\":\"WheelZoomTool\"},{\"id\":\"46298f1f-f373-49bc-8d74-90dbaf67106a\",\"type\":\"BoxZoomTool\"},{\"id\":\"de367843-2376-4fcd-872d-f44341b9d995\",\"type\":\"SaveTool\"},{\"id\":\"2236f191-9ace-4e23-82e8-85ca633eae8b\",\"type\":\"ResetTool\"},{\"id\":\"2e566a6b-4fe2-4280-897d-22111246e03c\",\"type\":\"HelpTool\"}]},\"id\":\"f93c1a42-22d8-4c51-b177-673afdd09e2b\",\"type\":\"Toolbar\"},{\"attributes\":{},\"id\":\"fb1ed753-6504-44bb-8296-35bb5fead2c9\",\"type\":\"BasicTicker\"},{\"attributes\":{},\"id\":\"e552406e-5e3a-40f8-ba9b-ee25ec7501be\",\"type\":\"BasicTickFormatter\"},{\"attributes\":{\"callback\":null},\"id\":\"48435251-1b4f-48e5-a3eb-a232e84b13b3\",\"type\":\"DataRange1d\"},{\"attributes\":{},\"id\":\"ec2c3ce4-cf87-49f8-b1a8-e31075ca8f51\",\"type\":\"UnionRenderers\"},{\"attributes\":{},\"id\":\"7087368a-2c46-4f38-b9cc-ed2ac8f9ecf0\",\"type\":\"BasicTicker\"},{\"attributes\":{\"formatter\":{\"id\":\"b101c86b-34ee-478b-82c6-cb3ac7598988\",\"type\":\"BasicTickFormatter\"},\"plot\":{\"id\":\"84045d6b-7feb-4907-94a2-a7c232382d6e\",\"subtype\":\"Figure\",\"type\":\"Plot\"},\"ticker\":{\"id\":\"fb1ed753-6504-44bb-8296-35bb5fead2c9\",\"type\":\"BasicTicker\"}},\"id\":\"6892446f-c177-4d07-b600-761a4139d51a\",\"type\":\"LinearAxis\"},{\"attributes\":{\"callback\":null,\"data\":{\"x\":{\"__ndarray__\":\"AAAAAAEAAAACAAAAAwAAAAQAAAAFAAAABgAAAAcAAAAIAAAACQAAAAoAAAALAAAADAAAAA0AAAAOAAAADwAAABAAAAARAAAAEgAAABMAAAAUAAAAFQAAABYAAAAXAAAAGAAAABkAAAAaAAAAGwAAABwAAAAdAAAAHgAAAB8AAAAgAAAAIQAAACIAAAAjAAAAJAAAACUAAAAmAAAAJwAAACgAAAApAAAAKgAAACsAAAAsAAAALQAAAC4AAAAvAAAA\",\"dtype\":\"int32\",\"shape\":[48]},\"y\":{\"__ndarray__\":\"AAAAAGRZMkEAAACA0qpCQQAAAAAcFkxBAAAAACjGUkEAAAAAy9tXQQAAAMBD1VxBAAAAIDPIYEEAAADg6SZjQQAAAIC8eGVBAAAAgAzEZ0EAAADgkPBpQQAAAKC6FWxBAAAAwKssbkEAAAAA4SBwQQAAAADsJ3FBAAAAAFYyckEAAAAAX0pzQQAAAACMbXRBAAAAAC+SdUEAAAAAMLB2QQAAAABJwHdBAAAAACnseEEAAAAAICF6QQAAAACnb3tBAAAAAKIKNEEAAACAYkxEQQAAAAD71E5BAAAAALePVEEAAACAKI5ZQQAAAIBxYF5BAAAAwHRsYUEAAADgH6VjQQAAAMBTvmVBAAAAQLDOZ0EAAADA/tVpQQAAAABF22tBAAAAIIHsbUEAAADgzP5vQQAAAADu/3BBAAAAABIAckEAAAAAGgBzQQAAAACx/nNBAAAAACQDdUEAAAAAZgh2QQAAAAD4FHdBAAAAAAsueEEAAAAAQ1h5QQAAAABekXpB\",\"dtype\":\"float64\",\"shape\":[48]}},\"selected\":{\"id\":\"e6ad5778-9b96-480b-83e5-ef60d1bea04d\",\"type\":\"Selection\"},\"selection_policy\":{\"id\":\"ec2c3ce4-cf87-49f8-b1a8-e31075ca8f51\",\"type\":\"UnionRenderers\"}},\"id\":\"118fa015-7405-4163-9891-ed69c62d7ca9\",\"type\":\"ColumnDataSource\"},{\"attributes\":{\"items\":[{\"id\":\"2fa51c78-e310-4507-9524-f40ee2893dcb\",\"type\":\"LegendItem\"},{\"id\":\"c7a874cf-563d-414d-b604-4bb842869241\",\"type\":\"LegendItem\"}],\"plot\":{\"id\":\"84045d6b-7feb-4907-94a2-a7c232382d6e\",\"subtype\":\"Figure\",\"type\":\"Plot\"}},\"id\":\"3ca2b9f5-bd80-431c-86ac-1c5ed4581dcb\",\"type\":\"Legend\"},{\"attributes\":{\"formatter\":{\"id\":\"e552406e-5e3a-40f8-ba9b-ee25ec7501be\",\"type\":\"BasicTickFormatter\"},\"plot\":{\"id\":\"84045d6b-7feb-4907-94a2-a7c232382d6e\",\"subtype\":\"Figure\",\"type\":\"Plot\"},\"ticker\":{\"id\":\"7087368a-2c46-4f38-b9cc-ed2ac8f9ecf0\",\"type\":\"BasicTicker\"}},\"id\":\"1dbfbd71-b523-4f3c-b853-be2bc0bdf440\",\"type\":\"LinearAxis\"},{\"attributes\":{\"line_color\":\"#1f77b4\",\"x\":{\"field\":\"x\"},\"y\":{\"field\":\"y\"}},\"id\":\"de8def40-cf3c-4c14-88f7-ead0b635c966\",\"type\":\"Line\"},{\"attributes\":{\"dimension\":1,\"plot\":{\"id\":\"84045d6b-7feb-4907-94a2-a7c232382d6e\",\"subtype\":\"Figure\",\"type\":\"Plot\"},\"ticker\":{\"id\":\"fb1ed753-6504-44bb-8296-35bb5fead2c9\",\"type\":\"BasicTicker\"}},\"id\":\"c43c8eef-8fd3-403e-bce6-58e74a5560dd\",\"type\":\"Grid\"},{\"attributes\":{\"plot\":{\"id\":\"84045d6b-7feb-4907-94a2-a7c232382d6e\",\"subtype\":\"Figure\",\"type\":\"Plot\"},\"ticker\":{\"id\":\"7087368a-2c46-4f38-b9cc-ed2ac8f9ecf0\",\"type\":\"BasicTicker\"}},\"id\":\"e74a7562-3bbb-4f20-af34-30bbbcda59cc\",\"type\":\"Grid\"},{\"attributes\":{},\"id\":\"37cb6783-f068-4525-a656-06a34f8bc63d\",\"type\":\"Selection\"},{\"attributes\":{\"data_source\":{\"id\":\"c48517fc-e090-4073-8c4e-93df226523df\",\"type\":\"ColumnDataSource\"},\"glyph\":{\"id\":\"1aadc3d4-43d9-4509-b494-cdc3408774cb\",\"type\":\"Line\"},\"hover_glyph\":null,\"muted_glyph\":null,\"nonselection_glyph\":{\"id\":\"b397cf0f-a42c-4028-b637-303b77841f68\",\"type\":\"Line\"},\"selection_glyph\":null,\"view\":{\"id\":\"bb7525e2-26bd-44b5-b1e3-1a6662de5119\",\"type\":\"CDSView\"}},\"id\":\"4379b2d5-b3c5-4266-8666-03f8cf7a8d92\",\"type\":\"GlyphRenderer\"},{\"attributes\":{},\"id\":\"67b4bd44-2166-4a60-801f-9c8983bd9aa0\",\"type\":\"PanTool\"},{\"attributes\":{},\"id\":\"4e355885-07bc-45fc-a083-232e67731c89\",\"type\":\"LinearScale\"},{\"attributes\":{},\"id\":\"a98d2d87-6dcd-41a0-a904-cf68da2a9335\",\"type\":\"LinearScale\"},{\"attributes\":{},\"id\":\"6ad06d9f-183d-4431-a545-798d6d93aa8d\",\"type\":\"WheelZoomTool\"},{\"attributes\":{\"bottom_units\":\"screen\",\"fill_alpha\":{\"value\":0.5},\"fill_color\":{\"value\":\"lightgrey\"},\"left_units\":\"screen\",\"level\":\"overlay\",\"line_alpha\":{\"value\":1.0},\"line_color\":{\"value\":\"black\"},\"line_dash\":[4,4],\"line_width\":{\"value\":2},\"plot\":null,\"render_mode\":\"css\",\"right_units\":\"screen\",\"top_units\":\"screen\"},\"id\":\"d53028e1-f4a3-4528-946f-6451f40a91c3\",\"type\":\"BoxAnnotation\"},{\"attributes\":{\"data_source\":{\"id\":\"118fa015-7405-4163-9891-ed69c62d7ca9\",\"type\":\"ColumnDataSource\"},\"glyph\":{\"id\":\"de8def40-cf3c-4c14-88f7-ead0b635c966\",\"type\":\"Line\"},\"hover_glyph\":null,\"muted_glyph\":null,\"nonselection_glyph\":{\"id\":\"f62161b6-769e-44b7-94b4-d10c14613254\",\"type\":\"Line\"},\"selection_glyph\":null,\"view\":{\"id\":\"17aa8212-abe4-4602-80b5-9bb23c9aafb1\",\"type\":\"CDSView\"}},\"id\":\"383d65ed-2664-4c2e-aee2-f96ac0ff20ea\",\"type\":\"GlyphRenderer\"},{\"attributes\":{},\"id\":\"de367843-2376-4fcd-872d-f44341b9d995\",\"type\":\"SaveTool\"},{\"attributes\":{\"overlay\":{\"id\":\"d53028e1-f4a3-4528-946f-6451f40a91c3\",\"type\":\"BoxAnnotation\"}},\"id\":\"46298f1f-f373-49bc-8d74-90dbaf67106a\",\"type\":\"BoxZoomTool\"},{\"attributes\":{},\"id\":\"2e566a6b-4fe2-4280-897d-22111246e03c\",\"type\":\"HelpTool\"},{\"attributes\":{\"label\":{\"value\":\"diss\"},\"renderers\":[{\"id\":\"4379b2d5-b3c5-4266-8666-03f8cf7a8d92\",\"type\":\"GlyphRenderer\"}]},\"id\":\"c7a874cf-563d-414d-b604-4bb842869241\",\"type\":\"LegendItem\"},{\"attributes\":{\"plot\":null,\"text\":\"\"},\"id\":\"ffe6d39c-a5b0-4319-a8d3-84889924f6be\",\"type\":\"Title\"},{\"attributes\":{},\"id\":\"2236f191-9ace-4e23-82e8-85ca633eae8b\",\"type\":\"ResetTool\"},{\"attributes\":{\"source\":{\"id\":\"118fa015-7405-4163-9891-ed69c62d7ca9\",\"type\":\"ColumnDataSource\"}},\"id\":\"17aa8212-abe4-4602-80b5-9bb23c9aafb1\",\"type\":\"CDSView\"},{\"attributes\":{\"callback\":null,\"data\":{\"x\":{\"__ndarray__\":\"AAAAAAEAAAACAAAAAwAAAAQAAAAFAAAABgAAAAcAAAAIAAAACQAAAAoAAAALAAAADAAAAA0AAAAOAAAADwAAABAAAAARAAAAEgAAABMAAAAUAAAAFQAAABYAAAAXAAAAGAAAABkAAAAaAAAAGwAAABwAAAAdAAAAHgAAAB8AAAAgAAAAIQAAACIAAAAjAAAAJAAAACUAAAAmAAAAJwAAACgAAAApAAAAKgAAACsAAAAsAAAALQAAAC4AAAAvAAAA\",\"dtype\":\"int32\",\"shape\":[48]},\"y\":{\"__ndarray__\":\"AAAAAAAA+H8AAAAAQfwyQQAAAACT1jJBAAAAAGjsMkEAAAAAjFY0QQAAAADj5TNBAAAAAIrsMkEAAAAAtvUyQQAAAACVjjJBAAAAAIBaMkEAAAAAI2QxQQAAAABOKTFBAAAAAIm3MEEAAAAAsqgwQQAAAACwcDBBAAAAAKCmMEEAAAAAkIAxQQAAAADQMjJBAAAAADBKMkEAAAAAEOAxQQAAAACQATFBAAAAAAC+MkEAAAAAcE8zQQAAAABw6DRBAAAAAKIKNEEAAAAAI440QQAAAAAxETVBAAAAAOaUNEEAAAAAxvkzQQAAAAAkSTNBAAAAAODhMUEAAAAAWcUxQQAAAACfyTBBAAAAAOSCMEEAAAAAdDowQQAAAAAyKjBBAAAAAOGJMEEAAAAAXpIwQQAAAAB5CDBBAAAAAEACMEEAAAAAgAAwQQAAAADg0i9BAAAAADBHMEEAAAAAIFQwQQAAAAAgyTBBAAAAADCRMUEAAAAAgKMyQQAAAACwkTNB\",\"dtype\":\"float64\",\"shape\":[48]}},\"selected\":{\"id\":\"37cb6783-f068-4525-a656-06a34f8bc63d\",\"type\":\"Selection\"},\"selection_policy\":{\"id\":\"d5e6b79d-e578-4e18-b6bc-b8bf3d9cdea0\",\"type\":\"UnionRenderers\"}},\"id\":\"c48517fc-e090-4073-8c4e-93df226523df\",\"type\":\"ColumnDataSource\"}],\"root_ids\":[\"84045d6b-7feb-4907-94a2-a7c232382d6e\"]},\"title\":\"Bokeh Application\",\"version\":\"0.12.16\"}};\n",
       "  var render_items = [{\"docid\":\"abe9548e-cb38-41b6-809e-8ccbc8df9f23\",\"elementid\":\"2da20989-9df8-45d0-abb3-8eed098df62b\",\"modelid\":\"84045d6b-7feb-4907-94a2-a7c232382d6e\"}];\n",
       "  root.Bokeh.embed.embed_items_notebook(docs_json, render_items);\n",
       "\n",
       "  }\n",
       "  if (root.Bokeh !== undefined) {\n",
       "    embed_document(root);\n",
       "  } else {\n",
       "    var attempts = 0;\n",
       "    var timer = setInterval(function(root) {\n",
       "      if (root.Bokeh !== undefined) {\n",
       "        embed_document(root);\n",
       "        clearInterval(timer);\n",
       "      }\n",
       "      attempts++;\n",
       "      if (attempts > 100) {\n",
       "        console.log(\"Bokeh: ERROR: Unable to run BokehJS code because BokehJS library is missing\")\n",
       "        clearInterval(timer);\n",
       "      }\n",
       "    }, 10, root)\n",
       "  }\n",
       "})(window);"
      ],
      "application/vnd.bokehjs_exec.v0+json": ""
     },
     "metadata": {
      "application/vnd.bokehjs_exec.v0+json": {
       "id": "84045d6b-7feb-4907-94a2-a7c232382d6e"
      }
     },
     "output_type": "display_data"
    },
    {
     "data": {
      "text/html": [
       "\n",
       "<div class=\"bk-root\">\n",
       "    <div class=\"bk-plotdiv\" id=\"2b7a4d29-2f5f-40b2-a479-93afe0cf233f\"></div>\n",
       "</div>"
      ]
     },
     "metadata": {},
     "output_type": "display_data"
    },
    {
     "data": {
      "application/javascript": [
       "(function(root) {\n",
       "  function embed_document(root) {\n",
       "    \n",
       "  var docs_json = {\"df79dfd3-4492-4ebd-b370-05b7d11f816e\":{\"roots\":{\"references\":[{\"attributes\":{},\"id\":\"e1fecb39-6504-4abc-b53f-868ae33b17ac\",\"type\":\"LinearScale\"},{\"attributes\":{},\"id\":\"731a6dd1-b7b5-405b-85d8-fae4733529f0\",\"type\":\"ResetTool\"},{\"attributes\":{},\"id\":\"f0f9568a-03f2-44b9-8e29-e41955bca95f\",\"type\":\"UnionRenderers\"},{\"attributes\":{\"source\":{\"id\":\"ed74b90d-e0f0-44f4-af58-fa6b451e651f\",\"type\":\"ColumnDataSource\"}},\"id\":\"ec1a8334-1f50-4201-8c6d-8b3df9813a71\",\"type\":\"CDSView\"},{\"attributes\":{\"label\":{\"value\":\"diss\"},\"renderers\":[{\"id\":\"06927b68-b2fe-4fd3-823a-c939a86bd1bb\",\"type\":\"GlyphRenderer\"}]},\"id\":\"3bf27e64-3d3f-4013-a9b0-f0c1a2a9037b\",\"type\":\"LegendItem\"},{\"attributes\":{},\"id\":\"0968c742-c725-4a11-afb0-b5a5ac662c0a\",\"type\":\"PanTool\"},{\"attributes\":{\"plot\":null,\"text\":\"\"},\"id\":\"0dad64de-d5a2-4cf1-8eb2-5cc476c56299\",\"type\":\"Title\"},{\"attributes\":{\"line_color\":\"orange\",\"x\":{\"field\":\"x\"},\"y\":{\"field\":\"y\"}},\"id\":\"adbbd997-66fc-45a2-890c-bc239a33a654\",\"type\":\"Line\"},{\"attributes\":{\"dimension\":1,\"plot\":{\"id\":\"b07136d4-f187-46aa-bfdc-0fdff39a749e\",\"subtype\":\"Figure\",\"type\":\"Plot\"},\"ticker\":{\"id\":\"9f5fc8d5-e220-48d0-9d98-e1c6fa5a702d\",\"type\":\"BasicTicker\"}},\"id\":\"46bcf901-4ef2-4790-b011-6fa14bce2c41\",\"type\":\"Grid\"},{\"attributes\":{\"items\":[{\"id\":\"0cbff6dd-612a-4572-aab4-0928c3206eae\",\"type\":\"LegendItem\"},{\"id\":\"3bf27e64-3d3f-4013-a9b0-f0c1a2a9037b\",\"type\":\"LegendItem\"}],\"plot\":{\"id\":\"b07136d4-f187-46aa-bfdc-0fdff39a749e\",\"subtype\":\"Figure\",\"type\":\"Plot\"}},\"id\":\"1d877018-d2e5-44fd-8e94-deafe677cac5\",\"type\":\"Legend\"},{\"attributes\":{\"data_source\":{\"id\":\"ed74b90d-e0f0-44f4-af58-fa6b451e651f\",\"type\":\"ColumnDataSource\"},\"glyph\":{\"id\":\"5564634b-2b10-46a5-a3bd-72f3fd7bb65f\",\"type\":\"Line\"},\"hover_glyph\":null,\"muted_glyph\":null,\"nonselection_glyph\":{\"id\":\"e859962f-ee92-4098-8d15-75bd942b4b93\",\"type\":\"Line\"},\"selection_glyph\":null,\"view\":{\"id\":\"ec1a8334-1f50-4201-8c6d-8b3df9813a71\",\"type\":\"CDSView\"}},\"id\":\"c71c89f7-2db3-49ee-a396-632b402189ea\",\"type\":\"GlyphRenderer\"},{\"attributes\":{\"active_drag\":\"auto\",\"active_inspect\":\"auto\",\"active_scroll\":\"auto\",\"active_tap\":\"auto\",\"tools\":[{\"id\":\"0968c742-c725-4a11-afb0-b5a5ac662c0a\",\"type\":\"PanTool\"},{\"id\":\"cd3774e7-eabc-4c8c-916f-1c81f6829d6d\",\"type\":\"WheelZoomTool\"},{\"id\":\"034996b4-122e-4871-a33f-8d588ce6a452\",\"type\":\"BoxZoomTool\"},{\"id\":\"b642747e-93d8-4613-81df-d4369b872c8b\",\"type\":\"SaveTool\"},{\"id\":\"731a6dd1-b7b5-405b-85d8-fae4733529f0\",\"type\":\"ResetTool\"},{\"id\":\"4161fb1a-3d9b-4aa1-9bf3-a0a8603104ee\",\"type\":\"HelpTool\"}]},\"id\":\"7b52a171-cb76-4a9a-9870-73dad1f64b10\",\"type\":\"Toolbar\"},{\"attributes\":{\"label\":{\"value\":\"real\"},\"renderers\":[{\"id\":\"c71c89f7-2db3-49ee-a396-632b402189ea\",\"type\":\"GlyphRenderer\"}]},\"id\":\"0cbff6dd-612a-4572-aab4-0928c3206eae\",\"type\":\"LegendItem\"},{\"attributes\":{},\"id\":\"4349d624-a4ef-4ae4-8947-d3be201850be\",\"type\":\"UnionRenderers\"},{\"attributes\":{\"callback\":null,\"data\":{\"x\":{\"__ndarray__\":\"AAAAAAEAAAACAAAAAwAAAAQAAAAFAAAABgAAAAcAAAAIAAAACQAAAAoAAAALAAAADAAAAA0AAAAOAAAADwAAABAAAAARAAAAEgAAABMAAAAUAAAAFQAAABYAAAAXAAAAGAAAABkAAAAaAAAAGwAAABwAAAAdAAAAHgAAAB8AAAAgAAAAIQAAACIAAAAjAAAAJAAAACUAAAAmAAAAJwAAACgAAAApAAAAKgAAACsAAAAsAAAALQAAAC4AAAAvAAAA\",\"dtype\":\"int32\",\"shape\":[48]},\"y\":{\"__ndarray__\":\"AAAAAAAA+H8AAACAbo5HQQAAAABzz0ZBAAAAgNtAQkEAAAAANxE7QQAAAABRrTBBAAAAAG4uJkEAAAAAyOYGQQAAAAAAAAAAAAAAAAAAAAAAAADgLtNsQQAAAAAAAAAAAAAAAAAAAAAAAAAAAAAAAAAAAAAAAAAAAAAAAAAAAAAAAAAAAAAAAAAAAAAAAAAAAAAAAAAAAAAAAAAAAAAAAAAAAADgMf9AAAAAAEqTJkEAAAAAtmg0QQAAAABAqjxBAAAAAOmjQEEAAAAA5FZAQQAAAAANYkFBAAAAgP8lQUEAAAAAt7M8QQAAAADAyTlBAAAAAMLlLEEAAAAAuF4OQQAAAAAAAAAAAAAAAAAAAAAAAACgHvhpQQAAAAAAAAAAAAAAAAAAAAAAAAAAAAAAAAAAAAAAAAAAAAAAAAAAAAAAAAAAAAAAAAAAAAAAAAAAAAAAAAAAAAAAAAAAAAAAAAAAAACAN/1AAAAAAMzsKEEAAAAAIzI1QQAAAAA6bjNB\",\"dtype\":\"float64\",\"shape\":[48]}},\"selected\":{\"id\":\"551330bb-d967-4cca-84a4-9431045a8735\",\"type\":\"Selection\"},\"selection_policy\":{\"id\":\"4349d624-a4ef-4ae4-8947-d3be201850be\",\"type\":\"UnionRenderers\"}},\"id\":\"c35cb4ae-de80-495c-8a4e-4c67f6d528de\",\"type\":\"ColumnDataSource\"},{\"attributes\":{\"callback\":null},\"id\":\"fa523e2d-992d-4ec7-8efd-5e606e7a7b94\",\"type\":\"DataRange1d\"},{\"attributes\":{\"source\":{\"id\":\"c35cb4ae-de80-495c-8a4e-4c67f6d528de\",\"type\":\"ColumnDataSource\"}},\"id\":\"6c125df7-23f4-4e2a-9d03-233dc3f14626\",\"type\":\"CDSView\"},{\"attributes\":{},\"id\":\"60409440-fdd6-4d5b-918b-8d313315c386\",\"type\":\"BasicTickFormatter\"},{\"attributes\":{\"line_color\":\"#1f77b4\",\"x\":{\"field\":\"x\"},\"y\":{\"field\":\"y\"}},\"id\":\"5564634b-2b10-46a5-a3bd-72f3fd7bb65f\",\"type\":\"Line\"},{\"attributes\":{},\"id\":\"e6b5cfa8-91f7-4f27-98fb-16f349fcfd71\",\"type\":\"BasicTickFormatter\"},{\"attributes\":{\"callback\":null},\"id\":\"409d949f-8b18-4ed3-bcdd-5957aa736567\",\"type\":\"DataRange1d\"},{\"attributes\":{\"bottom_units\":\"screen\",\"fill_alpha\":{\"value\":0.5},\"fill_color\":{\"value\":\"lightgrey\"},\"left_units\":\"screen\",\"level\":\"overlay\",\"line_alpha\":{\"value\":1.0},\"line_color\":{\"value\":\"black\"},\"line_dash\":[4,4],\"line_width\":{\"value\":2},\"plot\":null,\"render_mode\":\"css\",\"right_units\":\"screen\",\"top_units\":\"screen\"},\"id\":\"8e92664c-296a-40b3-bc4b-f443c1f1ff61\",\"type\":\"BoxAnnotation\"},{\"attributes\":{\"callback\":null,\"data\":{\"x\":{\"__ndarray__\":\"AAAAAAEAAAACAAAAAwAAAAQAAAAFAAAABgAAAAcAAAAIAAAACQAAAAoAAAALAAAADAAAAA0AAAAOAAAADwAAABAAAAARAAAAEgAAABMAAAAUAAAAFQAAABYAAAAXAAAAGAAAABkAAAAaAAAAGwAAABwAAAAdAAAAHgAAAB8AAAAgAAAAIQAAACIAAAAjAAAAJAAAACUAAAAmAAAAJwAAACgAAAApAAAAKgAAACsAAAAsAAAALQAAAC4AAAAvAAAA\",\"dtype\":\"int32\",\"shape\":[48]},\"y\":{\"__ndarray__\":\"AAAAgHLVRUEAAACA8LFWQQAAAADVDGFBAAAA4AudZUEAAADAMv9oQQAAAODcFGtBAAAAwMN3bEEAAADgXtNsQQAAAOBe02xBAAAA4F7TbEEAAADgLtNsQQAAAOAu02xBAAAA4C7TbEEAAADgLtNsQQAAAOAu02xBAAAA4C7TbEEAAADgLtNsQQAAAOAu02xBAAAA4C7TbEEAAADgLtNsQQAAAKCSEW1BAAAAQMd6bkEAAAAA74NwQQAAAACTTnJBAAAAAOmjQEEAAACAZn1QQQAAAABtLllBAAAAYLbgYEEAAABALXdkQQAAAEBlsGdBAAAAYMF+aUEAAABAPPhpQQAAAEA8+GlBAAAAQDz4aUEAAACgHvhpQQAAAKAe+GlBAAAAoB74aUEAAACgHvhpQQAAAKAe+GlBAAAAoB74aUEAAACgHvhpQQAAAKAe+GlBAAAAoB74aUEAAACgHvhpQQAAAKCNMmpBAAAAYFrBa0EAAADAnmduQQAAAACzanBB\",\"dtype\":\"float64\",\"shape\":[48]}},\"selected\":{\"id\":\"9c5824f7-79bb-4091-a975-650c28e3b174\",\"type\":\"Selection\"},\"selection_policy\":{\"id\":\"f0f9568a-03f2-44b9-8e29-e41955bca95f\",\"type\":\"UnionRenderers\"}},\"id\":\"ed74b90d-e0f0-44f4-af58-fa6b451e651f\",\"type\":\"ColumnDataSource\"},{\"attributes\":{\"formatter\":{\"id\":\"60409440-fdd6-4d5b-918b-8d313315c386\",\"type\":\"BasicTickFormatter\"},\"plot\":{\"id\":\"b07136d4-f187-46aa-bfdc-0fdff39a749e\",\"subtype\":\"Figure\",\"type\":\"Plot\"},\"ticker\":{\"id\":\"9f5fc8d5-e220-48d0-9d98-e1c6fa5a702d\",\"type\":\"BasicTicker\"}},\"id\":\"7aed0c75-79bd-4850-b4a2-7d95c7787b2c\",\"type\":\"LinearAxis\"},{\"attributes\":{\"below\":[{\"id\":\"809421f9-fe09-436d-b3c8-05605fbab3ea\",\"type\":\"LinearAxis\"}],\"left\":[{\"id\":\"7aed0c75-79bd-4850-b4a2-7d95c7787b2c\",\"type\":\"LinearAxis\"}],\"renderers\":[{\"id\":\"809421f9-fe09-436d-b3c8-05605fbab3ea\",\"type\":\"LinearAxis\"},{\"id\":\"cd5a3ed2-8846-4cf0-8d10-9cf5bcb13245\",\"type\":\"Grid\"},{\"id\":\"7aed0c75-79bd-4850-b4a2-7d95c7787b2c\",\"type\":\"LinearAxis\"},{\"id\":\"46bcf901-4ef2-4790-b011-6fa14bce2c41\",\"type\":\"Grid\"},{\"id\":\"8e92664c-296a-40b3-bc4b-f443c1f1ff61\",\"type\":\"BoxAnnotation\"},{\"id\":\"1d877018-d2e5-44fd-8e94-deafe677cac5\",\"type\":\"Legend\"},{\"id\":\"c71c89f7-2db3-49ee-a396-632b402189ea\",\"type\":\"GlyphRenderer\"},{\"id\":\"06927b68-b2fe-4fd3-823a-c939a86bd1bb\",\"type\":\"GlyphRenderer\"}],\"title\":{\"id\":\"0dad64de-d5a2-4cf1-8eb2-5cc476c56299\",\"type\":\"Title\"},\"toolbar\":{\"id\":\"7b52a171-cb76-4a9a-9870-73dad1f64b10\",\"type\":\"Toolbar\"},\"x_range\":{\"id\":\"409d949f-8b18-4ed3-bcdd-5957aa736567\",\"type\":\"DataRange1d\"},\"x_scale\":{\"id\":\"e1fecb39-6504-4abc-b53f-868ae33b17ac\",\"type\":\"LinearScale\"},\"y_range\":{\"id\":\"fa523e2d-992d-4ec7-8efd-5e606e7a7b94\",\"type\":\"DataRange1d\"},\"y_scale\":{\"id\":\"a39a8891-61cc-4f99-bc6e-dabd805e394d\",\"type\":\"LinearScale\"}},\"id\":\"b07136d4-f187-46aa-bfdc-0fdff39a749e\",\"subtype\":\"Figure\",\"type\":\"Plot\"},{\"attributes\":{},\"id\":\"551330bb-d967-4cca-84a4-9431045a8735\",\"type\":\"Selection\"},{\"attributes\":{},\"id\":\"9f5fc8d5-e220-48d0-9d98-e1c6fa5a702d\",\"type\":\"BasicTicker\"},{\"attributes\":{\"formatter\":{\"id\":\"e6b5cfa8-91f7-4f27-98fb-16f349fcfd71\",\"type\":\"BasicTickFormatter\"},\"plot\":{\"id\":\"b07136d4-f187-46aa-bfdc-0fdff39a749e\",\"subtype\":\"Figure\",\"type\":\"Plot\"},\"ticker\":{\"id\":\"e3669f33-9246-4093-9020-8ebaa5a0c200\",\"type\":\"BasicTicker\"}},\"id\":\"809421f9-fe09-436d-b3c8-05605fbab3ea\",\"type\":\"LinearAxis\"},{\"attributes\":{},\"id\":\"e3669f33-9246-4093-9020-8ebaa5a0c200\",\"type\":\"BasicTicker\"},{\"attributes\":{\"data_source\":{\"id\":\"c35cb4ae-de80-495c-8a4e-4c67f6d528de\",\"type\":\"ColumnDataSource\"},\"glyph\":{\"id\":\"adbbd997-66fc-45a2-890c-bc239a33a654\",\"type\":\"Line\"},\"hover_glyph\":null,\"muted_glyph\":null,\"nonselection_glyph\":{\"id\":\"c02625b8-96c2-485d-8e31-cf28772ba6b6\",\"type\":\"Line\"},\"selection_glyph\":null,\"view\":{\"id\":\"6c125df7-23f4-4e2a-9d03-233dc3f14626\",\"type\":\"CDSView\"}},\"id\":\"06927b68-b2fe-4fd3-823a-c939a86bd1bb\",\"type\":\"GlyphRenderer\"},{\"attributes\":{},\"id\":\"a39a8891-61cc-4f99-bc6e-dabd805e394d\",\"type\":\"LinearScale\"},{\"attributes\":{\"overlay\":{\"id\":\"8e92664c-296a-40b3-bc4b-f443c1f1ff61\",\"type\":\"BoxAnnotation\"}},\"id\":\"034996b4-122e-4871-a33f-8d588ce6a452\",\"type\":\"BoxZoomTool\"},{\"attributes\":{},\"id\":\"9c5824f7-79bb-4091-a975-650c28e3b174\",\"type\":\"Selection\"},{\"attributes\":{\"plot\":{\"id\":\"b07136d4-f187-46aa-bfdc-0fdff39a749e\",\"subtype\":\"Figure\",\"type\":\"Plot\"},\"ticker\":{\"id\":\"e3669f33-9246-4093-9020-8ebaa5a0c200\",\"type\":\"BasicTicker\"}},\"id\":\"cd5a3ed2-8846-4cf0-8d10-9cf5bcb13245\",\"type\":\"Grid\"},{\"attributes\":{},\"id\":\"4161fb1a-3d9b-4aa1-9bf3-a0a8603104ee\",\"type\":\"HelpTool\"},{\"attributes\":{\"line_alpha\":0.1,\"line_color\":\"#1f77b4\",\"x\":{\"field\":\"x\"},\"y\":{\"field\":\"y\"}},\"id\":\"c02625b8-96c2-485d-8e31-cf28772ba6b6\",\"type\":\"Line\"},{\"attributes\":{},\"id\":\"cd3774e7-eabc-4c8c-916f-1c81f6829d6d\",\"type\":\"WheelZoomTool\"},{\"attributes\":{\"line_alpha\":0.1,\"line_color\":\"#1f77b4\",\"x\":{\"field\":\"x\"},\"y\":{\"field\":\"y\"}},\"id\":\"e859962f-ee92-4098-8d15-75bd942b4b93\",\"type\":\"Line\"},{\"attributes\":{},\"id\":\"b642747e-93d8-4613-81df-d4369b872c8b\",\"type\":\"SaveTool\"}],\"root_ids\":[\"b07136d4-f187-46aa-bfdc-0fdff39a749e\"]},\"title\":\"Bokeh Application\",\"version\":\"0.12.16\"}};\n",
       "  var render_items = [{\"docid\":\"df79dfd3-4492-4ebd-b370-05b7d11f816e\",\"elementid\":\"2b7a4d29-2f5f-40b2-a479-93afe0cf233f\",\"modelid\":\"b07136d4-f187-46aa-bfdc-0fdff39a749e\"}];\n",
       "  root.Bokeh.embed.embed_items_notebook(docs_json, render_items);\n",
       "\n",
       "  }\n",
       "  if (root.Bokeh !== undefined) {\n",
       "    embed_document(root);\n",
       "  } else {\n",
       "    var attempts = 0;\n",
       "    var timer = setInterval(function(root) {\n",
       "      if (root.Bokeh !== undefined) {\n",
       "        embed_document(root);\n",
       "        clearInterval(timer);\n",
       "      }\n",
       "      attempts++;\n",
       "      if (attempts > 100) {\n",
       "        console.log(\"Bokeh: ERROR: Unable to run BokehJS code because BokehJS library is missing\")\n",
       "        clearInterval(timer);\n",
       "      }\n",
       "    }, 10, root)\n",
       "  }\n",
       "})(window);"
      ],
      "application/vnd.bokehjs_exec.v0+json": ""
     },
     "metadata": {
      "application/vnd.bokehjs_exec.v0+json": {
       "id": "b07136d4-f187-46aa-bfdc-0fdff39a749e"
      }
     },
     "output_type": "display_data"
    },
    {
     "data": {
      "text/html": [
       "\n",
       "<div class=\"bk-root\">\n",
       "    <div class=\"bk-plotdiv\" id=\"49fcd3f7-4d4d-43fc-987d-3b3eb6556587\"></div>\n",
       "</div>"
      ]
     },
     "metadata": {},
     "output_type": "display_data"
    },
    {
     "data": {
      "application/javascript": [
       "(function(root) {\n",
       "  function embed_document(root) {\n",
       "    \n",
       "  var docs_json = {\"fe39aa48-8acb-40f9-9817-c9726ee3f40b\":{\"roots\":{\"references\":[{\"attributes\":{},\"id\":\"7640f448-fb92-45e1-8080-e6f28029bef5\",\"type\":\"BasicTickFormatter\"},{\"attributes\":{},\"id\":\"d9d213a0-8ec2-4ca3-bed0-62275171a406\",\"type\":\"Selection\"},{\"attributes\":{\"bottom_units\":\"screen\",\"fill_alpha\":{\"value\":0.5},\"fill_color\":{\"value\":\"lightgrey\"},\"left_units\":\"screen\",\"level\":\"overlay\",\"line_alpha\":{\"value\":1.0},\"line_color\":{\"value\":\"black\"},\"line_dash\":[4,4],\"line_width\":{\"value\":2},\"plot\":null,\"render_mode\":\"css\",\"right_units\":\"screen\",\"top_units\":\"screen\"},\"id\":\"42af5c71-1ec5-4acb-8735-ee1d3c0d64e1\",\"type\":\"BoxAnnotation\"},{\"attributes\":{},\"id\":\"5ee16f0a-e28b-4bfa-a1dc-68c1a872729f\",\"type\":\"PanTool\"},{\"attributes\":{},\"id\":\"31ada274-8dc9-4fc3-b2e1-9691b430646b\",\"type\":\"BasicTicker\"},{\"attributes\":{\"data_source\":{\"id\":\"5b29aa0b-7109-461a-8834-8768149cc5a5\",\"type\":\"ColumnDataSource\"},\"glyph\":{\"id\":\"6a76b986-58fa-4232-b3f5-ab5150efe7b6\",\"type\":\"Line\"},\"hover_glyph\":null,\"muted_glyph\":null,\"nonselection_glyph\":{\"id\":\"5ed9450c-b677-4107-9f9a-61e1a016e7ca\",\"type\":\"Line\"},\"selection_glyph\":null,\"view\":{\"id\":\"cbf74712-71dd-4bea-8746-9d220782f626\",\"type\":\"CDSView\"}},\"id\":\"20a5099f-fdde-492a-89d1-fa4dab9f0126\",\"type\":\"GlyphRenderer\"},{\"attributes\":{\"callback\":null},\"id\":\"f8e8397a-a997-409c-8e4c-90d6bc771c56\",\"type\":\"DataRange1d\"},{\"attributes\":{},\"id\":\"228a4932-8b65-4bca-ad56-146d54c46d36\",\"type\":\"WheelZoomTool\"},{\"attributes\":{\"overlay\":{\"id\":\"42af5c71-1ec5-4acb-8735-ee1d3c0d64e1\",\"type\":\"BoxAnnotation\"}},\"id\":\"9c715174-2ef7-48cf-96a3-9d1ec29a7c07\",\"type\":\"BoxZoomTool\"},{\"attributes\":{},\"id\":\"16b525ad-3b87-4702-85dd-25bde528e5c4\",\"type\":\"SaveTool\"},{\"attributes\":{\"plot\":{\"id\":\"79644144-e152-490d-930d-65d309ac4528\",\"subtype\":\"Figure\",\"type\":\"Plot\"},\"ticker\":{\"id\":\"70961c78-af16-4d6d-965f-d0f0a9ff9255\",\"type\":\"BasicTicker\"}},\"id\":\"d73686e2-af26-424c-8dd4-b9dc7a91f20f\",\"type\":\"Grid\"},{\"attributes\":{},\"id\":\"5afbba14-14fd-4f25-b7a9-5a11038c557a\",\"type\":\"ResetTool\"},{\"attributes\":{},\"id\":\"50b2667c-9cca-4b45-aade-b8894b712b66\",\"type\":\"HelpTool\"},{\"attributes\":{\"below\":[{\"id\":\"af3a69d9-b540-4e0d-b929-65983a288da4\",\"type\":\"LinearAxis\"}],\"left\":[{\"id\":\"c4927c4e-9210-451b-bc58-d804d076ef33\",\"type\":\"LinearAxis\"}],\"renderers\":[{\"id\":\"af3a69d9-b540-4e0d-b929-65983a288da4\",\"type\":\"LinearAxis\"},{\"id\":\"d73686e2-af26-424c-8dd4-b9dc7a91f20f\",\"type\":\"Grid\"},{\"id\":\"c4927c4e-9210-451b-bc58-d804d076ef33\",\"type\":\"LinearAxis\"},{\"id\":\"861380fc-3eac-4640-bab2-719240560f01\",\"type\":\"Grid\"},{\"id\":\"42af5c71-1ec5-4acb-8735-ee1d3c0d64e1\",\"type\":\"BoxAnnotation\"},{\"id\":\"3bd8ebd5-1f15-4bb1-845c-9ca58bf554ff\",\"type\":\"Legend\"},{\"id\":\"20a5099f-fdde-492a-89d1-fa4dab9f0126\",\"type\":\"GlyphRenderer\"},{\"id\":\"baff1312-cf92-459d-8034-e8fd1c501532\",\"type\":\"GlyphRenderer\"}],\"title\":{\"id\":\"f16baf85-c4a0-4468-b207-12c6a37a42fb\",\"type\":\"Title\"},\"toolbar\":{\"id\":\"c171f30e-8a5b-4b88-8cf2-32bdede65637\",\"type\":\"Toolbar\"},\"x_range\":{\"id\":\"f8e8397a-a997-409c-8e4c-90d6bc771c56\",\"type\":\"DataRange1d\"},\"x_scale\":{\"id\":\"b7dccb31-0786-4ea1-8a9c-e76d3bf6659b\",\"type\":\"LinearScale\"},\"y_range\":{\"id\":\"1b00f0d4-752d-4745-9098-853720c5393e\",\"type\":\"DataRange1d\"},\"y_scale\":{\"id\":\"15cbac08-11e6-4039-ada0-f8ec892b5d82\",\"type\":\"LinearScale\"}},\"id\":\"79644144-e152-490d-930d-65d309ac4528\",\"subtype\":\"Figure\",\"type\":\"Plot\"},{\"attributes\":{\"callback\":null},\"id\":\"1b00f0d4-752d-4745-9098-853720c5393e\",\"type\":\"DataRange1d\"},{\"attributes\":{\"plot\":null,\"text\":\"\"},\"id\":\"f16baf85-c4a0-4468-b207-12c6a37a42fb\",\"type\":\"Title\"},{\"attributes\":{\"source\":{\"id\":\"5b29aa0b-7109-461a-8834-8768149cc5a5\",\"type\":\"ColumnDataSource\"}},\"id\":\"cbf74712-71dd-4bea-8746-9d220782f626\",\"type\":\"CDSView\"},{\"attributes\":{\"label\":{\"value\":\"real\"},\"renderers\":[{\"id\":\"20a5099f-fdde-492a-89d1-fa4dab9f0126\",\"type\":\"GlyphRenderer\"}]},\"id\":\"9f4c1a27-db4b-40b4-9494-92e27392c74d\",\"type\":\"LegendItem\"},{\"attributes\":{\"formatter\":{\"id\":\"e043a107-81d5-4230-bed3-25970c6efe5d\",\"type\":\"BasicTickFormatter\"},\"plot\":{\"id\":\"79644144-e152-490d-930d-65d309ac4528\",\"subtype\":\"Figure\",\"type\":\"Plot\"},\"ticker\":{\"id\":\"31ada274-8dc9-4fc3-b2e1-9691b430646b\",\"type\":\"BasicTicker\"}},\"id\":\"c4927c4e-9210-451b-bc58-d804d076ef33\",\"type\":\"LinearAxis\"},{\"attributes\":{},\"id\":\"ebc529e2-7d35-4343-8c73-00fca8061a07\",\"type\":\"UnionRenderers\"},{\"attributes\":{\"data_source\":{\"id\":\"5a66619a-882f-45d6-8e71-d462733979a1\",\"type\":\"ColumnDataSource\"},\"glyph\":{\"id\":\"04923fc7-92f6-4b09-b7d3-d3ac172c22b7\",\"type\":\"Line\"},\"hover_glyph\":null,\"muted_glyph\":null,\"nonselection_glyph\":{\"id\":\"e09e0ae4-3ace-484b-83f7-4debb05a332b\",\"type\":\"Line\"},\"selection_glyph\":null,\"view\":{\"id\":\"db6b89bd-a591-4309-bf8e-73d8d4c7765e\",\"type\":\"CDSView\"}},\"id\":\"baff1312-cf92-459d-8034-e8fd1c501532\",\"type\":\"GlyphRenderer\"},{\"attributes\":{\"items\":[{\"id\":\"9f4c1a27-db4b-40b4-9494-92e27392c74d\",\"type\":\"LegendItem\"},{\"id\":\"5fd893e5-ad05-4e73-8fdc-196277d367b7\",\"type\":\"LegendItem\"}],\"plot\":{\"id\":\"79644144-e152-490d-930d-65d309ac4528\",\"subtype\":\"Figure\",\"type\":\"Plot\"}},\"id\":\"3bd8ebd5-1f15-4bb1-845c-9ca58bf554ff\",\"type\":\"Legend\"},{\"attributes\":{},\"id\":\"15cbac08-11e6-4039-ada0-f8ec892b5d82\",\"type\":\"LinearScale\"},{\"attributes\":{},\"id\":\"e043a107-81d5-4230-bed3-25970c6efe5d\",\"type\":\"BasicTickFormatter\"},{\"attributes\":{\"line_color\":\"#1f77b4\",\"x\":{\"field\":\"x\"},\"y\":{\"field\":\"y\"}},\"id\":\"6a76b986-58fa-4232-b3f5-ab5150efe7b6\",\"type\":\"Line\"},{\"attributes\":{\"formatter\":{\"id\":\"7640f448-fb92-45e1-8080-e6f28029bef5\",\"type\":\"BasicTickFormatter\"},\"plot\":{\"id\":\"79644144-e152-490d-930d-65d309ac4528\",\"subtype\":\"Figure\",\"type\":\"Plot\"},\"ticker\":{\"id\":\"70961c78-af16-4d6d-965f-d0f0a9ff9255\",\"type\":\"BasicTicker\"}},\"id\":\"af3a69d9-b540-4e0d-b929-65983a288da4\",\"type\":\"LinearAxis\"},{\"attributes\":{\"label\":{\"value\":\"diss\"},\"renderers\":[{\"id\":\"baff1312-cf92-459d-8034-e8fd1c501532\",\"type\":\"GlyphRenderer\"}]},\"id\":\"5fd893e5-ad05-4e73-8fdc-196277d367b7\",\"type\":\"LegendItem\"},{\"attributes\":{\"line_alpha\":0.1,\"line_color\":\"#1f77b4\",\"x\":{\"field\":\"x\"},\"y\":{\"field\":\"y\"}},\"id\":\"e09e0ae4-3ace-484b-83f7-4debb05a332b\",\"type\":\"Line\"},{\"attributes\":{\"source\":{\"id\":\"5a66619a-882f-45d6-8e71-d462733979a1\",\"type\":\"ColumnDataSource\"}},\"id\":\"db6b89bd-a591-4309-bf8e-73d8d4c7765e\",\"type\":\"CDSView\"},{\"attributes\":{},\"id\":\"b7dccb31-0786-4ea1-8a9c-e76d3bf6659b\",\"type\":\"LinearScale\"},{\"attributes\":{},\"id\":\"9a974615-94bc-4448-9c1f-9749d066b8a2\",\"type\":\"Selection\"},{\"attributes\":{},\"id\":\"62d429e9-268e-43a6-b1d8-fe6312e41418\",\"type\":\"UnionRenderers\"},{\"attributes\":{},\"id\":\"70961c78-af16-4d6d-965f-d0f0a9ff9255\",\"type\":\"BasicTicker\"},{\"attributes\":{\"callback\":null,\"data\":{\"x\":{\"__ndarray__\":\"AAAAAAEAAAACAAAAAwAAAAQAAAAFAAAABgAAAAcAAAAIAAAACQAAAAoAAAALAAAADAAAAA0AAAAOAAAADwAAABAAAAARAAAAEgAAABMAAAAUAAAAFQAAABYAAAAXAAAAGAAAABkAAAAaAAAAGwAAABwAAAAdAAAAHgAAAB8AAAAgAAAAIQAAACIAAAAjAAAAJAAAACUAAAAmAAAAJwAAACgAAAApAAAAKgAAACsAAAAsAAAALQAAAC4AAAAvAAAA\",\"dtype\":\"int32\",\"shape\":[48]},\"y\":{\"__ndarray__\":\"AAAAAAAA+H8AAAAAAAAAAIlYCQAA+FU/u1P7//8DUz9ghNn//y9LP1B0LgAAnEQ/8OgFAACKUD9wXfr//7FYP8A7tf//PzA/AONABgAA9T4ADAvX///TPgAAAAAAAAAAAAAAAAAAAAAAAAAAAAAAAAAAAAAAAAAAAMDj2QEAoD4AAAAAAAAAAAAk6cv//9U+AB5+EAAA4D4AMFwFAADiPgDIv+X//90+AHhpHQAA1D4AyL/l///dPgBKqfT//+Q+RHoAAEAYKT8wUikAgNsSP9Da5v7/R/Y+wDSHAQCQ6T4AAAAAAAAAAAAAAAAAAAAAAGbH7v//sD4AAAAAAAAAAAAAAAAAAAAAAAAAAAAAAAAAAAAAAAAAAAAAAAAAAAAAAAAAAAAAAAAAAAAAAAAAAAAAAAAAAAAAAAAAAAAAAAAAAAAAAAAAAAAAAAAAAAAAAAAAAAAAAAAAAAAAAAAAAAAAAAAAAAAAGMlYAAC0Gj+K+PL//+MnP5o2/v//+TU/\",\"dtype\":\"float64\",\"shape\":[48]}},\"selected\":{\"id\":\"d9d213a0-8ec2-4ca3-bed0-62275171a406\",\"type\":\"Selection\"},\"selection_policy\":{\"id\":\"62d429e9-268e-43a6-b1d8-fe6312e41418\",\"type\":\"UnionRenderers\"}},\"id\":\"5a66619a-882f-45d6-8e71-d462733979a1\",\"type\":\"ColumnDataSource\"},{\"attributes\":{\"callback\":null,\"data\":{\"x\":{\"__ndarray__\":\"AAAAAAEAAAACAAAAAwAAAAQAAAAFAAAABgAAAAcAAAAIAAAACQAAAAoAAAALAAAADAAAAA0AAAAOAAAADwAAABAAAAARAAAAEgAAABMAAAAUAAAAFQAAABYAAAAXAAAAGAAAABkAAAAaAAAAGwAAABwAAAAdAAAAHgAAAB8AAAAgAAAAIQAAACIAAAAjAAAAJAAAACUAAAAmAAAAJwAAACgAAAApAAAAKgAAACsAAAAsAAAALQAAAC4AAAAvAAAA\",\"dtype\":\"int32\",\"shape\":[48]},\"y\":{\"__ndarray__\":\"AAAAAAAAAAAAAAAAAAAAAIlYCQAA+FU/IlYCAAB+ZD86t/j//0lrPycqAgCAOHA/Y6QDAABbdD+/OwIAgId6P3uP/f9/i3s/XtADAICgez8hk/n/f6V7PyGT+f9/pXs/IZP5/3+lez8hk/n/f6V7PyGT+f9/pXs/P2IIAACmez8/YggAAKZ7P4hc+/9/q3s/l5sDAICzez+vSQYAgLx7P6G5////w3s//xMHAADJez/xgwAAgNB7P5bY+v//2ns/RHoAAEAYKT+ukQoAAEMxP1v/+P9/pzI/ATkFAAB0Mz8BOQUAAHQzPwE5BQAAdDM/ZwD0//+EMz9nAPT//4QzP2cA9P//hDM/ZwD0//+EMz9nAPT//4QzP2cA9P//hDM/ZwD0//+EMz9nAPT//4QzP2cA9P//hDM/ZwD0//+EMz9nAPT//4QzP2cA9P//hDM/ZwD0//+EMz9nAPT//4QzP2cA9P//hDM/rTIKAAAyOj951wEAABJDP8byAAAAD04/\",\"dtype\":\"float64\",\"shape\":[48]}},\"selected\":{\"id\":\"9a974615-94bc-4448-9c1f-9749d066b8a2\",\"type\":\"Selection\"},\"selection_policy\":{\"id\":\"ebc529e2-7d35-4343-8c73-00fca8061a07\",\"type\":\"UnionRenderers\"}},\"id\":\"5b29aa0b-7109-461a-8834-8768149cc5a5\",\"type\":\"ColumnDataSource\"},{\"attributes\":{\"line_alpha\":0.1,\"line_color\":\"#1f77b4\",\"x\":{\"field\":\"x\"},\"y\":{\"field\":\"y\"}},\"id\":\"5ed9450c-b677-4107-9f9a-61e1a016e7ca\",\"type\":\"Line\"},{\"attributes\":{\"active_drag\":\"auto\",\"active_inspect\":\"auto\",\"active_scroll\":\"auto\",\"active_tap\":\"auto\",\"tools\":[{\"id\":\"5ee16f0a-e28b-4bfa-a1dc-68c1a872729f\",\"type\":\"PanTool\"},{\"id\":\"228a4932-8b65-4bca-ad56-146d54c46d36\",\"type\":\"WheelZoomTool\"},{\"id\":\"9c715174-2ef7-48cf-96a3-9d1ec29a7c07\",\"type\":\"BoxZoomTool\"},{\"id\":\"16b525ad-3b87-4702-85dd-25bde528e5c4\",\"type\":\"SaveTool\"},{\"id\":\"5afbba14-14fd-4f25-b7a9-5a11038c557a\",\"type\":\"ResetTool\"},{\"id\":\"50b2667c-9cca-4b45-aade-b8894b712b66\",\"type\":\"HelpTool\"}]},\"id\":\"c171f30e-8a5b-4b88-8cf2-32bdede65637\",\"type\":\"Toolbar\"},{\"attributes\":{\"dimension\":1,\"plot\":{\"id\":\"79644144-e152-490d-930d-65d309ac4528\",\"subtype\":\"Figure\",\"type\":\"Plot\"},\"ticker\":{\"id\":\"31ada274-8dc9-4fc3-b2e1-9691b430646b\",\"type\":\"BasicTicker\"}},\"id\":\"861380fc-3eac-4640-bab2-719240560f01\",\"type\":\"Grid\"},{\"attributes\":{\"line_color\":\"orange\",\"x\":{\"field\":\"x\"},\"y\":{\"field\":\"y\"}},\"id\":\"04923fc7-92f6-4b09-b7d3-d3ac172c22b7\",\"type\":\"Line\"}],\"root_ids\":[\"79644144-e152-490d-930d-65d309ac4528\"]},\"title\":\"Bokeh Application\",\"version\":\"0.12.16\"}};\n",
       "  var render_items = [{\"docid\":\"fe39aa48-8acb-40f9-9817-c9726ee3f40b\",\"elementid\":\"49fcd3f7-4d4d-43fc-987d-3b3eb6556587\",\"modelid\":\"79644144-e152-490d-930d-65d309ac4528\"}];\n",
       "  root.Bokeh.embed.embed_items_notebook(docs_json, render_items);\n",
       "\n",
       "  }\n",
       "  if (root.Bokeh !== undefined) {\n",
       "    embed_document(root);\n",
       "  } else {\n",
       "    var attempts = 0;\n",
       "    var timer = setInterval(function(root) {\n",
       "      if (root.Bokeh !== undefined) {\n",
       "        embed_document(root);\n",
       "        clearInterval(timer);\n",
       "      }\n",
       "      attempts++;\n",
       "      if (attempts > 100) {\n",
       "        console.log(\"Bokeh: ERROR: Unable to run BokehJS code because BokehJS library is missing\")\n",
       "        clearInterval(timer);\n",
       "      }\n",
       "    }, 10, root)\n",
       "  }\n",
       "})(window);"
      ],
      "application/vnd.bokehjs_exec.v0+json": ""
     },
     "metadata": {
      "application/vnd.bokehjs_exec.v0+json": {
       "id": "79644144-e152-490d-930d-65d309ac4528"
      }
     },
     "output_type": "display_data"
    }
   ],
   "source": [
    "output_notebook()\n",
    "\n",
    "thing_to_plot = df.copy()[:48][ACCUMLATED_FEATURE_COLUMNS]\n",
    "\n",
    "for column in thing_to_plot:\n",
    "    p = figure()\n",
    "    p.line(np.arange(len(thing_to_plot)), thing_to_plot[column], legend=\"real\")\n",
    "    p.line(np.arange(len(thing_to_plot)), dissipate_features(thing_to_plot,column), legend=\"diss\",color=\"orange\")\n",
    "    show(p)"
   ]
  },
  {
   "cell_type": "code",
   "execution_count": 9,
   "metadata": {},
   "outputs": [],
   "source": [
    "df = clear_data_from_end(df,TARGET_COLUMN,PREDICT_INTERVAL)\n",
    "df = add_rolling(df,TARGET_COLUMN, [ONE_DAY, ONE_WEEK, ONE_MONTH], PREDICT_INTERVAL)"
   ]
  },
  {
   "cell_type": "code",
   "execution_count": 10,
   "metadata": {},
   "outputs": [
    {
     "name": "stderr",
     "output_type": "stream",
     "text": [
      "D:\\Continuum\\anaconda3\\lib\\site-packages\\ipykernel_launcher.py:24: FutureWarning: Currently, 'apply' passes the values as ndarrays to the applied function. In the future, this will change to passing it as Series objects. You need to specify 'raw=True' to keep the current behaviour, and you can pass 'raw=False' to silence this warning\n"
     ]
    }
   ],
   "source": [
    "for column in ACCUMLATED_FEATURE_COLUMNS:\n",
    "    df[column] = dissipate_features(df,column)"
   ]
  },
  {
   "cell_type": "code",
   "execution_count": 11,
   "metadata": {
    "scrolled": true
   },
   "outputs": [],
   "source": [
    "for column in feature_columns:\n",
    "    df = clear_data_from_end(df,column,PREDICT_INTERVAL)\n",
    "    df = add_rolling(df,column, [ONE_DAY, ONE_WEEK], PREDICT_INTERVAL)\n",
    "    df = df.drop(column, axis = 1)"
   ]
  },
  {
   "cell_type": "code",
   "execution_count": 12,
   "metadata": {},
   "outputs": [
    {
     "ename": "KeyboardInterrupt",
     "evalue": "",
     "output_type": "error",
     "traceback": [
      "\u001b[1;31m---------------------------------------------------------------------------\u001b[0m",
      "\u001b[1;31mKeyboardInterrupt\u001b[0m                         Traceback (most recent call last)",
      "\u001b[1;32m<ipython-input-12-c27d59243c39>\u001b[0m in \u001b[0;36m<module>\u001b[1;34m()\u001b[0m\n\u001b[0;32m      8\u001b[0m \u001b[1;33m\u001b[0m\u001b[0m\n\u001b[0;32m      9\u001b[0m \u001b[0mxgb_model\u001b[0m \u001b[1;33m=\u001b[0m \u001b[0mXGBRegressor\u001b[0m\u001b[1;33m(\u001b[0m\u001b[0mnthread\u001b[0m\u001b[1;33m=\u001b[0m\u001b[1;36m4\u001b[0m\u001b[1;33m)\u001b[0m\u001b[1;33m\u001b[0m\u001b[0m\n\u001b[1;32m---> 10\u001b[1;33m \u001b[0mxgb_model\u001b[0m\u001b[1;33m.\u001b[0m\u001b[0mfit\u001b[0m\u001b[1;33m(\u001b[0m\u001b[0mX_train\u001b[0m\u001b[1;33m,\u001b[0m\u001b[0my_train\u001b[0m\u001b[1;33m)\u001b[0m\u001b[1;33m\u001b[0m\u001b[0m\n\u001b[0m\u001b[0;32m     11\u001b[0m \u001b[1;33m\u001b[0m\u001b[0m\n\u001b[0;32m     12\u001b[0m \u001b[1;31m# For SVR we need Feature Scaling\u001b[0m\u001b[1;33m\u001b[0m\u001b[1;33m\u001b[0m\u001b[0m\n",
      "\u001b[1;32mD:\\Continuum\\anaconda3\\lib\\site-packages\\xgboost\\sklearn.py\u001b[0m in \u001b[0;36mfit\u001b[1;34m(self, X, y, sample_weight, eval_set, eval_metric, early_stopping_rounds, verbose, xgb_model, sample_weight_eval_set)\u001b[0m\n\u001b[0;32m    300\u001b[0m                               \u001b[0mearly_stopping_rounds\u001b[0m\u001b[1;33m=\u001b[0m\u001b[0mearly_stopping_rounds\u001b[0m\u001b[1;33m,\u001b[0m\u001b[1;33m\u001b[0m\u001b[0m\n\u001b[0;32m    301\u001b[0m                               \u001b[0mevals_result\u001b[0m\u001b[1;33m=\u001b[0m\u001b[0mevals_result\u001b[0m\u001b[1;33m,\u001b[0m \u001b[0mobj\u001b[0m\u001b[1;33m=\u001b[0m\u001b[0mobj\u001b[0m\u001b[1;33m,\u001b[0m \u001b[0mfeval\u001b[0m\u001b[1;33m=\u001b[0m\u001b[0mfeval\u001b[0m\u001b[1;33m,\u001b[0m\u001b[1;33m\u001b[0m\u001b[0m\n\u001b[1;32m--> 302\u001b[1;33m                               verbose_eval=verbose, xgb_model=xgb_model)\n\u001b[0m\u001b[0;32m    303\u001b[0m \u001b[1;33m\u001b[0m\u001b[0m\n\u001b[0;32m    304\u001b[0m         \u001b[1;32mif\u001b[0m \u001b[0mevals_result\u001b[0m\u001b[1;33m:\u001b[0m\u001b[1;33m\u001b[0m\u001b[0m\n",
      "\u001b[1;32mD:\\Continuum\\anaconda3\\lib\\site-packages\\xgboost\\training.py\u001b[0m in \u001b[0;36mtrain\u001b[1;34m(params, dtrain, num_boost_round, evals, obj, feval, maximize, early_stopping_rounds, evals_result, verbose_eval, xgb_model, callbacks, learning_rates)\u001b[0m\n\u001b[0;32m    202\u001b[0m                            \u001b[0mevals\u001b[0m\u001b[1;33m=\u001b[0m\u001b[0mevals\u001b[0m\u001b[1;33m,\u001b[0m\u001b[1;33m\u001b[0m\u001b[0m\n\u001b[0;32m    203\u001b[0m                            \u001b[0mobj\u001b[0m\u001b[1;33m=\u001b[0m\u001b[0mobj\u001b[0m\u001b[1;33m,\u001b[0m \u001b[0mfeval\u001b[0m\u001b[1;33m=\u001b[0m\u001b[0mfeval\u001b[0m\u001b[1;33m,\u001b[0m\u001b[1;33m\u001b[0m\u001b[0m\n\u001b[1;32m--> 204\u001b[1;33m                            xgb_model=xgb_model, callbacks=callbacks)\n\u001b[0m\u001b[0;32m    205\u001b[0m \u001b[1;33m\u001b[0m\u001b[0m\n\u001b[0;32m    206\u001b[0m \u001b[1;33m\u001b[0m\u001b[0m\n",
      "\u001b[1;32mD:\\Continuum\\anaconda3\\lib\\site-packages\\xgboost\\training.py\u001b[0m in \u001b[0;36m_train_internal\u001b[1;34m(params, dtrain, num_boost_round, evals, obj, feval, xgb_model, callbacks)\u001b[0m\n\u001b[0;32m     72\u001b[0m         \u001b[1;31m# Skip the first update if it is a recovery step.\u001b[0m\u001b[1;33m\u001b[0m\u001b[1;33m\u001b[0m\u001b[0m\n\u001b[0;32m     73\u001b[0m         \u001b[1;32mif\u001b[0m \u001b[0mversion\u001b[0m \u001b[1;33m%\u001b[0m \u001b[1;36m2\u001b[0m \u001b[1;33m==\u001b[0m \u001b[1;36m0\u001b[0m\u001b[1;33m:\u001b[0m\u001b[1;33m\u001b[0m\u001b[0m\n\u001b[1;32m---> 74\u001b[1;33m             \u001b[0mbst\u001b[0m\u001b[1;33m.\u001b[0m\u001b[0mupdate\u001b[0m\u001b[1;33m(\u001b[0m\u001b[0mdtrain\u001b[0m\u001b[1;33m,\u001b[0m \u001b[0mi\u001b[0m\u001b[1;33m,\u001b[0m \u001b[0mobj\u001b[0m\u001b[1;33m)\u001b[0m\u001b[1;33m\u001b[0m\u001b[0m\n\u001b[0m\u001b[0;32m     75\u001b[0m             \u001b[0mbst\u001b[0m\u001b[1;33m.\u001b[0m\u001b[0msave_rabit_checkpoint\u001b[0m\u001b[1;33m(\u001b[0m\u001b[1;33m)\u001b[0m\u001b[1;33m\u001b[0m\u001b[0m\n\u001b[0;32m     76\u001b[0m             \u001b[0mversion\u001b[0m \u001b[1;33m+=\u001b[0m \u001b[1;36m1\u001b[0m\u001b[1;33m\u001b[0m\u001b[0m\n",
      "\u001b[1;32mD:\\Continuum\\anaconda3\\lib\\site-packages\\xgboost\\core.py\u001b[0m in \u001b[0;36mupdate\u001b[1;34m(self, dtrain, iteration, fobj)\u001b[0m\n\u001b[0;32m    892\u001b[0m         \u001b[1;32mif\u001b[0m \u001b[0mfobj\u001b[0m \u001b[1;32mis\u001b[0m \u001b[1;32mNone\u001b[0m\u001b[1;33m:\u001b[0m\u001b[1;33m\u001b[0m\u001b[0m\n\u001b[0;32m    893\u001b[0m             _check_call(_LIB.XGBoosterUpdateOneIter(self.handle, ctypes.c_int(iteration),\n\u001b[1;32m--> 894\u001b[1;33m                                                     dtrain.handle))\n\u001b[0m\u001b[0;32m    895\u001b[0m         \u001b[1;32melse\u001b[0m\u001b[1;33m:\u001b[0m\u001b[1;33m\u001b[0m\u001b[0m\n\u001b[0;32m    896\u001b[0m             \u001b[0mpred\u001b[0m \u001b[1;33m=\u001b[0m \u001b[0mself\u001b[0m\u001b[1;33m.\u001b[0m\u001b[0mpredict\u001b[0m\u001b[1;33m(\u001b[0m\u001b[0mdtrain\u001b[0m\u001b[1;33m)\u001b[0m\u001b[1;33m\u001b[0m\u001b[0m\n",
      "\u001b[1;31mKeyboardInterrupt\u001b[0m: "
     ]
    }
   ],
   "source": [
    "from xgboost import XGBRegressor #Ezt külön fel kellett rakni\n",
    "from sklearn.svm import LinearSVR,SVR\n",
    "from sklearn.svm import SVR\n",
    "\n",
    "X_train = df[:TRAIN_SIZE] \\\n",
    "    .drop(TARGET_COLUMN,axis=1) \\\n",
    "    .dropna(axis=0)\n",
    "y_train = df[:TRAIN_SIZE].dropna(axis=0)[TARGET_COLUMN]\n",
    "    \n",
    "\n",
    "xgb_model = XGBRegressor(nthread=4)\n",
    "xgb_model.fit(X_train,y_train)\n",
    "\n",
    "# For SVR we need Feature Scaling\n",
    "from sklearn.preprocessing import StandardScaler\n",
    "sc_x = StandardScaler()\n",
    "# Scale x and y (two scale objects)\n",
    "x = sc_x.fit_transform(X_train)\n",
    "\n",
    "svr_model = SVR()\n",
    "svr_model.fit(x,y_train)\n",
    "\n",
    "lsvr_model = LinearSVR()\n",
    "lsvr_model.fit(x,y_train)"
   ]
  },
  {
   "cell_type": "code",
   "execution_count": null,
   "metadata": {},
   "outputs": [],
   "source": [
    "from sklearn.metrics import explained_variance_score\n",
    "\n",
    "X_test = df[TRAIN_SIZE:TRAIN_SIZE+PREDICT_INTERVAL].drop(TARGET_COLUMN,axis=1)\n",
    "\n",
    "print(\"XGBoost\")\n",
    "y_xgb = xgb_model.predict(X_test)\n",
    "y_xgb[y_xgb < 0] = 0\n",
    "print(explained_variance_score(y_xgb, y_test))\n",
    "\n",
    "# For SVR we need Feature Scaling\n",
    "from sklearn.preprocessing import StandardScaler\n",
    "sc_x = StandardScaler()\n",
    "sc_y = StandardScaler()\n",
    "# Scale x and y (two scale objects)\n",
    "x = sc_x.fit_transform(X_test)\n",
    "\n",
    "print(\"LinearSVR\")\n",
    "y_lsvr =lsvr_model.predict(x)\n",
    "y_lsvr[y_lsvr < 0] = 0\n",
    "print(explained_variance_score(y_lsvr,y_test))\n",
    "\n",
    "print(\"SVR\")\n",
    "y_svr = svr_model.predict(x)\n",
    "y_svr[y_svr < 0] = 0\n",
    "print(explained_variance_score(y_svr,y_test))"
   ]
  },
  {
   "cell_type": "code",
   "execution_count": null,
   "metadata": {},
   "outputs": [],
   "source": [
    "from bokeh.plotting import figure,show\n",
    "from bokeh.io import output_notebook\n",
    "\n",
    "y_true = y_test.values\n",
    "\n",
    "output_notebook()\n",
    "\n",
    "p = figure()\n",
    "p.circle(np.arange(PREDICT_INTERVAL), y_true, legend=\"real\")\n",
    "p.circle(np.arange(PREDICT_INTERVAL),y_xgb ,legend=\"XGBoost\", color=\"orange\")\n",
    "p.circle(np.arange(PREDICT_INTERVAL),y_svr ,legend=\"SVR\", color=\"green\")\n",
    "p.circle(np.arange(PREDICT_INTERVAL),y_lsvr ,legend=\"LinearSVR\", color=\"purple\")\n",
    "show(p)\n",
    "\n",
    "p = figure()\n",
    "p.line(np.arange(PREDICT_INTERVAL), y_true, legend=\"real\")\n",
    "p.line(np.arange(PREDICT_INTERVAL),y_xgb ,legend=\"XGBoost\", color=\"orange\")\n",
    "p.line(np.arange(PREDICT_INTERVAL),y_svr ,legend=\"SVR\", color=\"green\")\n",
    "p.line(np.arange(PREDICT_INTERVAL),y_lsvr ,legend=\"LinearSVR\", color=\"purple\")\n",
    "show(p)"
   ]
  },
  {
   "cell_type": "code",
   "execution_count": null,
   "metadata": {},
   "outputs": [],
   "source": [
    "# from bokeh.plotting import figure, output_notebook, show\n",
    "# output_notebook()\n",
    "# for column in df:\n",
    "#     print(column)\n",
    "#     p = figure(plot_width=400, plot_height=400)\n",
    "#     p.line(df.index[:24*5],df[column][:24*5])\n",
    "#     show(p)"
   ]
  },
  {
   "cell_type": "code",
   "execution_count": null,
   "metadata": {},
   "outputs": [],
   "source": [
    "# Feature nélküli modellen javított amint beraktam a hónap, óra változókat numerikusan\n",
    "# vajon mi lenne kategorikusan"
   ]
  },
  {
   "cell_type": "code",
   "execution_count": null,
   "metadata": {},
   "outputs": [],
   "source": [
    "#Jelentősen javított az akumlált értékek felhasználása"
   ]
  },
  {
   "cell_type": "code",
   "execution_count": null,
   "metadata": {},
   "outputs": [],
   "source": [
    "X_train.head()"
   ]
  },
  {
   "cell_type": "code",
   "execution_count": null,
   "metadata": {},
   "outputs": [],
   "source": []
  }
 ],
 "metadata": {
  "kernelspec": {
   "display_name": "Python 3",
   "language": "python",
   "name": "python3"
  },
  "language_info": {
   "codemirror_mode": {
    "name": "ipython",
    "version": 3
   },
   "file_extension": ".py",
   "mimetype": "text/x-python",
   "name": "python",
   "nbconvert_exporter": "python",
   "pygments_lexer": "ipython3",
   "version": "3.6.5"
  }
 },
 "nbformat": 4,
 "nbformat_minor": 2
}
