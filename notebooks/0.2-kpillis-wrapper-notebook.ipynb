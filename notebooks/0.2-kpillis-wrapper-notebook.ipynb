{
 "cells": [
  {
   "cell_type": "code",
   "execution_count": null,
   "metadata": {},
   "outputs": [],
   "source": [
    "import pandas as pd\n",
    "from src.data import ReadData,PrepareData\n",
    "from src.visualization import visualize\n",
    "from src.models import Models\n",
    "\n",
    "INDEX_COLUMN = 'TIMESTAMP'\n",
    "TARGET_COLUMN = 'POWER'\n",
    "ONE_DAY = 24\n",
    "ONE_WEEK = 7 * ONE_DAY\n",
    "ONE_MONTH = 30 * ONE_DAY\n",
    "ONE_YEAR = 365 * ONE_DAY\n",
    "\n",
    "df_power,df_features = ReadData.read()\n",
    "df_original = PrepareData.join(df_power,df_features)"
   ]
  },
  {
   "cell_type": "code",
   "execution_count": null,
   "metadata": {},
   "outputs": [],
   "source": [
    "column_mapping = {\"VAR78\":\"LIQUID_WATER\", \n",
    "                  \"VAR79\": \"ICE_WATER\",\n",
    "                  \"VAR134\":\"SURFACE_PRESSURE\",\n",
    "                  \"VAR157\":\"RELATIVE_HUMIDITY\",\n",
    "                  \"VAR164\":\"TOTAL_CLOUD_COVER\",\n",
    "                  \"VAR165\":\"WIND_U\",\n",
    "                  \"VAR166\":\"WIND_V\",\n",
    "                  \"VAR167\":\"TEMPERATURE\",\n",
    "                  \"VAR169\":\"SOLAR_RAD\",\n",
    "                  \"VAR175\":\"TERMAL_RAD\",\n",
    "                  \"VAR178\":\"TOP_NET_SOLAR_RAD\",\n",
    "                  \"VAR228\":\"TOTAL_PRECIPATION\"}\n",
    "\n",
    "df = df_original.copy()\n",
    "dfs = PrepareData.split_by_zone(df)\n",
    "for i in range(len(dfs)):\n",
    "    dfs[i] = PrepareData.set_timestamp_as_index(dfs[i])\n",
    "    dfs[i] = PrepareData.extract_data_from_timestamp(dfs[i])\n",
    "    dfs[i] = PrepareData.rename_columns(dfs[i], column_mapping)\n",
    "    \n",
    "df_all = pd.concat(dfs)"
   ]
  },
  {
   "cell_type": "code",
   "execution_count": null,
   "metadata": {},
   "outputs": [],
   "source": [
    "visualize.plot_boxwhiskers(df_all)"
   ]
  },
  {
   "cell_type": "code",
   "execution_count": null,
   "metadata": {},
   "outputs": [],
   "source": [
    "column_mapping = {\"ZONEID\": \"Zóna\", \"POWER\": \"Teljesítémény\", \"LIQUID_WATER\":\"Folyékony csapadék\", \"ICE_WATER\": \"Jeges csapadék\",  \"SURFACE_PRESSURE\":\"Felületi nyomás\",\"RELATIVE_HUMIDITY\":\"Relatív páratartalom\",\"TOTAL_CLOUD_COVER\":\"Teljes felhőtakaró\",\"WIND_U\":\"Szél(U)\",\"WIND_V\":\"Szél(V)\",\"TEMPERATURE\":\"Hőmérséklet\",\"SOLAR_RAD\":\"Napsugárzás\",\"VAR175\":\"Hősugárzás\",\"TOP_NET_SOLAR_RAD\":\"Napsugárzás atm. tetején\",\"TOTAL_PRECIPATION\":\"Össz. csapadék\",\"HOUR\":'Óra','MONTH':'Hónap','YEAR':'Év','DAY':'Nap'}\n",
    "visualize.plot_boxplots(dfs[0][[\"TOP_NET_SOLAR_RAD\",\"SOLAR_RAD\"]].rename(index=str,columns=column_mapping))"
   ]
  },
  {
   "cell_type": "code",
   "execution_count": null,
   "metadata": {},
   "outputs": [],
   "source": [
    "for i in range(len(dfs)):\n",
    "    dfs[i] = PrepareData.dissipate_features(dfs[i])\n",
    "    dfs[i] = PrepareData.transform_outliers(dfs[i])"
   ]
  },
  {
   "cell_type": "code",
   "execution_count": null,
   "metadata": {},
   "outputs": [],
   "source": [
    "column_mapping = {\"ZONEID\": \"Zóna\", \"POWER\": \"Teljesítémény\", \"LIQUID_WATER\":\"Folyékony csapadék\", \"ICE_WATER\": \"Jeges csapadék\",  \"SURFACE_PRESSURE\":\"Felületi nyomás\",\"RELATIVE_HUMIDITY\":\"Relatív páratartalom\",\"TOTAL_CLOUD_COVER\":\"Teljes felhőtakaró\",\"WIND_U\":\"Szél(U)\",\"WIND_V\":\"Szél(V)\",\"TEMPERATURE\":\"Hőmérséklet\",\"SOLAR_RAD\":\"Napsugárzás\",\"VAR175\":\"Hősugárzás\",\"TOP_NET_SOLAR_RAD\":\"Napsugárzás atm. tetején\",\"TOTAL_PRECIPATION\":\"Össz. csapadék\",\"HOUR\":'Óra','MONTH':'Hónap','YEAR':'Év','DAY':'Nap'}\n",
    "visualize.plot_boxplots(dfs[0][[\"TOP_NET_SOLAR_RAD\",\"SOLAR_RAD\"]].rename(index=str,columns=column_mapping))"
   ]
  },
  {
   "cell_type": "code",
   "execution_count": null,
   "metadata": {},
   "outputs": [],
   "source": [
    "for df in dfs:\n",
    "    visualize.plot_scatters(df,\"POWER\")"
   ]
  },
  {
   "cell_type": "code",
   "execution_count": null,
   "metadata": {},
   "outputs": [],
   "source": [
    "df = pd.concat(dfs)\n",
    "column_mapping = {\"ZONEID\": \"Zóna\", \"POWER\": \"Teljesítémény\", \"LIQUID_WATER\":\"Folyékony csapadék\", \"ICE_WATER\": \"Jeges csapadék\",  \"SURFACE_PRESSURE\":\"Felületi nyomás\",\"RELATIVE_HUMIDITY\":\"Relatív páratartalom\",\"TOTAL_CLOUD_COVER\":\"Teljes felhőtakaró\",\"WIND_U\":\"Szél(U)\",\"WIND_V\":\"Szél(V)\",\"TEMPERATURE\":\"Hőmérséklet\",\"SOLAR_RAD\":\"Napsugárzás\",\"VAR175\":\"Hősugárzás\",\"TOP_NET_SOLAR_RAD\":\"Napsugárzás atm. tetején\",\"TOTAL_PRECIPATION\":\"Össz. csapadék\",\"HOUR\":'Óra','MONTH':'Hónap','YEAR':'Év','DAY':'Nap'}\n",
    "df_to_plot = df[['POWER','TOP_NET_SOLAR_RAD','SOLAR_RAD','TEMPERATURE','RELATIVE_HUMIDITY','HOUR']].rename(index=str,columns=column_mapping)\n",
    "visualize.plot_heatmap(df_to_plot)"
   ]
  },
  {
   "cell_type": "code",
   "execution_count": null,
   "metadata": {},
   "outputs": [],
   "source": [
    "visualize.plot_lags_and_auto(df_to_plot)"
   ]
  },
  {
   "cell_type": "code",
   "execution_count": null,
   "metadata": {},
   "outputs": [],
   "source": [
    "visualize.plot_moving_average_heatmap(dfs[0][['POWER']])"
   ]
  },
  {
   "cell_type": "code",
   "execution_count": null,
   "metadata": {},
   "outputs": [],
   "source": [
    "Models.naive(dfs,ONE_MONTH)"
   ]
  },
  {
   "cell_type": "code",
   "execution_count": null,
   "metadata": {},
   "outputs": [],
   "source": [
    "Models.fft(dfs[0],ONE_MONTH,ONE_WEEK)"
   ]
  },
  {
   "cell_type": "code",
   "execution_count": null,
   "metadata": {},
   "outputs": [],
   "source": [
    "import numpy as np\n",
    "from sklearn.ensemble import AdaBoostRegressor,BaggingRegressor,RandomForestRegressor\n",
    "from sklearn.linear_model import LinearRegression,Lasso,ElasticNet,Ridge,SGDRegressor\n",
    "from xgboost import XGBRegressor\n",
    "names=[\"XGBoost\",\"RandomForestRegressor\",\"AdaBoostRegressor\", \"BaggingRegressor\"]\n",
    "models = [XGBRegressor(nthread=8),RandomForestRegressor(),AdaBoostRegressor(),BaggingRegressor()]\n",
    "windows = np.arange(1,7)\n",
    "\n",
    "print(\"One week\")\n",
    "\n",
    "print(\"\\nJust Power\")\n",
    "Models.do_all(dfs,[\"POWER\",\"HOUR\",\"ZONEID\"],models,names,['POWER'],windows,ONE_DAY,ONE_YEAR,ONE_WEEK,True)\n",
    "\n",
    "print(\"\\nJust Features\")\n",
    "Models.do_all(dfs,[\"POWER\",\"HOUR\",\"ZONEID\",'TOP_NET_SOLAR_RAD','SOLAR_RAD','TEMPERATURE','RELATIVE_HUMIDITY'],models,names,[TARGET_COLUMN],windows,ONE_DAY,ONE_YEAR,ONE_WEEK,False)\n",
    "\n",
    "print(\"\\nFeatures + Rolling\")\n",
    "Models.do_all(dfs,[\"POWER\",\"HOUR\",\"ZONEID\",'TOP_NET_SOLAR_RAD','SOLAR_RAD','TEMPERATURE','RELATIVE_HUMIDITY'],models,names,['POWER','TOP_NET_SOLAR_RAD','SOLAR_RAD'],windows,ONE_DAY,ONE_YEAR,ONE_WEEK,True)\n",
    "\n",
    "print(\"One month\")\n",
    "\n",
    "print(\"\\nJust Power\")\n",
    "Models.do_all(dfs,[\"POWER\",\"HOUR\",\"ZONEID\"],models,names,['POWER'],windows,ONE_DAY,ONE_YEAR,ONE_MONTH,True)\n",
    "\n",
    "print(\"\\nJust Features\")\n",
    "Models.do_all(dfs,[\"POWER\",\"HOUR\",\"ZONEID\",'TOP_NET_SOLAR_RAD','SOLAR_RAD','TEMPERATURE','RELATIVE_HUMIDITY'],models,names,[TARGET_COLUMN],windows,ONE_DAY,ONE_YEAR,ONE_MONTH,False)\n",
    "\n",
    "print(\"\\nFeatures + Rolling\")\n",
    "Models.do_all(dfs,[\"POWER\",\"HOUR\",\"ZONEID\",'TOP_NET_SOLAR_RAD','SOLAR_RAD','TEMPERATURE','RELATIVE_HUMIDITY'],models,names,['POWER','TOP_NET_SOLAR_RAD','SOLAR_RAD'],windows,ONE_DAY,ONE_YEAR,ONE_MONTH,True)\n",
    "\n",
    "print(\"One year\")\n",
    "\n",
    "print(\"\\nJust Power\")\n",
    "Models.do_all(dfs,[\"POWER\",\"HOUR\",\"ZONEID\"],models,names,['POWER'],windows,ONE_DAY,ONE_YEAR,ONE_YEAR,True,False)\n",
    "\n",
    "print(\"\\nJust Features\")\n",
    "Models.do_all(dfs,[\"POWER\",\"HOUR\",\"ZONEID\",'TOP_NET_SOLAR_RAD','SOLAR_RAD','TEMPERATURE','RELATIVE_HUMIDITY'],models,names,[TARGET_COLUMN],windows,ONE_DAY,ONE_YEAR,ONE_YEAR,False)\n",
    "\n",
    "print(\"\\nFeatures + Rolling\")\n",
    "Models.do_all(dfs,[\"POWER\",\"HOUR\",\"ZONEID\",'TOP_NET_SOLAR_RAD','SOLAR_RAD','TEMPERATURE','RELATIVE_HUMIDITY'],models,names,['POWER','TOP_NET_SOLAR_RAD','SOLAR_RAD'],windows,ONE_DAY,ONE_YEAR,ONE_YEAR,True)"
   ]
  }
 ],
 "metadata": {
  "kernelspec": {
   "display_name": "Python 3",
   "language": "python",
   "name": "python3"
  },
  "language_info": {
   "codemirror_mode": {
    "name": "ipython",
    "version": 3
   },
   "file_extension": ".py",
   "mimetype": "text/x-python",
   "name": "python",
   "nbconvert_exporter": "python",
   "pygments_lexer": "ipython3",
   "version": "3.6.5"
  }
 },
 "nbformat": 4,
 "nbformat_minor": 2
}
