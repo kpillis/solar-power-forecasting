{
 "cells": [
  {
   "cell_type": "code",
   "execution_count": 1,
   "metadata": {},
   "outputs": [],
   "source": [
    "from src.data import read_data,prepare_data\n",
    "from src.models import train_model,predict_model\n",
    "import pandas as pd\n",
    "pd.options.mode.chained_assignment = None"
   ]
  },
  {
   "cell_type": "code",
   "execution_count": 2,
   "metadata": {},
   "outputs": [],
   "source": [
    "PATH_TO_TRAIN = '../data/raw/train15.csv'\n",
    "PATH_TO_PREDICTORS = '../data/raw/predictors15.csv'\n",
    "\n",
    "ONE_DAY = 24\n",
    "ONE_WEEK = 7 * ONE_DAY\n",
    "ONE_MONTH = 30* ONE_DAY\n",
    "\n",
    "TRAIN_SIZE = 12 * ONE_MONTH\n",
    "number_of_tests = 7\n",
    "size_of_prediction = ONE_DAY\n",
    "TEST_SIZE = number_of_tests * size_of_prediction\n",
    "\n",
    "ROLLING_COLUMNS = ['POWER','VAR78', 'VAR79', 'VAR134', 'VAR157', 'VAR164', 'VAR165', 'VAR166', 'VAR167','VAR169', 'VAR175', 'VAR178', 'VAR228']\n",
    "ACCUMLATED_FEATURE_COLUMNS = ['VAR169', 'VAR175', 'VAR178', 'VAR228']\n",
    "\n",
    "df_original = read_data.read_data(PATH_TO_TRAIN,PATH_TO_PREDICTORS)\n",
    "\n",
    "df_cut = df_original[:TRAIN_SIZE + TEST_SIZE]\n",
    "\n",
    "intervals = []\n",
    "for i in range(1,31):\n",
    "    intervals.append(i*size_of_prediction)"
   ]
  },
  {
   "cell_type": "code",
   "execution_count": 3,
   "metadata": {},
   "outputs": [],
   "source": [
    "df = df_cut.copy()\n",
    "df = prepare_data.prepare(df, ONE_DAY,intervals)\n",
    "df = prepare_data.dissipate_features(df, ACCUMLATED_FEATURE_COLUMNS)\n",
    "#df = prepare_data.add_rolling(df,[\"POWER\"], intervals, ONE_DAY)\n",
    "#ROLLING_COLUMNS.remove(\"POWER\")\n",
    "df = prepare_data.add_rolling(df,ROLLING_COLUMNS, intervals, ONE_DAY)"
   ]
  },
  {
   "cell_type": "code",
   "execution_count": 4,
   "metadata": {},
   "outputs": [],
   "source": [
    "df_train = df[:TRAIN_SIZE].dropna(axis=0)\n",
    "X_train = df_train.drop(ROLLING_COLUMNS,axis=1)\n",
    "y_train = df_train.POWER\n",
    "boosted_model = train_model.train(X_train, y_train)"
   ]
  },
  {
   "cell_type": "code",
   "execution_count": 5,
   "metadata": {
    "scrolled": false
   },
   "outputs": [
    {
     "data": {
      "text/html": [
       "\n",
       "    <div class=\"bk-root\">\n",
       "        <a href=\"https://bokeh.pydata.org\" target=\"_blank\" class=\"bk-logo bk-logo-small bk-logo-notebook\"></a>\n",
       "        <span id=\"f071b03d-5c45-42ab-88f3-e235b53b94c2\">Loading BokehJS ...</span>\n",
       "    </div>"
      ]
     },
     "metadata": {},
     "output_type": "display_data"
    },
    {
     "data": {
      "application/javascript": [
       "\n",
       "(function(root) {\n",
       "  function now() {\n",
       "    return new Date();\n",
       "  }\n",
       "\n",
       "  var force = true;\n",
       "\n",
       "  if (typeof (root._bokeh_onload_callbacks) === \"undefined\" || force === true) {\n",
       "    root._bokeh_onload_callbacks = [];\n",
       "    root._bokeh_is_loading = undefined;\n",
       "  }\n",
       "\n",
       "  var JS_MIME_TYPE = 'application/javascript';\n",
       "  var HTML_MIME_TYPE = 'text/html';\n",
       "  var EXEC_MIME_TYPE = 'application/vnd.bokehjs_exec.v0+json';\n",
       "  var CLASS_NAME = 'output_bokeh rendered_html';\n",
       "\n",
       "  /**\n",
       "   * Render data to the DOM node\n",
       "   */\n",
       "  function render(props, node) {\n",
       "    var script = document.createElement(\"script\");\n",
       "    node.appendChild(script);\n",
       "  }\n",
       "\n",
       "  /**\n",
       "   * Handle when an output is cleared or removed\n",
       "   */\n",
       "  function handleClearOutput(event, handle) {\n",
       "    var cell = handle.cell;\n",
       "\n",
       "    var id = cell.output_area._bokeh_element_id;\n",
       "    var server_id = cell.output_area._bokeh_server_id;\n",
       "    // Clean up Bokeh references\n",
       "    if (id !== undefined) {\n",
       "      Bokeh.index[id].model.document.clear();\n",
       "      delete Bokeh.index[id];\n",
       "    }\n",
       "\n",
       "    if (server_id !== undefined) {\n",
       "      // Clean up Bokeh references\n",
       "      var cmd = \"from bokeh.io.state import curstate; print(curstate().uuid_to_server['\" + server_id + \"'].get_sessions()[0].document.roots[0]._id)\";\n",
       "      cell.notebook.kernel.execute(cmd, {\n",
       "        iopub: {\n",
       "          output: function(msg) {\n",
       "            var element_id = msg.content.text.trim();\n",
       "            Bokeh.index[element_id].model.document.clear();\n",
       "            delete Bokeh.index[element_id];\n",
       "          }\n",
       "        }\n",
       "      });\n",
       "      // Destroy server and session\n",
       "      var cmd = \"import bokeh.io.notebook as ion; ion.destroy_server('\" + server_id + \"')\";\n",
       "      cell.notebook.kernel.execute(cmd);\n",
       "    }\n",
       "  }\n",
       "\n",
       "  /**\n",
       "   * Handle when a new output is added\n",
       "   */\n",
       "  function handleAddOutput(event, handle) {\n",
       "    var output_area = handle.output_area;\n",
       "    var output = handle.output;\n",
       "\n",
       "    // limit handleAddOutput to display_data with EXEC_MIME_TYPE content only\n",
       "    if ((output.output_type != \"display_data\") || (!output.data.hasOwnProperty(EXEC_MIME_TYPE))) {\n",
       "      return\n",
       "    }\n",
       "\n",
       "    var toinsert = output_area.element.find(\".\" + CLASS_NAME.split(' ')[0]);\n",
       "\n",
       "    if (output.metadata[EXEC_MIME_TYPE][\"id\"] !== undefined) {\n",
       "      toinsert[toinsert.length - 1].firstChild.textContent = output.data[JS_MIME_TYPE];\n",
       "      // store reference to embed id on output_area\n",
       "      output_area._bokeh_element_id = output.metadata[EXEC_MIME_TYPE][\"id\"];\n",
       "    }\n",
       "    if (output.metadata[EXEC_MIME_TYPE][\"server_id\"] !== undefined) {\n",
       "      var bk_div = document.createElement(\"div\");\n",
       "      bk_div.innerHTML = output.data[HTML_MIME_TYPE];\n",
       "      var script_attrs = bk_div.children[0].attributes;\n",
       "      for (var i = 0; i < script_attrs.length; i++) {\n",
       "        toinsert[toinsert.length - 1].firstChild.setAttribute(script_attrs[i].name, script_attrs[i].value);\n",
       "      }\n",
       "      // store reference to server id on output_area\n",
       "      output_area._bokeh_server_id = output.metadata[EXEC_MIME_TYPE][\"server_id\"];\n",
       "    }\n",
       "  }\n",
       "\n",
       "  function register_renderer(events, OutputArea) {\n",
       "\n",
       "    function append_mime(data, metadata, element) {\n",
       "      // create a DOM node to render to\n",
       "      var toinsert = this.create_output_subarea(\n",
       "        metadata,\n",
       "        CLASS_NAME,\n",
       "        EXEC_MIME_TYPE\n",
       "      );\n",
       "      this.keyboard_manager.register_events(toinsert);\n",
       "      // Render to node\n",
       "      var props = {data: data, metadata: metadata[EXEC_MIME_TYPE]};\n",
       "      render(props, toinsert[toinsert.length - 1]);\n",
       "      element.append(toinsert);\n",
       "      return toinsert\n",
       "    }\n",
       "\n",
       "    /* Handle when an output is cleared or removed */\n",
       "    events.on('clear_output.CodeCell', handleClearOutput);\n",
       "    events.on('delete.Cell', handleClearOutput);\n",
       "\n",
       "    /* Handle when a new output is added */\n",
       "    events.on('output_added.OutputArea', handleAddOutput);\n",
       "\n",
       "    /**\n",
       "     * Register the mime type and append_mime function with output_area\n",
       "     */\n",
       "    OutputArea.prototype.register_mime_type(EXEC_MIME_TYPE, append_mime, {\n",
       "      /* Is output safe? */\n",
       "      safe: true,\n",
       "      /* Index of renderer in `output_area.display_order` */\n",
       "      index: 0\n",
       "    });\n",
       "  }\n",
       "\n",
       "  // register the mime type if in Jupyter Notebook environment and previously unregistered\n",
       "  if (root.Jupyter !== undefined) {\n",
       "    var events = require('base/js/events');\n",
       "    var OutputArea = require('notebook/js/outputarea').OutputArea;\n",
       "\n",
       "    if (OutputArea.prototype.mime_types().indexOf(EXEC_MIME_TYPE) == -1) {\n",
       "      register_renderer(events, OutputArea);\n",
       "    }\n",
       "  }\n",
       "\n",
       "  \n",
       "  if (typeof (root._bokeh_timeout) === \"undefined\" || force === true) {\n",
       "    root._bokeh_timeout = Date.now() + 5000;\n",
       "    root._bokeh_failed_load = false;\n",
       "  }\n",
       "\n",
       "  var NB_LOAD_WARNING = {'data': {'text/html':\n",
       "     \"<div style='background-color: #fdd'>\\n\"+\n",
       "     \"<p>\\n\"+\n",
       "     \"BokehJS does not appear to have successfully loaded. If loading BokehJS from CDN, this \\n\"+\n",
       "     \"may be due to a slow or bad network connection. Possible fixes:\\n\"+\n",
       "     \"</p>\\n\"+\n",
       "     \"<ul>\\n\"+\n",
       "     \"<li>re-rerun `output_notebook()` to attempt to load from CDN again, or</li>\\n\"+\n",
       "     \"<li>use INLINE resources instead, as so:</li>\\n\"+\n",
       "     \"</ul>\\n\"+\n",
       "     \"<code>\\n\"+\n",
       "     \"from bokeh.resources import INLINE\\n\"+\n",
       "     \"output_notebook(resources=INLINE)\\n\"+\n",
       "     \"</code>\\n\"+\n",
       "     \"</div>\"}};\n",
       "\n",
       "  function display_loaded() {\n",
       "    var el = document.getElementById(\"f071b03d-5c45-42ab-88f3-e235b53b94c2\");\n",
       "    if (el != null) {\n",
       "      el.textContent = \"BokehJS is loading...\";\n",
       "    }\n",
       "    if (root.Bokeh !== undefined) {\n",
       "      if (el != null) {\n",
       "        el.textContent = \"BokehJS \" + root.Bokeh.version + \" successfully loaded.\";\n",
       "      }\n",
       "    } else if (Date.now() < root._bokeh_timeout) {\n",
       "      setTimeout(display_loaded, 100)\n",
       "    }\n",
       "  }\n",
       "\n",
       "\n",
       "  function run_callbacks() {\n",
       "    try {\n",
       "      root._bokeh_onload_callbacks.forEach(function(callback) { callback() });\n",
       "    }\n",
       "    finally {\n",
       "      delete root._bokeh_onload_callbacks\n",
       "    }\n",
       "    console.info(\"Bokeh: all callbacks have finished\");\n",
       "  }\n",
       "\n",
       "  function load_libs(js_urls, callback) {\n",
       "    root._bokeh_onload_callbacks.push(callback);\n",
       "    if (root._bokeh_is_loading > 0) {\n",
       "      console.log(\"Bokeh: BokehJS is being loaded, scheduling callback at\", now());\n",
       "      return null;\n",
       "    }\n",
       "    if (js_urls == null || js_urls.length === 0) {\n",
       "      run_callbacks();\n",
       "      return null;\n",
       "    }\n",
       "    console.log(\"Bokeh: BokehJS not loaded, scheduling load and callback at\", now());\n",
       "    root._bokeh_is_loading = js_urls.length;\n",
       "    for (var i = 0; i < js_urls.length; i++) {\n",
       "      var url = js_urls[i];\n",
       "      var s = document.createElement('script');\n",
       "      s.src = url;\n",
       "      s.async = false;\n",
       "      s.onreadystatechange = s.onload = function() {\n",
       "        root._bokeh_is_loading--;\n",
       "        if (root._bokeh_is_loading === 0) {\n",
       "          console.log(\"Bokeh: all BokehJS libraries loaded\");\n",
       "          run_callbacks()\n",
       "        }\n",
       "      };\n",
       "      s.onerror = function() {\n",
       "        console.warn(\"failed to load library \" + url);\n",
       "      };\n",
       "      console.log(\"Bokeh: injecting script tag for BokehJS library: \", url);\n",
       "      document.getElementsByTagName(\"head\")[0].appendChild(s);\n",
       "    }\n",
       "  };var element = document.getElementById(\"f071b03d-5c45-42ab-88f3-e235b53b94c2\");\n",
       "  if (element == null) {\n",
       "    console.log(\"Bokeh: ERROR: autoload.js configured with elementid 'f071b03d-5c45-42ab-88f3-e235b53b94c2' but no matching script tag was found. \")\n",
       "    return false;\n",
       "  }\n",
       "\n",
       "  var js_urls = [\"https://cdn.pydata.org/bokeh/release/bokeh-0.12.16.min.js\", \"https://cdn.pydata.org/bokeh/release/bokeh-widgets-0.12.16.min.js\", \"https://cdn.pydata.org/bokeh/release/bokeh-tables-0.12.16.min.js\", \"https://cdn.pydata.org/bokeh/release/bokeh-gl-0.12.16.min.js\"];\n",
       "\n",
       "  var inline_js = [\n",
       "    function(Bokeh) {\n",
       "      Bokeh.set_log_level(\"info\");\n",
       "    },\n",
       "    \n",
       "    function(Bokeh) {\n",
       "      \n",
       "    },\n",
       "    function(Bokeh) {\n",
       "      console.log(\"Bokeh: injecting CSS: https://cdn.pydata.org/bokeh/release/bokeh-0.12.16.min.css\");\n",
       "      Bokeh.embed.inject_css(\"https://cdn.pydata.org/bokeh/release/bokeh-0.12.16.min.css\");\n",
       "      console.log(\"Bokeh: injecting CSS: https://cdn.pydata.org/bokeh/release/bokeh-widgets-0.12.16.min.css\");\n",
       "      Bokeh.embed.inject_css(\"https://cdn.pydata.org/bokeh/release/bokeh-widgets-0.12.16.min.css\");\n",
       "      console.log(\"Bokeh: injecting CSS: https://cdn.pydata.org/bokeh/release/bokeh-tables-0.12.16.min.css\");\n",
       "      Bokeh.embed.inject_css(\"https://cdn.pydata.org/bokeh/release/bokeh-tables-0.12.16.min.css\");\n",
       "    }\n",
       "  ];\n",
       "\n",
       "  function run_inline_js() {\n",
       "    \n",
       "    if ((root.Bokeh !== undefined) || (force === true)) {\n",
       "      for (var i = 0; i < inline_js.length; i++) {\n",
       "        inline_js[i].call(root, root.Bokeh);\n",
       "      }if (force === true) {\n",
       "        display_loaded();\n",
       "      }} else if (Date.now() < root._bokeh_timeout) {\n",
       "      setTimeout(run_inline_js, 100);\n",
       "    } else if (!root._bokeh_failed_load) {\n",
       "      console.log(\"Bokeh: BokehJS failed to load within specified timeout.\");\n",
       "      root._bokeh_failed_load = true;\n",
       "    } else if (force !== true) {\n",
       "      var cell = $(document.getElementById(\"f071b03d-5c45-42ab-88f3-e235b53b94c2\")).parents('.cell').data().cell;\n",
       "      cell.output_area.append_execute_result(NB_LOAD_WARNING)\n",
       "    }\n",
       "\n",
       "  }\n",
       "\n",
       "  if (root._bokeh_is_loading === 0) {\n",
       "    console.log(\"Bokeh: BokehJS loaded, going straight to plotting\");\n",
       "    run_inline_js();\n",
       "  } else {\n",
       "    load_libs(js_urls, function() {\n",
       "      console.log(\"Bokeh: BokehJS plotting callback run at\", now());\n",
       "      run_inline_js();\n",
       "    });\n",
       "  }\n",
       "}(window));"
      ],
      "application/vnd.bokehjs_load.v0+json": "\n(function(root) {\n  function now() {\n    return new Date();\n  }\n\n  var force = true;\n\n  if (typeof (root._bokeh_onload_callbacks) === \"undefined\" || force === true) {\n    root._bokeh_onload_callbacks = [];\n    root._bokeh_is_loading = undefined;\n  }\n\n  \n\n  \n  if (typeof (root._bokeh_timeout) === \"undefined\" || force === true) {\n    root._bokeh_timeout = Date.now() + 5000;\n    root._bokeh_failed_load = false;\n  }\n\n  var NB_LOAD_WARNING = {'data': {'text/html':\n     \"<div style='background-color: #fdd'>\\n\"+\n     \"<p>\\n\"+\n     \"BokehJS does not appear to have successfully loaded. If loading BokehJS from CDN, this \\n\"+\n     \"may be due to a slow or bad network connection. Possible fixes:\\n\"+\n     \"</p>\\n\"+\n     \"<ul>\\n\"+\n     \"<li>re-rerun `output_notebook()` to attempt to load from CDN again, or</li>\\n\"+\n     \"<li>use INLINE resources instead, as so:</li>\\n\"+\n     \"</ul>\\n\"+\n     \"<code>\\n\"+\n     \"from bokeh.resources import INLINE\\n\"+\n     \"output_notebook(resources=INLINE)\\n\"+\n     \"</code>\\n\"+\n     \"</div>\"}};\n\n  function display_loaded() {\n    var el = document.getElementById(\"f071b03d-5c45-42ab-88f3-e235b53b94c2\");\n    if (el != null) {\n      el.textContent = \"BokehJS is loading...\";\n    }\n    if (root.Bokeh !== undefined) {\n      if (el != null) {\n        el.textContent = \"BokehJS \" + root.Bokeh.version + \" successfully loaded.\";\n      }\n    } else if (Date.now() < root._bokeh_timeout) {\n      setTimeout(display_loaded, 100)\n    }\n  }\n\n\n  function run_callbacks() {\n    try {\n      root._bokeh_onload_callbacks.forEach(function(callback) { callback() });\n    }\n    finally {\n      delete root._bokeh_onload_callbacks\n    }\n    console.info(\"Bokeh: all callbacks have finished\");\n  }\n\n  function load_libs(js_urls, callback) {\n    root._bokeh_onload_callbacks.push(callback);\n    if (root._bokeh_is_loading > 0) {\n      console.log(\"Bokeh: BokehJS is being loaded, scheduling callback at\", now());\n      return null;\n    }\n    if (js_urls == null || js_urls.length === 0) {\n      run_callbacks();\n      return null;\n    }\n    console.log(\"Bokeh: BokehJS not loaded, scheduling load and callback at\", now());\n    root._bokeh_is_loading = js_urls.length;\n    for (var i = 0; i < js_urls.length; i++) {\n      var url = js_urls[i];\n      var s = document.createElement('script');\n      s.src = url;\n      s.async = false;\n      s.onreadystatechange = s.onload = function() {\n        root._bokeh_is_loading--;\n        if (root._bokeh_is_loading === 0) {\n          console.log(\"Bokeh: all BokehJS libraries loaded\");\n          run_callbacks()\n        }\n      };\n      s.onerror = function() {\n        console.warn(\"failed to load library \" + url);\n      };\n      console.log(\"Bokeh: injecting script tag for BokehJS library: \", url);\n      document.getElementsByTagName(\"head\")[0].appendChild(s);\n    }\n  };var element = document.getElementById(\"f071b03d-5c45-42ab-88f3-e235b53b94c2\");\n  if (element == null) {\n    console.log(\"Bokeh: ERROR: autoload.js configured with elementid 'f071b03d-5c45-42ab-88f3-e235b53b94c2' but no matching script tag was found. \")\n    return false;\n  }\n\n  var js_urls = [\"https://cdn.pydata.org/bokeh/release/bokeh-0.12.16.min.js\", \"https://cdn.pydata.org/bokeh/release/bokeh-widgets-0.12.16.min.js\", \"https://cdn.pydata.org/bokeh/release/bokeh-tables-0.12.16.min.js\", \"https://cdn.pydata.org/bokeh/release/bokeh-gl-0.12.16.min.js\"];\n\n  var inline_js = [\n    function(Bokeh) {\n      Bokeh.set_log_level(\"info\");\n    },\n    \n    function(Bokeh) {\n      \n    },\n    function(Bokeh) {\n      console.log(\"Bokeh: injecting CSS: https://cdn.pydata.org/bokeh/release/bokeh-0.12.16.min.css\");\n      Bokeh.embed.inject_css(\"https://cdn.pydata.org/bokeh/release/bokeh-0.12.16.min.css\");\n      console.log(\"Bokeh: injecting CSS: https://cdn.pydata.org/bokeh/release/bokeh-widgets-0.12.16.min.css\");\n      Bokeh.embed.inject_css(\"https://cdn.pydata.org/bokeh/release/bokeh-widgets-0.12.16.min.css\");\n      console.log(\"Bokeh: injecting CSS: https://cdn.pydata.org/bokeh/release/bokeh-tables-0.12.16.min.css\");\n      Bokeh.embed.inject_css(\"https://cdn.pydata.org/bokeh/release/bokeh-tables-0.12.16.min.css\");\n    }\n  ];\n\n  function run_inline_js() {\n    \n    if ((root.Bokeh !== undefined) || (force === true)) {\n      for (var i = 0; i < inline_js.length; i++) {\n        inline_js[i].call(root, root.Bokeh);\n      }if (force === true) {\n        display_loaded();\n      }} else if (Date.now() < root._bokeh_timeout) {\n      setTimeout(run_inline_js, 100);\n    } else if (!root._bokeh_failed_load) {\n      console.log(\"Bokeh: BokehJS failed to load within specified timeout.\");\n      root._bokeh_failed_load = true;\n    } else if (force !== true) {\n      var cell = $(document.getElementById(\"f071b03d-5c45-42ab-88f3-e235b53b94c2\")).parents('.cell').data().cell;\n      cell.output_area.append_execute_result(NB_LOAD_WARNING)\n    }\n\n  }\n\n  if (root._bokeh_is_loading === 0) {\n    console.log(\"Bokeh: BokehJS loaded, going straight to plotting\");\n    run_inline_js();\n  } else {\n    load_libs(js_urls, function() {\n      console.log(\"Bokeh: BokehJS plotting callback run at\", now());\n      run_inline_js();\n    });\n  }\n}(window));"
     },
     "metadata": {},
     "output_type": "display_data"
    },
    {
     "data": {
      "text/html": [
       "\n",
       "<div class=\"bk-root\">\n",
       "    <div class=\"bk-plotdiv\" id=\"4eae8c2e-b9f2-4d40-a0bd-49e91549bc6f\"></div>\n",
       "</div>"
      ]
     },
     "metadata": {},
     "output_type": "display_data"
    },
    {
     "data": {
      "application/javascript": [
       "(function(root) {\n",
       "  function embed_document(root) {\n",
       "    \n",
       "  var docs_json = {\"074e77de-592f-468d-9c72-b0931b0ea5fc\":{\"roots\":{\"references\":[{\"attributes\":{\"label\":{\"value\":\"predicted_xgb\"},\"renderers\":[{\"id\":\"0f2f5610-eb77-4154-89f5-deb292d3349e\",\"type\":\"GlyphRenderer\"}]},\"id\":\"ed0844a6-cb8d-49bb-a7c2-fa654549acc3\",\"type\":\"LegendItem\"},{\"attributes\":{\"callback\":null,\"data\":{\"x\":{\"__ndarray__\":\"AAAAAAEAAAACAAAAAwAAAAQAAAAFAAAABgAAAAcAAAAIAAAACQAAAAoAAAALAAAADAAAAA0AAAAOAAAADwAAABAAAAARAAAAEgAAABMAAAAUAAAAFQAAABYAAAAXAAAA\",\"dtype\":\"int32\",\"shape\":[24]},\"y\":{\"__ndarray__\":\"4IwlP+CMJT8BISA/XOQIP1A5xT78GlM+4N2PPTBzmzyAprw7gFQZO4BUGTuAMlg7gDJYO+BwBzxANdc7QDXXO0A11ztANdc7QDXXO0A11zvoVV892KJlPlC3wD6vLxk/\",\"dtype\":\"float32\",\"shape\":[24]}},\"selected\":{\"id\":\"78c4819f-120c-4cad-8401-c6403939ba34\",\"type\":\"Selection\"},\"selection_policy\":{\"id\":\"10beec29-c27d-48ba-ba06-d6118e9168b1\",\"type\":\"UnionRenderers\"}},\"id\":\"61b5673e-09dc-4661-8da9-496695510e38\",\"type\":\"ColumnDataSource\"},{\"attributes\":{},\"id\":\"78c4819f-120c-4cad-8401-c6403939ba34\",\"type\":\"Selection\"},{\"attributes\":{\"source\":{\"id\":\"61b5673e-09dc-4661-8da9-496695510e38\",\"type\":\"ColumnDataSource\"}},\"id\":\"f5537a11-1f7f-4d61-96e7-98bcf68fa34a\",\"type\":\"CDSView\"},{\"attributes\":{\"line_alpha\":0.1,\"line_color\":\"#1f77b4\",\"x\":{\"field\":\"x\"},\"y\":{\"field\":\"y\"}},\"id\":\"2dc24094-e950-4df4-b4a4-8c1ad0d119be\",\"type\":\"Line\"},{\"attributes\":{},\"id\":\"5f62a8d5-956f-40fc-9787-dd082417f8d2\",\"type\":\"UnionRenderers\"},{\"attributes\":{},\"id\":\"10beec29-c27d-48ba-ba06-d6118e9168b1\",\"type\":\"UnionRenderers\"},{\"attributes\":{},\"id\":\"5ed9f052-4aca-4f3a-90e4-1ca3d9c1c62f\",\"type\":\"Selection\"},{\"attributes\":{},\"id\":\"3630f1eb-7a9d-44dd-81c0-478547413aa6\",\"type\":\"HelpTool\"},{\"attributes\":{\"line_color\":\"#1f77b4\",\"x\":{\"field\":\"x\"},\"y\":{\"field\":\"y\"}},\"id\":\"49785e6d-d1f5-4627-afd9-2271b66f5e47\",\"type\":\"Line\"},{\"attributes\":{},\"id\":\"19947f65-879b-4ac2-bc9e-427b2ab561cf\",\"type\":\"ResetTool\"},{\"attributes\":{},\"id\":\"ed521e14-8c23-4acb-a8d9-49ae21540402\",\"type\":\"SaveTool\"},{\"attributes\":{\"line_alpha\":0.1,\"line_color\":\"#1f77b4\",\"x\":{\"field\":\"x\"},\"y\":{\"field\":\"y\"}},\"id\":\"ffc09e16-f458-4076-aa99-cc507604a3ff\",\"type\":\"Line\"},{\"attributes\":{\"overlay\":{\"id\":\"21f2796e-44a8-41ee-860e-2753e6eb17e9\",\"type\":\"BoxAnnotation\"}},\"id\":\"e11202a3-bc35-499c-bd99-cc03865efcf5\",\"type\":\"BoxZoomTool\"},{\"attributes\":{},\"id\":\"c734ab5f-adca-44b1-82c2-c367232cce26\",\"type\":\"WheelZoomTool\"},{\"attributes\":{},\"id\":\"83fe36fe-03e0-4d9b-bea9-e5bef089c036\",\"type\":\"PanTool\"},{\"attributes\":{\"callback\":null,\"data\":{\"x\":{\"__ndarray__\":\"AAAAAAEAAAACAAAAAwAAAAQAAAAFAAAABgAAAAcAAAAIAAAACQAAAAoAAAALAAAADAAAAA0AAAAOAAAADwAAABAAAAARAAAAEgAAABMAAAAUAAAAFQAAABYAAAAXAAAA\",\"dtype\":\"int32\",\"shape\":[24]},\"y\":{\"__ndarray__\":\"DyZhEiZh5j+LaTLAnGXpPwVpkAZpkOY/wxR/JHvl4j/IP2OaDDDbPyYtbFxgn88/dZFK3Pewsj8Ng2Nr6cmRPx5QARVQATU/AAAAAAAAAAAAAAAAAAAAAAAAAAAAAAAAAAAAAAAAAAAAAAAAAAAAAAAAAAAAAAAAAAAAAAAAAAAAAAAAAAAAAAAAAAAAAAAAAAAAAAAAAAAAAAAAAAAAAJ2pZjdDAJE/Iu035bkEyj8sxNtV9w7dP5lgcGwtPdU/\",\"dtype\":\"float64\",\"shape\":[24]}},\"selected\":{\"id\":\"5ed9f052-4aca-4f3a-90e4-1ca3d9c1c62f\",\"type\":\"Selection\"},\"selection_policy\":{\"id\":\"5f62a8d5-956f-40fc-9787-dd082417f8d2\",\"type\":\"UnionRenderers\"}},\"id\":\"00d75391-bb75-42b8-8f53-63a7785f479a\",\"type\":\"ColumnDataSource\"},{\"attributes\":{\"source\":{\"id\":\"00d75391-bb75-42b8-8f53-63a7785f479a\",\"type\":\"ColumnDataSource\"}},\"id\":\"0f7d95d6-cf4e-4f29-b8c4-a4b9aeea90f5\",\"type\":\"CDSView\"},{\"attributes\":{},\"id\":\"dc0c7ed8-c353-472e-b693-b01c3876ae5f\",\"type\":\"BasicTickFormatter\"},{\"attributes\":{\"bottom_units\":\"screen\",\"fill_alpha\":{\"value\":0.5},\"fill_color\":{\"value\":\"lightgrey\"},\"left_units\":\"screen\",\"level\":\"overlay\",\"line_alpha\":{\"value\":1.0},\"line_color\":{\"value\":\"black\"},\"line_dash\":[4,4],\"line_width\":{\"value\":2},\"plot\":null,\"render_mode\":\"css\",\"right_units\":\"screen\",\"top_units\":\"screen\"},\"id\":\"21f2796e-44a8-41ee-860e-2753e6eb17e9\",\"type\":\"BoxAnnotation\"},{\"attributes\":{\"data_source\":{\"id\":\"00d75391-bb75-42b8-8f53-63a7785f479a\",\"type\":\"ColumnDataSource\"},\"glyph\":{\"id\":\"49785e6d-d1f5-4627-afd9-2271b66f5e47\",\"type\":\"Line\"},\"hover_glyph\":null,\"muted_glyph\":null,\"nonselection_glyph\":{\"id\":\"ffc09e16-f458-4076-aa99-cc507604a3ff\",\"type\":\"Line\"},\"selection_glyph\":null,\"view\":{\"id\":\"0f7d95d6-cf4e-4f29-b8c4-a4b9aeea90f5\",\"type\":\"CDSView\"}},\"id\":\"7c99d0e1-386c-43ff-9805-ffd6a08dd662\",\"type\":\"GlyphRenderer\"},{\"attributes\":{\"dimension\":1,\"plot\":{\"id\":\"349551ee-a2b3-4768-9853-21f74bd5e092\",\"subtype\":\"Figure\",\"type\":\"Plot\"},\"ticker\":{\"id\":\"13fa92d9-6ab1-4c17-bac9-ff32755e6bb5\",\"type\":\"BasicTicker\"}},\"id\":\"688ca427-73a4-450a-9884-ab85f00982b3\",\"type\":\"Grid\"},{\"attributes\":{},\"id\":\"13fa92d9-6ab1-4c17-bac9-ff32755e6bb5\",\"type\":\"BasicTicker\"},{\"attributes\":{\"formatter\":{\"id\":\"35a80f63-8b57-49b0-86a5-583ed7272b72\",\"type\":\"BasicTickFormatter\"},\"plot\":{\"id\":\"349551ee-a2b3-4768-9853-21f74bd5e092\",\"subtype\":\"Figure\",\"type\":\"Plot\"},\"ticker\":{\"id\":\"13fa92d9-6ab1-4c17-bac9-ff32755e6bb5\",\"type\":\"BasicTicker\"}},\"id\":\"4cab8c59-4ff2-4dd9-9eb7-3690ef9d82d2\",\"type\":\"LinearAxis\"},{\"attributes\":{\"plot\":{\"id\":\"349551ee-a2b3-4768-9853-21f74bd5e092\",\"subtype\":\"Figure\",\"type\":\"Plot\"},\"ticker\":{\"id\":\"7e09eafe-c231-45c6-a59b-534c591255f6\",\"type\":\"BasicTicker\"}},\"id\":\"5b36f4d1-b36c-43c1-b28d-3885dc111907\",\"type\":\"Grid\"},{\"attributes\":{},\"id\":\"7e09eafe-c231-45c6-a59b-534c591255f6\",\"type\":\"BasicTicker\"},{\"attributes\":{\"formatter\":{\"id\":\"dc0c7ed8-c353-472e-b693-b01c3876ae5f\",\"type\":\"BasicTickFormatter\"},\"plot\":{\"id\":\"349551ee-a2b3-4768-9853-21f74bd5e092\",\"subtype\":\"Figure\",\"type\":\"Plot\"},\"ticker\":{\"id\":\"7e09eafe-c231-45c6-a59b-534c591255f6\",\"type\":\"BasicTicker\"}},\"id\":\"75be634d-4166-48e3-b1a8-7addead01d7b\",\"type\":\"LinearAxis\"},{\"attributes\":{},\"id\":\"dc194111-b167-49f8-af5c-c7252c7b4e33\",\"type\":\"LinearScale\"},{\"attributes\":{\"active_drag\":\"auto\",\"active_inspect\":\"auto\",\"active_scroll\":\"auto\",\"active_tap\":\"auto\",\"tools\":[{\"id\":\"83fe36fe-03e0-4d9b-bea9-e5bef089c036\",\"type\":\"PanTool\"},{\"id\":\"c734ab5f-adca-44b1-82c2-c367232cce26\",\"type\":\"WheelZoomTool\"},{\"id\":\"e11202a3-bc35-499c-bd99-cc03865efcf5\",\"type\":\"BoxZoomTool\"},{\"id\":\"ed521e14-8c23-4acb-a8d9-49ae21540402\",\"type\":\"SaveTool\"},{\"id\":\"19947f65-879b-4ac2-bc9e-427b2ab561cf\",\"type\":\"ResetTool\"},{\"id\":\"3630f1eb-7a9d-44dd-81c0-478547413aa6\",\"type\":\"HelpTool\"}]},\"id\":\"533fbe4a-a76a-41a5-b423-7d5656bc59ea\",\"type\":\"Toolbar\"},{\"attributes\":{\"callback\":null},\"id\":\"b5863894-1a6a-4b4a-9c1f-6a0f6feb079b\",\"type\":\"DataRange1d\"},{\"attributes\":{},\"id\":\"098d6dbd-93bf-4ddd-9a4b-dd11a6fd2852\",\"type\":\"LinearScale\"},{\"attributes\":{\"items\":[{\"id\":\"13564f0c-1744-44a7-b823-3b381beed979\",\"type\":\"LegendItem\"},{\"id\":\"ed0844a6-cb8d-49bb-a7c2-fa654549acc3\",\"type\":\"LegendItem\"}],\"plot\":{\"id\":\"349551ee-a2b3-4768-9853-21f74bd5e092\",\"subtype\":\"Figure\",\"type\":\"Plot\"}},\"id\":\"3ac5ad72-4f80-4e5b-8336-e8f9ed5284b6\",\"type\":\"Legend\"},{\"attributes\":{\"callback\":null},\"id\":\"f732a77d-6549-41d6-98cc-508ec0b5d0af\",\"type\":\"DataRange1d\"},{\"attributes\":{\"line_color\":\"orange\",\"x\":{\"field\":\"x\"},\"y\":{\"field\":\"y\"}},\"id\":\"5ce1a282-9107-4843-a9d6-4643a52c2a16\",\"type\":\"Line\"},{\"attributes\":{\"plot\":null,\"text\":\"\"},\"id\":\"7022fa74-80b1-413d-a8ce-680b183ca372\",\"type\":\"Title\"},{\"attributes\":{},\"id\":\"35a80f63-8b57-49b0-86a5-583ed7272b72\",\"type\":\"BasicTickFormatter\"},{\"attributes\":{\"below\":[{\"id\":\"75be634d-4166-48e3-b1a8-7addead01d7b\",\"type\":\"LinearAxis\"}],\"left\":[{\"id\":\"4cab8c59-4ff2-4dd9-9eb7-3690ef9d82d2\",\"type\":\"LinearAxis\"}],\"renderers\":[{\"id\":\"75be634d-4166-48e3-b1a8-7addead01d7b\",\"type\":\"LinearAxis\"},{\"id\":\"5b36f4d1-b36c-43c1-b28d-3885dc111907\",\"type\":\"Grid\"},{\"id\":\"4cab8c59-4ff2-4dd9-9eb7-3690ef9d82d2\",\"type\":\"LinearAxis\"},{\"id\":\"688ca427-73a4-450a-9884-ab85f00982b3\",\"type\":\"Grid\"},{\"id\":\"21f2796e-44a8-41ee-860e-2753e6eb17e9\",\"type\":\"BoxAnnotation\"},{\"id\":\"3ac5ad72-4f80-4e5b-8336-e8f9ed5284b6\",\"type\":\"Legend\"},{\"id\":\"7c99d0e1-386c-43ff-9805-ffd6a08dd662\",\"type\":\"GlyphRenderer\"},{\"id\":\"0f2f5610-eb77-4154-89f5-deb292d3349e\",\"type\":\"GlyphRenderer\"}],\"title\":{\"id\":\"7022fa74-80b1-413d-a8ce-680b183ca372\",\"type\":\"Title\"},\"toolbar\":{\"id\":\"533fbe4a-a76a-41a5-b423-7d5656bc59ea\",\"type\":\"Toolbar\"},\"x_range\":{\"id\":\"f732a77d-6549-41d6-98cc-508ec0b5d0af\",\"type\":\"DataRange1d\"},\"x_scale\":{\"id\":\"098d6dbd-93bf-4ddd-9a4b-dd11a6fd2852\",\"type\":\"LinearScale\"},\"y_range\":{\"id\":\"b5863894-1a6a-4b4a-9c1f-6a0f6feb079b\",\"type\":\"DataRange1d\"},\"y_scale\":{\"id\":\"dc194111-b167-49f8-af5c-c7252c7b4e33\",\"type\":\"LinearScale\"}},\"id\":\"349551ee-a2b3-4768-9853-21f74bd5e092\",\"subtype\":\"Figure\",\"type\":\"Plot\"},{\"attributes\":{\"label\":{\"value\":\"real\"},\"renderers\":[{\"id\":\"7c99d0e1-386c-43ff-9805-ffd6a08dd662\",\"type\":\"GlyphRenderer\"}]},\"id\":\"13564f0c-1744-44a7-b823-3b381beed979\",\"type\":\"LegendItem\"},{\"attributes\":{\"data_source\":{\"id\":\"61b5673e-09dc-4661-8da9-496695510e38\",\"type\":\"ColumnDataSource\"},\"glyph\":{\"id\":\"5ce1a282-9107-4843-a9d6-4643a52c2a16\",\"type\":\"Line\"},\"hover_glyph\":null,\"muted_glyph\":null,\"nonselection_glyph\":{\"id\":\"2dc24094-e950-4df4-b4a4-8c1ad0d119be\",\"type\":\"Line\"},\"selection_glyph\":null,\"view\":{\"id\":\"f5537a11-1f7f-4d61-96e7-98bcf68fa34a\",\"type\":\"CDSView\"}},\"id\":\"0f2f5610-eb77-4154-89f5-deb292d3349e\",\"type\":\"GlyphRenderer\"}],\"root_ids\":[\"349551ee-a2b3-4768-9853-21f74bd5e092\"]},\"title\":\"Bokeh Application\",\"version\":\"0.12.16\"}};\n",
       "  var render_items = [{\"docid\":\"074e77de-592f-468d-9c72-b0931b0ea5fc\",\"elementid\":\"4eae8c2e-b9f2-4d40-a0bd-49e91549bc6f\",\"modelid\":\"349551ee-a2b3-4768-9853-21f74bd5e092\"}];\n",
       "  root.Bokeh.embed.embed_items_notebook(docs_json, render_items);\n",
       "\n",
       "  }\n",
       "  if (root.Bokeh !== undefined) {\n",
       "    embed_document(root);\n",
       "  } else {\n",
       "    var attempts = 0;\n",
       "    var timer = setInterval(function(root) {\n",
       "      if (root.Bokeh !== undefined) {\n",
       "        embed_document(root);\n",
       "        clearInterval(timer);\n",
       "      }\n",
       "      attempts++;\n",
       "      if (attempts > 100) {\n",
       "        console.log(\"Bokeh: ERROR: Unable to run BokehJS code because BokehJS library is missing\")\n",
       "        clearInterval(timer);\n",
       "      }\n",
       "    }, 10, root)\n",
       "  }\n",
       "})(window);"
      ],
      "application/vnd.bokehjs_exec.v0+json": ""
     },
     "metadata": {
      "application/vnd.bokehjs_exec.v0+json": {
       "id": "349551ee-a2b3-4768-9853-21f74bd5e092"
      }
     },
     "output_type": "display_data"
    },
    {
     "name": "stdout",
     "output_type": "stream",
     "text": [
      "0.9193161794316866\n"
     ]
    },
    {
     "data": {
      "text/html": [
       "\n",
       "<div class=\"bk-root\">\n",
       "    <div class=\"bk-plotdiv\" id=\"77783968-ce70-4d34-8b4c-7500212e1c60\"></div>\n",
       "</div>"
      ]
     },
     "metadata": {},
     "output_type": "display_data"
    },
    {
     "data": {
      "application/javascript": [
       "(function(root) {\n",
       "  function embed_document(root) {\n",
       "    \n",
       "  var docs_json = {\"35a79317-d58a-4a2e-a191-afa6d7613a35\":{\"roots\":{\"references\":[{\"attributes\":{},\"id\":\"999b531c-231f-4667-9a9d-e8afd1dfd6eb\",\"type\":\"UnionRenderers\"},{\"attributes\":{},\"id\":\"ff86e782-f0db-4893-b58c-bdaedfcc9fc0\",\"type\":\"UnionRenderers\"},{\"attributes\":{\"line_alpha\":0.1,\"line_color\":\"#1f77b4\",\"x\":{\"field\":\"x\"},\"y\":{\"field\":\"y\"}},\"id\":\"40c10587-622f-4300-bc75-05d5a512b295\",\"type\":\"Line\"},{\"attributes\":{\"source\":{\"id\":\"49eb0283-cb9a-487f-b450-faa44fd90dcd\",\"type\":\"ColumnDataSource\"}},\"id\":\"ea15b450-9f03-468b-a3a0-15de4fe64f0c\",\"type\":\"CDSView\"},{\"attributes\":{\"line_color\":\"#1f77b4\",\"x\":{\"field\":\"x\"},\"y\":{\"field\":\"y\"}},\"id\":\"43464aa0-ad9d-4506-b5c1-4ea8dd611312\",\"type\":\"Line\"},{\"attributes\":{},\"id\":\"6380cb7c-fae5-4eba-bb6a-5ea246365578\",\"type\":\"Selection\"},{\"attributes\":{\"label\":{\"value\":\"predicted_xgb\"},\"renderers\":[{\"id\":\"b0eec93b-aaa3-4eb8-993e-e6a2ad1f2207\",\"type\":\"GlyphRenderer\"}]},\"id\":\"fda0b49d-1f4f-4382-b552-fbedfd752586\",\"type\":\"LegendItem\"},{\"attributes\":{},\"id\":\"5b50c6a6-0caa-4449-98d4-7d489217efff\",\"type\":\"BasicTickFormatter\"},{\"attributes\":{\"callback\":null},\"id\":\"f31cbfa1-49c9-4c8f-a468-671f791b3a62\",\"type\":\"DataRange1d\"},{\"attributes\":{},\"id\":\"4211a949-4f8a-46ae-acea-9af7a96b0d78\",\"type\":\"HelpTool\"},{\"attributes\":{\"active_drag\":\"auto\",\"active_inspect\":\"auto\",\"active_scroll\":\"auto\",\"active_tap\":\"auto\",\"tools\":[{\"id\":\"8a71a283-038a-4b9d-918a-cd603051fd9a\",\"type\":\"PanTool\"},{\"id\":\"c80de7b5-fb79-43d9-9a93-d8f01964988e\",\"type\":\"WheelZoomTool\"},{\"id\":\"54d4a676-cf17-4f90-a5c3-a05db7bee6cb\",\"type\":\"BoxZoomTool\"},{\"id\":\"f5cf4d0b-777a-45c6-939d-58b35911a0ac\",\"type\":\"SaveTool\"},{\"id\":\"9c07efdd-97d3-4232-ba82-903b0f9c7a13\",\"type\":\"ResetTool\"},{\"id\":\"4211a949-4f8a-46ae-acea-9af7a96b0d78\",\"type\":\"HelpTool\"}]},\"id\":\"82fd8d58-3b50-4277-83e4-7b046b0f6e24\",\"type\":\"Toolbar\"},{\"attributes\":{\"plot\":null,\"text\":\"\"},\"id\":\"a02accf9-6b5f-47ee-b1c9-4187cd65f446\",\"type\":\"Title\"},{\"attributes\":{\"callback\":null,\"data\":{\"x\":{\"__ndarray__\":\"AAAAAAEAAAACAAAAAwAAAAQAAAAFAAAABgAAAAcAAAAIAAAACQAAAAoAAAALAAAADAAAAA0AAAAOAAAADwAAABAAAAARAAAAEgAAABMAAAAUAAAAFQAAABYAAAAXAAAA\",\"dtype\":\"int32\",\"shape\":[24]},\"y\":{\"__ndarray__\":\"fXYqP312Kj+eCiU/YCQHP+q2sz54fD0+wCF1PWDfRjyAjUk7gI1JOwDyrjtA8+s7QPPrO0Dz6ztA8+s7QPPrO0Dz6ztA8+s7QEmoPEBJqDxIQoM9poqIPgP81j70ggw/\",\"dtype\":\"float32\",\"shape\":[24]}},\"selected\":{\"id\":\"c34dd1b6-5e57-4ebd-b7e6-77493d583479\",\"type\":\"Selection\"},\"selection_policy\":{\"id\":\"999b531c-231f-4667-9a9d-e8afd1dfd6eb\",\"type\":\"UnionRenderers\"}},\"id\":\"49eb0283-cb9a-487f-b450-faa44fd90dcd\",\"type\":\"ColumnDataSource\"},{\"attributes\":{\"overlay\":{\"id\":\"d593473a-c85f-4111-9655-2f77b6a4fc52\",\"type\":\"BoxAnnotation\"}},\"id\":\"54d4a676-cf17-4f90-a5c3-a05db7bee6cb\",\"type\":\"BoxZoomTool\"},{\"attributes\":{},\"id\":\"c34dd1b6-5e57-4ebd-b7e6-77493d583479\",\"type\":\"Selection\"},{\"attributes\":{\"data_source\":{\"id\":\"fb769b99-2694-402e-ab0d-f23f8b50dbaa\",\"type\":\"ColumnDataSource\"},\"glyph\":{\"id\":\"43464aa0-ad9d-4506-b5c1-4ea8dd611312\",\"type\":\"Line\"},\"hover_glyph\":null,\"muted_glyph\":null,\"nonselection_glyph\":{\"id\":\"63d3dbb1-0fd2-454c-b682-a2ee10d41acf\",\"type\":\"Line\"},\"selection_glyph\":null,\"view\":{\"id\":\"36d55ffd-bab4-4434-b174-46b5149fa76f\",\"type\":\"CDSView\"}},\"id\":\"79edfc75-f3c4-4058-86b2-e9c64f1906b2\",\"type\":\"GlyphRenderer\"},{\"attributes\":{\"label\":{\"value\":\"real\"},\"renderers\":[{\"id\":\"79edfc75-f3c4-4058-86b2-e9c64f1906b2\",\"type\":\"GlyphRenderer\"}]},\"id\":\"b6799aea-0a37-4e99-91c0-c884a41c8c13\",\"type\":\"LegendItem\"},{\"attributes\":{\"items\":[{\"id\":\"b6799aea-0a37-4e99-91c0-c884a41c8c13\",\"type\":\"LegendItem\"},{\"id\":\"fda0b49d-1f4f-4382-b552-fbedfd752586\",\"type\":\"LegendItem\"}],\"plot\":{\"id\":\"947e497d-2da4-4018-bc01-747ef2d385c9\",\"subtype\":\"Figure\",\"type\":\"Plot\"}},\"id\":\"f90ac9c7-d73b-4b63-9164-ee69f329931c\",\"type\":\"Legend\"},{\"attributes\":{},\"id\":\"f5cf4d0b-777a-45c6-939d-58b35911a0ac\",\"type\":\"SaveTool\"},{\"attributes\":{},\"id\":\"9c07efdd-97d3-4232-ba82-903b0f9c7a13\",\"type\":\"ResetTool\"},{\"attributes\":{\"source\":{\"id\":\"fb769b99-2694-402e-ab0d-f23f8b50dbaa\",\"type\":\"ColumnDataSource\"}},\"id\":\"36d55ffd-bab4-4434-b174-46b5149fa76f\",\"type\":\"CDSView\"},{\"attributes\":{\"callback\":null},\"id\":\"c74a0812-775d-4dfb-bab7-f65282ab2075\",\"type\":\"DataRange1d\"},{\"attributes\":{},\"id\":\"c80de7b5-fb79-43d9-9a93-d8f01964988e\",\"type\":\"WheelZoomTool\"},{\"attributes\":{\"callback\":null,\"data\":{\"x\":{\"__ndarray__\":\"AAAAAAEAAAACAAAAAwAAAAQAAAAFAAAABgAAAAcAAAAIAAAACQAAAAoAAAALAAAADAAAAA0AAAAOAAAADwAAABAAAAARAAAAEgAAABMAAAAUAAAAFQAAABYAAAAXAAAA\",\"dtype\":\"int32\",\"shape\":[24]},\"y\":{\"__ndarray__\":\"P0iDNEiD3D8jDdIgDdLYPz80d6aa3dg/2o9kr1wxzD9T/JHslSu2PwrXo3A9Cqc/zMGCko5Pnz9VsleuGL6UP9osm3/GNCk/AAAAAAAAAAAAAAAAAAAAAAAAAAAAAAAAAAAAAAAAAAAAAAAAAAAAAAAAAAAAAAAAAAAAAAAAAAAAAAAAAAAAAAAAAAAAAAAAAAAAAAAAAAAAAAAAAAAAAMogDdIgDZI/X+iFXuiF0j8cRvtNeS7lP75tQo06D+o/\",\"dtype\":\"float64\",\"shape\":[24]}},\"selected\":{\"id\":\"6380cb7c-fae5-4eba-bb6a-5ea246365578\",\"type\":\"Selection\"},\"selection_policy\":{\"id\":\"ff86e782-f0db-4893-b58c-bdaedfcc9fc0\",\"type\":\"UnionRenderers\"}},\"id\":\"fb769b99-2694-402e-ab0d-f23f8b50dbaa\",\"type\":\"ColumnDataSource\"},{\"attributes\":{\"bottom_units\":\"screen\",\"fill_alpha\":{\"value\":0.5},\"fill_color\":{\"value\":\"lightgrey\"},\"left_units\":\"screen\",\"level\":\"overlay\",\"line_alpha\":{\"value\":1.0},\"line_color\":{\"value\":\"black\"},\"line_dash\":[4,4],\"line_width\":{\"value\":2},\"plot\":null,\"render_mode\":\"css\",\"right_units\":\"screen\",\"top_units\":\"screen\"},\"id\":\"d593473a-c85f-4111-9655-2f77b6a4fc52\",\"type\":\"BoxAnnotation\"},{\"attributes\":{},\"id\":\"8a71a283-038a-4b9d-918a-cd603051fd9a\",\"type\":\"PanTool\"},{\"attributes\":{\"line_alpha\":0.1,\"line_color\":\"#1f77b4\",\"x\":{\"field\":\"x\"},\"y\":{\"field\":\"y\"}},\"id\":\"63d3dbb1-0fd2-454c-b682-a2ee10d41acf\",\"type\":\"Line\"},{\"attributes\":{\"data_source\":{\"id\":\"49eb0283-cb9a-487f-b450-faa44fd90dcd\",\"type\":\"ColumnDataSource\"},\"glyph\":{\"id\":\"894f69fa-47a6-4505-9b22-afb7b7192aa9\",\"type\":\"Line\"},\"hover_glyph\":null,\"muted_glyph\":null,\"nonselection_glyph\":{\"id\":\"40c10587-622f-4300-bc75-05d5a512b295\",\"type\":\"Line\"},\"selection_glyph\":null,\"view\":{\"id\":\"ea15b450-9f03-468b-a3a0-15de4fe64f0c\",\"type\":\"CDSView\"}},\"id\":\"b0eec93b-aaa3-4eb8-993e-e6a2ad1f2207\",\"type\":\"GlyphRenderer\"},{\"attributes\":{},\"id\":\"4449128c-8f25-4c79-afb1-5f1910f4acb5\",\"type\":\"BasicTickFormatter\"},{\"attributes\":{},\"id\":\"71c30495-6202-48a6-9a62-36d865d49c5f\",\"type\":\"LinearScale\"},{\"attributes\":{\"line_color\":\"orange\",\"x\":{\"field\":\"x\"},\"y\":{\"field\":\"y\"}},\"id\":\"894f69fa-47a6-4505-9b22-afb7b7192aa9\",\"type\":\"Line\"},{\"attributes\":{\"plot\":{\"id\":\"947e497d-2da4-4018-bc01-747ef2d385c9\",\"subtype\":\"Figure\",\"type\":\"Plot\"},\"ticker\":{\"id\":\"2d7d197e-7799-4242-9fbf-27c269f61a7a\",\"type\":\"BasicTicker\"}},\"id\":\"161f3f99-a8e0-4a93-adde-0513dd1fc087\",\"type\":\"Grid\"},{\"attributes\":{},\"id\":\"343626ac-d0db-403e-b5a3-563b7dd6c18a\",\"type\":\"LinearScale\"},{\"attributes\":{\"formatter\":{\"id\":\"4449128c-8f25-4c79-afb1-5f1910f4acb5\",\"type\":\"BasicTickFormatter\"},\"plot\":{\"id\":\"947e497d-2da4-4018-bc01-747ef2d385c9\",\"subtype\":\"Figure\",\"type\":\"Plot\"},\"ticker\":{\"id\":\"2d7d197e-7799-4242-9fbf-27c269f61a7a\",\"type\":\"BasicTicker\"}},\"id\":\"460f488e-a450-46d4-9ac7-93d0e01c3a59\",\"type\":\"LinearAxis\"},{\"attributes\":{},\"id\":\"7cd79442-2748-440a-8477-affbb87c9d39\",\"type\":\"BasicTicker\"},{\"attributes\":{},\"id\":\"2d7d197e-7799-4242-9fbf-27c269f61a7a\",\"type\":\"BasicTicker\"},{\"attributes\":{\"formatter\":{\"id\":\"5b50c6a6-0caa-4449-98d4-7d489217efff\",\"type\":\"BasicTickFormatter\"},\"plot\":{\"id\":\"947e497d-2da4-4018-bc01-747ef2d385c9\",\"subtype\":\"Figure\",\"type\":\"Plot\"},\"ticker\":{\"id\":\"7cd79442-2748-440a-8477-affbb87c9d39\",\"type\":\"BasicTicker\"}},\"id\":\"2f33cdb7-e499-49d1-81d3-22818915c952\",\"type\":\"LinearAxis\"},{\"attributes\":{\"below\":[{\"id\":\"460f488e-a450-46d4-9ac7-93d0e01c3a59\",\"type\":\"LinearAxis\"}],\"left\":[{\"id\":\"2f33cdb7-e499-49d1-81d3-22818915c952\",\"type\":\"LinearAxis\"}],\"renderers\":[{\"id\":\"460f488e-a450-46d4-9ac7-93d0e01c3a59\",\"type\":\"LinearAxis\"},{\"id\":\"161f3f99-a8e0-4a93-adde-0513dd1fc087\",\"type\":\"Grid\"},{\"id\":\"2f33cdb7-e499-49d1-81d3-22818915c952\",\"type\":\"LinearAxis\"},{\"id\":\"26be4728-227e-407b-a131-3ab8742caef8\",\"type\":\"Grid\"},{\"id\":\"d593473a-c85f-4111-9655-2f77b6a4fc52\",\"type\":\"BoxAnnotation\"},{\"id\":\"f90ac9c7-d73b-4b63-9164-ee69f329931c\",\"type\":\"Legend\"},{\"id\":\"79edfc75-f3c4-4058-86b2-e9c64f1906b2\",\"type\":\"GlyphRenderer\"},{\"id\":\"b0eec93b-aaa3-4eb8-993e-e6a2ad1f2207\",\"type\":\"GlyphRenderer\"}],\"title\":{\"id\":\"a02accf9-6b5f-47ee-b1c9-4187cd65f446\",\"type\":\"Title\"},\"toolbar\":{\"id\":\"82fd8d58-3b50-4277-83e4-7b046b0f6e24\",\"type\":\"Toolbar\"},\"x_range\":{\"id\":\"f31cbfa1-49c9-4c8f-a468-671f791b3a62\",\"type\":\"DataRange1d\"},\"x_scale\":{\"id\":\"343626ac-d0db-403e-b5a3-563b7dd6c18a\",\"type\":\"LinearScale\"},\"y_range\":{\"id\":\"c74a0812-775d-4dfb-bab7-f65282ab2075\",\"type\":\"DataRange1d\"},\"y_scale\":{\"id\":\"71c30495-6202-48a6-9a62-36d865d49c5f\",\"type\":\"LinearScale\"}},\"id\":\"947e497d-2da4-4018-bc01-747ef2d385c9\",\"subtype\":\"Figure\",\"type\":\"Plot\"},{\"attributes\":{\"dimension\":1,\"plot\":{\"id\":\"947e497d-2da4-4018-bc01-747ef2d385c9\",\"subtype\":\"Figure\",\"type\":\"Plot\"},\"ticker\":{\"id\":\"7cd79442-2748-440a-8477-affbb87c9d39\",\"type\":\"BasicTicker\"}},\"id\":\"26be4728-227e-407b-a131-3ab8742caef8\",\"type\":\"Grid\"}],\"root_ids\":[\"947e497d-2da4-4018-bc01-747ef2d385c9\"]},\"title\":\"Bokeh Application\",\"version\":\"0.12.16\"}};\n",
       "  var render_items = [{\"docid\":\"35a79317-d58a-4a2e-a191-afa6d7613a35\",\"elementid\":\"77783968-ce70-4d34-8b4c-7500212e1c60\",\"modelid\":\"947e497d-2da4-4018-bc01-747ef2d385c9\"}];\n",
       "  root.Bokeh.embed.embed_items_notebook(docs_json, render_items);\n",
       "\n",
       "  }\n",
       "  if (root.Bokeh !== undefined) {\n",
       "    embed_document(root);\n",
       "  } else {\n",
       "    var attempts = 0;\n",
       "    var timer = setInterval(function(root) {\n",
       "      if (root.Bokeh !== undefined) {\n",
       "        embed_document(root);\n",
       "        clearInterval(timer);\n",
       "      }\n",
       "      attempts++;\n",
       "      if (attempts > 100) {\n",
       "        console.log(\"Bokeh: ERROR: Unable to run BokehJS code because BokehJS library is missing\")\n",
       "        clearInterval(timer);\n",
       "      }\n",
       "    }, 10, root)\n",
       "  }\n",
       "})(window);"
      ],
      "application/vnd.bokehjs_exec.v0+json": ""
     },
     "metadata": {
      "application/vnd.bokehjs_exec.v0+json": {
       "id": "947e497d-2da4-4018-bc01-747ef2d385c9"
      }
     },
     "output_type": "display_data"
    },
    {
     "name": "stdout",
     "output_type": "stream",
     "text": [
      "0.6831098527765695\n"
     ]
    },
    {
     "data": {
      "text/html": [
       "\n",
       "<div class=\"bk-root\">\n",
       "    <div class=\"bk-plotdiv\" id=\"5d9f7f45-b809-4691-be62-e31164fa488b\"></div>\n",
       "</div>"
      ]
     },
     "metadata": {},
     "output_type": "display_data"
    },
    {
     "data": {
      "application/javascript": [
       "(function(root) {\n",
       "  function embed_document(root) {\n",
       "    \n",
       "  var docs_json = {\"f4d6b71f-cd76-4702-b859-ca26eaa71d27\":{\"roots\":{\"references\":[{\"attributes\":{\"label\":{\"value\":\"real\"},\"renderers\":[{\"id\":\"06c1a605-0a1d-489f-a507-f66bd17cd75e\",\"type\":\"GlyphRenderer\"}]},\"id\":\"5b7d642c-e821-49d4-8f58-61681001594b\",\"type\":\"LegendItem\"},{\"attributes\":{\"plot\":null,\"text\":\"\"},\"id\":\"0522a2f3-5db9-483a-bb48-943200bfddf4\",\"type\":\"Title\"},{\"attributes\":{\"label\":{\"value\":\"predicted_xgb\"},\"renderers\":[{\"id\":\"78e9b71d-b383-498a-96cd-65a16e6ecc99\",\"type\":\"GlyphRenderer\"}]},\"id\":\"36d05388-07ae-4f28-abb9-1cf1c343e366\",\"type\":\"LegendItem\"},{\"attributes\":{\"line_color\":\"orange\",\"x\":{\"field\":\"x\"},\"y\":{\"field\":\"y\"}},\"id\":\"06dd9292-0a1a-48a8-aeed-e0c16b13d119\",\"type\":\"Line\"},{\"attributes\":{\"data_source\":{\"id\":\"9bb5da2a-c4f2-4525-85b3-da74baf74304\",\"type\":\"ColumnDataSource\"},\"glyph\":{\"id\":\"06dd9292-0a1a-48a8-aeed-e0c16b13d119\",\"type\":\"Line\"},\"hover_glyph\":null,\"muted_glyph\":null,\"nonselection_glyph\":{\"id\":\"8b0fb73c-1814-4127-a8c5-c19cbf6c9d7d\",\"type\":\"Line\"},\"selection_glyph\":null,\"view\":{\"id\":\"bbe87464-a8d0-48ef-9858-683c1665d02f\",\"type\":\"CDSView\"}},\"id\":\"78e9b71d-b383-498a-96cd-65a16e6ecc99\",\"type\":\"GlyphRenderer\"},{\"attributes\":{},\"id\":\"cda73a94-6cc8-4500-bd9f-baad45ef03e3\",\"type\":\"SaveTool\"},{\"attributes\":{},\"id\":\"51f1b9cd-6dac-49b3-b36a-9cf07c048bf1\",\"type\":\"UnionRenderers\"},{\"attributes\":{\"dimension\":1,\"plot\":{\"id\":\"a532a613-4110-41cd-ad4e-904e48a14c52\",\"subtype\":\"Figure\",\"type\":\"Plot\"},\"ticker\":{\"id\":\"dc089dda-74a0-43be-b622-43257cf86c94\",\"type\":\"BasicTicker\"}},\"id\":\"54bf8807-0922-42c6-a079-6c6619a42bb8\",\"type\":\"Grid\"},{\"attributes\":{\"below\":[{\"id\":\"1835c694-20fc-41d3-9d3c-492760ce1845\",\"type\":\"LinearAxis\"}],\"left\":[{\"id\":\"ede37409-164c-402a-979d-a5a9c6df3765\",\"type\":\"LinearAxis\"}],\"renderers\":[{\"id\":\"1835c694-20fc-41d3-9d3c-492760ce1845\",\"type\":\"LinearAxis\"},{\"id\":\"30cf033a-2c52-43a9-bfb7-8a0d03bee891\",\"type\":\"Grid\"},{\"id\":\"ede37409-164c-402a-979d-a5a9c6df3765\",\"type\":\"LinearAxis\"},{\"id\":\"54bf8807-0922-42c6-a079-6c6619a42bb8\",\"type\":\"Grid\"},{\"id\":\"6bf8997e-43db-46ca-8d10-a1035a6d0960\",\"type\":\"BoxAnnotation\"},{\"id\":\"913c58d9-31b2-48dd-9b32-5a781ec01606\",\"type\":\"Legend\"},{\"id\":\"06c1a605-0a1d-489f-a507-f66bd17cd75e\",\"type\":\"GlyphRenderer\"},{\"id\":\"78e9b71d-b383-498a-96cd-65a16e6ecc99\",\"type\":\"GlyphRenderer\"}],\"title\":{\"id\":\"0522a2f3-5db9-483a-bb48-943200bfddf4\",\"type\":\"Title\"},\"toolbar\":{\"id\":\"4534089d-7961-48c0-84b7-0072db59f64b\",\"type\":\"Toolbar\"},\"x_range\":{\"id\":\"148926e1-0ce5-4e12-8646-60c40bb8bae0\",\"type\":\"DataRange1d\"},\"x_scale\":{\"id\":\"abf463b4-dcf6-4c4f-a3fb-0a8c7727d70c\",\"type\":\"LinearScale\"},\"y_range\":{\"id\":\"e359b14f-66da-410f-b914-ebf80ffeec29\",\"type\":\"DataRange1d\"},\"y_scale\":{\"id\":\"d308026b-e002-425f-a0b0-fea970e9cb6a\",\"type\":\"LinearScale\"}},\"id\":\"a532a613-4110-41cd-ad4e-904e48a14c52\",\"subtype\":\"Figure\",\"type\":\"Plot\"},{\"attributes\":{\"line_alpha\":0.1,\"line_color\":\"#1f77b4\",\"x\":{\"field\":\"x\"},\"y\":{\"field\":\"y\"}},\"id\":\"8b0fb73c-1814-4127-a8c5-c19cbf6c9d7d\",\"type\":\"Line\"},{\"attributes\":{\"items\":[{\"id\":\"5b7d642c-e821-49d4-8f58-61681001594b\",\"type\":\"LegendItem\"},{\"id\":\"36d05388-07ae-4f28-abb9-1cf1c343e366\",\"type\":\"LegendItem\"}],\"plot\":{\"id\":\"a532a613-4110-41cd-ad4e-904e48a14c52\",\"subtype\":\"Figure\",\"type\":\"Plot\"}},\"id\":\"913c58d9-31b2-48dd-9b32-5a781ec01606\",\"type\":\"Legend\"},{\"attributes\":{\"plot\":{\"id\":\"a532a613-4110-41cd-ad4e-904e48a14c52\",\"subtype\":\"Figure\",\"type\":\"Plot\"},\"ticker\":{\"id\":\"831836ef-d776-4371-ace0-b987a44ea604\",\"type\":\"BasicTicker\"}},\"id\":\"30cf033a-2c52-43a9-bfb7-8a0d03bee891\",\"type\":\"Grid\"},{\"attributes\":{},\"id\":\"4abf38a1-8bc4-4080-9185-7882c00ecec4\",\"type\":\"BasicTickFormatter\"},{\"attributes\":{\"source\":{\"id\":\"eaf51ff1-78ab-4439-ad73-4003079a73fe\",\"type\":\"ColumnDataSource\"}},\"id\":\"94c126fd-bc11-45a5-92ac-6332d6fff998\",\"type\":\"CDSView\"},{\"attributes\":{},\"id\":\"d308026b-e002-425f-a0b0-fea970e9cb6a\",\"type\":\"LinearScale\"},{\"attributes\":{},\"id\":\"b629a114-bcd6-4b96-a484-4aeef3f5df0f\",\"type\":\"WheelZoomTool\"},{\"attributes\":{\"overlay\":{\"id\":\"6bf8997e-43db-46ca-8d10-a1035a6d0960\",\"type\":\"BoxAnnotation\"}},\"id\":\"51ea5816-0029-4cec-9109-69a18a1ee3f6\",\"type\":\"BoxZoomTool\"},{\"attributes\":{\"bottom_units\":\"screen\",\"fill_alpha\":{\"value\":0.5},\"fill_color\":{\"value\":\"lightgrey\"},\"left_units\":\"screen\",\"level\":\"overlay\",\"line_alpha\":{\"value\":1.0},\"line_color\":{\"value\":\"black\"},\"line_dash\":[4,4],\"line_width\":{\"value\":2},\"plot\":null,\"render_mode\":\"css\",\"right_units\":\"screen\",\"top_units\":\"screen\"},\"id\":\"6bf8997e-43db-46ca-8d10-a1035a6d0960\",\"type\":\"BoxAnnotation\"},{\"attributes\":{},\"id\":\"d2dd8f76-b0e1-400b-bb89-0ddbd290233d\",\"type\":\"PanTool\"},{\"attributes\":{},\"id\":\"dc089dda-74a0-43be-b622-43257cf86c94\",\"type\":\"BasicTicker\"},{\"attributes\":{\"line_alpha\":0.1,\"line_color\":\"#1f77b4\",\"x\":{\"field\":\"x\"},\"y\":{\"field\":\"y\"}},\"id\":\"f17da3be-6739-464f-ba0c-a7a4cbb6e88a\",\"type\":\"Line\"},{\"attributes\":{},\"id\":\"278e1b18-7a64-46ab-8c11-b83c02d00008\",\"type\":\"ResetTool\"},{\"attributes\":{},\"id\":\"3e4f9d81-9945-4b11-982c-20053c952b36\",\"type\":\"BasicTickFormatter\"},{\"attributes\":{},\"id\":\"cc6f20b7-a11b-45e5-b1ca-63f44517966e\",\"type\":\"Selection\"},{\"attributes\":{},\"id\":\"34270566-c776-4073-ad7e-4936fa278afb\",\"type\":\"HelpTool\"},{\"attributes\":{\"callback\":null},\"id\":\"e359b14f-66da-410f-b914-ebf80ffeec29\",\"type\":\"DataRange1d\"},{\"attributes\":{\"callback\":null,\"data\":{\"x\":{\"__ndarray__\":\"AAAAAAEAAAACAAAAAwAAAAQAAAAFAAAABgAAAAcAAAAIAAAACQAAAAoAAAALAAAADAAAAA0AAAAOAAAADwAAABAAAAARAAAAEgAAABMAAAAUAAAAFQAAABYAAAAXAAAA\",\"dtype\":\"int32\",\"shape\":[24]},\"y\":{\"__ndarray__\":\"rUxk3n+X6z9XJjLvv8vqP5IGaZAGaeg/gsY0GWDO5D+f49PXFgffP3XP9mzP9tA/qzcU3WpHsD+r9OToJxiMP+0sm3/GNDk/AAAAAAAAAAAAAAAAAAAAAAAAAAAAAAAAAAAAAAAAAAAAAAAAAAAAAAAAAAAAAAAAAAAAAAAAAAAAAAAAAAAAAAAAAAAAAAAAAAAAAAAAAABEc2eq2c0QPw2DY2vpyZE/vD4fJ6WF0T+wdgThqTfkP5qzbP4Z0+g/\",\"dtype\":\"float64\",\"shape\":[24]}},\"selected\":{\"id\":\"eadada5a-869e-4ddc-9988-f82be7017f2e\",\"type\":\"Selection\"},\"selection_policy\":{\"id\":\"7cfaadda-d5f7-4dca-82a8-c25a45f454df\",\"type\":\"UnionRenderers\"}},\"id\":\"eaf51ff1-78ab-4439-ad73-4003079a73fe\",\"type\":\"ColumnDataSource\"},{\"attributes\":{\"source\":{\"id\":\"9bb5da2a-c4f2-4525-85b3-da74baf74304\",\"type\":\"ColumnDataSource\"}},\"id\":\"bbe87464-a8d0-48ef-9858-683c1665d02f\",\"type\":\"CDSView\"},{\"attributes\":{\"formatter\":{\"id\":\"4abf38a1-8bc4-4080-9185-7882c00ecec4\",\"type\":\"BasicTickFormatter\"},\"plot\":{\"id\":\"a532a613-4110-41cd-ad4e-904e48a14c52\",\"subtype\":\"Figure\",\"type\":\"Plot\"},\"ticker\":{\"id\":\"dc089dda-74a0-43be-b622-43257cf86c94\",\"type\":\"BasicTicker\"}},\"id\":\"ede37409-164c-402a-979d-a5a9c6df3765\",\"type\":\"LinearAxis\"},{\"attributes\":{\"callback\":null},\"id\":\"148926e1-0ce5-4e12-8646-60c40bb8bae0\",\"type\":\"DataRange1d\"},{\"attributes\":{},\"id\":\"abf463b4-dcf6-4c4f-a3fb-0a8c7727d70c\",\"type\":\"LinearScale\"},{\"attributes\":{\"formatter\":{\"id\":\"3e4f9d81-9945-4b11-982c-20053c952b36\",\"type\":\"BasicTickFormatter\"},\"plot\":{\"id\":\"a532a613-4110-41cd-ad4e-904e48a14c52\",\"subtype\":\"Figure\",\"type\":\"Plot\"},\"ticker\":{\"id\":\"831836ef-d776-4371-ace0-b987a44ea604\",\"type\":\"BasicTicker\"}},\"id\":\"1835c694-20fc-41d3-9d3c-492760ce1845\",\"type\":\"LinearAxis\"},{\"attributes\":{\"line_color\":\"#1f77b4\",\"x\":{\"field\":\"x\"},\"y\":{\"field\":\"y\"}},\"id\":\"b3a643a1-cdd7-40cb-9d18-2945fc3e8e62\",\"type\":\"Line\"},{\"attributes\":{},\"id\":\"831836ef-d776-4371-ace0-b987a44ea604\",\"type\":\"BasicTicker\"},{\"attributes\":{},\"id\":\"eadada5a-869e-4ddc-9988-f82be7017f2e\",\"type\":\"Selection\"},{\"attributes\":{\"active_drag\":\"auto\",\"active_inspect\":\"auto\",\"active_scroll\":\"auto\",\"active_tap\":\"auto\",\"tools\":[{\"id\":\"d2dd8f76-b0e1-400b-bb89-0ddbd290233d\",\"type\":\"PanTool\"},{\"id\":\"b629a114-bcd6-4b96-a484-4aeef3f5df0f\",\"type\":\"WheelZoomTool\"},{\"id\":\"51ea5816-0029-4cec-9109-69a18a1ee3f6\",\"type\":\"BoxZoomTool\"},{\"id\":\"cda73a94-6cc8-4500-bd9f-baad45ef03e3\",\"type\":\"SaveTool\"},{\"id\":\"278e1b18-7a64-46ab-8c11-b83c02d00008\",\"type\":\"ResetTool\"},{\"id\":\"34270566-c776-4073-ad7e-4936fa278afb\",\"type\":\"HelpTool\"}]},\"id\":\"4534089d-7961-48c0-84b7-0072db59f64b\",\"type\":\"Toolbar\"},{\"attributes\":{\"callback\":null,\"data\":{\"x\":{\"__ndarray__\":\"AAAAAAEAAAACAAAAAwAAAAQAAAAFAAAABgAAAAcAAAAIAAAACQAAAAoAAAALAAAADAAAAA0AAAAOAAAADwAAABAAAAARAAAAEgAAABMAAAAUAAAAFQAAABYAAAAXAAAA\",\"dtype\":\"int32\",\"shape\":[24]},\"y\":{\"__ndarray__\":\"cEQaP3BEGj/Z3Ro/MZMJPw8xzT58lVc+UL+jPbBj+TzgCAs8QGXeO0Bl3jtAZd47QGXeO0Bl3jtAZd47QGXeO0Bl3jtAZd47QGXeO0Bl3jtgoxg933iGPgju8j64Whc/\",\"dtype\":\"float32\",\"shape\":[24]}},\"selected\":{\"id\":\"cc6f20b7-a11b-45e5-b1ca-63f44517966e\",\"type\":\"Selection\"},\"selection_policy\":{\"id\":\"51f1b9cd-6dac-49b3-b36a-9cf07c048bf1\",\"type\":\"UnionRenderers\"}},\"id\":\"9bb5da2a-c4f2-4525-85b3-da74baf74304\",\"type\":\"ColumnDataSource\"},{\"attributes\":{\"data_source\":{\"id\":\"eaf51ff1-78ab-4439-ad73-4003079a73fe\",\"type\":\"ColumnDataSource\"},\"glyph\":{\"id\":\"b3a643a1-cdd7-40cb-9d18-2945fc3e8e62\",\"type\":\"Line\"},\"hover_glyph\":null,\"muted_glyph\":null,\"nonselection_glyph\":{\"id\":\"f17da3be-6739-464f-ba0c-a7a4cbb6e88a\",\"type\":\"Line\"},\"selection_glyph\":null,\"view\":{\"id\":\"94c126fd-bc11-45a5-92ac-6332d6fff998\",\"type\":\"CDSView\"}},\"id\":\"06c1a605-0a1d-489f-a507-f66bd17cd75e\",\"type\":\"GlyphRenderer\"},{\"attributes\":{},\"id\":\"7cfaadda-d5f7-4dca-82a8-c25a45f454df\",\"type\":\"UnionRenderers\"}],\"root_ids\":[\"a532a613-4110-41cd-ad4e-904e48a14c52\"]},\"title\":\"Bokeh Application\",\"version\":\"0.12.16\"}};\n",
       "  var render_items = [{\"docid\":\"f4d6b71f-cd76-4702-b859-ca26eaa71d27\",\"elementid\":\"5d9f7f45-b809-4691-be62-e31164fa488b\",\"modelid\":\"a532a613-4110-41cd-ad4e-904e48a14c52\"}];\n",
       "  root.Bokeh.embed.embed_items_notebook(docs_json, render_items);\n",
       "\n",
       "  }\n",
       "  if (root.Bokeh !== undefined) {\n",
       "    embed_document(root);\n",
       "  } else {\n",
       "    var attempts = 0;\n",
       "    var timer = setInterval(function(root) {\n",
       "      if (root.Bokeh !== undefined) {\n",
       "        embed_document(root);\n",
       "        clearInterval(timer);\n",
       "      }\n",
       "      attempts++;\n",
       "      if (attempts > 100) {\n",
       "        console.log(\"Bokeh: ERROR: Unable to run BokehJS code because BokehJS library is missing\")\n",
       "        clearInterval(timer);\n",
       "      }\n",
       "    }, 10, root)\n",
       "  }\n",
       "})(window);"
      ],
      "application/vnd.bokehjs_exec.v0+json": ""
     },
     "metadata": {
      "application/vnd.bokehjs_exec.v0+json": {
       "id": "a532a613-4110-41cd-ad4e-904e48a14c52"
      }
     },
     "output_type": "display_data"
    },
    {
     "name": "stdout",
     "output_type": "stream",
     "text": [
      "0.8715811158046103\n"
     ]
    },
    {
     "data": {
      "text/html": [
       "\n",
       "<div class=\"bk-root\">\n",
       "    <div class=\"bk-plotdiv\" id=\"14d88e49-0be2-4f34-a4ec-e4d71127bbf7\"></div>\n",
       "</div>"
      ]
     },
     "metadata": {},
     "output_type": "display_data"
    },
    {
     "data": {
      "application/javascript": [
       "(function(root) {\n",
       "  function embed_document(root) {\n",
       "    \n",
       "  var docs_json = {\"f2d8383c-cd4f-4b79-8697-73f2e0a1a40c\":{\"roots\":{\"references\":[{\"attributes\":{\"label\":{\"value\":\"predicted_xgb\"},\"renderers\":[{\"id\":\"2764cf4c-86d5-4e1c-8744-354b9b896abd\",\"type\":\"GlyphRenderer\"}]},\"id\":\"ec9c7402-1682-463f-b57c-38f2457cae59\",\"type\":\"LegendItem\"},{\"attributes\":{\"line_color\":\"#1f77b4\",\"x\":{\"field\":\"x\"},\"y\":{\"field\":\"y\"}},\"id\":\"72651556-7cdd-491b-bf04-220dfba4de52\",\"type\":\"Line\"},{\"attributes\":{\"line_alpha\":0.1,\"line_color\":\"#1f77b4\",\"x\":{\"field\":\"x\"},\"y\":{\"field\":\"y\"}},\"id\":\"dd7ee9c3-1aab-47b4-a80c-cc7ab19f1ede\",\"type\":\"Line\"},{\"attributes\":{\"overlay\":{\"id\":\"1f9ca52b-095a-4787-a6b6-1970992c3804\",\"type\":\"BoxAnnotation\"}},\"id\":\"3cd3dd4f-d22b-4112-b09c-6672b5ced880\",\"type\":\"BoxZoomTool\"},{\"attributes\":{\"formatter\":{\"id\":\"f4560f56-13ac-44a6-98c9-36bbac906221\",\"type\":\"BasicTickFormatter\"},\"plot\":{\"id\":\"9f1f708a-c13d-4d3c-ae76-aa01357075a6\",\"subtype\":\"Figure\",\"type\":\"Plot\"},\"ticker\":{\"id\":\"d28a56e7-dbc9-45c1-843d-3ae07b6bb01b\",\"type\":\"BasicTicker\"}},\"id\":\"4282245e-1aad-44e6-9ab2-9122fdad8e61\",\"type\":\"LinearAxis\"},{\"attributes\":{\"items\":[{\"id\":\"1fa4f81c-db7a-419f-bcdc-6d7f62633b31\",\"type\":\"LegendItem\"},{\"id\":\"ec9c7402-1682-463f-b57c-38f2457cae59\",\"type\":\"LegendItem\"}],\"plot\":{\"id\":\"9f1f708a-c13d-4d3c-ae76-aa01357075a6\",\"subtype\":\"Figure\",\"type\":\"Plot\"}},\"id\":\"5ef5f21f-fd69-4b55-9d86-c6ac7fa077fd\",\"type\":\"Legend\"},{\"attributes\":{},\"id\":\"0fef595b-0dc6-4e01-ac91-36e4a845878f\",\"type\":\"SaveTool\"},{\"attributes\":{\"source\":{\"id\":\"73f91d5c-5c8d-4b98-890a-afb3599aba02\",\"type\":\"ColumnDataSource\"}},\"id\":\"e922aeba-9b58-4cc5-b4f1-1538a6511364\",\"type\":\"CDSView\"},{\"attributes\":{\"callback\":null,\"data\":{\"x\":{\"__ndarray__\":\"AAAAAAEAAAACAAAAAwAAAAQAAAAFAAAABgAAAAcAAAAIAAAACQAAAAoAAAALAAAADAAAAA0AAAAOAAAADwAAABAAAAARAAAAEgAAABMAAAAUAAAAFQAAABYAAAAXAAAA\",\"dtype\":\"int32\",\"shape\":[24]},\"y\":{\"__ndarray__\":\"D1oH3CbU6j9/lxGzykTqPwIqoAIqoOQ/0efjpLSw3T9VFmVRFmXdP/q1xcGCks4/JQhPvaHotj8cMu+/y4iZPz1zZ6rZzSA/AAAAAAAAAAAAAAAAAAAAAAAAAAAAAAAAAAAAAAAAAAAAAAAAAAAAAAAAAAAAAAAAAAAAAAAAAAAAAAAAAAAAAAAAAAAAAAAAAAAAAAAAAAAAAAAAAAAAALA3FN1qR2A/wW1CjToPqj+Ub/mWb/m2P03yiyW/WMI/\",\"dtype\":\"float64\",\"shape\":[24]}},\"selected\":{\"id\":\"01546e65-f193-4c3b-9ff6-6a26bccaabb5\",\"type\":\"Selection\"},\"selection_policy\":{\"id\":\"9353c3ae-0c34-4f84-8a62-84ca384c95fb\",\"type\":\"UnionRenderers\"}},\"id\":\"73f91d5c-5c8d-4b98-890a-afb3599aba02\",\"type\":\"ColumnDataSource\"},{\"attributes\":{\"active_drag\":\"auto\",\"active_inspect\":\"auto\",\"active_scroll\":\"auto\",\"active_tap\":\"auto\",\"tools\":[{\"id\":\"c4234a78-eec6-487e-9a56-fadb8592899a\",\"type\":\"PanTool\"},{\"id\":\"220789fb-41ec-44b1-8c9d-8ae14c21fc47\",\"type\":\"WheelZoomTool\"},{\"id\":\"3cd3dd4f-d22b-4112-b09c-6672b5ced880\",\"type\":\"BoxZoomTool\"},{\"id\":\"0fef595b-0dc6-4e01-ac91-36e4a845878f\",\"type\":\"SaveTool\"},{\"id\":\"9baf8439-cf20-437a-b3ce-6366c2417b70\",\"type\":\"ResetTool\"},{\"id\":\"b3f492cc-5f4e-46fa-a21f-ec4270c447aa\",\"type\":\"HelpTool\"}]},\"id\":\"319c0241-90e4-444b-950e-bec0d434a790\",\"type\":\"Toolbar\"},{\"attributes\":{},\"id\":\"d214a21d-ec35-40b0-bcc1-2669aeb9b839\",\"type\":\"BasicTickFormatter\"},{\"attributes\":{\"callback\":null},\"id\":\"952f176a-55a1-40cd-a9f3-d8c63c6a1a8f\",\"type\":\"DataRange1d\"},{\"attributes\":{\"plot\":{\"id\":\"9f1f708a-c13d-4d3c-ae76-aa01357075a6\",\"subtype\":\"Figure\",\"type\":\"Plot\"},\"ticker\":{\"id\":\"3c70b069-059e-460b-bdd8-d26c0542cce2\",\"type\":\"BasicTicker\"}},\"id\":\"79a9abec-5760-4b60-8692-5293c942aaa6\",\"type\":\"Grid\"},{\"attributes\":{},\"id\":\"f4560f56-13ac-44a6-98c9-36bbac906221\",\"type\":\"BasicTickFormatter\"},{\"attributes\":{},\"id\":\"931de866-fd1a-4f19-97d9-eb39f8f30103\",\"type\":\"LinearScale\"},{\"attributes\":{\"data_source\":{\"id\":\"73f91d5c-5c8d-4b98-890a-afb3599aba02\",\"type\":\"ColumnDataSource\"},\"glyph\":{\"id\":\"72651556-7cdd-491b-bf04-220dfba4de52\",\"type\":\"Line\"},\"hover_glyph\":null,\"muted_glyph\":null,\"nonselection_glyph\":{\"id\":\"dd7ee9c3-1aab-47b4-a80c-cc7ab19f1ede\",\"type\":\"Line\"},\"selection_glyph\":null,\"view\":{\"id\":\"e922aeba-9b58-4cc5-b4f1-1538a6511364\",\"type\":\"CDSView\"}},\"id\":\"42a3bd72-309b-461d-9b15-916490bfef9f\",\"type\":\"GlyphRenderer\"},{\"attributes\":{},\"id\":\"c25d3e60-8dc3-4b05-8eb8-8eeae62e9ca1\",\"type\":\"Selection\"},{\"attributes\":{},\"id\":\"b3f492cc-5f4e-46fa-a21f-ec4270c447aa\",\"type\":\"HelpTool\"},{\"attributes\":{\"plot\":null,\"text\":\"\"},\"id\":\"e9b15b62-0d42-48c3-a86d-9021c3031441\",\"type\":\"Title\"},{\"attributes\":{\"callback\":null,\"data\":{\"x\":{\"__ndarray__\":\"AAAAAAEAAAACAAAAAwAAAAQAAAAFAAAABgAAAAcAAAAIAAAACQAAAAoAAAALAAAADAAAAA0AAAAOAAAADwAAABAAAAARAAAAEgAAABMAAAAUAAAAFQAAABYAAAAXAAAA\",\"dtype\":\"int32\",\"shape\":[24]},\"y\":{\"__ndarray__\":\"ZSAlP2UgJT+GtB8/tB8LP+wVwz5KO1E+fB6MPbChtDzAgf47wIH+O8CB/jsAOBU8ADgVPEA9tDxAPbQ8QD20PEA9tDxAPbQ8QD20PEA9tDzY32s9mA+OPphQ7T629B8/\",\"dtype\":\"float32\",\"shape\":[24]}},\"selected\":{\"id\":\"c25d3e60-8dc3-4b05-8eb8-8eeae62e9ca1\",\"type\":\"Selection\"},\"selection_policy\":{\"id\":\"3a0676aa-7712-4d7d-bc87-1e692528da21\",\"type\":\"UnionRenderers\"}},\"id\":\"43731e50-47c2-4330-bed3-695d7af7d2df\",\"type\":\"ColumnDataSource\"},{\"attributes\":{},\"id\":\"c4234a78-eec6-487e-9a56-fadb8592899a\",\"type\":\"PanTool\"},{\"attributes\":{\"data_source\":{\"id\":\"43731e50-47c2-4330-bed3-695d7af7d2df\",\"type\":\"ColumnDataSource\"},\"glyph\":{\"id\":\"e58fa7a4-7c8e-496b-8b9b-a7ba1394ac54\",\"type\":\"Line\"},\"hover_glyph\":null,\"muted_glyph\":null,\"nonselection_glyph\":{\"id\":\"e7a139fb-390c-4b69-b058-89ae946b7007\",\"type\":\"Line\"},\"selection_glyph\":null,\"view\":{\"id\":\"9035344c-265e-4bfc-9ebb-9ed5dc927957\",\"type\":\"CDSView\"}},\"id\":\"2764cf4c-86d5-4e1c-8744-354b9b896abd\",\"type\":\"GlyphRenderer\"},{\"attributes\":{},\"id\":\"3c70b069-059e-460b-bdd8-d26c0542cce2\",\"type\":\"BasicTicker\"},{\"attributes\":{\"dimension\":1,\"plot\":{\"id\":\"9f1f708a-c13d-4d3c-ae76-aa01357075a6\",\"subtype\":\"Figure\",\"type\":\"Plot\"},\"ticker\":{\"id\":\"d28a56e7-dbc9-45c1-843d-3ae07b6bb01b\",\"type\":\"BasicTicker\"}},\"id\":\"e3a75ddf-30af-451c-9025-bc7808184aa6\",\"type\":\"Grid\"},{\"attributes\":{\"source\":{\"id\":\"43731e50-47c2-4330-bed3-695d7af7d2df\",\"type\":\"ColumnDataSource\"}},\"id\":\"9035344c-265e-4bfc-9ebb-9ed5dc927957\",\"type\":\"CDSView\"},{\"attributes\":{},\"id\":\"f443d727-4b42-4ad9-8c5b-804beea95009\",\"type\":\"LinearScale\"},{\"attributes\":{\"line_color\":\"orange\",\"x\":{\"field\":\"x\"},\"y\":{\"field\":\"y\"}},\"id\":\"e58fa7a4-7c8e-496b-8b9b-a7ba1394ac54\",\"type\":\"Line\"},{\"attributes\":{\"callback\":null},\"id\":\"5122b8e3-f403-4ac0-8ea8-d44838f18d2d\",\"type\":\"DataRange1d\"},{\"attributes\":{\"label\":{\"value\":\"real\"},\"renderers\":[{\"id\":\"42a3bd72-309b-461d-9b15-916490bfef9f\",\"type\":\"GlyphRenderer\"}]},\"id\":\"1fa4f81c-db7a-419f-bcdc-6d7f62633b31\",\"type\":\"LegendItem\"},{\"attributes\":{\"formatter\":{\"id\":\"d214a21d-ec35-40b0-bcc1-2669aeb9b839\",\"type\":\"BasicTickFormatter\"},\"plot\":{\"id\":\"9f1f708a-c13d-4d3c-ae76-aa01357075a6\",\"subtype\":\"Figure\",\"type\":\"Plot\"},\"ticker\":{\"id\":\"3c70b069-059e-460b-bdd8-d26c0542cce2\",\"type\":\"BasicTicker\"}},\"id\":\"d894e707-9e2e-4261-bae9-d98c193fd7dc\",\"type\":\"LinearAxis\"},{\"attributes\":{\"line_alpha\":0.1,\"line_color\":\"#1f77b4\",\"x\":{\"field\":\"x\"},\"y\":{\"field\":\"y\"}},\"id\":\"e7a139fb-390c-4b69-b058-89ae946b7007\",\"type\":\"Line\"},{\"attributes\":{},\"id\":\"d28a56e7-dbc9-45c1-843d-3ae07b6bb01b\",\"type\":\"BasicTicker\"},{\"attributes\":{},\"id\":\"01546e65-f193-4c3b-9ff6-6a26bccaabb5\",\"type\":\"Selection\"},{\"attributes\":{\"below\":[{\"id\":\"d894e707-9e2e-4261-bae9-d98c193fd7dc\",\"type\":\"LinearAxis\"}],\"left\":[{\"id\":\"4282245e-1aad-44e6-9ab2-9122fdad8e61\",\"type\":\"LinearAxis\"}],\"renderers\":[{\"id\":\"d894e707-9e2e-4261-bae9-d98c193fd7dc\",\"type\":\"LinearAxis\"},{\"id\":\"79a9abec-5760-4b60-8692-5293c942aaa6\",\"type\":\"Grid\"},{\"id\":\"4282245e-1aad-44e6-9ab2-9122fdad8e61\",\"type\":\"LinearAxis\"},{\"id\":\"e3a75ddf-30af-451c-9025-bc7808184aa6\",\"type\":\"Grid\"},{\"id\":\"1f9ca52b-095a-4787-a6b6-1970992c3804\",\"type\":\"BoxAnnotation\"},{\"id\":\"5ef5f21f-fd69-4b55-9d86-c6ac7fa077fd\",\"type\":\"Legend\"},{\"id\":\"42a3bd72-309b-461d-9b15-916490bfef9f\",\"type\":\"GlyphRenderer\"},{\"id\":\"2764cf4c-86d5-4e1c-8744-354b9b896abd\",\"type\":\"GlyphRenderer\"}],\"title\":{\"id\":\"e9b15b62-0d42-48c3-a86d-9021c3031441\",\"type\":\"Title\"},\"toolbar\":{\"id\":\"319c0241-90e4-444b-950e-bec0d434a790\",\"type\":\"Toolbar\"},\"x_range\":{\"id\":\"5122b8e3-f403-4ac0-8ea8-d44838f18d2d\",\"type\":\"DataRange1d\"},\"x_scale\":{\"id\":\"931de866-fd1a-4f19-97d9-eb39f8f30103\",\"type\":\"LinearScale\"},\"y_range\":{\"id\":\"952f176a-55a1-40cd-a9f3-d8c63c6a1a8f\",\"type\":\"DataRange1d\"},\"y_scale\":{\"id\":\"f443d727-4b42-4ad9-8c5b-804beea95009\",\"type\":\"LinearScale\"}},\"id\":\"9f1f708a-c13d-4d3c-ae76-aa01357075a6\",\"subtype\":\"Figure\",\"type\":\"Plot\"},{\"attributes\":{\"bottom_units\":\"screen\",\"fill_alpha\":{\"value\":0.5},\"fill_color\":{\"value\":\"lightgrey\"},\"left_units\":\"screen\",\"level\":\"overlay\",\"line_alpha\":{\"value\":1.0},\"line_color\":{\"value\":\"black\"},\"line_dash\":[4,4],\"line_width\":{\"value\":2},\"plot\":null,\"render_mode\":\"css\",\"right_units\":\"screen\",\"top_units\":\"screen\"},\"id\":\"1f9ca52b-095a-4787-a6b6-1970992c3804\",\"type\":\"BoxAnnotation\"},{\"attributes\":{},\"id\":\"220789fb-41ec-44b1-8c9d-8ae14c21fc47\",\"type\":\"WheelZoomTool\"},{\"attributes\":{},\"id\":\"9353c3ae-0c34-4f84-8a62-84ca384c95fb\",\"type\":\"UnionRenderers\"},{\"attributes\":{},\"id\":\"9baf8439-cf20-437a-b3ce-6366c2417b70\",\"type\":\"ResetTool\"},{\"attributes\":{},\"id\":\"3a0676aa-7712-4d7d-bc87-1e692528da21\",\"type\":\"UnionRenderers\"}],\"root_ids\":[\"9f1f708a-c13d-4d3c-ae76-aa01357075a6\"]},\"title\":\"Bokeh Application\",\"version\":\"0.12.16\"}};\n",
       "  var render_items = [{\"docid\":\"f2d8383c-cd4f-4b79-8697-73f2e0a1a40c\",\"elementid\":\"14d88e49-0be2-4f34-a4ec-e4d71127bbf7\",\"modelid\":\"9f1f708a-c13d-4d3c-ae76-aa01357075a6\"}];\n",
       "  root.Bokeh.embed.embed_items_notebook(docs_json, render_items);\n",
       "\n",
       "  }\n",
       "  if (root.Bokeh !== undefined) {\n",
       "    embed_document(root);\n",
       "  } else {\n",
       "    var attempts = 0;\n",
       "    var timer = setInterval(function(root) {\n",
       "      if (root.Bokeh !== undefined) {\n",
       "        embed_document(root);\n",
       "        clearInterval(timer);\n",
       "      }\n",
       "      attempts++;\n",
       "      if (attempts > 100) {\n",
       "        console.log(\"Bokeh: ERROR: Unable to run BokehJS code because BokehJS library is missing\")\n",
       "        clearInterval(timer);\n",
       "      }\n",
       "    }, 10, root)\n",
       "  }\n",
       "})(window);"
      ],
      "application/vnd.bokehjs_exec.v0+json": ""
     },
     "metadata": {
      "application/vnd.bokehjs_exec.v0+json": {
       "id": "9f1f708a-c13d-4d3c-ae76-aa01357075a6"
      }
     },
     "output_type": "display_data"
    },
    {
     "name": "stdout",
     "output_type": "stream",
     "text": [
      "0.6706764094999611\n"
     ]
    },
    {
     "data": {
      "text/html": [
       "\n",
       "<div class=\"bk-root\">\n",
       "    <div class=\"bk-plotdiv\" id=\"f50d16e1-5a1c-490d-8c41-4b9db3516277\"></div>\n",
       "</div>"
      ]
     },
     "metadata": {},
     "output_type": "display_data"
    },
    {
     "data": {
      "application/javascript": [
       "(function(root) {\n",
       "  function embed_document(root) {\n",
       "    \n",
       "  var docs_json = {\"dc25ba0e-d5d4-436e-95ee-827c42352264\":{\"roots\":{\"references\":[{\"attributes\":{\"source\":{\"id\":\"6e58abd7-d192-476e-a585-b70501d3ef0d\",\"type\":\"ColumnDataSource\"}},\"id\":\"83a769c3-b6d4-457e-95d6-6797483f1a90\",\"type\":\"CDSView\"},{\"attributes\":{},\"id\":\"21d70d7b-2c3f-40aa-98f5-3d3a2512f12d\",\"type\":\"Selection\"},{\"attributes\":{},\"id\":\"77f867e2-3df4-4e48-93b3-c40e669d170a\",\"type\":\"UnionRenderers\"},{\"attributes\":{\"line_color\":\"orange\",\"x\":{\"field\":\"x\"},\"y\":{\"field\":\"y\"}},\"id\":\"1f4a3b3e-72e8-43ff-8911-7d450e523e5d\",\"type\":\"Line\"},{\"attributes\":{\"data_source\":{\"id\":\"6e58abd7-d192-476e-a585-b70501d3ef0d\",\"type\":\"ColumnDataSource\"},\"glyph\":{\"id\":\"1f4a3b3e-72e8-43ff-8911-7d450e523e5d\",\"type\":\"Line\"},\"hover_glyph\":null,\"muted_glyph\":null,\"nonselection_glyph\":{\"id\":\"d1bdc66a-31b5-4d7c-87fb-e1a2b527e449\",\"type\":\"Line\"},\"selection_glyph\":null,\"view\":{\"id\":\"83a769c3-b6d4-457e-95d6-6797483f1a90\",\"type\":\"CDSView\"}},\"id\":\"a25fe9b8-267f-46e0-9981-624f471bb833\",\"type\":\"GlyphRenderer\"},{\"attributes\":{\"label\":{\"value\":\"real\"},\"renderers\":[{\"id\":\"28123fa6-02b6-4378-a8b3-ed214667e58d\",\"type\":\"GlyphRenderer\"}]},\"id\":\"635884f1-4fc6-456b-98f5-3a33b5af6d51\",\"type\":\"LegendItem\"},{\"attributes\":{\"plot\":null,\"text\":\"\"},\"id\":\"fcc541a5-479a-4e62-b7fe-12bdef3d2f44\",\"type\":\"Title\"},{\"attributes\":{},\"id\":\"25af9193-b0f0-47c2-8b34-2547ce7de571\",\"type\":\"BasicTickFormatter\"},{\"attributes\":{},\"id\":\"b2b76e93-dae5-45e8-846a-3116275dfb92\",\"type\":\"Selection\"},{\"attributes\":{\"callback\":null,\"data\":{\"x\":{\"__ndarray__\":\"AAAAAAEAAAACAAAAAwAAAAQAAAAFAAAABgAAAAcAAAAIAAAACQAAAAoAAAALAAAADAAAAA0AAAAOAAAADwAAABAAAAARAAAAEgAAABMAAAAUAAAAFQAAABYAAAAXAAAA\",\"dtype\":\"int32\",\"shape\":[24]},\"y\":{\"__ndarray__\":\"MrYtPzK2LT9u2CU/7IwHP3CKwj5UJFA+kPCJPQDqqzzAgf47QOETPCCkDzwgpA88IKQPPCCkDzwAR+s7AEfrOwBH6zsAR+s7AEfrOwBH6zsYKi89UlZwPggLyD6uHBU/\",\"dtype\":\"float32\",\"shape\":[24]}},\"selected\":{\"id\":\"b2b76e93-dae5-45e8-846a-3116275dfb92\",\"type\":\"Selection\"},\"selection_policy\":{\"id\":\"7a0bd959-896f-486a-83e4-687650f80c4d\",\"type\":\"UnionRenderers\"}},\"id\":\"6e58abd7-d192-476e-a585-b70501d3ef0d\",\"type\":\"ColumnDataSource\"},{\"attributes\":{\"bottom_units\":\"screen\",\"fill_alpha\":{\"value\":0.5},\"fill_color\":{\"value\":\"lightgrey\"},\"left_units\":\"screen\",\"level\":\"overlay\",\"line_alpha\":{\"value\":1.0},\"line_color\":{\"value\":\"black\"},\"line_dash\":[4,4],\"line_width\":{\"value\":2},\"plot\":null,\"render_mode\":\"css\",\"right_units\":\"screen\",\"top_units\":\"screen\"},\"id\":\"5ade03da-ff16-4548-b9e6-2a239b678b93\",\"type\":\"BoxAnnotation\"},{\"attributes\":{},\"id\":\"37469414-6016-4ff1-9e42-5f4fd9f0fa9a\",\"type\":\"ResetTool\"},{\"attributes\":{\"items\":[{\"id\":\"635884f1-4fc6-456b-98f5-3a33b5af6d51\",\"type\":\"LegendItem\"},{\"id\":\"d97acdfe-3339-447b-bc12-fe4d1e841ede\",\"type\":\"LegendItem\"}],\"plot\":{\"id\":\"c40313e2-13e7-4b61-97bc-ae33a080ab02\",\"subtype\":\"Figure\",\"type\":\"Plot\"}},\"id\":\"49f3c3c3-7ce1-4bef-93d8-d829bd35ad26\",\"type\":\"Legend\"},{\"attributes\":{\"below\":[{\"id\":\"6a1c049e-5ced-4b54-b414-3b1dbd0d10f9\",\"type\":\"LinearAxis\"}],\"left\":[{\"id\":\"0bc675ee-4ce4-4ca0-b7c5-8a8839ec714a\",\"type\":\"LinearAxis\"}],\"renderers\":[{\"id\":\"6a1c049e-5ced-4b54-b414-3b1dbd0d10f9\",\"type\":\"LinearAxis\"},{\"id\":\"e9321eeb-73e4-4b60-87f5-e89620bea04b\",\"type\":\"Grid\"},{\"id\":\"0bc675ee-4ce4-4ca0-b7c5-8a8839ec714a\",\"type\":\"LinearAxis\"},{\"id\":\"b4e567b0-203c-4e01-b343-1d4e21b6426f\",\"type\":\"Grid\"},{\"id\":\"5ade03da-ff16-4548-b9e6-2a239b678b93\",\"type\":\"BoxAnnotation\"},{\"id\":\"49f3c3c3-7ce1-4bef-93d8-d829bd35ad26\",\"type\":\"Legend\"},{\"id\":\"28123fa6-02b6-4378-a8b3-ed214667e58d\",\"type\":\"GlyphRenderer\"},{\"id\":\"a25fe9b8-267f-46e0-9981-624f471bb833\",\"type\":\"GlyphRenderer\"}],\"title\":{\"id\":\"fcc541a5-479a-4e62-b7fe-12bdef3d2f44\",\"type\":\"Title\"},\"toolbar\":{\"id\":\"ca96dca0-b12d-4988-b9aa-f0437c16dee5\",\"type\":\"Toolbar\"},\"x_range\":{\"id\":\"819f5af9-2cb3-47f1-ab56-2ca1093efe10\",\"type\":\"DataRange1d\"},\"x_scale\":{\"id\":\"88f7d7c8-75f4-4037-bae9-941addc58c8f\",\"type\":\"LinearScale\"},\"y_range\":{\"id\":\"805e7672-02aa-4107-ac98-48f16c8b6ab1\",\"type\":\"DataRange1d\"},\"y_scale\":{\"id\":\"5e1b0b39-efa4-4c31-9daf-3253eafcdbff\",\"type\":\"LinearScale\"}},\"id\":\"c40313e2-13e7-4b61-97bc-ae33a080ab02\",\"subtype\":\"Figure\",\"type\":\"Plot\"},{\"attributes\":{},\"id\":\"88af9cb6-0067-4d0a-be78-131f82bf16f0\",\"type\":\"HelpTool\"},{\"attributes\":{\"callback\":null,\"data\":{\"x\":{\"__ndarray__\":\"AAAAAAEAAAACAAAAAwAAAAQAAAAFAAAABgAAAAcAAAAIAAAACQAAAAoAAAALAAAADAAAAA0AAAAOAAAADwAAABAAAAARAAAAEgAAABMAAAAUAAAAFQAAABYAAAAXAAAA\",\"dtype\":\"int32\",\"shape\":[24]},\"y\":{\"__ndarray__\":\"uB6F61G42j/b3d3d3d3pPzL/jGkywOI/W5RFWZRF3T8UdR60DrjNP9y0gU4b6MQ/X5RFWZRFqT9g+FL8keyFPz1zZ6rZzTA/AAAAAAAAAAAAAAAAAAAAAAAAAAAAAAAAAAAAAAAAAAAAAAAAAAAAAAAAAAAAAAAAAAAAAAAAAAAAAAAAAAAAAAAAAAAAAAAAAAAAAAAAAAAAAAAAAAAAAGUp/kj2yoU/mecSyBpGqz+4FH8ke+XKP+TT1xYHC+Y/\",\"dtype\":\"float64\",\"shape\":[24]}},\"selected\":{\"id\":\"21d70d7b-2c3f-40aa-98f5-3d3a2512f12d\",\"type\":\"Selection\"},\"selection_policy\":{\"id\":\"77f867e2-3df4-4e48-93b3-c40e669d170a\",\"type\":\"UnionRenderers\"}},\"id\":\"95e86298-4657-42d4-92da-8b52da58d001\",\"type\":\"ColumnDataSource\"},{\"attributes\":{},\"id\":\"947e7880-f46a-44c5-8568-563df078f248\",\"type\":\"SaveTool\"},{\"attributes\":{\"overlay\":{\"id\":\"5ade03da-ff16-4548-b9e6-2a239b678b93\",\"type\":\"BoxAnnotation\"}},\"id\":\"a0e2613f-96bd-491d-ab16-569c25627d92\",\"type\":\"BoxZoomTool\"},{\"attributes\":{},\"id\":\"5796e1cf-6a08-4bf4-a263-cc5acb6a39a2\",\"type\":\"WheelZoomTool\"},{\"attributes\":{\"source\":{\"id\":\"95e86298-4657-42d4-92da-8b52da58d001\",\"type\":\"ColumnDataSource\"}},\"id\":\"383fe071-a922-4bdd-83c9-2b2f191f4bc8\",\"type\":\"CDSView\"},{\"attributes\":{},\"id\":\"6ce612de-8106-448b-866f-2c2269f09a25\",\"type\":\"PanTool\"},{\"attributes\":{\"data_source\":{\"id\":\"95e86298-4657-42d4-92da-8b52da58d001\",\"type\":\"ColumnDataSource\"},\"glyph\":{\"id\":\"3041df4f-25fc-4938-915f-ad7fd355d7f3\",\"type\":\"Line\"},\"hover_glyph\":null,\"muted_glyph\":null,\"nonselection_glyph\":{\"id\":\"87473b84-e526-4c00-8d3e-2f3f47012f60\",\"type\":\"Line\"},\"selection_glyph\":null,\"view\":{\"id\":\"383fe071-a922-4bdd-83c9-2b2f191f4bc8\",\"type\":\"CDSView\"}},\"id\":\"28123fa6-02b6-4378-a8b3-ed214667e58d\",\"type\":\"GlyphRenderer\"},{\"attributes\":{},\"id\":\"f3b58dbd-0a9d-4ae6-aad2-31c9e42fa840\",\"type\":\"BasicTickFormatter\"},{\"attributes\":{},\"id\":\"adb38898-8e54-4506-8c08-7e63b1f1132c\",\"type\":\"BasicTicker\"},{\"attributes\":{\"line_alpha\":0.1,\"line_color\":\"#1f77b4\",\"x\":{\"field\":\"x\"},\"y\":{\"field\":\"y\"}},\"id\":\"87473b84-e526-4c00-8d3e-2f3f47012f60\",\"type\":\"Line\"},{\"attributes\":{},\"id\":\"7a0bd959-896f-486a-83e4-687650f80c4d\",\"type\":\"UnionRenderers\"},{\"attributes\":{\"dimension\":1,\"plot\":{\"id\":\"c40313e2-13e7-4b61-97bc-ae33a080ab02\",\"subtype\":\"Figure\",\"type\":\"Plot\"},\"ticker\":{\"id\":\"6c92f4c2-dd4a-4b9c-af4d-a1b65c3fd534\",\"type\":\"BasicTicker\"}},\"id\":\"b4e567b0-203c-4e01-b343-1d4e21b6426f\",\"type\":\"Grid\"},{\"attributes\":{},\"id\":\"6c92f4c2-dd4a-4b9c-af4d-a1b65c3fd534\",\"type\":\"BasicTicker\"},{\"attributes\":{\"formatter\":{\"id\":\"25af9193-b0f0-47c2-8b34-2547ce7de571\",\"type\":\"BasicTickFormatter\"},\"plot\":{\"id\":\"c40313e2-13e7-4b61-97bc-ae33a080ab02\",\"subtype\":\"Figure\",\"type\":\"Plot\"},\"ticker\":{\"id\":\"6c92f4c2-dd4a-4b9c-af4d-a1b65c3fd534\",\"type\":\"BasicTicker\"}},\"id\":\"0bc675ee-4ce4-4ca0-b7c5-8a8839ec714a\",\"type\":\"LinearAxis\"},{\"attributes\":{\"active_drag\":\"auto\",\"active_inspect\":\"auto\",\"active_scroll\":\"auto\",\"active_tap\":\"auto\",\"tools\":[{\"id\":\"6ce612de-8106-448b-866f-2c2269f09a25\",\"type\":\"PanTool\"},{\"id\":\"5796e1cf-6a08-4bf4-a263-cc5acb6a39a2\",\"type\":\"WheelZoomTool\"},{\"id\":\"a0e2613f-96bd-491d-ab16-569c25627d92\",\"type\":\"BoxZoomTool\"},{\"id\":\"947e7880-f46a-44c5-8568-563df078f248\",\"type\":\"SaveTool\"},{\"id\":\"37469414-6016-4ff1-9e42-5f4fd9f0fa9a\",\"type\":\"ResetTool\"},{\"id\":\"88af9cb6-0067-4d0a-be78-131f82bf16f0\",\"type\":\"HelpTool\"}]},\"id\":\"ca96dca0-b12d-4988-b9aa-f0437c16dee5\",\"type\":\"Toolbar\"},{\"attributes\":{\"formatter\":{\"id\":\"f3b58dbd-0a9d-4ae6-aad2-31c9e42fa840\",\"type\":\"BasicTickFormatter\"},\"plot\":{\"id\":\"c40313e2-13e7-4b61-97bc-ae33a080ab02\",\"subtype\":\"Figure\",\"type\":\"Plot\"},\"ticker\":{\"id\":\"adb38898-8e54-4506-8c08-7e63b1f1132c\",\"type\":\"BasicTicker\"}},\"id\":\"6a1c049e-5ced-4b54-b414-3b1dbd0d10f9\",\"type\":\"LinearAxis\"},{\"attributes\":{\"plot\":{\"id\":\"c40313e2-13e7-4b61-97bc-ae33a080ab02\",\"subtype\":\"Figure\",\"type\":\"Plot\"},\"ticker\":{\"id\":\"adb38898-8e54-4506-8c08-7e63b1f1132c\",\"type\":\"BasicTicker\"}},\"id\":\"e9321eeb-73e4-4b60-87f5-e89620bea04b\",\"type\":\"Grid\"},{\"attributes\":{},\"id\":\"5e1b0b39-efa4-4c31-9daf-3253eafcdbff\",\"type\":\"LinearScale\"},{\"attributes\":{},\"id\":\"88f7d7c8-75f4-4037-bae9-941addc58c8f\",\"type\":\"LinearScale\"},{\"attributes\":{\"callback\":null},\"id\":\"819f5af9-2cb3-47f1-ab56-2ca1093efe10\",\"type\":\"DataRange1d\"},{\"attributes\":{\"line_alpha\":0.1,\"line_color\":\"#1f77b4\",\"x\":{\"field\":\"x\"},\"y\":{\"field\":\"y\"}},\"id\":\"d1bdc66a-31b5-4d7c-87fb-e1a2b527e449\",\"type\":\"Line\"},{\"attributes\":{\"line_color\":\"#1f77b4\",\"x\":{\"field\":\"x\"},\"y\":{\"field\":\"y\"}},\"id\":\"3041df4f-25fc-4938-915f-ad7fd355d7f3\",\"type\":\"Line\"},{\"attributes\":{\"label\":{\"value\":\"predicted_xgb\"},\"renderers\":[{\"id\":\"a25fe9b8-267f-46e0-9981-624f471bb833\",\"type\":\"GlyphRenderer\"}]},\"id\":\"d97acdfe-3339-447b-bc12-fe4d1e841ede\",\"type\":\"LegendItem\"},{\"attributes\":{\"callback\":null},\"id\":\"805e7672-02aa-4107-ac98-48f16c8b6ab1\",\"type\":\"DataRange1d\"}],\"root_ids\":[\"c40313e2-13e7-4b61-97bc-ae33a080ab02\"]},\"title\":\"Bokeh Application\",\"version\":\"0.12.16\"}};\n",
       "  var render_items = [{\"docid\":\"dc25ba0e-d5d4-436e-95ee-827c42352264\",\"elementid\":\"f50d16e1-5a1c-490d-8c41-4b9db3516277\",\"modelid\":\"c40313e2-13e7-4b61-97bc-ae33a080ab02\"}];\n",
       "  root.Bokeh.embed.embed_items_notebook(docs_json, render_items);\n",
       "\n",
       "  }\n",
       "  if (root.Bokeh !== undefined) {\n",
       "    embed_document(root);\n",
       "  } else {\n",
       "    var attempts = 0;\n",
       "    var timer = setInterval(function(root) {\n",
       "      if (root.Bokeh !== undefined) {\n",
       "        embed_document(root);\n",
       "        clearInterval(timer);\n",
       "      }\n",
       "      attempts++;\n",
       "      if (attempts > 100) {\n",
       "        console.log(\"Bokeh: ERROR: Unable to run BokehJS code because BokehJS library is missing\")\n",
       "        clearInterval(timer);\n",
       "      }\n",
       "    }, 10, root)\n",
       "  }\n",
       "})(window);"
      ],
      "application/vnd.bokehjs_exec.v0+json": ""
     },
     "metadata": {
      "application/vnd.bokehjs_exec.v0+json": {
       "id": "c40313e2-13e7-4b61-97bc-ae33a080ab02"
      }
     },
     "output_type": "display_data"
    },
    {
     "name": "stdout",
     "output_type": "stream",
     "text": [
      "0.889562630778462\n"
     ]
    },
    {
     "data": {
      "text/html": [
       "\n",
       "<div class=\"bk-root\">\n",
       "    <div class=\"bk-plotdiv\" id=\"c4119e4b-0fae-4fb3-b43f-f23e20eb631e\"></div>\n",
       "</div>"
      ]
     },
     "metadata": {},
     "output_type": "display_data"
    },
    {
     "data": {
      "application/javascript": [
       "(function(root) {\n",
       "  function embed_document(root) {\n",
       "    \n",
       "  var docs_json = {\"beee4b6d-ed12-4717-9c16-f5d3920c6af4\":{\"roots\":{\"references\":[{\"attributes\":{\"callback\":null,\"data\":{\"x\":{\"__ndarray__\":\"AAAAAAEAAAACAAAAAwAAAAQAAAAFAAAABgAAAAcAAAAIAAAACQAAAAoAAAALAAAADAAAAA0AAAAOAAAADwAAABAAAAARAAAAEgAAABMAAAAUAAAAFQAAABYAAAAXAAAA\",\"dtype\":\"int32\",\"shape\":[24]},\"y\":{\"__ndarray__\":\"5ecmP/A0Kj+byCU/utMGP8QBxj6wXl4+SGWmPQDUFT2AcUE8YKsuPICiRDxAzCg8INUSPEDMKDxAzCg8QMwoPEDMKDxAzCg8QMwoPEDMKDxI9Ds9bWKHPvZD5z6+CR4/\",\"dtype\":\"float32\",\"shape\":[24]}},\"selected\":{\"id\":\"c1102c0a-8f5d-4930-93fd-cf0494f120ae\",\"type\":\"Selection\"},\"selection_policy\":{\"id\":\"95051c73-8af3-4d4c-bf62-c9362848b8fa\",\"type\":\"UnionRenderers\"}},\"id\":\"2a9cb9f8-1133-4522-9078-4333b8e809f0\",\"type\":\"ColumnDataSource\"},{\"attributes\":{},\"id\":\"9a9ac8be-9fb5-47e6-8a37-fe53afb4f5fd\",\"type\":\"SaveTool\"},{\"attributes\":{},\"id\":\"fdf4916e-6e36-40d4-9662-825d3644ffb1\",\"type\":\"BasicTicker\"},{\"attributes\":{},\"id\":\"50131115-7fe6-4486-a4cf-0bdc1d493320\",\"type\":\"UnionRenderers\"},{\"attributes\":{\"line_alpha\":0.1,\"line_color\":\"#1f77b4\",\"x\":{\"field\":\"x\"},\"y\":{\"field\":\"y\"}},\"id\":\"8e07bafe-d6b0-4485-a90c-b62540474c12\",\"type\":\"Line\"},{\"attributes\":{\"formatter\":{\"id\":\"a43a705d-8029-44d1-bb15-e59f22cf3a5d\",\"type\":\"BasicTickFormatter\"},\"plot\":{\"id\":\"412abe44-8b95-4450-9e07-2caefcae3553\",\"subtype\":\"Figure\",\"type\":\"Plot\"},\"ticker\":{\"id\":\"13f9345b-c75d-463c-885e-99ccd3f63339\",\"type\":\"BasicTicker\"}},\"id\":\"6f376a53-5cd5-41d7-9af4-939d377d102f\",\"type\":\"LinearAxis\"},{\"attributes\":{\"data_source\":{\"id\":\"2a9cb9f8-1133-4522-9078-4333b8e809f0\",\"type\":\"ColumnDataSource\"},\"glyph\":{\"id\":\"3ef8dbbe-d2af-41e8-8d98-37d36982be1f\",\"type\":\"Line\"},\"hover_glyph\":null,\"muted_glyph\":null,\"nonselection_glyph\":{\"id\":\"8e07bafe-d6b0-4485-a90c-b62540474c12\",\"type\":\"Line\"},\"selection_glyph\":null,\"view\":{\"id\":\"db73ddd2-b27e-490b-9456-00bc7010650c\",\"type\":\"CDSView\"}},\"id\":\"187c7186-b131-4ba4-a8d7-4457c659d40c\",\"type\":\"GlyphRenderer\"},{\"attributes\":{},\"id\":\"13f9345b-c75d-463c-885e-99ccd3f63339\",\"type\":\"BasicTicker\"},{\"attributes\":{},\"id\":\"1cd4a215-1ee6-4f27-8dcd-344e86c18675\",\"type\":\"BasicTickFormatter\"},{\"attributes\":{},\"id\":\"c1102c0a-8f5d-4930-93fd-cf0494f120ae\",\"type\":\"Selection\"},{\"attributes\":{\"dimension\":1,\"plot\":{\"id\":\"412abe44-8b95-4450-9e07-2caefcae3553\",\"subtype\":\"Figure\",\"type\":\"Plot\"},\"ticker\":{\"id\":\"13f9345b-c75d-463c-885e-99ccd3f63339\",\"type\":\"BasicTicker\"}},\"id\":\"191c97a6-74a6-41c6-9344-fc6d465018b3\",\"type\":\"Grid\"},{\"attributes\":{\"label\":{\"value\":\"real\"},\"renderers\":[{\"id\":\"bedba01f-c4ef-4c37-9d1a-133af8d41bf6\",\"type\":\"GlyphRenderer\"}]},\"id\":\"6dcbb4b4-f930-4c88-bd1e-654329d8649a\",\"type\":\"LegendItem\"},{\"attributes\":{\"line_color\":\"orange\",\"x\":{\"field\":\"x\"},\"y\":{\"field\":\"y\"}},\"id\":\"3ef8dbbe-d2af-41e8-8d98-37d36982be1f\",\"type\":\"Line\"},{\"attributes\":{\"line_color\":\"#1f77b4\",\"x\":{\"field\":\"x\"},\"y\":{\"field\":\"y\"}},\"id\":\"b5eaeb26-ae29-4ba7-8028-b1495bea3abe\",\"type\":\"Line\"},{\"attributes\":{\"source\":{\"id\":\"2a9cb9f8-1133-4522-9078-4333b8e809f0\",\"type\":\"ColumnDataSource\"}},\"id\":\"db73ddd2-b27e-490b-9456-00bc7010650c\",\"type\":\"CDSView\"},{\"attributes\":{},\"id\":\"d9b57385-af63-408f-915b-33b89eb4ed5c\",\"type\":\"Selection\"},{\"attributes\":{\"plot\":{\"id\":\"412abe44-8b95-4450-9e07-2caefcae3553\",\"subtype\":\"Figure\",\"type\":\"Plot\"},\"ticker\":{\"id\":\"fdf4916e-6e36-40d4-9662-825d3644ffb1\",\"type\":\"BasicTicker\"}},\"id\":\"757e97d3-9cf0-467f-b274-c8d19f90b107\",\"type\":\"Grid\"},{\"attributes\":{\"formatter\":{\"id\":\"1cd4a215-1ee6-4f27-8dcd-344e86c18675\",\"type\":\"BasicTickFormatter\"},\"plot\":{\"id\":\"412abe44-8b95-4450-9e07-2caefcae3553\",\"subtype\":\"Figure\",\"type\":\"Plot\"},\"ticker\":{\"id\":\"fdf4916e-6e36-40d4-9662-825d3644ffb1\",\"type\":\"BasicTicker\"}},\"id\":\"d7784835-ba4e-4756-bc3d-372f7bd4a5ad\",\"type\":\"LinearAxis\"},{\"attributes\":{\"active_drag\":\"auto\",\"active_inspect\":\"auto\",\"active_scroll\":\"auto\",\"active_tap\":\"auto\",\"tools\":[{\"id\":\"93d37b64-dcf3-4113-880b-9eaf2c561123\",\"type\":\"PanTool\"},{\"id\":\"da51718c-0563-4366-a293-d9c9f9ea4962\",\"type\":\"WheelZoomTool\"},{\"id\":\"f16e4f95-673e-490a-acb1-0d004e96a156\",\"type\":\"BoxZoomTool\"},{\"id\":\"9a9ac8be-9fb5-47e6-8a37-fe53afb4f5fd\",\"type\":\"SaveTool\"},{\"id\":\"209b017c-b983-4b81-b3b6-bc80893548ab\",\"type\":\"ResetTool\"},{\"id\":\"ae13ce43-055c-44ce-8157-a68d9093edf0\",\"type\":\"HelpTool\"}]},\"id\":\"a8f465cd-2642-43cb-bc07-a1d3ac14d636\",\"type\":\"Toolbar\"},{\"attributes\":{\"label\":{\"value\":\"predicted_xgb\"},\"renderers\":[{\"id\":\"187c7186-b131-4ba4-a8d7-4457c659d40c\",\"type\":\"GlyphRenderer\"}]},\"id\":\"ff8984ac-14ab-4409-8145-2a511149b48f\",\"type\":\"LegendItem\"},{\"attributes\":{\"callback\":null},\"id\":\"730ca8dd-d32b-4807-bca1-b1cb43f97e32\",\"type\":\"DataRange1d\"},{\"attributes\":{},\"id\":\"95051c73-8af3-4d4c-bf62-c9362848b8fa\",\"type\":\"UnionRenderers\"},{\"attributes\":{\"items\":[{\"id\":\"6dcbb4b4-f930-4c88-bd1e-654329d8649a\",\"type\":\"LegendItem\"},{\"id\":\"ff8984ac-14ab-4409-8145-2a511149b48f\",\"type\":\"LegendItem\"}],\"plot\":{\"id\":\"412abe44-8b95-4450-9e07-2caefcae3553\",\"subtype\":\"Figure\",\"type\":\"Plot\"}},\"id\":\"2dd472eb-4156-428b-8061-9399990d9e6f\",\"type\":\"Legend\"},{\"attributes\":{\"plot\":null,\"text\":\"\"},\"id\":\"17cb2c52-0dbd-4d4a-a688-1840a93a0edf\",\"type\":\"Title\"},{\"attributes\":{},\"id\":\"a43a705d-8029-44d1-bb15-e59f22cf3a5d\",\"type\":\"BasicTickFormatter\"},{\"attributes\":{\"below\":[{\"id\":\"d7784835-ba4e-4756-bc3d-372f7bd4a5ad\",\"type\":\"LinearAxis\"}],\"left\":[{\"id\":\"6f376a53-5cd5-41d7-9af4-939d377d102f\",\"type\":\"LinearAxis\"}],\"renderers\":[{\"id\":\"d7784835-ba4e-4756-bc3d-372f7bd4a5ad\",\"type\":\"LinearAxis\"},{\"id\":\"757e97d3-9cf0-467f-b274-c8d19f90b107\",\"type\":\"Grid\"},{\"id\":\"6f376a53-5cd5-41d7-9af4-939d377d102f\",\"type\":\"LinearAxis\"},{\"id\":\"191c97a6-74a6-41c6-9344-fc6d465018b3\",\"type\":\"Grid\"},{\"id\":\"0f6d6122-e3b0-4e7c-82d3-8185be232e0a\",\"type\":\"BoxAnnotation\"},{\"id\":\"2dd472eb-4156-428b-8061-9399990d9e6f\",\"type\":\"Legend\"},{\"id\":\"bedba01f-c4ef-4c37-9d1a-133af8d41bf6\",\"type\":\"GlyphRenderer\"},{\"id\":\"187c7186-b131-4ba4-a8d7-4457c659d40c\",\"type\":\"GlyphRenderer\"}],\"title\":{\"id\":\"17cb2c52-0dbd-4d4a-a688-1840a93a0edf\",\"type\":\"Title\"},\"toolbar\":{\"id\":\"a8f465cd-2642-43cb-bc07-a1d3ac14d636\",\"type\":\"Toolbar\"},\"x_range\":{\"id\":\"730ca8dd-d32b-4807-bca1-b1cb43f97e32\",\"type\":\"DataRange1d\"},\"x_scale\":{\"id\":\"9a869a7d-65e3-4088-904c-689a26d648e2\",\"type\":\"LinearScale\"},\"y_range\":{\"id\":\"71d3d226-aa66-4b9f-a98a-2dced3010b30\",\"type\":\"DataRange1d\"},\"y_scale\":{\"id\":\"d186f16a-79c0-419a-b7d3-63d57d122715\",\"type\":\"LinearScale\"}},\"id\":\"412abe44-8b95-4450-9e07-2caefcae3553\",\"subtype\":\"Figure\",\"type\":\"Plot\"},{\"attributes\":{\"line_alpha\":0.1,\"line_color\":\"#1f77b4\",\"x\":{\"field\":\"x\"},\"y\":{\"field\":\"y\"}},\"id\":\"a304f523-853f-474a-a454-afae042a3db4\",\"type\":\"Line\"},{\"attributes\":{},\"id\":\"d186f16a-79c0-419a-b7d3-63d57d122715\",\"type\":\"LinearScale\"},{\"attributes\":{\"callback\":null},\"id\":\"71d3d226-aa66-4b9f-a98a-2dced3010b30\",\"type\":\"DataRange1d\"},{\"attributes\":{\"callback\":null,\"data\":{\"x\":{\"__ndarray__\":\"AAAAAAEAAAACAAAAAwAAAAQAAAAFAAAABgAAAAcAAAAIAAAACQAAAAoAAAALAAAADAAAAA0AAAAOAAAADwAAABAAAAARAAAAEgAAABMAAAAUAAAAFQAAABYAAAAXAAAA\",\"dtype\":\"int32\",\"shape\":[24]},\"y\":{\"__ndarray__\":\"5tPXFgcL6j/a0pOjn2DoPyC5kRu5kec/iUmYhEmY5D+ve4dEFSHeP9NKrdRKrdA/2HnQOuA2sT9oko5PX1uMP9osm3/GNCk/AAAAAAAAAAAAAAAAAAAAAAAAAAAAAAAAAAAAAAAAAAAAAAAAAAAAAAAAAAAAAAAAAAAAAAAAAAAAAAAAAAAAAAAAAAAAAAAAAAAAAAAAAAAAAAAAAAAAAEMU3WpHEI4/+YEf+IEf0D8QO7ETO7HjP2d2MwQQzec/\",\"dtype\":\"float64\",\"shape\":[24]}},\"selected\":{\"id\":\"d9b57385-af63-408f-915b-33b89eb4ed5c\",\"type\":\"Selection\"},\"selection_policy\":{\"id\":\"50131115-7fe6-4486-a4cf-0bdc1d493320\",\"type\":\"UnionRenderers\"}},\"id\":\"a7957aae-6164-471f-a4e7-ecaafbf222dd\",\"type\":\"ColumnDataSource\"},{\"attributes\":{\"bottom_units\":\"screen\",\"fill_alpha\":{\"value\":0.5},\"fill_color\":{\"value\":\"lightgrey\"},\"left_units\":\"screen\",\"level\":\"overlay\",\"line_alpha\":{\"value\":1.0},\"line_color\":{\"value\":\"black\"},\"line_dash\":[4,4],\"line_width\":{\"value\":2},\"plot\":null,\"render_mode\":\"css\",\"right_units\":\"screen\",\"top_units\":\"screen\"},\"id\":\"0f6d6122-e3b0-4e7c-82d3-8185be232e0a\",\"type\":\"BoxAnnotation\"},{\"attributes\":{},\"id\":\"da51718c-0563-4366-a293-d9c9f9ea4962\",\"type\":\"WheelZoomTool\"},{\"attributes\":{\"source\":{\"id\":\"a7957aae-6164-471f-a4e7-ecaafbf222dd\",\"type\":\"ColumnDataSource\"}},\"id\":\"f96dce00-23b0-4663-b649-71173d4c5655\",\"type\":\"CDSView\"},{\"attributes\":{},\"id\":\"9a869a7d-65e3-4088-904c-689a26d648e2\",\"type\":\"LinearScale\"},{\"attributes\":{},\"id\":\"93d37b64-dcf3-4113-880b-9eaf2c561123\",\"type\":\"PanTool\"},{\"attributes\":{\"data_source\":{\"id\":\"a7957aae-6164-471f-a4e7-ecaafbf222dd\",\"type\":\"ColumnDataSource\"},\"glyph\":{\"id\":\"b5eaeb26-ae29-4ba7-8028-b1495bea3abe\",\"type\":\"Line\"},\"hover_glyph\":null,\"muted_glyph\":null,\"nonselection_glyph\":{\"id\":\"a304f523-853f-474a-a454-afae042a3db4\",\"type\":\"Line\"},\"selection_glyph\":null,\"view\":{\"id\":\"f96dce00-23b0-4663-b649-71173d4c5655\",\"type\":\"CDSView\"}},\"id\":\"bedba01f-c4ef-4c37-9d1a-133af8d41bf6\",\"type\":\"GlyphRenderer\"},{\"attributes\":{},\"id\":\"209b017c-b983-4b81-b3b6-bc80893548ab\",\"type\":\"ResetTool\"},{\"attributes\":{},\"id\":\"ae13ce43-055c-44ce-8157-a68d9093edf0\",\"type\":\"HelpTool\"},{\"attributes\":{\"overlay\":{\"id\":\"0f6d6122-e3b0-4e7c-82d3-8185be232e0a\",\"type\":\"BoxAnnotation\"}},\"id\":\"f16e4f95-673e-490a-acb1-0d004e96a156\",\"type\":\"BoxZoomTool\"}],\"root_ids\":[\"412abe44-8b95-4450-9e07-2caefcae3553\"]},\"title\":\"Bokeh Application\",\"version\":\"0.12.16\"}};\n",
       "  var render_items = [{\"docid\":\"beee4b6d-ed12-4717-9c16-f5d3920c6af4\",\"elementid\":\"c4119e4b-0fae-4fb3-b43f-f23e20eb631e\",\"modelid\":\"412abe44-8b95-4450-9e07-2caefcae3553\"}];\n",
       "  root.Bokeh.embed.embed_items_notebook(docs_json, render_items);\n",
       "\n",
       "  }\n",
       "  if (root.Bokeh !== undefined) {\n",
       "    embed_document(root);\n",
       "  } else {\n",
       "    var attempts = 0;\n",
       "    var timer = setInterval(function(root) {\n",
       "      if (root.Bokeh !== undefined) {\n",
       "        embed_document(root);\n",
       "        clearInterval(timer);\n",
       "      }\n",
       "      attempts++;\n",
       "      if (attempts > 100) {\n",
       "        console.log(\"Bokeh: ERROR: Unable to run BokehJS code because BokehJS library is missing\")\n",
       "        clearInterval(timer);\n",
       "      }\n",
       "    }, 10, root)\n",
       "  }\n",
       "})(window);"
      ],
      "application/vnd.bokehjs_exec.v0+json": ""
     },
     "metadata": {
      "application/vnd.bokehjs_exec.v0+json": {
       "id": "412abe44-8b95-4450-9e07-2caefcae3553"
      }
     },
     "output_type": "display_data"
    },
    {
     "name": "stdout",
     "output_type": "stream",
     "text": [
      "0.9379633625637315\n"
     ]
    },
    {
     "data": {
      "text/html": [
       "\n",
       "<div class=\"bk-root\">\n",
       "    <div class=\"bk-plotdiv\" id=\"cd27ebaf-f2ce-4128-866e-71e500d665ff\"></div>\n",
       "</div>"
      ]
     },
     "metadata": {},
     "output_type": "display_data"
    },
    {
     "data": {
      "application/javascript": [
       "(function(root) {\n",
       "  function embed_document(root) {\n",
       "    \n",
       "  var docs_json = {\"6e69fd44-991f-445b-96a0-c1703220bf62\":{\"roots\":{\"references\":[{\"attributes\":{},\"id\":\"a6a80e32-3c79-4531-8d53-3255b7c6520e\",\"type\":\"UnionRenderers\"},{\"attributes\":{\"data_source\":{\"id\":\"5ee8159c-39bb-43d5-b186-feb8b24a9139\",\"type\":\"ColumnDataSource\"},\"glyph\":{\"id\":\"57b0666a-0b07-451d-b681-59191e1047c0\",\"type\":\"Line\"},\"hover_glyph\":null,\"muted_glyph\":null,\"nonselection_glyph\":{\"id\":\"3b71fcc4-51ba-4f0c-a992-8e03dca0a3dd\",\"type\":\"Line\"},\"selection_glyph\":null,\"view\":{\"id\":\"db0b269c-1dbd-4acc-9905-de5cf2450af9\",\"type\":\"CDSView\"}},\"id\":\"a256b889-e22e-400e-a0e0-f131f1e5ef22\",\"type\":\"GlyphRenderer\"},{\"attributes\":{\"line_color\":\"orange\",\"x\":{\"field\":\"x\"},\"y\":{\"field\":\"y\"}},\"id\":\"57b0666a-0b07-451d-b681-59191e1047c0\",\"type\":\"Line\"},{\"attributes\":{\"source\":{\"id\":\"5ee8159c-39bb-43d5-b186-feb8b24a9139\",\"type\":\"ColumnDataSource\"}},\"id\":\"db0b269c-1dbd-4acc-9905-de5cf2450af9\",\"type\":\"CDSView\"},{\"attributes\":{},\"id\":\"a871ef14-5880-4e31-95df-d6a6d8ad1cbf\",\"type\":\"UnionRenderers\"},{\"attributes\":{},\"id\":\"ed8a98a2-b571-4c94-bf79-49f8d6a7ed17\",\"type\":\"BasicTickFormatter\"},{\"attributes\":{\"line_alpha\":0.1,\"line_color\":\"#1f77b4\",\"x\":{\"field\":\"x\"},\"y\":{\"field\":\"y\"}},\"id\":\"3b71fcc4-51ba-4f0c-a992-8e03dca0a3dd\",\"type\":\"Line\"},{\"attributes\":{\"callback\":null,\"data\":{\"x\":{\"__ndarray__\":\"AAAAAAEAAAACAAAAAwAAAAQAAAAFAAAABgAAAAcAAAAIAAAACQAAAAoAAAALAAAADAAAAA0AAAAOAAAADwAAABAAAAARAAAAEgAAABMAAAAUAAAAFQAAABYAAAAXAAAA\",\"dtype\":\"int32\",\"shape\":[24]},\"y\":{\"__ndarray__\":\"cHQmP3B0Jj9KOB8/pZcDP5qJvz5ablE+nISMPTA6tjxA4RM8QOETPEDhEzxA4RM8QOETPEDhEzxA4RM8QOETPEDhEzxA4RM8QOETPEDhEzyIuTY9zmqHPvZD5z5cXRM/\",\"dtype\":\"float32\",\"shape\":[24]}},\"selected\":{\"id\":\"f908a055-1eab-4741-bc8e-413624d4f6f8\",\"type\":\"Selection\"},\"selection_policy\":{\"id\":\"a6a80e32-3c79-4531-8d53-3255b7c6520e\",\"type\":\"UnionRenderers\"}},\"id\":\"5ee8159c-39bb-43d5-b186-feb8b24a9139\",\"type\":\"ColumnDataSource\"},{\"attributes\":{\"label\":{\"value\":\"real\"},\"renderers\":[{\"id\":\"0a2992be-8a84-4d91-80ed-8e9a85a26fcc\",\"type\":\"GlyphRenderer\"}]},\"id\":\"1bca7d22-1ec4-4f7d-8c69-48ef28644fd5\",\"type\":\"LegendItem\"},{\"attributes\":{\"plot\":null,\"text\":\"\"},\"id\":\"29cf8583-745c-424a-bb9b-4963433a8553\",\"type\":\"Title\"},{\"attributes\":{},\"id\":\"7d3a1342-7066-42a7-87d9-9760e17224e8\",\"type\":\"SaveTool\"},{\"attributes\":{},\"id\":\"f1bedf22-38df-4c46-aff8-cdd744255624\",\"type\":\"Selection\"},{\"attributes\":{},\"id\":\"a00b3384-1db5-4f30-b1ce-0489d3e42227\",\"type\":\"HelpTool\"},{\"attributes\":{},\"id\":\"d45247d7-d1ac-4250-aba5-7899ed3025db\",\"type\":\"LinearScale\"},{\"attributes\":{\"items\":[{\"id\":\"1bca7d22-1ec4-4f7d-8c69-48ef28644fd5\",\"type\":\"LegendItem\"},{\"id\":\"18f6f4db-c854-45d0-9c16-e24b01c301eb\",\"type\":\"LegendItem\"}],\"plot\":{\"id\":\"88fceeb2-15bb-46d3-a687-09908e1d88e4\",\"subtype\":\"Figure\",\"type\":\"Plot\"}},\"id\":\"b7d590ad-132a-42e0-a5a1-df5ce27f1479\",\"type\":\"Legend\"},{\"attributes\":{\"callback\":null},\"id\":\"bb350d44-87e7-443f-916d-702204a8e7af\",\"type\":\"DataRange1d\"},{\"attributes\":{},\"id\":\"e8616209-f22f-444e-98c9-0ba24557e054\",\"type\":\"ResetTool\"},{\"attributes\":{},\"id\":\"ea91f77f-f794-430b-b72c-7b9979d3a239\",\"type\":\"BasicTicker\"},{\"attributes\":{\"bottom_units\":\"screen\",\"fill_alpha\":{\"value\":0.5},\"fill_color\":{\"value\":\"lightgrey\"},\"left_units\":\"screen\",\"level\":\"overlay\",\"line_alpha\":{\"value\":1.0},\"line_color\":{\"value\":\"black\"},\"line_dash\":[4,4],\"line_width\":{\"value\":2},\"plot\":null,\"render_mode\":\"css\",\"right_units\":\"screen\",\"top_units\":\"screen\"},\"id\":\"c437caf5-5b95-4262-b551-f6beaf51bd5e\",\"type\":\"BoxAnnotation\"},{\"attributes\":{\"below\":[{\"id\":\"298ff115-a2b7-4458-afaf-3311de6e8e02\",\"type\":\"LinearAxis\"}],\"left\":[{\"id\":\"9f537bda-014a-4963-bd93-ad0540efdc3f\",\"type\":\"LinearAxis\"}],\"renderers\":[{\"id\":\"298ff115-a2b7-4458-afaf-3311de6e8e02\",\"type\":\"LinearAxis\"},{\"id\":\"4d19b9bd-cbc5-4773-bdb6-84d6d6774b17\",\"type\":\"Grid\"},{\"id\":\"9f537bda-014a-4963-bd93-ad0540efdc3f\",\"type\":\"LinearAxis\"},{\"id\":\"72f191dc-11a0-4671-bcd6-78a27019b3e8\",\"type\":\"Grid\"},{\"id\":\"c437caf5-5b95-4262-b551-f6beaf51bd5e\",\"type\":\"BoxAnnotation\"},{\"id\":\"b7d590ad-132a-42e0-a5a1-df5ce27f1479\",\"type\":\"Legend\"},{\"id\":\"0a2992be-8a84-4d91-80ed-8e9a85a26fcc\",\"type\":\"GlyphRenderer\"},{\"id\":\"a256b889-e22e-400e-a0e0-f131f1e5ef22\",\"type\":\"GlyphRenderer\"}],\"title\":{\"id\":\"29cf8583-745c-424a-bb9b-4963433a8553\",\"type\":\"Title\"},\"toolbar\":{\"id\":\"fc9e282e-5564-46d5-a5ab-2dfe5a67be30\",\"type\":\"Toolbar\"},\"x_range\":{\"id\":\"bb350d44-87e7-443f-916d-702204a8e7af\",\"type\":\"DataRange1d\"},\"x_scale\":{\"id\":\"f55bdcef-36c4-44ec-ac7f-7e18223bf6b8\",\"type\":\"LinearScale\"},\"y_range\":{\"id\":\"b8458a31-b993-4415-b287-8ff5c94d2dbb\",\"type\":\"DataRange1d\"},\"y_scale\":{\"id\":\"d45247d7-d1ac-4250-aba5-7899ed3025db\",\"type\":\"LinearScale\"}},\"id\":\"88fceeb2-15bb-46d3-a687-09908e1d88e4\",\"subtype\":\"Figure\",\"type\":\"Plot\"},{\"attributes\":{},\"id\":\"906cf47e-ea75-42cd-bc50-0fb4365e0374\",\"type\":\"BasicTickFormatter\"},{\"attributes\":{\"plot\":{\"id\":\"88fceeb2-15bb-46d3-a687-09908e1d88e4\",\"subtype\":\"Figure\",\"type\":\"Plot\"},\"ticker\":{\"id\":\"e367c142-35ce-432c-bec9-ed845aab0279\",\"type\":\"BasicTicker\"}},\"id\":\"4d19b9bd-cbc5-4773-bdb6-84d6d6774b17\",\"type\":\"Grid\"},{\"attributes\":{\"callback\":null,\"data\":{\"x\":{\"__ndarray__\":\"AAAAAAEAAAACAAAAAwAAAAQAAAAFAAAABgAAAAcAAAAIAAAACQAAAAoAAAALAAAADAAAAA0AAAAOAAAADwAAABAAAAARAAAAEgAAABMAAAAUAAAAFQAAABYAAAAXAAAA\",\"dtype\":\"int32\",\"shape\":[24]},\"y\":{\"__ndarray__\":\"NXwp/kj26D8J3CbUqPPoP4cvxR/JXuc/PfADP/AD4T93u+reIVHdPyA4tpaeHM0/fn0+TkoLqz9eMDi2lp6MP9osm3/GNCk/AAAAAAAAAAAAAAAAAAAAAAAAAAAAAAAAAAAAAAAAAAAAAAAAAAAAAAAAAAAAAAAAAAAAAAAAAAAAAAAAAAAAAAAAAAAAAAAAAAAAAAAAAAAAAAAAAAAAAAxQARVQAWU/JqWFjQvsoz9fWxwsKOm4P1UWZVEWZcE/\",\"dtype\":\"float64\",\"shape\":[24]}},\"selected\":{\"id\":\"f1bedf22-38df-4c46-aff8-cdd744255624\",\"type\":\"Selection\"},\"selection_policy\":{\"id\":\"a871ef14-5880-4e31-95df-d6a6d8ad1cbf\",\"type\":\"UnionRenderers\"}},\"id\":\"7209ddd6-bcd5-4c7c-8e9d-e061ad97cf06\",\"type\":\"ColumnDataSource\"},{\"attributes\":{\"dimension\":1,\"plot\":{\"id\":\"88fceeb2-15bb-46d3-a687-09908e1d88e4\",\"subtype\":\"Figure\",\"type\":\"Plot\"},\"ticker\":{\"id\":\"ea91f77f-f794-430b-b72c-7b9979d3a239\",\"type\":\"BasicTicker\"}},\"id\":\"72f191dc-11a0-4671-bcd6-78a27019b3e8\",\"type\":\"Grid\"},{\"attributes\":{},\"id\":\"fdbf949a-a275-4e97-8d09-871e0cf0d7be\",\"type\":\"PanTool\"},{\"attributes\":{\"source\":{\"id\":\"7209ddd6-bcd5-4c7c-8e9d-e061ad97cf06\",\"type\":\"ColumnDataSource\"}},\"id\":\"87473edc-9be6-45a9-8587-25556cb39a5f\",\"type\":\"CDSView\"},{\"attributes\":{},\"id\":\"416482ca-709d-4f8c-b353-e2e0ec172892\",\"type\":\"WheelZoomTool\"},{\"attributes\":{\"overlay\":{\"id\":\"c437caf5-5b95-4262-b551-f6beaf51bd5e\",\"type\":\"BoxAnnotation\"}},\"id\":\"58a5cb1a-38c3-40d3-8d86-6d4e4708b489\",\"type\":\"BoxZoomTool\"},{\"attributes\":{\"formatter\":{\"id\":\"ed8a98a2-b571-4c94-bf79-49f8d6a7ed17\",\"type\":\"BasicTickFormatter\"},\"plot\":{\"id\":\"88fceeb2-15bb-46d3-a687-09908e1d88e4\",\"subtype\":\"Figure\",\"type\":\"Plot\"},\"ticker\":{\"id\":\"ea91f77f-f794-430b-b72c-7b9979d3a239\",\"type\":\"BasicTicker\"}},\"id\":\"9f537bda-014a-4963-bd93-ad0540efdc3f\",\"type\":\"LinearAxis\"},{\"attributes\":{\"line_color\":\"#1f77b4\",\"x\":{\"field\":\"x\"},\"y\":{\"field\":\"y\"}},\"id\":\"be4afbe8-2d51-47e5-abde-162e7360dd01\",\"type\":\"Line\"},{\"attributes\":{\"active_drag\":\"auto\",\"active_inspect\":\"auto\",\"active_scroll\":\"auto\",\"active_tap\":\"auto\",\"tools\":[{\"id\":\"fdbf949a-a275-4e97-8d09-871e0cf0d7be\",\"type\":\"PanTool\"},{\"id\":\"416482ca-709d-4f8c-b353-e2e0ec172892\",\"type\":\"WheelZoomTool\"},{\"id\":\"58a5cb1a-38c3-40d3-8d86-6d4e4708b489\",\"type\":\"BoxZoomTool\"},{\"id\":\"7d3a1342-7066-42a7-87d9-9760e17224e8\",\"type\":\"SaveTool\"},{\"id\":\"e8616209-f22f-444e-98c9-0ba24557e054\",\"type\":\"ResetTool\"},{\"id\":\"a00b3384-1db5-4f30-b1ce-0489d3e42227\",\"type\":\"HelpTool\"}]},\"id\":\"fc9e282e-5564-46d5-a5ab-2dfe5a67be30\",\"type\":\"Toolbar\"},{\"attributes\":{},\"id\":\"e367c142-35ce-432c-bec9-ed845aab0279\",\"type\":\"BasicTicker\"},{\"attributes\":{\"line_alpha\":0.1,\"line_color\":\"#1f77b4\",\"x\":{\"field\":\"x\"},\"y\":{\"field\":\"y\"}},\"id\":\"313e9eb0-b502-4f37-9e66-faae22623cfd\",\"type\":\"Line\"},{\"attributes\":{\"label\":{\"value\":\"predicted_xgb\"},\"renderers\":[{\"id\":\"a256b889-e22e-400e-a0e0-f131f1e5ef22\",\"type\":\"GlyphRenderer\"}]},\"id\":\"18f6f4db-c854-45d0-9c16-e24b01c301eb\",\"type\":\"LegendItem\"},{\"attributes\":{\"formatter\":{\"id\":\"906cf47e-ea75-42cd-bc50-0fb4365e0374\",\"type\":\"BasicTickFormatter\"},\"plot\":{\"id\":\"88fceeb2-15bb-46d3-a687-09908e1d88e4\",\"subtype\":\"Figure\",\"type\":\"Plot\"},\"ticker\":{\"id\":\"e367c142-35ce-432c-bec9-ed845aab0279\",\"type\":\"BasicTicker\"}},\"id\":\"298ff115-a2b7-4458-afaf-3311de6e8e02\",\"type\":\"LinearAxis\"},{\"attributes\":{\"data_source\":{\"id\":\"7209ddd6-bcd5-4c7c-8e9d-e061ad97cf06\",\"type\":\"ColumnDataSource\"},\"glyph\":{\"id\":\"be4afbe8-2d51-47e5-abde-162e7360dd01\",\"type\":\"Line\"},\"hover_glyph\":null,\"muted_glyph\":null,\"nonselection_glyph\":{\"id\":\"313e9eb0-b502-4f37-9e66-faae22623cfd\",\"type\":\"Line\"},\"selection_glyph\":null,\"view\":{\"id\":\"87473edc-9be6-45a9-8587-25556cb39a5f\",\"type\":\"CDSView\"}},\"id\":\"0a2992be-8a84-4d91-80ed-8e9a85a26fcc\",\"type\":\"GlyphRenderer\"},{\"attributes\":{\"callback\":null},\"id\":\"b8458a31-b993-4415-b287-8ff5c94d2dbb\",\"type\":\"DataRange1d\"},{\"attributes\":{},\"id\":\"f55bdcef-36c4-44ec-ac7f-7e18223bf6b8\",\"type\":\"LinearScale\"},{\"attributes\":{},\"id\":\"f908a055-1eab-4741-bc8e-413624d4f6f8\",\"type\":\"Selection\"}],\"root_ids\":[\"88fceeb2-15bb-46d3-a687-09908e1d88e4\"]},\"title\":\"Bokeh Application\",\"version\":\"0.12.16\"}};\n",
       "  var render_items = [{\"docid\":\"6e69fd44-991f-445b-96a0-c1703220bf62\",\"elementid\":\"cd27ebaf-f2ce-4128-866e-71e500d665ff\",\"modelid\":\"88fceeb2-15bb-46d3-a687-09908e1d88e4\"}];\n",
       "  root.Bokeh.embed.embed_items_notebook(docs_json, render_items);\n",
       "\n",
       "  }\n",
       "  if (root.Bokeh !== undefined) {\n",
       "    embed_document(root);\n",
       "  } else {\n",
       "    var attempts = 0;\n",
       "    var timer = setInterval(function(root) {\n",
       "      if (root.Bokeh !== undefined) {\n",
       "        embed_document(root);\n",
       "        clearInterval(timer);\n",
       "      }\n",
       "      attempts++;\n",
       "      if (attempts > 100) {\n",
       "        console.log(\"Bokeh: ERROR: Unable to run BokehJS code because BokehJS library is missing\")\n",
       "        clearInterval(timer);\n",
       "      }\n",
       "    }, 10, root)\n",
       "  }\n",
       "})(window);"
      ],
      "application/vnd.bokehjs_exec.v0+json": ""
     },
     "metadata": {
      "application/vnd.bokehjs_exec.v0+json": {
       "id": "88fceeb2-15bb-46d3-a687-09908e1d88e4"
      }
     },
     "output_type": "display_data"
    },
    {
     "name": "stdout",
     "output_type": "stream",
     "text": [
      "0.7161265850786465\n"
     ]
    }
   ],
   "source": [
    "import numpy as np\n",
    "from bokeh.plotting import figure,show\n",
    "from bokeh.io import output_notebook\n",
    "output_notebook()\n",
    "from sklearn.metrics import explained_variance_score\n",
    "\n",
    "results = []\n",
    "y_tests = []\n",
    "y_preds = []\n",
    "\n",
    "for i in range(number_of_tests):\n",
    "    start = TRAIN_SIZE+size_of_prediction * i\n",
    "    end = TRAIN_SIZE+size_of_prediction * (i+1)\n",
    "    df_test = df[start:end] \n",
    "    X_test = df_test.drop(ROLLING_COLUMNS,axis=1)\n",
    "    y_test = df_test.POWER\n",
    "    y_pred = predict_model.predict(X_test, boosted_model)\n",
    "    p = figure()\n",
    "    p.line(np.arange(len(y_test)), y_test, legend=\"real\")\n",
    "    p.line(np.arange(len(y_pred)), y_pred, legend=\"predicted_xgb\", color=\"orange\")\n",
    "    show(p)\n",
    "    y_tests.extend(y_test)\n",
    "    y_preds.extend(y_pred)\n",
    "    print(explained_variance_score(y_pred, y_test))\n",
    "    results.append(explained_variance_score(y_pred, y_test))"
   ]
  },
  {
   "cell_type": "code",
   "execution_count": 13,
   "metadata": {
    "scrolled": true
   },
   "outputs": [
    {
     "data": {
      "text/html": [
       "\n",
       "<div class=\"bk-root\">\n",
       "    <div class=\"bk-plotdiv\" id=\"36ff68dc-4efc-43a1-93f5-7da62515dc4e\"></div>\n",
       "</div>"
      ]
     },
     "metadata": {},
     "output_type": "display_data"
    },
    {
     "data": {
      "application/javascript": [
       "(function(root) {\n",
       "  function embed_document(root) {\n",
       "    \n",
       "  var docs_json = {\"4f65ced1-fbc1-4387-a544-f68f9af42561\":{\"roots\":{\"references\":[{\"attributes\":{\"bottom_units\":\"screen\",\"fill_alpha\":{\"value\":0.5},\"fill_color\":{\"value\":\"lightgrey\"},\"left_units\":\"screen\",\"level\":\"overlay\",\"line_alpha\":{\"value\":1.0},\"line_color\":{\"value\":\"black\"},\"line_dash\":[4,4],\"line_width\":{\"value\":2},\"plot\":null,\"render_mode\":\"css\",\"right_units\":\"screen\",\"top_units\":\"screen\"},\"id\":\"c1ddd8b4-9ac0-4ae9-b1eb-8e1aba1af385\",\"type\":\"BoxAnnotation\"},{\"attributes\":{},\"id\":\"6c8a8ad6-0346-40fa-a5f2-d099795445cf\",\"type\":\"PanTool\"},{\"attributes\":{},\"id\":\"e1f31787-a18d-4cd9-b533-a359ccb5ad53\",\"type\":\"WheelZoomTool\"},{\"attributes\":{\"overlay\":{\"id\":\"c1ddd8b4-9ac0-4ae9-b1eb-8e1aba1af385\",\"type\":\"BoxAnnotation\"}},\"id\":\"a1d13bc3-4029-4a98-bc0a-a977bb113bb7\",\"type\":\"BoxZoomTool\"},{\"attributes\":{},\"id\":\"aa572c85-f92c-4b5a-bb96-ca18e3c4758c\",\"type\":\"UnionRenderers\"},{\"attributes\":{\"source\":{\"id\":\"8502d0e4-adca-4e0b-9ffa-18c7cc882bd6\",\"type\":\"ColumnDataSource\"}},\"id\":\"c8d297dd-6f70-46bd-8003-30b6c7644b53\",\"type\":\"CDSView\"},{\"attributes\":{},\"id\":\"6a25449a-481b-4a04-a338-bdcec1e651a5\",\"type\":\"SaveTool\"},{\"attributes\":{},\"id\":\"fe01fddf-27a4-4126-bf7f-fe259bc5c082\",\"type\":\"ResetTool\"},{\"attributes\":{},\"id\":\"1f0f6db1-8e00-47e9-a5e5-5ad16387b11e\",\"type\":\"HelpTool\"},{\"attributes\":{\"items\":[{\"id\":\"c271ec32-bf35-4a83-b474-7d02ee2f98d2\",\"type\":\"LegendItem\"},{\"id\":\"d3ae804d-30b5-48cf-96ab-3388d0a20fb6\",\"type\":\"LegendItem\"}],\"plot\":{\"id\":\"c19fd81f-c107-453c-a537-b8e1cabc5c90\",\"subtype\":\"Figure\",\"type\":\"Plot\"}},\"id\":\"b403f0d4-f1f3-4518-9f1c-36e5b05231e1\",\"type\":\"Legend\"},{\"attributes\":{},\"id\":\"f658a9f1-58e7-4328-b0a7-71548a2b28a3\",\"type\":\"BasicTickFormatter\"},{\"attributes\":{\"plot\":null,\"text\":\"\"},\"id\":\"fa5b86d0-618e-48a4-8a05-9db0651938de\",\"type\":\"Title\"},{\"attributes\":{},\"id\":\"1016fd80-4bf9-4797-9317-e482e3cd3ed8\",\"type\":\"Selection\"},{\"attributes\":{\"label\":{\"value\":\"real\"},\"renderers\":[{\"id\":\"f6c6a80d-8cd1-47e7-9a52-afc655f2df05\",\"type\":\"GlyphRenderer\"}]},\"id\":\"c271ec32-bf35-4a83-b474-7d02ee2f98d2\",\"type\":\"LegendItem\"},{\"attributes\":{},\"id\":\"c722fd40-f36a-4576-ac86-9918085fc3eb\",\"type\":\"UnionRenderers\"},{\"attributes\":{\"callback\":null,\"data\":{\"x\":{\"__ndarray__\":\"AAAAAAEAAAACAAAAAwAAAAQAAAAFAAAABgAAAAcAAAAIAAAACQAAAAoAAAALAAAADAAAAA0AAAAOAAAADwAAABAAAAARAAAAEgAAABMAAAAUAAAAFQAAABYAAAAXAAAAGAAAABkAAAAaAAAAGwAAABwAAAAdAAAAHgAAAB8AAAAgAAAAIQAAACIAAAAjAAAAJAAAACUAAAAmAAAAJwAAACgAAAApAAAAKgAAACsAAAAsAAAALQAAAC4AAAAvAAAAMAAAADEAAAAyAAAAMwAAADQAAAA1AAAANgAAADcAAAA4AAAAOQAAADoAAAA7AAAAPAAAAD0AAAA+AAAAPwAAAEAAAABBAAAAQgAAAEMAAABEAAAARQAAAEYAAABHAAAASAAAAEkAAABKAAAASwAAAEwAAABNAAAATgAAAE8AAABQAAAAUQAAAFIAAABTAAAAVAAAAFUAAABWAAAAVwAAAFgAAABZAAAAWgAAAFsAAABcAAAAXQAAAF4AAABfAAAAYAAAAGEAAABiAAAAYwAAAGQAAABlAAAAZgAAAGcAAABoAAAAaQAAAGoAAABrAAAAbAAAAG0AAABuAAAAbwAAAHAAAABxAAAAcgAAAHMAAAB0AAAAdQAAAHYAAAB3AAAAeAAAAHkAAAB6AAAAewAAAHwAAAB9AAAAfgAAAH8AAACAAAAAgQAAAIIAAACDAAAAhAAAAIUAAACGAAAAhwAAAIgAAACJAAAAigAAAIsAAACMAAAAjQAAAI4AAACPAAAAkAAAAJEAAACSAAAAkwAAAJQAAACVAAAAlgAAAJcAAACYAAAAmQAAAJoAAACbAAAAnAAAAJ0AAACeAAAAnwAAAKAAAAChAAAAogAAAKMAAACkAAAApQAAAKYAAACnAAAA\",\"dtype\":\"int32\",\"shape\":[168]},\"y\":[0.699358974358974,0.7936538461538459,0.705128205128205,0.5905128205128211,0.424807692307692,0.24705128205128196,0.0730128205128205,0.0173717948717949,0.000320512820512821,0.0,0.0,0.0,0.0,0.0,0.0,0.0,0.0,0.0,0.0,0.0,0.0166025641025641,0.20326923076923104,0.45403846153846206,0.331858974358974,0.4455128205128211,0.38782051282051294,0.38852564102564097,0.22025641025641002,0.0866025641025641,0.045,0.0305769230769231,0.0202564102564103,0.00019230769230769198,0.0,0.0,0.0,0.0,0.0,0.0,0.0,0.0,0.0,0.0,0.0,0.0176282051282051,0.28942307692307695,0.6619230769230771,0.8143589743589741,0.8622435897435899,0.837371794871795,0.762820512820513,0.650192307692308,0.484807692307692,0.265064102564103,0.0635897435897436,0.0137179487179487,0.000384615384615385,0.0,0.0,0.0,0.0,0.0,0.0,0.0,0.0,0.0,0.0,6.41025641025641e-05,0.0173717948717949,0.273782051282051,0.631794871794872,0.775769230769231,0.8383974358974359,0.8208974358974358,0.644551282051282,0.463910256410256,0.459294871794872,0.23884615384615399,0.0894871794871795,0.0249358974358974,0.00012820512820512802,0.0,0.0,0.0,0.0,0.0,0.0,0.0,0.0,0.0,0.0,0.0,0.00198717948717949,0.0508974358974359,0.0897435897435897,0.143333333333333,0.4175,0.808333333333333,0.585961538461538,0.45737179487179497,0.232179487179487,0.163333333333333,0.0493589743589744,0.0107051282051282,0.00025641025641025603,0.0,0.0,0.0,0.0,0.0,0.0,0.0,0.0,0.0,0.0,0.0,0.0106410256410256,0.0532692307692308,0.21012820512820496,0.6888461538461539,0.8138461538461541,0.7617948717948722,0.736538461538462,0.6435897435897441,0.470769230769231,0.260576923076923,0.0672435897435898,0.0138461538461538,0.00019230769230769198,0.0,0.0,0.0,0.0,0.0,0.0,0.0,0.0,0.0,0.0,0.0,0.0146794871794872,0.25192307692307697,0.615384615384615,0.7437820512820509,0.780064102564103,0.7797435897435899,0.7303205128205129,0.531730769230769,0.458076923076923,0.22743589743589698,0.0528205128205128,0.013974358974358999,0.00019230769230769198,0.0,0.0,0.0,0.0,0.0,0.0,0.0,0.0,0.0,0.0,0.0,0.00256410256410256,0.0389102564102564,0.0973076923076923,0.135897435897436]},\"selected\":{\"id\":\"16359327-389d-4b53-bb01-dc236266bd7e\",\"type\":\"Selection\"},\"selection_policy\":{\"id\":\"c722fd40-f36a-4576-ac86-9918085fc3eb\",\"type\":\"UnionRenderers\"}},\"id\":\"8502d0e4-adca-4e0b-9ffa-18c7cc882bd6\",\"type\":\"ColumnDataSource\"},{\"attributes\":{\"line_alpha\":0.1,\"line_color\":\"#1f77b4\",\"line_width\":2,\"x\":{\"field\":\"x\"},\"y\":{\"field\":\"y\"}},\"id\":\"434797c2-1ca6-4a3c-b43c-a029be6bacec\",\"type\":\"Line\"},{\"attributes\":{\"below\":[{\"id\":\"fe3fd577-654e-4cbb-a415-383f103fe355\",\"type\":\"LinearAxis\"}],\"left\":[{\"id\":\"f078e683-8287-4964-a7d1-04ffb9ceae59\",\"type\":\"LinearAxis\"}],\"renderers\":[{\"id\":\"fe3fd577-654e-4cbb-a415-383f103fe355\",\"type\":\"LinearAxis\"},{\"id\":\"5a26acc2-2613-4faa-83e5-2852b54a5d22\",\"type\":\"Grid\"},{\"id\":\"f078e683-8287-4964-a7d1-04ffb9ceae59\",\"type\":\"LinearAxis\"},{\"id\":\"cc1e2202-f120-4b62-b559-dcd1879df892\",\"type\":\"Grid\"},{\"id\":\"c1ddd8b4-9ac0-4ae9-b1eb-8e1aba1af385\",\"type\":\"BoxAnnotation\"},{\"id\":\"b403f0d4-f1f3-4518-9f1c-36e5b05231e1\",\"type\":\"Legend\"},{\"id\":\"f6c6a80d-8cd1-47e7-9a52-afc655f2df05\",\"type\":\"GlyphRenderer\"},{\"id\":\"54ba2638-9fa3-4e13-a7c3-f82a431b9a3d\",\"type\":\"GlyphRenderer\"}],\"title\":{\"id\":\"fa5b86d0-618e-48a4-8a05-9db0651938de\",\"type\":\"Title\"},\"toolbar\":{\"id\":\"d5ef7892-f535-456a-beca-4c26438eef78\",\"type\":\"Toolbar\"},\"x_range\":{\"id\":\"edd6320b-ba66-4a33-af6f-b85084a3be9e\",\"type\":\"DataRange1d\"},\"x_scale\":{\"id\":\"c59c59b9-8bbd-4773-a8ac-1a962cb83a95\",\"type\":\"LinearScale\"},\"y_range\":{\"id\":\"986ce6b4-71f1-4e24-bf03-84bbfab1434e\",\"type\":\"DataRange1d\"},\"y_scale\":{\"id\":\"e8d281da-089d-49a0-9518-be38b9a25302\",\"type\":\"LinearScale\"}},\"id\":\"c19fd81f-c107-453c-a537-b8e1cabc5c90\",\"subtype\":\"Figure\",\"type\":\"Plot\"},{\"attributes\":{\"data_source\":{\"id\":\"91a0d0fd-cba4-4d6e-8f82-de61b668d8e3\",\"type\":\"ColumnDataSource\"},\"glyph\":{\"id\":\"34a15f0d-903a-44e4-8e64-a69436496db2\",\"type\":\"Line\"},\"hover_glyph\":null,\"muted_glyph\":null,\"nonselection_glyph\":{\"id\":\"434797c2-1ca6-4a3c-b43c-a029be6bacec\",\"type\":\"Line\"},\"selection_glyph\":null,\"view\":{\"id\":\"62ce1008-103f-4449-b50f-1939dc55a512\",\"type\":\"CDSView\"}},\"id\":\"54ba2638-9fa3-4e13-a7c3-f82a431b9a3d\",\"type\":\"GlyphRenderer\"},{\"attributes\":{\"data_source\":{\"id\":\"8502d0e4-adca-4e0b-9ffa-18c7cc882bd6\",\"type\":\"ColumnDataSource\"},\"glyph\":{\"id\":\"2cec2980-d40c-44fa-b5ef-461c0adcc7a4\",\"type\":\"Line\"},\"hover_glyph\":null,\"muted_glyph\":null,\"nonselection_glyph\":{\"id\":\"96826e5f-125f-4d24-b291-2f7b354384ff\",\"type\":\"Line\"},\"selection_glyph\":null,\"view\":{\"id\":\"c8d297dd-6f70-46bd-8003-30b6c7644b53\",\"type\":\"CDSView\"}},\"id\":\"f6c6a80d-8cd1-47e7-9a52-afc655f2df05\",\"type\":\"GlyphRenderer\"},{\"attributes\":{\"line_color\":\"orange\",\"line_width\":2,\"x\":{\"field\":\"x\"},\"y\":{\"field\":\"y\"}},\"id\":\"34a15f0d-903a-44e4-8e64-a69436496db2\",\"type\":\"Line\"},{\"attributes\":{\"active_drag\":\"auto\",\"active_inspect\":\"auto\",\"active_scroll\":\"auto\",\"active_tap\":\"auto\",\"tools\":[{\"id\":\"6c8a8ad6-0346-40fa-a5f2-d099795445cf\",\"type\":\"PanTool\"},{\"id\":\"e1f31787-a18d-4cd9-b533-a359ccb5ad53\",\"type\":\"WheelZoomTool\"},{\"id\":\"a1d13bc3-4029-4a98-bc0a-a977bb113bb7\",\"type\":\"BoxZoomTool\"},{\"id\":\"6a25449a-481b-4a04-a338-bdcec1e651a5\",\"type\":\"SaveTool\"},{\"id\":\"fe01fddf-27a4-4126-bf7f-fe259bc5c082\",\"type\":\"ResetTool\"},{\"id\":\"1f0f6db1-8e00-47e9-a5e5-5ad16387b11e\",\"type\":\"HelpTool\"}]},\"id\":\"d5ef7892-f535-456a-beca-4c26438eef78\",\"type\":\"Toolbar\"},{\"attributes\":{\"source\":{\"id\":\"91a0d0fd-cba4-4d6e-8f82-de61b668d8e3\",\"type\":\"ColumnDataSource\"}},\"id\":\"62ce1008-103f-4449-b50f-1939dc55a512\",\"type\":\"CDSView\"},{\"attributes\":{\"callback\":null},\"id\":\"edd6320b-ba66-4a33-af6f-b85084a3be9e\",\"type\":\"DataRange1d\"},{\"attributes\":{},\"id\":\"16359327-389d-4b53-bb01-dc236266bd7e\",\"type\":\"Selection\"},{\"attributes\":{\"line_color\":\"#1f77b4\",\"line_width\":2,\"x\":{\"field\":\"x\"},\"y\":{\"field\":\"y\"}},\"id\":\"2cec2980-d40c-44fa-b5ef-461c0adcc7a4\",\"type\":\"Line\"},{\"attributes\":{\"callback\":null},\"id\":\"986ce6b4-71f1-4e24-bf03-84bbfab1434e\",\"type\":\"DataRange1d\"},{\"attributes\":{},\"id\":\"c59c59b9-8bbd-4773-a8ac-1a962cb83a95\",\"type\":\"LinearScale\"},{\"attributes\":{\"label\":{\"value\":\"predicted\"},\"renderers\":[{\"id\":\"54ba2638-9fa3-4e13-a7c3-f82a431b9a3d\",\"type\":\"GlyphRenderer\"}]},\"id\":\"d3ae804d-30b5-48cf-96ab-3388d0a20fb6\",\"type\":\"LegendItem\"},{\"attributes\":{},\"id\":\"e8d281da-089d-49a0-9518-be38b9a25302\",\"type\":\"LinearScale\"},{\"attributes\":{\"plot\":{\"id\":\"c19fd81f-c107-453c-a537-b8e1cabc5c90\",\"subtype\":\"Figure\",\"type\":\"Plot\"},\"ticker\":{\"id\":\"af772c6a-de33-4e36-80c5-421e1dee17aa\",\"type\":\"BasicTicker\"}},\"id\":\"5a26acc2-2613-4faa-83e5-2852b54a5d22\",\"type\":\"Grid\"},{\"attributes\":{\"formatter\":{\"id\":\"5f09c3a6-4f59-4ec1-a309-ac971f64a64e\",\"type\":\"BasicTickFormatter\"},\"plot\":{\"id\":\"c19fd81f-c107-453c-a537-b8e1cabc5c90\",\"subtype\":\"Figure\",\"type\":\"Plot\"},\"ticker\":{\"id\":\"af772c6a-de33-4e36-80c5-421e1dee17aa\",\"type\":\"BasicTicker\"}},\"id\":\"fe3fd577-654e-4cbb-a415-383f103fe355\",\"type\":\"LinearAxis\"},{\"attributes\":{},\"id\":\"af772c6a-de33-4e36-80c5-421e1dee17aa\",\"type\":\"BasicTicker\"},{\"attributes\":{\"formatter\":{\"id\":\"f658a9f1-58e7-4328-b0a7-71548a2b28a3\",\"type\":\"BasicTickFormatter\"},\"plot\":{\"id\":\"c19fd81f-c107-453c-a537-b8e1cabc5c90\",\"subtype\":\"Figure\",\"type\":\"Plot\"},\"ticker\":{\"id\":\"c4be58eb-36a6-44e0-ba62-51e8c07755f0\",\"type\":\"BasicTicker\"}},\"id\":\"f078e683-8287-4964-a7d1-04ffb9ceae59\",\"type\":\"LinearAxis\"},{\"attributes\":{},\"id\":\"c4be58eb-36a6-44e0-ba62-51e8c07755f0\",\"type\":\"BasicTicker\"},{\"attributes\":{\"dimension\":1,\"plot\":{\"id\":\"c19fd81f-c107-453c-a537-b8e1cabc5c90\",\"subtype\":\"Figure\",\"type\":\"Plot\"},\"ticker\":{\"id\":\"c4be58eb-36a6-44e0-ba62-51e8c07755f0\",\"type\":\"BasicTicker\"}},\"id\":\"cc1e2202-f120-4b62-b559-dcd1879df892\",\"type\":\"Grid\"},{\"attributes\":{\"line_alpha\":0.1,\"line_color\":\"#1f77b4\",\"line_width\":2,\"x\":{\"field\":\"x\"},\"y\":{\"field\":\"y\"}},\"id\":\"96826e5f-125f-4d24-b291-2f7b354384ff\",\"type\":\"Line\"},{\"attributes\":{},\"id\":\"5f09c3a6-4f59-4ec1-a309-ac971f64a64e\",\"type\":\"BasicTickFormatter\"},{\"attributes\":{\"callback\":null,\"data\":{\"x\":{\"__ndarray__\":\"AAAAAAEAAAACAAAAAwAAAAQAAAAFAAAABgAAAAcAAAAIAAAACQAAAAoAAAALAAAADAAAAA0AAAAOAAAADwAAABAAAAARAAAAEgAAABMAAAAUAAAAFQAAABYAAAAXAAAAGAAAABkAAAAaAAAAGwAAABwAAAAdAAAAHgAAAB8AAAAgAAAAIQAAACIAAAAjAAAAJAAAACUAAAAmAAAAJwAAACgAAAApAAAAKgAAACsAAAAsAAAALQAAAC4AAAAvAAAAMAAAADEAAAAyAAAAMwAAADQAAAA1AAAANgAAADcAAAA4AAAAOQAAADoAAAA7AAAAPAAAAD0AAAA+AAAAPwAAAEAAAABBAAAAQgAAAEMAAABEAAAARQAAAEYAAABHAAAASAAAAEkAAABKAAAASwAAAEwAAABNAAAATgAAAE8AAABQAAAAUQAAAFIAAABTAAAAVAAAAFUAAABWAAAAVwAAAFgAAABZAAAAWgAAAFsAAABcAAAAXQAAAF4AAABfAAAAYAAAAGEAAABiAAAAYwAAAGQAAABlAAAAZgAAAGcAAABoAAAAaQAAAGoAAABrAAAAbAAAAG0AAABuAAAAbwAAAHAAAABxAAAAcgAAAHMAAAB0AAAAdQAAAHYAAAB3AAAAeAAAAHkAAAB6AAAAewAAAHwAAAB9AAAAfgAAAH8AAACAAAAAgQAAAIIAAACDAAAAhAAAAIUAAACGAAAAhwAAAIgAAACJAAAAigAAAIsAAACMAAAAjQAAAI4AAACPAAAAkAAAAJEAAACSAAAAkwAAAJQAAACVAAAAlgAAAJcAAACYAAAAmQAAAJoAAACbAAAAnAAAAJ0AAACeAAAAnwAAAKAAAAChAAAAogAAAKMAAACkAAAApQAAAKYAAACnAAAA\",\"dtype\":\"int32\",\"shape\":[168]},\"y\":[0.6466808319091797,0.6466808319091797,0.6255035996437073,0.5347344875335693,0.38520288467407227,0.2061576247215271,0.07024741172790527,0.018975824117660522,0.005757153034210205,0.0023396313190460205,0.0023396313190460205,0.0032989084720611572,0.0032989084720611572,0.008266657590866089,0.006567627191543579,0.006567627191543579,0.006567627191543579,0.006567627191543579,0.006567627191543579,0.006567627191543579,0.054525285959243774,0.22425401210784912,0.37639856338500977,0.5983838438987732,0.6658704876899719,0.6658704876899719,0.6446932554244995,0.5278987884521484,0.3510048985481262,0.18504512310028076,0.05984663963317871,0.012138217687606812,0.0030754506587982178,0.0030754506587982178,0.005338907241821289,0.0072006285190582275,0.0072006285190582275,0.0072006285190582275,0.0072006285190582275,0.0072006285190582275,0.0072006285190582275,0.0072006285190582275,0.02054274082183838,0.02054274082183838,0.0640912652015686,0.26668280363082886,0.41989144682884216,0.5488731861114502,0.6026067733764648,0.6026067733764648,0.6049476265907288,0.5374022126197815,0.40076491236686707,0.21053117513656616,0.07995474338531494,0.030443042516708374,0.008486002683639526,0.006786972284317017,0.006786972284317017,0.006786972284317017,0.006786972284317017,0.006786972284317017,0.006786972284317017,0.006786972284317017,0.006786972284317017,0.006786972284317017,0.006786972284317017,0.006786972284317017,0.03726518154144287,0.26264092326164246,0.4744722843170166,0.5912280082702637,0.6450255513191223,0.6450255513191223,0.6238483190536499,0.5434525012969971,0.38102662563323975,0.20432773232460022,0.0684175193309784,0.022049754858016968,0.007766932249069214,0.007766932249069214,0.007766932249069214,0.009107589721679688,0.009107589721679688,0.02200186252593994,0.02200186252593994,0.02200186252593994,0.02200186252593994,0.02200186252593994,0.02200186252593994,0.02200186252593994,0.05758652091026306,0.2774627208709717,0.46350550651550293,0.6248277425765991,0.6785613298416138,0.6785613298416138,0.6478337049484253,0.529494047164917,0.3799624443054199,0.20326358079910278,0.06735336780548096,0.02098560333251953,0.007766932249069214,0.009025871753692627,0.008767157793045044,0.008767157793045044,0.008767157793045044,0.008767157793045044,0.0071800947189331055,0.0071800947189331055,0.0071800947189331055,0.0071800947189331055,0.0071800947189331055,0.0071800947189331055,0.042764753103256226,0.23470428586006165,0.39070916175842285,0.5824688673019409,0.6519759297370911,0.6648702621459961,0.6475922465324402,0.5266681909561157,0.38673222064971924,0.21715807914733887,0.08124786615371704,0.036579132080078125,0.011806845664978027,0.01066097617149353,0.012001633644104004,0.010302603244781494,0.00896194577217102,0.010302603244781494,0.010302603244781494,0.010302603244781494,0.010302603244781494,0.010302603244781494,0.010302603244781494,0.010302603244781494,0.045887261629104614,0.26442280411720276,0.4516903758049011,0.6173361539840698,0.6502141952514648,0.6502141952514648,0.6219526529312134,0.5140326619148254,0.37409669160842896,0.2045225203037262,0.06861230731010437,0.022244542837142944,0.009025871753692627,0.009025871753692627,0.009025871753692627,0.009025871753692627,0.009025871753692627,0.009025871753692627,0.009025871753692627,0.009025871753692627,0.009025871753692627,0.009025871753692627,0.009025871753692627,0.009025871753692627,0.04461053013801575,0.26448673009872437,0.4516903758049011,0.5756433010101318]},\"selected\":{\"id\":\"1016fd80-4bf9-4797-9317-e482e3cd3ed8\",\"type\":\"Selection\"},\"selection_policy\":{\"id\":\"aa572c85-f92c-4b5a-bb96-ca18e3c4758c\",\"type\":\"UnionRenderers\"}},\"id\":\"91a0d0fd-cba4-4d6e-8f82-de61b668d8e3\",\"type\":\"ColumnDataSource\"}],\"root_ids\":[\"c19fd81f-c107-453c-a537-b8e1cabc5c90\"]},\"title\":\"Bokeh Application\",\"version\":\"0.12.16\"}};\n",
       "  var render_items = [{\"docid\":\"4f65ced1-fbc1-4387-a544-f68f9af42561\",\"elementid\":\"36ff68dc-4efc-43a1-93f5-7da62515dc4e\",\"modelid\":\"c19fd81f-c107-453c-a537-b8e1cabc5c90\"}];\n",
       "  root.Bokeh.embed.embed_items_notebook(docs_json, render_items);\n",
       "\n",
       "  }\n",
       "  if (root.Bokeh !== undefined) {\n",
       "    embed_document(root);\n",
       "  } else {\n",
       "    var attempts = 0;\n",
       "    var timer = setInterval(function(root) {\n",
       "      if (root.Bokeh !== undefined) {\n",
       "        embed_document(root);\n",
       "        clearInterval(timer);\n",
       "      }\n",
       "      attempts++;\n",
       "      if (attempts > 100) {\n",
       "        console.log(\"Bokeh: ERROR: Unable to run BokehJS code because BokehJS library is missing\")\n",
       "        clearInterval(timer);\n",
       "      }\n",
       "    }, 10, root)\n",
       "  }\n",
       "})(window);"
      ],
      "application/vnd.bokehjs_exec.v0+json": ""
     },
     "metadata": {
      "application/vnd.bokehjs_exec.v0+json": {
       "id": "c19fd81f-c107-453c-a537-b8e1cabc5c90"
      }
     },
     "output_type": "display_data"
    }
   ],
   "source": [
    "p = figure()\n",
    "p.line(np.arange(len(y_tests)), y_tests, legend=\"real\", line_width=2)\n",
    "p.line(np.arange(len(y_preds)), y_preds, legend=\"predicted\", color=\"orange\", line_width=2)\n",
    "show(p)"
   ]
  },
  {
   "cell_type": "code",
   "execution_count": 7,
   "metadata": {},
   "outputs": [
    {
     "data": {
      "text/html": [
       "\n",
       "<div class=\"bk-root\">\n",
       "    <div class=\"bk-plotdiv\" id=\"e9f5e76b-5bd3-4e37-afcb-a9345b6fe9fe\"></div>\n",
       "</div>"
      ]
     },
     "metadata": {},
     "output_type": "display_data"
    },
    {
     "data": {
      "application/javascript": [
       "(function(root) {\n",
       "  function embed_document(root) {\n",
       "    \n",
       "  var docs_json = {\"b33e7565-e630-43cf-b2f6-b7db7965dfca\":{\"roots\":{\"references\":[{\"attributes\":{},\"id\":\"cb81f369-c74c-49b2-9b2b-b1c2882bde4c\",\"type\":\"BasicTicker\"},{\"attributes\":{},\"id\":\"ae2cc672-ac36-4f68-8566-3b03112bdd35\",\"type\":\"WheelZoomTool\"},{\"attributes\":{\"formatter\":{\"id\":\"60e2a96a-027a-443e-92fa-940bb20ace2e\",\"type\":\"BasicTickFormatter\"},\"plot\":{\"id\":\"51166a42-741f-49a5-a5b0-f8501615eded\",\"subtype\":\"Figure\",\"type\":\"Plot\"},\"ticker\":{\"id\":\"cb81f369-c74c-49b2-9b2b-b1c2882bde4c\",\"type\":\"BasicTicker\"}},\"id\":\"02c8a574-2a51-41e6-a53b-2f75de65ef26\",\"type\":\"LinearAxis\"},{\"attributes\":{},\"id\":\"beab0eb0-aa5e-4e74-8927-1b7b9199b6aa\",\"type\":\"Selection\"},{\"attributes\":{\"source\":{\"id\":\"05d7dc37-cc3a-455f-a05b-b17a1fefb68e\",\"type\":\"ColumnDataSource\"}},\"id\":\"64562c09-4f57-4f15-a4a1-065ca89c9a04\",\"type\":\"CDSView\"},{\"attributes\":{},\"id\":\"74f194bf-d5f3-4159-a695-7077e99a209f\",\"type\":\"PanTool\"},{\"attributes\":{\"dimension\":1,\"plot\":{\"id\":\"51166a42-741f-49a5-a5b0-f8501615eded\",\"subtype\":\"Figure\",\"type\":\"Plot\"},\"ticker\":{\"id\":\"cb81f369-c74c-49b2-9b2b-b1c2882bde4c\",\"type\":\"BasicTicker\"}},\"id\":\"ccf56390-4de6-4058-88b8-fb9096dbfc27\",\"type\":\"Grid\"},{\"attributes\":{\"formatter\":{\"id\":\"79f1da37-121d-4d43-bac7-c2ded9746dfb\",\"type\":\"BasicTickFormatter\"},\"plot\":{\"id\":\"51166a42-741f-49a5-a5b0-f8501615eded\",\"subtype\":\"Figure\",\"type\":\"Plot\"},\"ticker\":{\"id\":\"d34e7bb2-5486-4e5f-9a45-cff06ef060aa\",\"type\":\"BasicTicker\"}},\"id\":\"6875c37f-d73d-476e-8e76-82961f58e24a\",\"type\":\"LinearAxis\"},{\"attributes\":{\"plot\":null,\"text\":\"\"},\"id\":\"8131528e-04d8-40d2-8395-9847c648538c\",\"type\":\"Title\"},{\"attributes\":{\"overlay\":{\"id\":\"4d96d615-7917-4be2-b19f-6494a661ee1a\",\"type\":\"BoxAnnotation\"}},\"id\":\"1205412a-4fe5-4215-9e73-c68b895850d8\",\"type\":\"BoxZoomTool\"},{\"attributes\":{},\"id\":\"42b1952a-e5be-41b1-ac36-f1cf99a40014\",\"type\":\"HelpTool\"},{\"attributes\":{\"callback\":null,\"data\":{\"x\":{\"__ndarray__\":\"AAAAAAEAAAACAAAAAwAAAAQAAAAFAAAABgAAAA==\",\"dtype\":\"int32\",\"shape\":[7]},\"y\":[0.9193161794316866,0.6831098527765695,0.8715811158046103,0.6706764094999611,0.889562630778462,0.9379633625637315,0.7161265850786465]},\"selected\":{\"id\":\"beab0eb0-aa5e-4e74-8927-1b7b9199b6aa\",\"type\":\"Selection\"},\"selection_policy\":{\"id\":\"80d8f58a-5ccc-44bb-a7d7-7a77ddddd6ab\",\"type\":\"UnionRenderers\"}},\"id\":\"05d7dc37-cc3a-455f-a05b-b17a1fefb68e\",\"type\":\"ColumnDataSource\"},{\"attributes\":{},\"id\":\"8ba7ff7c-7bd2-4ad3-aac6-11a11852c079\",\"type\":\"LinearScale\"},{\"attributes\":{\"line_color\":\"green\",\"line_width\":2,\"x\":{\"field\":\"x\"},\"y\":{\"field\":\"y\"}},\"id\":\"3268e116-dc28-4b14-ad36-b8e2cf13340b\",\"type\":\"Line\"},{\"attributes\":{},\"id\":\"60e2a96a-027a-443e-92fa-940bb20ace2e\",\"type\":\"BasicTickFormatter\"},{\"attributes\":{},\"id\":\"d34e7bb2-5486-4e5f-9a45-cff06ef060aa\",\"type\":\"BasicTicker\"},{\"attributes\":{\"items\":[{\"id\":\"812ac934-3c57-43cf-ab55-fc5109f42f31\",\"type\":\"LegendItem\"}],\"plot\":{\"id\":\"51166a42-741f-49a5-a5b0-f8501615eded\",\"subtype\":\"Figure\",\"type\":\"Plot\"}},\"id\":\"cb2f121c-80ae-441e-8512-54a4148eb0d6\",\"type\":\"Legend\"},{\"attributes\":{\"active_drag\":\"auto\",\"active_inspect\":\"auto\",\"active_scroll\":\"auto\",\"active_tap\":\"auto\",\"tools\":[{\"id\":\"74f194bf-d5f3-4159-a695-7077e99a209f\",\"type\":\"PanTool\"},{\"id\":\"ae2cc672-ac36-4f68-8566-3b03112bdd35\",\"type\":\"WheelZoomTool\"},{\"id\":\"1205412a-4fe5-4215-9e73-c68b895850d8\",\"type\":\"BoxZoomTool\"},{\"id\":\"5f34c4f2-fa37-4297-b280-e1c629e81583\",\"type\":\"SaveTool\"},{\"id\":\"12dd4aa9-fab1-4a52-bd8a-21a6aaea7327\",\"type\":\"ResetTool\"},{\"id\":\"42b1952a-e5be-41b1-ac36-f1cf99a40014\",\"type\":\"HelpTool\"}]},\"id\":\"19607719-7e23-4224-b9b8-f33f8207bc8f\",\"type\":\"Toolbar\"},{\"attributes\":{\"label\":{\"value\":\"accuracy\"},\"renderers\":[{\"id\":\"07d774fa-430c-4b96-a2d9-081694d94cef\",\"type\":\"GlyphRenderer\"}]},\"id\":\"812ac934-3c57-43cf-ab55-fc5109f42f31\",\"type\":\"LegendItem\"},{\"attributes\":{\"callback\":null},\"id\":\"025868c9-1540-481d-8655-d73cad0454b9\",\"type\":\"DataRange1d\"},{\"attributes\":{},\"id\":\"5f34c4f2-fa37-4297-b280-e1c629e81583\",\"type\":\"SaveTool\"},{\"attributes\":{\"bottom_units\":\"screen\",\"fill_alpha\":{\"value\":0.5},\"fill_color\":{\"value\":\"lightgrey\"},\"left_units\":\"screen\",\"level\":\"overlay\",\"line_alpha\":{\"value\":1.0},\"line_color\":{\"value\":\"black\"},\"line_dash\":[4,4],\"line_width\":{\"value\":2},\"plot\":null,\"render_mode\":\"css\",\"right_units\":\"screen\",\"top_units\":\"screen\"},\"id\":\"4d96d615-7917-4be2-b19f-6494a661ee1a\",\"type\":\"BoxAnnotation\"},{\"attributes\":{},\"id\":\"12dd4aa9-fab1-4a52-bd8a-21a6aaea7327\",\"type\":\"ResetTool\"},{\"attributes\":{\"below\":[{\"id\":\"6875c37f-d73d-476e-8e76-82961f58e24a\",\"type\":\"LinearAxis\"}],\"left\":[{\"id\":\"02c8a574-2a51-41e6-a53b-2f75de65ef26\",\"type\":\"LinearAxis\"}],\"renderers\":[{\"id\":\"6875c37f-d73d-476e-8e76-82961f58e24a\",\"type\":\"LinearAxis\"},{\"id\":\"3051693e-77b7-4f8e-aaaf-a072efab19ec\",\"type\":\"Grid\"},{\"id\":\"02c8a574-2a51-41e6-a53b-2f75de65ef26\",\"type\":\"LinearAxis\"},{\"id\":\"ccf56390-4de6-4058-88b8-fb9096dbfc27\",\"type\":\"Grid\"},{\"id\":\"4d96d615-7917-4be2-b19f-6494a661ee1a\",\"type\":\"BoxAnnotation\"},{\"id\":\"cb2f121c-80ae-441e-8512-54a4148eb0d6\",\"type\":\"Legend\"},{\"id\":\"07d774fa-430c-4b96-a2d9-081694d94cef\",\"type\":\"GlyphRenderer\"}],\"title\":{\"id\":\"8131528e-04d8-40d2-8395-9847c648538c\",\"type\":\"Title\"},\"toolbar\":{\"id\":\"19607719-7e23-4224-b9b8-f33f8207bc8f\",\"type\":\"Toolbar\"},\"x_range\":{\"id\":\"025868c9-1540-481d-8655-d73cad0454b9\",\"type\":\"DataRange1d\"},\"x_scale\":{\"id\":\"8ba7ff7c-7bd2-4ad3-aac6-11a11852c079\",\"type\":\"LinearScale\"},\"y_range\":{\"id\":\"03b1881d-d785-4473-92eb-f5a5f9154075\",\"type\":\"DataRange1d\"},\"y_scale\":{\"id\":\"f68892b9-cc18-4c98-8871-e76437e0f73c\",\"type\":\"LinearScale\"}},\"id\":\"51166a42-741f-49a5-a5b0-f8501615eded\",\"subtype\":\"Figure\",\"type\":\"Plot\"},{\"attributes\":{},\"id\":\"79f1da37-121d-4d43-bac7-c2ded9746dfb\",\"type\":\"BasicTickFormatter\"},{\"attributes\":{},\"id\":\"80d8f58a-5ccc-44bb-a7d7-7a77ddddd6ab\",\"type\":\"UnionRenderers\"},{\"attributes\":{},\"id\":\"f68892b9-cc18-4c98-8871-e76437e0f73c\",\"type\":\"LinearScale\"},{\"attributes\":{\"plot\":{\"id\":\"51166a42-741f-49a5-a5b0-f8501615eded\",\"subtype\":\"Figure\",\"type\":\"Plot\"},\"ticker\":{\"id\":\"d34e7bb2-5486-4e5f-9a45-cff06ef060aa\",\"type\":\"BasicTicker\"}},\"id\":\"3051693e-77b7-4f8e-aaaf-a072efab19ec\",\"type\":\"Grid\"},{\"attributes\":{\"data_source\":{\"id\":\"05d7dc37-cc3a-455f-a05b-b17a1fefb68e\",\"type\":\"ColumnDataSource\"},\"glyph\":{\"id\":\"3268e116-dc28-4b14-ad36-b8e2cf13340b\",\"type\":\"Line\"},\"hover_glyph\":null,\"muted_glyph\":null,\"nonselection_glyph\":{\"id\":\"cbc97921-a664-4cc3-95e4-3db1f936a638\",\"type\":\"Line\"},\"selection_glyph\":null,\"view\":{\"id\":\"64562c09-4f57-4f15-a4a1-065ca89c9a04\",\"type\":\"CDSView\"}},\"id\":\"07d774fa-430c-4b96-a2d9-081694d94cef\",\"type\":\"GlyphRenderer\"},{\"attributes\":{\"callback\":null},\"id\":\"03b1881d-d785-4473-92eb-f5a5f9154075\",\"type\":\"DataRange1d\"},{\"attributes\":{\"line_alpha\":0.1,\"line_color\":\"#1f77b4\",\"line_width\":2,\"x\":{\"field\":\"x\"},\"y\":{\"field\":\"y\"}},\"id\":\"cbc97921-a664-4cc3-95e4-3db1f936a638\",\"type\":\"Line\"}],\"root_ids\":[\"51166a42-741f-49a5-a5b0-f8501615eded\"]},\"title\":\"Bokeh Application\",\"version\":\"0.12.16\"}};\n",
       "  var render_items = [{\"docid\":\"b33e7565-e630-43cf-b2f6-b7db7965dfca\",\"elementid\":\"e9f5e76b-5bd3-4e37-afcb-a9345b6fe9fe\",\"modelid\":\"51166a42-741f-49a5-a5b0-f8501615eded\"}];\n",
       "  root.Bokeh.embed.embed_items_notebook(docs_json, render_items);\n",
       "\n",
       "  }\n",
       "  if (root.Bokeh !== undefined) {\n",
       "    embed_document(root);\n",
       "  } else {\n",
       "    var attempts = 0;\n",
       "    var timer = setInterval(function(root) {\n",
       "      if (root.Bokeh !== undefined) {\n",
       "        embed_document(root);\n",
       "        clearInterval(timer);\n",
       "      }\n",
       "      attempts++;\n",
       "      if (attempts > 100) {\n",
       "        console.log(\"Bokeh: ERROR: Unable to run BokehJS code because BokehJS library is missing\")\n",
       "        clearInterval(timer);\n",
       "      }\n",
       "    }, 10, root)\n",
       "  }\n",
       "})(window);"
      ],
      "application/vnd.bokehjs_exec.v0+json": ""
     },
     "metadata": {
      "application/vnd.bokehjs_exec.v0+json": {
       "id": "51166a42-741f-49a5-a5b0-f8501615eded"
      }
     },
     "output_type": "display_data"
    }
   ],
   "source": [
    "p = figure()\n",
    "p.line(np.arange(len(results)), results, legend=\"accuracy\", line_width=2,color = \"green\")\n",
    "show(p)"
   ]
  },
  {
   "cell_type": "code",
   "execution_count": null,
   "metadata": {},
   "outputs": [],
   "source": []
  }
 ],
 "metadata": {
  "kernelspec": {
   "display_name": "Python 3",
   "language": "python",
   "name": "python3"
  },
  "language_info": {
   "codemirror_mode": {
    "name": "ipython",
    "version": 3
   },
   "file_extension": ".py",
   "mimetype": "text/x-python",
   "name": "python",
   "nbconvert_exporter": "python",
   "pygments_lexer": "ipython3",
   "version": "3.6.5"
  }
 },
 "nbformat": 4,
 "nbformat_minor": 2
}
