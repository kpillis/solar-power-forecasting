{
 "cells": [
  {
   "cell_type": "code",
   "execution_count": 1,
   "metadata": {},
   "outputs": [],
   "source": [
    "from src.data import read_data,prepare_data\n",
    "from src.models import train_model,predict_model\n",
    "import pandas as pd\n",
    "pd.options.mode.chained_assignment = None"
   ]
  },
  {
   "cell_type": "code",
   "execution_count": 2,
   "metadata": {},
   "outputs": [],
   "source": [
    "PATH_TO_TRAIN = '../data/raw/train15.csv'\n",
    "PATH_TO_PREDICTORS = '../data/raw/predictors15.csv'\n",
    "\n",
    "ONE_DAY = 24\n",
    "ONE_WEEK = 7 * ONE_DAY\n",
    "ONE_MONTH = 30* ONE_DAY\n",
    "\n",
    "TRAIN_SIZE = 12 * ONE_MONTH\n",
    "number_of_tests = 7\n",
    "size_of_prediction = ONE_DAY\n",
    "TEST_SIZE = number_of_tests * size_of_prediction\n",
    "\n",
    "ROLLING_COLUMNS = ['POWER','VAR78', 'VAR79', 'VAR134', 'VAR157', 'VAR164', 'VAR165', 'VAR166', 'VAR167','VAR169', 'VAR175', 'VAR178', 'VAR228']\n",
    "ACCUMLATED_FEATURE_COLUMNS = ['VAR169', 'VAR175', 'VAR178', 'VAR228']\n",
    "\n",
    "df_original = read_data.read_data(PATH_TO_TRAIN,PATH_TO_PREDICTORS)\n",
    "\n",
    "df_cut = df_original[:TRAIN_SIZE + TEST_SIZE]\n",
    "\n",
    "intervals = []\n",
    "for i in range(1,31):\n",
    "    intervals.append(i*size_of_prediction)"
   ]
  },
  {
   "cell_type": "code",
   "execution_count": 3,
   "metadata": {},
   "outputs": [],
   "source": [
    "df = df_cut.copy()\n",
    "df = prepare_data.prepare(df, ONE_DAY,intervals)\n",
    "df = prepare_data.dissipate_features(df, ACCUMLATED_FEATURE_COLUMNS)\n",
    "#df = prepare_data.add_rolling(df,[\"POWER\"], intervals, ONE_DAY)\n",
    "#ROLLING_COLUMNS.remove(\"POWER\")\n",
    "df = prepare_data.add_rolling(df,ROLLING_COLUMNS, intervals, ONE_DAY)"
   ]
  },
  {
   "cell_type": "code",
   "execution_count": 4,
   "metadata": {},
   "outputs": [],
   "source": [
    "df_train = df[:TRAIN_SIZE].dropna(axis=0)\n",
    "X_train = df_train.drop(ROLLING_COLUMNS,axis=1)\n",
    "y_train = df_train.POWER\n",
    "boosted_model = train_model.train(X_train, y_train)"
   ]
  },
  {
   "cell_type": "code",
   "execution_count": 5,
   "metadata": {
    "scrolled": false
   },
   "outputs": [
    {
     "data": {
      "text/html": [
       "\n",
       "    <div class=\"bk-root\">\n",
       "        <a href=\"https://bokeh.pydata.org\" target=\"_blank\" class=\"bk-logo bk-logo-small bk-logo-notebook\"></a>\n",
       "        <span id=\"104a7fee-76b3-47a5-bf09-611c18cf0dfd\">Loading BokehJS ...</span>\n",
       "    </div>"
      ]
     },
     "metadata": {},
     "output_type": "display_data"
    },
    {
     "data": {
      "application/javascript": [
       "\n",
       "(function(root) {\n",
       "  function now() {\n",
       "    return new Date();\n",
       "  }\n",
       "\n",
       "  var force = true;\n",
       "\n",
       "  if (typeof (root._bokeh_onload_callbacks) === \"undefined\" || force === true) {\n",
       "    root._bokeh_onload_callbacks = [];\n",
       "    root._bokeh_is_loading = undefined;\n",
       "  }\n",
       "\n",
       "  var JS_MIME_TYPE = 'application/javascript';\n",
       "  var HTML_MIME_TYPE = 'text/html';\n",
       "  var EXEC_MIME_TYPE = 'application/vnd.bokehjs_exec.v0+json';\n",
       "  var CLASS_NAME = 'output_bokeh rendered_html';\n",
       "\n",
       "  /**\n",
       "   * Render data to the DOM node\n",
       "   */\n",
       "  function render(props, node) {\n",
       "    var script = document.createElement(\"script\");\n",
       "    node.appendChild(script);\n",
       "  }\n",
       "\n",
       "  /**\n",
       "   * Handle when an output is cleared or removed\n",
       "   */\n",
       "  function handleClearOutput(event, handle) {\n",
       "    var cell = handle.cell;\n",
       "\n",
       "    var id = cell.output_area._bokeh_element_id;\n",
       "    var server_id = cell.output_area._bokeh_server_id;\n",
       "    // Clean up Bokeh references\n",
       "    if (id !== undefined) {\n",
       "      Bokeh.index[id].model.document.clear();\n",
       "      delete Bokeh.index[id];\n",
       "    }\n",
       "\n",
       "    if (server_id !== undefined) {\n",
       "      // Clean up Bokeh references\n",
       "      var cmd = \"from bokeh.io.state import curstate; print(curstate().uuid_to_server['\" + server_id + \"'].get_sessions()[0].document.roots[0]._id)\";\n",
       "      cell.notebook.kernel.execute(cmd, {\n",
       "        iopub: {\n",
       "          output: function(msg) {\n",
       "            var element_id = msg.content.text.trim();\n",
       "            Bokeh.index[element_id].model.document.clear();\n",
       "            delete Bokeh.index[element_id];\n",
       "          }\n",
       "        }\n",
       "      });\n",
       "      // Destroy server and session\n",
       "      var cmd = \"import bokeh.io.notebook as ion; ion.destroy_server('\" + server_id + \"')\";\n",
       "      cell.notebook.kernel.execute(cmd);\n",
       "    }\n",
       "  }\n",
       "\n",
       "  /**\n",
       "   * Handle when a new output is added\n",
       "   */\n",
       "  function handleAddOutput(event, handle) {\n",
       "    var output_area = handle.output_area;\n",
       "    var output = handle.output;\n",
       "\n",
       "    // limit handleAddOutput to display_data with EXEC_MIME_TYPE content only\n",
       "    if ((output.output_type != \"display_data\") || (!output.data.hasOwnProperty(EXEC_MIME_TYPE))) {\n",
       "      return\n",
       "    }\n",
       "\n",
       "    var toinsert = output_area.element.find(\".\" + CLASS_NAME.split(' ')[0]);\n",
       "\n",
       "    if (output.metadata[EXEC_MIME_TYPE][\"id\"] !== undefined) {\n",
       "      toinsert[toinsert.length - 1].firstChild.textContent = output.data[JS_MIME_TYPE];\n",
       "      // store reference to embed id on output_area\n",
       "      output_area._bokeh_element_id = output.metadata[EXEC_MIME_TYPE][\"id\"];\n",
       "    }\n",
       "    if (output.metadata[EXEC_MIME_TYPE][\"server_id\"] !== undefined) {\n",
       "      var bk_div = document.createElement(\"div\");\n",
       "      bk_div.innerHTML = output.data[HTML_MIME_TYPE];\n",
       "      var script_attrs = bk_div.children[0].attributes;\n",
       "      for (var i = 0; i < script_attrs.length; i++) {\n",
       "        toinsert[toinsert.length - 1].firstChild.setAttribute(script_attrs[i].name, script_attrs[i].value);\n",
       "      }\n",
       "      // store reference to server id on output_area\n",
       "      output_area._bokeh_server_id = output.metadata[EXEC_MIME_TYPE][\"server_id\"];\n",
       "    }\n",
       "  }\n",
       "\n",
       "  function register_renderer(events, OutputArea) {\n",
       "\n",
       "    function append_mime(data, metadata, element) {\n",
       "      // create a DOM node to render to\n",
       "      var toinsert = this.create_output_subarea(\n",
       "        metadata,\n",
       "        CLASS_NAME,\n",
       "        EXEC_MIME_TYPE\n",
       "      );\n",
       "      this.keyboard_manager.register_events(toinsert);\n",
       "      // Render to node\n",
       "      var props = {data: data, metadata: metadata[EXEC_MIME_TYPE]};\n",
       "      render(props, toinsert[toinsert.length - 1]);\n",
       "      element.append(toinsert);\n",
       "      return toinsert\n",
       "    }\n",
       "\n",
       "    /* Handle when an output is cleared or removed */\n",
       "    events.on('clear_output.CodeCell', handleClearOutput);\n",
       "    events.on('delete.Cell', handleClearOutput);\n",
       "\n",
       "    /* Handle when a new output is added */\n",
       "    events.on('output_added.OutputArea', handleAddOutput);\n",
       "\n",
       "    /**\n",
       "     * Register the mime type and append_mime function with output_area\n",
       "     */\n",
       "    OutputArea.prototype.register_mime_type(EXEC_MIME_TYPE, append_mime, {\n",
       "      /* Is output safe? */\n",
       "      safe: true,\n",
       "      /* Index of renderer in `output_area.display_order` */\n",
       "      index: 0\n",
       "    });\n",
       "  }\n",
       "\n",
       "  // register the mime type if in Jupyter Notebook environment and previously unregistered\n",
       "  if (root.Jupyter !== undefined) {\n",
       "    var events = require('base/js/events');\n",
       "    var OutputArea = require('notebook/js/outputarea').OutputArea;\n",
       "\n",
       "    if (OutputArea.prototype.mime_types().indexOf(EXEC_MIME_TYPE) == -1) {\n",
       "      register_renderer(events, OutputArea);\n",
       "    }\n",
       "  }\n",
       "\n",
       "  \n",
       "  if (typeof (root._bokeh_timeout) === \"undefined\" || force === true) {\n",
       "    root._bokeh_timeout = Date.now() + 5000;\n",
       "    root._bokeh_failed_load = false;\n",
       "  }\n",
       "\n",
       "  var NB_LOAD_WARNING = {'data': {'text/html':\n",
       "     \"<div style='background-color: #fdd'>\\n\"+\n",
       "     \"<p>\\n\"+\n",
       "     \"BokehJS does not appear to have successfully loaded. If loading BokehJS from CDN, this \\n\"+\n",
       "     \"may be due to a slow or bad network connection. Possible fixes:\\n\"+\n",
       "     \"</p>\\n\"+\n",
       "     \"<ul>\\n\"+\n",
       "     \"<li>re-rerun `output_notebook()` to attempt to load from CDN again, or</li>\\n\"+\n",
       "     \"<li>use INLINE resources instead, as so:</li>\\n\"+\n",
       "     \"</ul>\\n\"+\n",
       "     \"<code>\\n\"+\n",
       "     \"from bokeh.resources import INLINE\\n\"+\n",
       "     \"output_notebook(resources=INLINE)\\n\"+\n",
       "     \"</code>\\n\"+\n",
       "     \"</div>\"}};\n",
       "\n",
       "  function display_loaded() {\n",
       "    var el = document.getElementById(\"104a7fee-76b3-47a5-bf09-611c18cf0dfd\");\n",
       "    if (el != null) {\n",
       "      el.textContent = \"BokehJS is loading...\";\n",
       "    }\n",
       "    if (root.Bokeh !== undefined) {\n",
       "      if (el != null) {\n",
       "        el.textContent = \"BokehJS \" + root.Bokeh.version + \" successfully loaded.\";\n",
       "      }\n",
       "    } else if (Date.now() < root._bokeh_timeout) {\n",
       "      setTimeout(display_loaded, 100)\n",
       "    }\n",
       "  }\n",
       "\n",
       "\n",
       "  function run_callbacks() {\n",
       "    try {\n",
       "      root._bokeh_onload_callbacks.forEach(function(callback) { callback() });\n",
       "    }\n",
       "    finally {\n",
       "      delete root._bokeh_onload_callbacks\n",
       "    }\n",
       "    console.info(\"Bokeh: all callbacks have finished\");\n",
       "  }\n",
       "\n",
       "  function load_libs(js_urls, callback) {\n",
       "    root._bokeh_onload_callbacks.push(callback);\n",
       "    if (root._bokeh_is_loading > 0) {\n",
       "      console.log(\"Bokeh: BokehJS is being loaded, scheduling callback at\", now());\n",
       "      return null;\n",
       "    }\n",
       "    if (js_urls == null || js_urls.length === 0) {\n",
       "      run_callbacks();\n",
       "      return null;\n",
       "    }\n",
       "    console.log(\"Bokeh: BokehJS not loaded, scheduling load and callback at\", now());\n",
       "    root._bokeh_is_loading = js_urls.length;\n",
       "    for (var i = 0; i < js_urls.length; i++) {\n",
       "      var url = js_urls[i];\n",
       "      var s = document.createElement('script');\n",
       "      s.src = url;\n",
       "      s.async = false;\n",
       "      s.onreadystatechange = s.onload = function() {\n",
       "        root._bokeh_is_loading--;\n",
       "        if (root._bokeh_is_loading === 0) {\n",
       "          console.log(\"Bokeh: all BokehJS libraries loaded\");\n",
       "          run_callbacks()\n",
       "        }\n",
       "      };\n",
       "      s.onerror = function() {\n",
       "        console.warn(\"failed to load library \" + url);\n",
       "      };\n",
       "      console.log(\"Bokeh: injecting script tag for BokehJS library: \", url);\n",
       "      document.getElementsByTagName(\"head\")[0].appendChild(s);\n",
       "    }\n",
       "  };var element = document.getElementById(\"104a7fee-76b3-47a5-bf09-611c18cf0dfd\");\n",
       "  if (element == null) {\n",
       "    console.log(\"Bokeh: ERROR: autoload.js configured with elementid '104a7fee-76b3-47a5-bf09-611c18cf0dfd' but no matching script tag was found. \")\n",
       "    return false;\n",
       "  }\n",
       "\n",
       "  var js_urls = [\"https://cdn.pydata.org/bokeh/release/bokeh-0.12.16.min.js\", \"https://cdn.pydata.org/bokeh/release/bokeh-widgets-0.12.16.min.js\", \"https://cdn.pydata.org/bokeh/release/bokeh-tables-0.12.16.min.js\", \"https://cdn.pydata.org/bokeh/release/bokeh-gl-0.12.16.min.js\"];\n",
       "\n",
       "  var inline_js = [\n",
       "    function(Bokeh) {\n",
       "      Bokeh.set_log_level(\"info\");\n",
       "    },\n",
       "    \n",
       "    function(Bokeh) {\n",
       "      \n",
       "    },\n",
       "    function(Bokeh) {\n",
       "      console.log(\"Bokeh: injecting CSS: https://cdn.pydata.org/bokeh/release/bokeh-0.12.16.min.css\");\n",
       "      Bokeh.embed.inject_css(\"https://cdn.pydata.org/bokeh/release/bokeh-0.12.16.min.css\");\n",
       "      console.log(\"Bokeh: injecting CSS: https://cdn.pydata.org/bokeh/release/bokeh-widgets-0.12.16.min.css\");\n",
       "      Bokeh.embed.inject_css(\"https://cdn.pydata.org/bokeh/release/bokeh-widgets-0.12.16.min.css\");\n",
       "      console.log(\"Bokeh: injecting CSS: https://cdn.pydata.org/bokeh/release/bokeh-tables-0.12.16.min.css\");\n",
       "      Bokeh.embed.inject_css(\"https://cdn.pydata.org/bokeh/release/bokeh-tables-0.12.16.min.css\");\n",
       "    }\n",
       "  ];\n",
       "\n",
       "  function run_inline_js() {\n",
       "    \n",
       "    if ((root.Bokeh !== undefined) || (force === true)) {\n",
       "      for (var i = 0; i < inline_js.length; i++) {\n",
       "        inline_js[i].call(root, root.Bokeh);\n",
       "      }if (force === true) {\n",
       "        display_loaded();\n",
       "      }} else if (Date.now() < root._bokeh_timeout) {\n",
       "      setTimeout(run_inline_js, 100);\n",
       "    } else if (!root._bokeh_failed_load) {\n",
       "      console.log(\"Bokeh: BokehJS failed to load within specified timeout.\");\n",
       "      root._bokeh_failed_load = true;\n",
       "    } else if (force !== true) {\n",
       "      var cell = $(document.getElementById(\"104a7fee-76b3-47a5-bf09-611c18cf0dfd\")).parents('.cell').data().cell;\n",
       "      cell.output_area.append_execute_result(NB_LOAD_WARNING)\n",
       "    }\n",
       "\n",
       "  }\n",
       "\n",
       "  if (root._bokeh_is_loading === 0) {\n",
       "    console.log(\"Bokeh: BokehJS loaded, going straight to plotting\");\n",
       "    run_inline_js();\n",
       "  } else {\n",
       "    load_libs(js_urls, function() {\n",
       "      console.log(\"Bokeh: BokehJS plotting callback run at\", now());\n",
       "      run_inline_js();\n",
       "    });\n",
       "  }\n",
       "}(window));"
      ],
      "application/vnd.bokehjs_load.v0+json": "\n(function(root) {\n  function now() {\n    return new Date();\n  }\n\n  var force = true;\n\n  if (typeof (root._bokeh_onload_callbacks) === \"undefined\" || force === true) {\n    root._bokeh_onload_callbacks = [];\n    root._bokeh_is_loading = undefined;\n  }\n\n  \n\n  \n  if (typeof (root._bokeh_timeout) === \"undefined\" || force === true) {\n    root._bokeh_timeout = Date.now() + 5000;\n    root._bokeh_failed_load = false;\n  }\n\n  var NB_LOAD_WARNING = {'data': {'text/html':\n     \"<div style='background-color: #fdd'>\\n\"+\n     \"<p>\\n\"+\n     \"BokehJS does not appear to have successfully loaded. If loading BokehJS from CDN, this \\n\"+\n     \"may be due to a slow or bad network connection. Possible fixes:\\n\"+\n     \"</p>\\n\"+\n     \"<ul>\\n\"+\n     \"<li>re-rerun `output_notebook()` to attempt to load from CDN again, or</li>\\n\"+\n     \"<li>use INLINE resources instead, as so:</li>\\n\"+\n     \"</ul>\\n\"+\n     \"<code>\\n\"+\n     \"from bokeh.resources import INLINE\\n\"+\n     \"output_notebook(resources=INLINE)\\n\"+\n     \"</code>\\n\"+\n     \"</div>\"}};\n\n  function display_loaded() {\n    var el = document.getElementById(\"104a7fee-76b3-47a5-bf09-611c18cf0dfd\");\n    if (el != null) {\n      el.textContent = \"BokehJS is loading...\";\n    }\n    if (root.Bokeh !== undefined) {\n      if (el != null) {\n        el.textContent = \"BokehJS \" + root.Bokeh.version + \" successfully loaded.\";\n      }\n    } else if (Date.now() < root._bokeh_timeout) {\n      setTimeout(display_loaded, 100)\n    }\n  }\n\n\n  function run_callbacks() {\n    try {\n      root._bokeh_onload_callbacks.forEach(function(callback) { callback() });\n    }\n    finally {\n      delete root._bokeh_onload_callbacks\n    }\n    console.info(\"Bokeh: all callbacks have finished\");\n  }\n\n  function load_libs(js_urls, callback) {\n    root._bokeh_onload_callbacks.push(callback);\n    if (root._bokeh_is_loading > 0) {\n      console.log(\"Bokeh: BokehJS is being loaded, scheduling callback at\", now());\n      return null;\n    }\n    if (js_urls == null || js_urls.length === 0) {\n      run_callbacks();\n      return null;\n    }\n    console.log(\"Bokeh: BokehJS not loaded, scheduling load and callback at\", now());\n    root._bokeh_is_loading = js_urls.length;\n    for (var i = 0; i < js_urls.length; i++) {\n      var url = js_urls[i];\n      var s = document.createElement('script');\n      s.src = url;\n      s.async = false;\n      s.onreadystatechange = s.onload = function() {\n        root._bokeh_is_loading--;\n        if (root._bokeh_is_loading === 0) {\n          console.log(\"Bokeh: all BokehJS libraries loaded\");\n          run_callbacks()\n        }\n      };\n      s.onerror = function() {\n        console.warn(\"failed to load library \" + url);\n      };\n      console.log(\"Bokeh: injecting script tag for BokehJS library: \", url);\n      document.getElementsByTagName(\"head\")[0].appendChild(s);\n    }\n  };var element = document.getElementById(\"104a7fee-76b3-47a5-bf09-611c18cf0dfd\");\n  if (element == null) {\n    console.log(\"Bokeh: ERROR: autoload.js configured with elementid '104a7fee-76b3-47a5-bf09-611c18cf0dfd' but no matching script tag was found. \")\n    return false;\n  }\n\n  var js_urls = [\"https://cdn.pydata.org/bokeh/release/bokeh-0.12.16.min.js\", \"https://cdn.pydata.org/bokeh/release/bokeh-widgets-0.12.16.min.js\", \"https://cdn.pydata.org/bokeh/release/bokeh-tables-0.12.16.min.js\", \"https://cdn.pydata.org/bokeh/release/bokeh-gl-0.12.16.min.js\"];\n\n  var inline_js = [\n    function(Bokeh) {\n      Bokeh.set_log_level(\"info\");\n    },\n    \n    function(Bokeh) {\n      \n    },\n    function(Bokeh) {\n      console.log(\"Bokeh: injecting CSS: https://cdn.pydata.org/bokeh/release/bokeh-0.12.16.min.css\");\n      Bokeh.embed.inject_css(\"https://cdn.pydata.org/bokeh/release/bokeh-0.12.16.min.css\");\n      console.log(\"Bokeh: injecting CSS: https://cdn.pydata.org/bokeh/release/bokeh-widgets-0.12.16.min.css\");\n      Bokeh.embed.inject_css(\"https://cdn.pydata.org/bokeh/release/bokeh-widgets-0.12.16.min.css\");\n      console.log(\"Bokeh: injecting CSS: https://cdn.pydata.org/bokeh/release/bokeh-tables-0.12.16.min.css\");\n      Bokeh.embed.inject_css(\"https://cdn.pydata.org/bokeh/release/bokeh-tables-0.12.16.min.css\");\n    }\n  ];\n\n  function run_inline_js() {\n    \n    if ((root.Bokeh !== undefined) || (force === true)) {\n      for (var i = 0; i < inline_js.length; i++) {\n        inline_js[i].call(root, root.Bokeh);\n      }if (force === true) {\n        display_loaded();\n      }} else if (Date.now() < root._bokeh_timeout) {\n      setTimeout(run_inline_js, 100);\n    } else if (!root._bokeh_failed_load) {\n      console.log(\"Bokeh: BokehJS failed to load within specified timeout.\");\n      root._bokeh_failed_load = true;\n    } else if (force !== true) {\n      var cell = $(document.getElementById(\"104a7fee-76b3-47a5-bf09-611c18cf0dfd\")).parents('.cell').data().cell;\n      cell.output_area.append_execute_result(NB_LOAD_WARNING)\n    }\n\n  }\n\n  if (root._bokeh_is_loading === 0) {\n    console.log(\"Bokeh: BokehJS loaded, going straight to plotting\");\n    run_inline_js();\n  } else {\n    load_libs(js_urls, function() {\n      console.log(\"Bokeh: BokehJS plotting callback run at\", now());\n      run_inline_js();\n    });\n  }\n}(window));"
     },
     "metadata": {},
     "output_type": "display_data"
    },
    {
     "data": {
      "text/html": [
       "\n",
       "<div class=\"bk-root\">\n",
       "    <div class=\"bk-plotdiv\" id=\"c2070e3b-45ed-4b71-9abf-1a33e475027f\"></div>\n",
       "</div>"
      ]
     },
     "metadata": {},
     "output_type": "display_data"
    },
    {
     "data": {
      "application/javascript": [
       "(function(root) {\n",
       "  function embed_document(root) {\n",
       "    \n",
       "  var docs_json = {\"80ff1007-a7c1-4d0b-a767-ec58862ab44f\":{\"roots\":{\"references\":[{\"attributes\":{},\"id\":\"874e9416-35da-4679-9b0b-8c223bc36f75\",\"type\":\"LinearScale\"},{\"attributes\":{},\"id\":\"371ec832-232b-4404-b442-89a7e7a9a253\",\"type\":\"UnionRenderers\"},{\"attributes\":{},\"id\":\"890b9d24-f743-4742-963e-d58347fc899d\",\"type\":\"UnionRenderers\"},{\"attributes\":{},\"id\":\"3cbe168a-265b-468b-b3c2-a9c144db1f31\",\"type\":\"LinearScale\"},{\"attributes\":{\"formatter\":{\"id\":\"de88916c-e59e-406d-8b87-8b30644d724f\",\"type\":\"BasicTickFormatter\"},\"plot\":{\"id\":\"56e27966-d5ec-493a-8241-b144569ce0ed\",\"subtype\":\"Figure\",\"type\":\"Plot\"},\"ticker\":{\"id\":\"a75dcf29-c535-4c76-b4d3-a34ce01a0e13\",\"type\":\"BasicTicker\"}},\"id\":\"b127067f-c7f6-47d4-a6e5-0e13b2362245\",\"type\":\"LinearAxis\"},{\"attributes\":{\"plot\":null,\"text\":\"\"},\"id\":\"8b2842b0-ba97-4686-ab53-1e3945ba8153\",\"type\":\"Title\"},{\"attributes\":{},\"id\":\"a75dcf29-c535-4c76-b4d3-a34ce01a0e13\",\"type\":\"BasicTicker\"},{\"attributes\":{\"plot\":{\"id\":\"56e27966-d5ec-493a-8241-b144569ce0ed\",\"subtype\":\"Figure\",\"type\":\"Plot\"},\"ticker\":{\"id\":\"a75dcf29-c535-4c76-b4d3-a34ce01a0e13\",\"type\":\"BasicTicker\"}},\"id\":\"cb9b34ff-6e5f-415b-95fd-77bd6d0e4974\",\"type\":\"Grid\"},{\"attributes\":{\"formatter\":{\"id\":\"17b59f08-308b-48cb-9f29-e51d4d93c674\",\"type\":\"BasicTickFormatter\"},\"plot\":{\"id\":\"56e27966-d5ec-493a-8241-b144569ce0ed\",\"subtype\":\"Figure\",\"type\":\"Plot\"},\"ticker\":{\"id\":\"0363c79a-951c-4446-8f19-a070e8b1e613\",\"type\":\"BasicTicker\"}},\"id\":\"0b40ee23-d73a-4dba-89e7-a2c6dfd27a50\",\"type\":\"LinearAxis\"},{\"attributes\":{},\"id\":\"0363c79a-951c-4446-8f19-a070e8b1e613\",\"type\":\"BasicTicker\"},{\"attributes\":{\"dimension\":1,\"plot\":{\"id\":\"56e27966-d5ec-493a-8241-b144569ce0ed\",\"subtype\":\"Figure\",\"type\":\"Plot\"},\"ticker\":{\"id\":\"0363c79a-951c-4446-8f19-a070e8b1e613\",\"type\":\"BasicTicker\"}},\"id\":\"b9e99a0a-076b-4faf-93de-18960720bde4\",\"type\":\"Grid\"},{\"attributes\":{\"callback\":null,\"data\":{\"x\":{\"__ndarray__\":\"AAAAAAEAAAACAAAAAwAAAAQAAAAFAAAABgAAAAcAAAAIAAAACQAAAAoAAAALAAAADAAAAA0AAAAOAAAADwAAABAAAAARAAAAEgAAABMAAAAUAAAAFQAAABYAAAAXAAAA\",\"dtype\":\"int32\",\"shape\":[24]},\"y\":{\"__ndarray__\":\"DyZhEiZh5j+LaTLAnGXpPwVpkAZpkOY/wxR/JHvl4j/IP2OaDDDbPyYtbFxgn88/dZFK3Pewsj8Ng2Nr6cmRPx5QARVQATU/AAAAAAAAAAAAAAAAAAAAAAAAAAAAAAAAAAAAAAAAAAAAAAAAAAAAAAAAAAAAAAAAAAAAAAAAAAAAAAAAAAAAAAAAAAAAAAAAAAAAAAAAAAAAAAAAAAAAAJ2pZjdDAJE/Iu035bkEyj8sxNtV9w7dP5lgcGwtPdU/\",\"dtype\":\"float64\",\"shape\":[24]}},\"selected\":{\"id\":\"4be050a5-999d-49c8-bc3a-bb1e36b24b51\",\"type\":\"Selection\"},\"selection_policy\":{\"id\":\"890b9d24-f743-4742-963e-d58347fc899d\",\"type\":\"UnionRenderers\"}},\"id\":\"25ba4ff9-3456-4d8b-99f0-b7752a3a7605\",\"type\":\"ColumnDataSource\"},{\"attributes\":{\"bottom_units\":\"screen\",\"fill_alpha\":{\"value\":0.5},\"fill_color\":{\"value\":\"lightgrey\"},\"left_units\":\"screen\",\"level\":\"overlay\",\"line_alpha\":{\"value\":1.0},\"line_color\":{\"value\":\"black\"},\"line_dash\":[4,4],\"line_width\":{\"value\":2},\"plot\":null,\"render_mode\":\"css\",\"right_units\":\"screen\",\"top_units\":\"screen\"},\"id\":\"7eefdc2e-e6d1-4176-8763-f4ef66ed9783\",\"type\":\"BoxAnnotation\"},{\"attributes\":{\"callback\":null},\"id\":\"81f42395-34ab-474d-b255-9b7683e01db3\",\"type\":\"DataRange1d\"},{\"attributes\":{\"line_color\":\"#1f77b4\",\"x\":{\"field\":\"x\"},\"y\":{\"field\":\"y\"}},\"id\":\"d7468b05-7db9-4659-8beb-10f0888338ab\",\"type\":\"Line\"},{\"attributes\":{},\"id\":\"4a904edb-9142-400f-91a9-b2be942b3f93\",\"type\":\"PanTool\"},{\"attributes\":{},\"id\":\"5eb55074-58fb-43dc-b60a-4b5fa9696253\",\"type\":\"WheelZoomTool\"},{\"attributes\":{\"overlay\":{\"id\":\"7eefdc2e-e6d1-4176-8763-f4ef66ed9783\",\"type\":\"BoxAnnotation\"}},\"id\":\"3e60058e-269b-436d-b95b-fd370ed531d9\",\"type\":\"BoxZoomTool\"},{\"attributes\":{},\"id\":\"de88916c-e59e-406d-8b87-8b30644d724f\",\"type\":\"BasicTickFormatter\"},{\"attributes\":{\"active_drag\":\"auto\",\"active_inspect\":\"auto\",\"active_scroll\":\"auto\",\"active_tap\":\"auto\",\"tools\":[{\"id\":\"4a904edb-9142-400f-91a9-b2be942b3f93\",\"type\":\"PanTool\"},{\"id\":\"5eb55074-58fb-43dc-b60a-4b5fa9696253\",\"type\":\"WheelZoomTool\"},{\"id\":\"3e60058e-269b-436d-b95b-fd370ed531d9\",\"type\":\"BoxZoomTool\"},{\"id\":\"d383b718-75bc-4505-a49d-0896778cf5e5\",\"type\":\"SaveTool\"},{\"id\":\"78d836a1-dfa4-44c7-bdd0-5e41bff256aa\",\"type\":\"ResetTool\"},{\"id\":\"cd0dec4e-1899-4359-8cdc-6372b817318e\",\"type\":\"HelpTool\"}]},\"id\":\"c108ec3a-34ef-462c-aeb1-7b11607501f2\",\"type\":\"Toolbar\"},{\"attributes\":{},\"id\":\"d383b718-75bc-4505-a49d-0896778cf5e5\",\"type\":\"SaveTool\"},{\"attributes\":{\"line_alpha\":0.1,\"line_color\":\"#1f77b4\",\"x\":{\"field\":\"x\"},\"y\":{\"field\":\"y\"}},\"id\":\"3dc4b4fb-1d0d-487d-ad19-1bade139a418\",\"type\":\"Line\"},{\"attributes\":{},\"id\":\"78d836a1-dfa4-44c7-bdd0-5e41bff256aa\",\"type\":\"ResetTool\"},{\"attributes\":{},\"id\":\"cd0dec4e-1899-4359-8cdc-6372b817318e\",\"type\":\"HelpTool\"},{\"attributes\":{\"callback\":null},\"id\":\"884c23e0-1f84-4f18-80b0-224fccd46434\",\"type\":\"DataRange1d\"},{\"attributes\":{\"label\":{\"value\":\"real\"},\"renderers\":[{\"id\":\"607664d2-6d5f-4233-a4e4-d54194fb38ef\",\"type\":\"GlyphRenderer\"}]},\"id\":\"f40418a1-6e7f-4784-b71e-2222acd37e7d\",\"type\":\"LegendItem\"},{\"attributes\":{\"data_source\":{\"id\":\"25ba4ff9-3456-4d8b-99f0-b7752a3a7605\",\"type\":\"ColumnDataSource\"},\"glyph\":{\"id\":\"d7468b05-7db9-4659-8beb-10f0888338ab\",\"type\":\"Line\"},\"hover_glyph\":null,\"muted_glyph\":null,\"nonselection_glyph\":{\"id\":\"3dc4b4fb-1d0d-487d-ad19-1bade139a418\",\"type\":\"Line\"},\"selection_glyph\":null,\"view\":{\"id\":\"103385e1-36d8-4af3-a9e6-e8cb38ab63b9\",\"type\":\"CDSView\"}},\"id\":\"607664d2-6d5f-4233-a4e4-d54194fb38ef\",\"type\":\"GlyphRenderer\"},{\"attributes\":{\"line_alpha\":0.1,\"line_color\":\"#1f77b4\",\"x\":{\"field\":\"x\"},\"y\":{\"field\":\"y\"}},\"id\":\"5d9e6522-2899-413a-86d0-eb784de135c2\",\"type\":\"Line\"},{\"attributes\":{\"line_color\":\"orange\",\"x\":{\"field\":\"x\"},\"y\":{\"field\":\"y\"}},\"id\":\"5c580b67-8ca8-4791-9da4-c9b05c1fc0aa\",\"type\":\"Line\"},{\"attributes\":{\"items\":[{\"id\":\"f40418a1-6e7f-4784-b71e-2222acd37e7d\",\"type\":\"LegendItem\"},{\"id\":\"e59c186a-8b78-4e4e-9760-7e1cbe0cc225\",\"type\":\"LegendItem\"}],\"plot\":{\"id\":\"56e27966-d5ec-493a-8241-b144569ce0ed\",\"subtype\":\"Figure\",\"type\":\"Plot\"}},\"id\":\"0f6cd01e-75d3-4e45-9a0b-bc8e78d9ffa9\",\"type\":\"Legend\"},{\"attributes\":{\"callback\":null,\"data\":{\"x\":{\"__ndarray__\":\"AAAAAAEAAAACAAAAAwAAAAQAAAAFAAAABgAAAAcAAAAIAAAACQAAAAoAAAALAAAADAAAAA0AAAAOAAAADwAAABAAAAARAAAAEgAAABMAAAAUAAAAFQAAABYAAAAXAAAA\",\"dtype\":\"int32\",\"shape\":[24]},\"y\":{\"__ndarray__\":\"4IwlP+CMJT8BISA/XOQIP1A5xT78GlM+4N2PPTBzmzyAprw7gFQZO4BUGTuAMlg7gDJYO+BwBzxANdc7QDXXO0A11ztANdc7QDXXO0A11zvoVV892KJlPlC3wD6vLxk/\",\"dtype\":\"float32\",\"shape\":[24]}},\"selected\":{\"id\":\"876243b2-05d9-4803-b9a7-038607fa19d3\",\"type\":\"Selection\"},\"selection_policy\":{\"id\":\"371ec832-232b-4404-b442-89a7e7a9a253\",\"type\":\"UnionRenderers\"}},\"id\":\"d0b1b0f6-7d6f-4aa3-ba78-e5b332088880\",\"type\":\"ColumnDataSource\"},{\"attributes\":{\"data_source\":{\"id\":\"d0b1b0f6-7d6f-4aa3-ba78-e5b332088880\",\"type\":\"ColumnDataSource\"},\"glyph\":{\"id\":\"5c580b67-8ca8-4791-9da4-c9b05c1fc0aa\",\"type\":\"Line\"},\"hover_glyph\":null,\"muted_glyph\":null,\"nonselection_glyph\":{\"id\":\"5d9e6522-2899-413a-86d0-eb784de135c2\",\"type\":\"Line\"},\"selection_glyph\":null,\"view\":{\"id\":\"71a9cdf8-c0e4-4e92-814f-6af24521c0f7\",\"type\":\"CDSView\"}},\"id\":\"b0bee5f3-e9ac-46a8-b331-69488af84539\",\"type\":\"GlyphRenderer\"},{\"attributes\":{},\"id\":\"876243b2-05d9-4803-b9a7-038607fa19d3\",\"type\":\"Selection\"},{\"attributes\":{\"source\":{\"id\":\"d0b1b0f6-7d6f-4aa3-ba78-e5b332088880\",\"type\":\"ColumnDataSource\"}},\"id\":\"71a9cdf8-c0e4-4e92-814f-6af24521c0f7\",\"type\":\"CDSView\"},{\"attributes\":{},\"id\":\"17b59f08-308b-48cb-9f29-e51d4d93c674\",\"type\":\"BasicTickFormatter\"},{\"attributes\":{},\"id\":\"4be050a5-999d-49c8-bc3a-bb1e36b24b51\",\"type\":\"Selection\"},{\"attributes\":{\"label\":{\"value\":\"predicted_xgb\"},\"renderers\":[{\"id\":\"b0bee5f3-e9ac-46a8-b331-69488af84539\",\"type\":\"GlyphRenderer\"}]},\"id\":\"e59c186a-8b78-4e4e-9760-7e1cbe0cc225\",\"type\":\"LegendItem\"},{\"attributes\":{\"source\":{\"id\":\"25ba4ff9-3456-4d8b-99f0-b7752a3a7605\",\"type\":\"ColumnDataSource\"}},\"id\":\"103385e1-36d8-4af3-a9e6-e8cb38ab63b9\",\"type\":\"CDSView\"},{\"attributes\":{\"below\":[{\"id\":\"b127067f-c7f6-47d4-a6e5-0e13b2362245\",\"type\":\"LinearAxis\"}],\"left\":[{\"id\":\"0b40ee23-d73a-4dba-89e7-a2c6dfd27a50\",\"type\":\"LinearAxis\"}],\"renderers\":[{\"id\":\"b127067f-c7f6-47d4-a6e5-0e13b2362245\",\"type\":\"LinearAxis\"},{\"id\":\"cb9b34ff-6e5f-415b-95fd-77bd6d0e4974\",\"type\":\"Grid\"},{\"id\":\"0b40ee23-d73a-4dba-89e7-a2c6dfd27a50\",\"type\":\"LinearAxis\"},{\"id\":\"b9e99a0a-076b-4faf-93de-18960720bde4\",\"type\":\"Grid\"},{\"id\":\"7eefdc2e-e6d1-4176-8763-f4ef66ed9783\",\"type\":\"BoxAnnotation\"},{\"id\":\"0f6cd01e-75d3-4e45-9a0b-bc8e78d9ffa9\",\"type\":\"Legend\"},{\"id\":\"607664d2-6d5f-4233-a4e4-d54194fb38ef\",\"type\":\"GlyphRenderer\"},{\"id\":\"b0bee5f3-e9ac-46a8-b331-69488af84539\",\"type\":\"GlyphRenderer\"}],\"title\":{\"id\":\"8b2842b0-ba97-4686-ab53-1e3945ba8153\",\"type\":\"Title\"},\"toolbar\":{\"id\":\"c108ec3a-34ef-462c-aeb1-7b11607501f2\",\"type\":\"Toolbar\"},\"x_range\":{\"id\":\"884c23e0-1f84-4f18-80b0-224fccd46434\",\"type\":\"DataRange1d\"},\"x_scale\":{\"id\":\"874e9416-35da-4679-9b0b-8c223bc36f75\",\"type\":\"LinearScale\"},\"y_range\":{\"id\":\"81f42395-34ab-474d-b255-9b7683e01db3\",\"type\":\"DataRange1d\"},\"y_scale\":{\"id\":\"3cbe168a-265b-468b-b3c2-a9c144db1f31\",\"type\":\"LinearScale\"}},\"id\":\"56e27966-d5ec-493a-8241-b144569ce0ed\",\"subtype\":\"Figure\",\"type\":\"Plot\"}],\"root_ids\":[\"56e27966-d5ec-493a-8241-b144569ce0ed\"]},\"title\":\"Bokeh Application\",\"version\":\"0.12.16\"}};\n",
       "  var render_items = [{\"docid\":\"80ff1007-a7c1-4d0b-a767-ec58862ab44f\",\"elementid\":\"c2070e3b-45ed-4b71-9abf-1a33e475027f\",\"modelid\":\"56e27966-d5ec-493a-8241-b144569ce0ed\"}];\n",
       "  root.Bokeh.embed.embed_items_notebook(docs_json, render_items);\n",
       "\n",
       "  }\n",
       "  if (root.Bokeh !== undefined) {\n",
       "    embed_document(root);\n",
       "  } else {\n",
       "    var attempts = 0;\n",
       "    var timer = setInterval(function(root) {\n",
       "      if (root.Bokeh !== undefined) {\n",
       "        embed_document(root);\n",
       "        clearInterval(timer);\n",
       "      }\n",
       "      attempts++;\n",
       "      if (attempts > 100) {\n",
       "        console.log(\"Bokeh: ERROR: Unable to run BokehJS code because BokehJS library is missing\")\n",
       "        clearInterval(timer);\n",
       "      }\n",
       "    }, 10, root)\n",
       "  }\n",
       "})(window);"
      ],
      "application/vnd.bokehjs_exec.v0+json": ""
     },
     "metadata": {
      "application/vnd.bokehjs_exec.v0+json": {
       "id": "56e27966-d5ec-493a-8241-b144569ce0ed"
      }
     },
     "output_type": "display_data"
    },
    {
     "name": "stdout",
     "output_type": "stream",
     "text": [
      "0.9193161794316866\n"
     ]
    },
    {
     "data": {
      "text/html": [
       "\n",
       "<div class=\"bk-root\">\n",
       "    <div class=\"bk-plotdiv\" id=\"98d696d4-6b7a-4509-ac7c-67ad7c9b1723\"></div>\n",
       "</div>"
      ]
     },
     "metadata": {},
     "output_type": "display_data"
    },
    {
     "data": {
      "application/javascript": [
       "(function(root) {\n",
       "  function embed_document(root) {\n",
       "    \n",
       "  var docs_json = {\"e02889ec-2305-43ad-b85a-276b4ad83687\":{\"roots\":{\"references\":[{\"attributes\":{\"callback\":null,\"data\":{\"x\":{\"__ndarray__\":\"AAAAAAEAAAACAAAAAwAAAAQAAAAFAAAABgAAAAcAAAAIAAAACQAAAAoAAAALAAAADAAAAA0AAAAOAAAADwAAABAAAAARAAAAEgAAABMAAAAUAAAAFQAAABYAAAAXAAAA\",\"dtype\":\"int32\",\"shape\":[24]},\"y\":{\"__ndarray__\":\"fXYqP312Kj+eCiU/YCQHP+q2sz54fD0+wCF1PWDfRjyAjUk7gI1JOwDyrjtA8+s7QPPrO0Dz6ztA8+s7QPPrO0Dz6ztA8+s7QEmoPEBJqDxIQoM9poqIPgP81j70ggw/\",\"dtype\":\"float32\",\"shape\":[24]}},\"selected\":{\"id\":\"737f55da-af98-42c4-be64-4cc0219ecf50\",\"type\":\"Selection\"},\"selection_policy\":{\"id\":\"46da040f-0370-492e-91ca-97d6cfc41e6f\",\"type\":\"UnionRenderers\"}},\"id\":\"18c3047c-c108-4f74-9d3e-cb168cffbfb5\",\"type\":\"ColumnDataSource\"},{\"attributes\":{\"data_source\":{\"id\":\"18c3047c-c108-4f74-9d3e-cb168cffbfb5\",\"type\":\"ColumnDataSource\"},\"glyph\":{\"id\":\"97a5e202-6628-4b94-b687-89d644097aa5\",\"type\":\"Line\"},\"hover_glyph\":null,\"muted_glyph\":null,\"nonselection_glyph\":{\"id\":\"8db93ff7-4ca4-4ae4-87ff-9c9575fe789f\",\"type\":\"Line\"},\"selection_glyph\":null,\"view\":{\"id\":\"17200070-fd17-48a8-a5ba-00b7b152427b\",\"type\":\"CDSView\"}},\"id\":\"bbe2217d-7520-4573-968c-7a570fa6faed\",\"type\":\"GlyphRenderer\"},{\"attributes\":{},\"id\":\"34ae1e2b-9fe5-4e1a-9c35-eecdee27d0a7\",\"type\":\"BasicTickFormatter\"},{\"attributes\":{\"callback\":null},\"id\":\"a0616532-69f9-4f56-b989-4064aac50978\",\"type\":\"DataRange1d\"},{\"attributes\":{\"plot\":{\"id\":\"0b292f76-b6d2-4b13-8e02-ee6eb6f3c071\",\"subtype\":\"Figure\",\"type\":\"Plot\"},\"ticker\":{\"id\":\"8b8dd2a6-8b73-4823-9752-027eeef56c58\",\"type\":\"BasicTicker\"}},\"id\":\"2aa228e9-3be0-4d9b-ab7f-a0983592a787\",\"type\":\"Grid\"},{\"attributes\":{},\"id\":\"737f55da-af98-42c4-be64-4cc0219ecf50\",\"type\":\"Selection\"},{\"attributes\":{\"items\":[{\"id\":\"71f87546-6efe-407a-9707-7694fb3b01f4\",\"type\":\"LegendItem\"},{\"id\":\"36840897-d8e5-4a67-af2e-036a70a597c4\",\"type\":\"LegendItem\"}],\"plot\":{\"id\":\"0b292f76-b6d2-4b13-8e02-ee6eb6f3c071\",\"subtype\":\"Figure\",\"type\":\"Plot\"}},\"id\":\"76fce13d-cbe2-4f41-9669-d5711dd337e1\",\"type\":\"Legend\"},{\"attributes\":{},\"id\":\"15761c34-8024-4848-a94c-cecdf4de874c\",\"type\":\"UnionRenderers\"},{\"attributes\":{\"plot\":null,\"text\":\"\"},\"id\":\"92418ee8-e96c-4a0a-8df3-d9cc5af46307\",\"type\":\"Title\"},{\"attributes\":{\"source\":{\"id\":\"18c3047c-c108-4f74-9d3e-cb168cffbfb5\",\"type\":\"ColumnDataSource\"}},\"id\":\"17200070-fd17-48a8-a5ba-00b7b152427b\",\"type\":\"CDSView\"},{\"attributes\":{},\"id\":\"f5869f8e-6ba9-42a1-984d-4533e9832f3c\",\"type\":\"BasicTickFormatter\"},{\"attributes\":{},\"id\":\"08eba686-ebe4-48a7-a7f3-de042975886b\",\"type\":\"Selection\"},{\"attributes\":{\"data_source\":{\"id\":\"3f79925a-c173-42d9-809b-083a8a155529\",\"type\":\"ColumnDataSource\"},\"glyph\":{\"id\":\"0851f860-9be0-4af4-a926-d19494f5d637\",\"type\":\"Line\"},\"hover_glyph\":null,\"muted_glyph\":null,\"nonselection_glyph\":{\"id\":\"43b85555-cbcb-4ca8-9b16-26196044e284\",\"type\":\"Line\"},\"selection_glyph\":null,\"view\":{\"id\":\"c5907f5c-dc8c-43f3-ba18-b66ed3e3fba4\",\"type\":\"CDSView\"}},\"id\":\"e0db1b2e-8619-46f8-aa0b-04d675205a97\",\"type\":\"GlyphRenderer\"},{\"attributes\":{\"label\":{\"value\":\"predicted_xgb\"},\"renderers\":[{\"id\":\"bbe2217d-7520-4573-968c-7a570fa6faed\",\"type\":\"GlyphRenderer\"}]},\"id\":\"36840897-d8e5-4a67-af2e-036a70a597c4\",\"type\":\"LegendItem\"},{\"attributes\":{\"line_color\":\"orange\",\"x\":{\"field\":\"x\"},\"y\":{\"field\":\"y\"}},\"id\":\"97a5e202-6628-4b94-b687-89d644097aa5\",\"type\":\"Line\"},{\"attributes\":{\"label\":{\"value\":\"real\"},\"renderers\":[{\"id\":\"e0db1b2e-8619-46f8-aa0b-04d675205a97\",\"type\":\"GlyphRenderer\"}]},\"id\":\"71f87546-6efe-407a-9707-7694fb3b01f4\",\"type\":\"LegendItem\"},{\"attributes\":{\"formatter\":{\"id\":\"34ae1e2b-9fe5-4e1a-9c35-eecdee27d0a7\",\"type\":\"BasicTickFormatter\"},\"plot\":{\"id\":\"0b292f76-b6d2-4b13-8e02-ee6eb6f3c071\",\"subtype\":\"Figure\",\"type\":\"Plot\"},\"ticker\":{\"id\":\"8b8dd2a6-8b73-4823-9752-027eeef56c58\",\"type\":\"BasicTicker\"}},\"id\":\"aeb7c43d-2cac-42ef-83cd-97860078a80b\",\"type\":\"LinearAxis\"},{\"attributes\":{},\"id\":\"a3d58c56-9ae8-4588-b645-63fee5c0eb28\",\"type\":\"HelpTool\"},{\"attributes\":{},\"id\":\"46da040f-0370-492e-91ca-97d6cfc41e6f\",\"type\":\"UnionRenderers\"},{\"attributes\":{},\"id\":\"7f74faff-b88e-42f8-92d6-68f07d3dd9d6\",\"type\":\"WheelZoomTool\"},{\"attributes\":{\"overlay\":{\"id\":\"dda32fc8-6d64-42a3-a68c-f4a15c6355a9\",\"type\":\"BoxAnnotation\"}},\"id\":\"106ac77a-9e65-420a-b97c-c646b728fb79\",\"type\":\"BoxZoomTool\"},{\"attributes\":{\"source\":{\"id\":\"3f79925a-c173-42d9-809b-083a8a155529\",\"type\":\"ColumnDataSource\"}},\"id\":\"c5907f5c-dc8c-43f3-ba18-b66ed3e3fba4\",\"type\":\"CDSView\"},{\"attributes\":{},\"id\":\"e6961ebf-73f3-474d-bca3-1614a51ff4a8\",\"type\":\"PanTool\"},{\"attributes\":{\"dimension\":1,\"plot\":{\"id\":\"0b292f76-b6d2-4b13-8e02-ee6eb6f3c071\",\"subtype\":\"Figure\",\"type\":\"Plot\"},\"ticker\":{\"id\":\"25eb6a96-2176-456d-8334-be1027bedba2\",\"type\":\"BasicTicker\"}},\"id\":\"e755a9ab-7ef0-45f1-82cb-44855022525a\",\"type\":\"Grid\"},{\"attributes\":{\"callback\":null,\"data\":{\"x\":{\"__ndarray__\":\"AAAAAAEAAAACAAAAAwAAAAQAAAAFAAAABgAAAAcAAAAIAAAACQAAAAoAAAALAAAADAAAAA0AAAAOAAAADwAAABAAAAARAAAAEgAAABMAAAAUAAAAFQAAABYAAAAXAAAA\",\"dtype\":\"int32\",\"shape\":[24]},\"y\":{\"__ndarray__\":\"P0iDNEiD3D8jDdIgDdLYPz80d6aa3dg/2o9kr1wxzD9T/JHslSu2PwrXo3A9Cqc/zMGCko5Pnz9VsleuGL6UP9osm3/GNCk/AAAAAAAAAAAAAAAAAAAAAAAAAAAAAAAAAAAAAAAAAAAAAAAAAAAAAAAAAAAAAAAAAAAAAAAAAAAAAAAAAAAAAAAAAAAAAAAAAAAAAAAAAAAAAAAAAAAAAMogDdIgDZI/X+iFXuiF0j8cRvtNeS7lP75tQo06D+o/\",\"dtype\":\"float64\",\"shape\":[24]}},\"selected\":{\"id\":\"08eba686-ebe4-48a7-a7f3-de042975886b\",\"type\":\"Selection\"},\"selection_policy\":{\"id\":\"15761c34-8024-4848-a94c-cecdf4de874c\",\"type\":\"UnionRenderers\"}},\"id\":\"3f79925a-c173-42d9-809b-083a8a155529\",\"type\":\"ColumnDataSource\"},{\"attributes\":{},\"id\":\"aa9391c0-ff7e-4f41-bdf4-c89dcda27d71\",\"type\":\"SaveTool\"},{\"attributes\":{},\"id\":\"b9da76de-8c2f-4122-b263-3197d90d4622\",\"type\":\"ResetTool\"},{\"attributes\":{\"line_alpha\":0.1,\"line_color\":\"#1f77b4\",\"x\":{\"field\":\"x\"},\"y\":{\"field\":\"y\"}},\"id\":\"8db93ff7-4ca4-4ae4-87ff-9c9575fe789f\",\"type\":\"Line\"},{\"attributes\":{\"callback\":null},\"id\":\"ef215674-0a48-4e6c-b0ca-5d5af5be2acb\",\"type\":\"DataRange1d\"},{\"attributes\":{\"below\":[{\"id\":\"aeb7c43d-2cac-42ef-83cd-97860078a80b\",\"type\":\"LinearAxis\"}],\"left\":[{\"id\":\"29a2272c-8670-4418-8659-bdbd7f22dc85\",\"type\":\"LinearAxis\"}],\"renderers\":[{\"id\":\"aeb7c43d-2cac-42ef-83cd-97860078a80b\",\"type\":\"LinearAxis\"},{\"id\":\"2aa228e9-3be0-4d9b-ab7f-a0983592a787\",\"type\":\"Grid\"},{\"id\":\"29a2272c-8670-4418-8659-bdbd7f22dc85\",\"type\":\"LinearAxis\"},{\"id\":\"e755a9ab-7ef0-45f1-82cb-44855022525a\",\"type\":\"Grid\"},{\"id\":\"dda32fc8-6d64-42a3-a68c-f4a15c6355a9\",\"type\":\"BoxAnnotation\"},{\"id\":\"76fce13d-cbe2-4f41-9669-d5711dd337e1\",\"type\":\"Legend\"},{\"id\":\"e0db1b2e-8619-46f8-aa0b-04d675205a97\",\"type\":\"GlyphRenderer\"},{\"id\":\"bbe2217d-7520-4573-968c-7a570fa6faed\",\"type\":\"GlyphRenderer\"}],\"title\":{\"id\":\"92418ee8-e96c-4a0a-8df3-d9cc5af46307\",\"type\":\"Title\"},\"toolbar\":{\"id\":\"53c2c589-6e17-453a-9e42-8da8cef991a5\",\"type\":\"Toolbar\"},\"x_range\":{\"id\":\"a0616532-69f9-4f56-b989-4064aac50978\",\"type\":\"DataRange1d\"},\"x_scale\":{\"id\":\"fba32bf7-f26b-4c9c-a419-e1d5b874809c\",\"type\":\"LinearScale\"},\"y_range\":{\"id\":\"ef215674-0a48-4e6c-b0ca-5d5af5be2acb\",\"type\":\"DataRange1d\"},\"y_scale\":{\"id\":\"098d8791-c04c-4e96-8ae9-f64dff2a49f5\",\"type\":\"LinearScale\"}},\"id\":\"0b292f76-b6d2-4b13-8e02-ee6eb6f3c071\",\"subtype\":\"Figure\",\"type\":\"Plot\"},{\"attributes\":{\"bottom_units\":\"screen\",\"fill_alpha\":{\"value\":0.5},\"fill_color\":{\"value\":\"lightgrey\"},\"left_units\":\"screen\",\"level\":\"overlay\",\"line_alpha\":{\"value\":1.0},\"line_color\":{\"value\":\"black\"},\"line_dash\":[4,4],\"line_width\":{\"value\":2},\"plot\":null,\"render_mode\":\"css\",\"right_units\":\"screen\",\"top_units\":\"screen\"},\"id\":\"dda32fc8-6d64-42a3-a68c-f4a15c6355a9\",\"type\":\"BoxAnnotation\"},{\"attributes\":{},\"id\":\"8b8dd2a6-8b73-4823-9752-027eeef56c58\",\"type\":\"BasicTicker\"},{\"attributes\":{},\"id\":\"25eb6a96-2176-456d-8334-be1027bedba2\",\"type\":\"BasicTicker\"},{\"attributes\":{\"formatter\":{\"id\":\"f5869f8e-6ba9-42a1-984d-4533e9832f3c\",\"type\":\"BasicTickFormatter\"},\"plot\":{\"id\":\"0b292f76-b6d2-4b13-8e02-ee6eb6f3c071\",\"subtype\":\"Figure\",\"type\":\"Plot\"},\"ticker\":{\"id\":\"25eb6a96-2176-456d-8334-be1027bedba2\",\"type\":\"BasicTicker\"}},\"id\":\"29a2272c-8670-4418-8659-bdbd7f22dc85\",\"type\":\"LinearAxis\"},{\"attributes\":{\"line_alpha\":0.1,\"line_color\":\"#1f77b4\",\"x\":{\"field\":\"x\"},\"y\":{\"field\":\"y\"}},\"id\":\"43b85555-cbcb-4ca8-9b16-26196044e284\",\"type\":\"Line\"},{\"attributes\":{\"active_drag\":\"auto\",\"active_inspect\":\"auto\",\"active_scroll\":\"auto\",\"active_tap\":\"auto\",\"tools\":[{\"id\":\"e6961ebf-73f3-474d-bca3-1614a51ff4a8\",\"type\":\"PanTool\"},{\"id\":\"7f74faff-b88e-42f8-92d6-68f07d3dd9d6\",\"type\":\"WheelZoomTool\"},{\"id\":\"106ac77a-9e65-420a-b97c-c646b728fb79\",\"type\":\"BoxZoomTool\"},{\"id\":\"aa9391c0-ff7e-4f41-bdf4-c89dcda27d71\",\"type\":\"SaveTool\"},{\"id\":\"b9da76de-8c2f-4122-b263-3197d90d4622\",\"type\":\"ResetTool\"},{\"id\":\"a3d58c56-9ae8-4588-b645-63fee5c0eb28\",\"type\":\"HelpTool\"}]},\"id\":\"53c2c589-6e17-453a-9e42-8da8cef991a5\",\"type\":\"Toolbar\"},{\"attributes\":{},\"id\":\"098d8791-c04c-4e96-8ae9-f64dff2a49f5\",\"type\":\"LinearScale\"},{\"attributes\":{},\"id\":\"fba32bf7-f26b-4c9c-a419-e1d5b874809c\",\"type\":\"LinearScale\"},{\"attributes\":{\"line_color\":\"#1f77b4\",\"x\":{\"field\":\"x\"},\"y\":{\"field\":\"y\"}},\"id\":\"0851f860-9be0-4af4-a926-d19494f5d637\",\"type\":\"Line\"}],\"root_ids\":[\"0b292f76-b6d2-4b13-8e02-ee6eb6f3c071\"]},\"title\":\"Bokeh Application\",\"version\":\"0.12.16\"}};\n",
       "  var render_items = [{\"docid\":\"e02889ec-2305-43ad-b85a-276b4ad83687\",\"elementid\":\"98d696d4-6b7a-4509-ac7c-67ad7c9b1723\",\"modelid\":\"0b292f76-b6d2-4b13-8e02-ee6eb6f3c071\"}];\n",
       "  root.Bokeh.embed.embed_items_notebook(docs_json, render_items);\n",
       "\n",
       "  }\n",
       "  if (root.Bokeh !== undefined) {\n",
       "    embed_document(root);\n",
       "  } else {\n",
       "    var attempts = 0;\n",
       "    var timer = setInterval(function(root) {\n",
       "      if (root.Bokeh !== undefined) {\n",
       "        embed_document(root);\n",
       "        clearInterval(timer);\n",
       "      }\n",
       "      attempts++;\n",
       "      if (attempts > 100) {\n",
       "        console.log(\"Bokeh: ERROR: Unable to run BokehJS code because BokehJS library is missing\")\n",
       "        clearInterval(timer);\n",
       "      }\n",
       "    }, 10, root)\n",
       "  }\n",
       "})(window);"
      ],
      "application/vnd.bokehjs_exec.v0+json": ""
     },
     "metadata": {
      "application/vnd.bokehjs_exec.v0+json": {
       "id": "0b292f76-b6d2-4b13-8e02-ee6eb6f3c071"
      }
     },
     "output_type": "display_data"
    },
    {
     "name": "stdout",
     "output_type": "stream",
     "text": [
      "0.6831098527765695\n"
     ]
    },
    {
     "data": {
      "text/html": [
       "\n",
       "<div class=\"bk-root\">\n",
       "    <div class=\"bk-plotdiv\" id=\"aa31b54e-61a9-4189-8eaa-410994153b0c\"></div>\n",
       "</div>"
      ]
     },
     "metadata": {},
     "output_type": "display_data"
    },
    {
     "data": {
      "application/javascript": [
       "(function(root) {\n",
       "  function embed_document(root) {\n",
       "    \n",
       "  var docs_json = {\"2abab9a7-5539-4607-8472-3f562afe1a38\":{\"roots\":{\"references\":[{\"attributes\":{\"overlay\":{\"id\":\"06f19166-b312-4f75-8b9b-fa5378420b32\",\"type\":\"BoxAnnotation\"}},\"id\":\"9a3b72b6-2767-4ee0-bb5d-ed86ffb6a804\",\"type\":\"BoxZoomTool\"},{\"attributes\":{\"callback\":null,\"data\":{\"x\":{\"__ndarray__\":\"AAAAAAEAAAACAAAAAwAAAAQAAAAFAAAABgAAAAcAAAAIAAAACQAAAAoAAAALAAAADAAAAA0AAAAOAAAADwAAABAAAAARAAAAEgAAABMAAAAUAAAAFQAAABYAAAAXAAAA\",\"dtype\":\"int32\",\"shape\":[24]},\"y\":{\"__ndarray__\":\"cEQaP3BEGj/Z3Ro/MZMJPw8xzT58lVc+UL+jPbBj+TzgCAs8QGXeO0Bl3jtAZd47QGXeO0Bl3jtAZd47QGXeO0Bl3jtAZd47QGXeO0Bl3jtgoxg933iGPgju8j64Whc/\",\"dtype\":\"float32\",\"shape\":[24]}},\"selected\":{\"id\":\"62272c7c-4b61-434e-9ad4-b7a957c53f38\",\"type\":\"Selection\"},\"selection_policy\":{\"id\":\"5889d984-014c-4cfe-ab6e-ef24c7af8a3a\",\"type\":\"UnionRenderers\"}},\"id\":\"c904364e-5c52-44c0-b4ad-bb8c5ae52ad5\",\"type\":\"ColumnDataSource\"},{\"attributes\":{},\"id\":\"44845b48-3045-424a-94e2-7a660fded4aa\",\"type\":\"PanTool\"},{\"attributes\":{\"line_alpha\":0.1,\"line_color\":\"#1f77b4\",\"x\":{\"field\":\"x\"},\"y\":{\"field\":\"y\"}},\"id\":\"1faf4b95-8d40-42c5-9665-62fa2cdf80a0\",\"type\":\"Line\"},{\"attributes\":{\"formatter\":{\"id\":\"23e4ed02-8e14-4408-84fe-c109b4ebc69d\",\"type\":\"BasicTickFormatter\"},\"plot\":{\"id\":\"b1b03574-d876-4768-980c-9253e2e763fa\",\"subtype\":\"Figure\",\"type\":\"Plot\"},\"ticker\":{\"id\":\"40d1f8cc-ffdb-4ea5-bac4-c742eea36e39\",\"type\":\"BasicTicker\"}},\"id\":\"be23e259-9559-400c-bf1e-e08432431588\",\"type\":\"LinearAxis\"},{\"attributes\":{\"plot\":null,\"text\":\"\"},\"id\":\"97ada834-2869-4889-ba95-10ef401a7744\",\"type\":\"Title\"},{\"attributes\":{\"data_source\":{\"id\":\"c904364e-5c52-44c0-b4ad-bb8c5ae52ad5\",\"type\":\"ColumnDataSource\"},\"glyph\":{\"id\":\"0dc04898-bbf1-4227-9845-09e9ac848592\",\"type\":\"Line\"},\"hover_glyph\":null,\"muted_glyph\":null,\"nonselection_glyph\":{\"id\":\"1faf4b95-8d40-42c5-9665-62fa2cdf80a0\",\"type\":\"Line\"},\"selection_glyph\":null,\"view\":{\"id\":\"1c03dc19-c01a-4b8f-b137-8ee4ddda5774\",\"type\":\"CDSView\"}},\"id\":\"30397f47-76f8-4d9d-8448-06cd91dd0a55\",\"type\":\"GlyphRenderer\"},{\"attributes\":{},\"id\":\"d13f74e7-df44-46de-a66e-9fb5e2b15696\",\"type\":\"WheelZoomTool\"},{\"attributes\":{\"items\":[{\"id\":\"0bb4afc3-d9a8-40bc-b094-02269b1b1eb2\",\"type\":\"LegendItem\"},{\"id\":\"a79201a9-3fd7-475e-8272-6d5ccf382b14\",\"type\":\"LegendItem\"}],\"plot\":{\"id\":\"b1b03574-d876-4768-980c-9253e2e763fa\",\"subtype\":\"Figure\",\"type\":\"Plot\"}},\"id\":\"c2784eba-70c9-4e15-918a-4cbd6773325e\",\"type\":\"Legend\"},{\"attributes\":{\"source\":{\"id\":\"7463e9dd-6cf8-4ae9-b8b4-5b2c178636b4\",\"type\":\"ColumnDataSource\"}},\"id\":\"80eebf60-b19c-42fc-81e4-02eb9f055944\",\"type\":\"CDSView\"},{\"attributes\":{},\"id\":\"28195f6d-1cc9-4043-8a67-d09293ad3b4a\",\"type\":\"ResetTool\"},{\"attributes\":{},\"id\":\"00c5f09f-9af0-4661-b290-114278ba8d54\",\"type\":\"HelpTool\"},{\"attributes\":{},\"id\":\"39f222c0-17eb-4dc5-9e85-add3f8194e92\",\"type\":\"BasicTickFormatter\"},{\"attributes\":{\"source\":{\"id\":\"c904364e-5c52-44c0-b4ad-bb8c5ae52ad5\",\"type\":\"ColumnDataSource\"}},\"id\":\"1c03dc19-c01a-4b8f-b137-8ee4ddda5774\",\"type\":\"CDSView\"},{\"attributes\":{\"line_color\":\"orange\",\"x\":{\"field\":\"x\"},\"y\":{\"field\":\"y\"}},\"id\":\"0dc04898-bbf1-4227-9845-09e9ac848592\",\"type\":\"Line\"},{\"attributes\":{\"label\":{\"value\":\"real\"},\"renderers\":[{\"id\":\"1c32b554-a2c7-486c-b946-49c55f8df38b\",\"type\":\"GlyphRenderer\"}]},\"id\":\"0bb4afc3-d9a8-40bc-b094-02269b1b1eb2\",\"type\":\"LegendItem\"},{\"attributes\":{},\"id\":\"62272c7c-4b61-434e-9ad4-b7a957c53f38\",\"type\":\"Selection\"},{\"attributes\":{\"formatter\":{\"id\":\"39f222c0-17eb-4dc5-9e85-add3f8194e92\",\"type\":\"BasicTickFormatter\"},\"plot\":{\"id\":\"b1b03574-d876-4768-980c-9253e2e763fa\",\"subtype\":\"Figure\",\"type\":\"Plot\"},\"ticker\":{\"id\":\"775f097c-b5e2-4003-8fc9-4b36f416aa89\",\"type\":\"BasicTicker\"}},\"id\":\"09873800-1cab-4b8c-8a45-66ff662a36c7\",\"type\":\"LinearAxis\"},{\"attributes\":{},\"id\":\"babd3210-b945-43b3-baec-3fd7a404600c\",\"type\":\"Selection\"},{\"attributes\":{},\"id\":\"5889d984-014c-4cfe-ab6e-ef24c7af8a3a\",\"type\":\"UnionRenderers\"},{\"attributes\":{},\"id\":\"23e4ed02-8e14-4408-84fe-c109b4ebc69d\",\"type\":\"BasicTickFormatter\"},{\"attributes\":{},\"id\":\"981c7370-652c-4439-837e-419149656024\",\"type\":\"SaveTool\"},{\"attributes\":{\"dimension\":1,\"plot\":{\"id\":\"b1b03574-d876-4768-980c-9253e2e763fa\",\"subtype\":\"Figure\",\"type\":\"Plot\"},\"ticker\":{\"id\":\"40d1f8cc-ffdb-4ea5-bac4-c742eea36e39\",\"type\":\"BasicTicker\"}},\"id\":\"87d2c0c1-8426-494a-956b-276287cbb71f\",\"type\":\"Grid\"},{\"attributes\":{\"callback\":null,\"data\":{\"x\":{\"__ndarray__\":\"AAAAAAEAAAACAAAAAwAAAAQAAAAFAAAABgAAAAcAAAAIAAAACQAAAAoAAAALAAAADAAAAA0AAAAOAAAADwAAABAAAAARAAAAEgAAABMAAAAUAAAAFQAAABYAAAAXAAAA\",\"dtype\":\"int32\",\"shape\":[24]},\"y\":{\"__ndarray__\":\"rUxk3n+X6z9XJjLvv8vqP5IGaZAGaeg/gsY0GWDO5D+f49PXFgffP3XP9mzP9tA/qzcU3WpHsD+r9OToJxiMP+0sm3/GNDk/AAAAAAAAAAAAAAAAAAAAAAAAAAAAAAAAAAAAAAAAAAAAAAAAAAAAAAAAAAAAAAAAAAAAAAAAAAAAAAAAAAAAAAAAAAAAAAAAAAAAAAAAAABEc2eq2c0QPw2DY2vpyZE/vD4fJ6WF0T+wdgThqTfkP5qzbP4Z0+g/\",\"dtype\":\"float64\",\"shape\":[24]}},\"selected\":{\"id\":\"babd3210-b945-43b3-baec-3fd7a404600c\",\"type\":\"Selection\"},\"selection_policy\":{\"id\":\"c6cf596c-bfa4-4d4a-911f-e70cf0f82c31\",\"type\":\"UnionRenderers\"}},\"id\":\"7463e9dd-6cf8-4ae9-b8b4-5b2c178636b4\",\"type\":\"ColumnDataSource\"},{\"attributes\":{},\"id\":\"c6cf596c-bfa4-4d4a-911f-e70cf0f82c31\",\"type\":\"UnionRenderers\"},{\"attributes\":{\"line_color\":\"#1f77b4\",\"x\":{\"field\":\"x\"},\"y\":{\"field\":\"y\"}},\"id\":\"6b854618-488e-4243-acd0-0a6d90492b00\",\"type\":\"Line\"},{\"attributes\":{},\"id\":\"b095093c-d2d1-4be1-8349-a312e65b3325\",\"type\":\"LinearScale\"},{\"attributes\":{},\"id\":\"40d1f8cc-ffdb-4ea5-bac4-c742eea36e39\",\"type\":\"BasicTicker\"},{\"attributes\":{\"line_alpha\":0.1,\"line_color\":\"#1f77b4\",\"x\":{\"field\":\"x\"},\"y\":{\"field\":\"y\"}},\"id\":\"900979ab-57c2-42b4-9f5c-dbb7b636aa10\",\"type\":\"Line\"},{\"attributes\":{\"below\":[{\"id\":\"09873800-1cab-4b8c-8a45-66ff662a36c7\",\"type\":\"LinearAxis\"}],\"left\":[{\"id\":\"be23e259-9559-400c-bf1e-e08432431588\",\"type\":\"LinearAxis\"}],\"renderers\":[{\"id\":\"09873800-1cab-4b8c-8a45-66ff662a36c7\",\"type\":\"LinearAxis\"},{\"id\":\"42f4e838-b09a-423b-8bde-283f904e90fa\",\"type\":\"Grid\"},{\"id\":\"be23e259-9559-400c-bf1e-e08432431588\",\"type\":\"LinearAxis\"},{\"id\":\"87d2c0c1-8426-494a-956b-276287cbb71f\",\"type\":\"Grid\"},{\"id\":\"06f19166-b312-4f75-8b9b-fa5378420b32\",\"type\":\"BoxAnnotation\"},{\"id\":\"c2784eba-70c9-4e15-918a-4cbd6773325e\",\"type\":\"Legend\"},{\"id\":\"1c32b554-a2c7-486c-b946-49c55f8df38b\",\"type\":\"GlyphRenderer\"},{\"id\":\"30397f47-76f8-4d9d-8448-06cd91dd0a55\",\"type\":\"GlyphRenderer\"}],\"title\":{\"id\":\"97ada834-2869-4889-ba95-10ef401a7744\",\"type\":\"Title\"},\"toolbar\":{\"id\":\"4deccc97-f125-4a53-b9e6-25991e618cd8\",\"type\":\"Toolbar\"},\"x_range\":{\"id\":\"77a7277a-bc57-4465-946d-4af288427935\",\"type\":\"DataRange1d\"},\"x_scale\":{\"id\":\"b095093c-d2d1-4be1-8349-a312e65b3325\",\"type\":\"LinearScale\"},\"y_range\":{\"id\":\"25f17dcb-fee4-450b-a273-2d630b9420fd\",\"type\":\"DataRange1d\"},\"y_scale\":{\"id\":\"c6fe3ee2-362a-4293-8f51-4811db5008a0\",\"type\":\"LinearScale\"}},\"id\":\"b1b03574-d876-4768-980c-9253e2e763fa\",\"subtype\":\"Figure\",\"type\":\"Plot\"},{\"attributes\":{\"callback\":null},\"id\":\"25f17dcb-fee4-450b-a273-2d630b9420fd\",\"type\":\"DataRange1d\"},{\"attributes\":{},\"id\":\"775f097c-b5e2-4003-8fc9-4b36f416aa89\",\"type\":\"BasicTicker\"},{\"attributes\":{\"data_source\":{\"id\":\"7463e9dd-6cf8-4ae9-b8b4-5b2c178636b4\",\"type\":\"ColumnDataSource\"},\"glyph\":{\"id\":\"6b854618-488e-4243-acd0-0a6d90492b00\",\"type\":\"Line\"},\"hover_glyph\":null,\"muted_glyph\":null,\"nonselection_glyph\":{\"id\":\"900979ab-57c2-42b4-9f5c-dbb7b636aa10\",\"type\":\"Line\"},\"selection_glyph\":null,\"view\":{\"id\":\"80eebf60-b19c-42fc-81e4-02eb9f055944\",\"type\":\"CDSView\"}},\"id\":\"1c32b554-a2c7-486c-b946-49c55f8df38b\",\"type\":\"GlyphRenderer\"},{\"attributes\":{\"active_drag\":\"auto\",\"active_inspect\":\"auto\",\"active_scroll\":\"auto\",\"active_tap\":\"auto\",\"tools\":[{\"id\":\"44845b48-3045-424a-94e2-7a660fded4aa\",\"type\":\"PanTool\"},{\"id\":\"d13f74e7-df44-46de-a66e-9fb5e2b15696\",\"type\":\"WheelZoomTool\"},{\"id\":\"9a3b72b6-2767-4ee0-bb5d-ed86ffb6a804\",\"type\":\"BoxZoomTool\"},{\"id\":\"981c7370-652c-4439-837e-419149656024\",\"type\":\"SaveTool\"},{\"id\":\"28195f6d-1cc9-4043-8a67-d09293ad3b4a\",\"type\":\"ResetTool\"},{\"id\":\"00c5f09f-9af0-4661-b290-114278ba8d54\",\"type\":\"HelpTool\"}]},\"id\":\"4deccc97-f125-4a53-b9e6-25991e618cd8\",\"type\":\"Toolbar\"},{\"attributes\":{\"plot\":{\"id\":\"b1b03574-d876-4768-980c-9253e2e763fa\",\"subtype\":\"Figure\",\"type\":\"Plot\"},\"ticker\":{\"id\":\"775f097c-b5e2-4003-8fc9-4b36f416aa89\",\"type\":\"BasicTicker\"}},\"id\":\"42f4e838-b09a-423b-8bde-283f904e90fa\",\"type\":\"Grid\"},{\"attributes\":{},\"id\":\"c6fe3ee2-362a-4293-8f51-4811db5008a0\",\"type\":\"LinearScale\"},{\"attributes\":{\"label\":{\"value\":\"predicted_xgb\"},\"renderers\":[{\"id\":\"30397f47-76f8-4d9d-8448-06cd91dd0a55\",\"type\":\"GlyphRenderer\"}]},\"id\":\"a79201a9-3fd7-475e-8272-6d5ccf382b14\",\"type\":\"LegendItem\"},{\"attributes\":{\"bottom_units\":\"screen\",\"fill_alpha\":{\"value\":0.5},\"fill_color\":{\"value\":\"lightgrey\"},\"left_units\":\"screen\",\"level\":\"overlay\",\"line_alpha\":{\"value\":1.0},\"line_color\":{\"value\":\"black\"},\"line_dash\":[4,4],\"line_width\":{\"value\":2},\"plot\":null,\"render_mode\":\"css\",\"right_units\":\"screen\",\"top_units\":\"screen\"},\"id\":\"06f19166-b312-4f75-8b9b-fa5378420b32\",\"type\":\"BoxAnnotation\"},{\"attributes\":{\"callback\":null},\"id\":\"77a7277a-bc57-4465-946d-4af288427935\",\"type\":\"DataRange1d\"}],\"root_ids\":[\"b1b03574-d876-4768-980c-9253e2e763fa\"]},\"title\":\"Bokeh Application\",\"version\":\"0.12.16\"}};\n",
       "  var render_items = [{\"docid\":\"2abab9a7-5539-4607-8472-3f562afe1a38\",\"elementid\":\"aa31b54e-61a9-4189-8eaa-410994153b0c\",\"modelid\":\"b1b03574-d876-4768-980c-9253e2e763fa\"}];\n",
       "  root.Bokeh.embed.embed_items_notebook(docs_json, render_items);\n",
       "\n",
       "  }\n",
       "  if (root.Bokeh !== undefined) {\n",
       "    embed_document(root);\n",
       "  } else {\n",
       "    var attempts = 0;\n",
       "    var timer = setInterval(function(root) {\n",
       "      if (root.Bokeh !== undefined) {\n",
       "        embed_document(root);\n",
       "        clearInterval(timer);\n",
       "      }\n",
       "      attempts++;\n",
       "      if (attempts > 100) {\n",
       "        console.log(\"Bokeh: ERROR: Unable to run BokehJS code because BokehJS library is missing\")\n",
       "        clearInterval(timer);\n",
       "      }\n",
       "    }, 10, root)\n",
       "  }\n",
       "})(window);"
      ],
      "application/vnd.bokehjs_exec.v0+json": ""
     },
     "metadata": {
      "application/vnd.bokehjs_exec.v0+json": {
       "id": "b1b03574-d876-4768-980c-9253e2e763fa"
      }
     },
     "output_type": "display_data"
    },
    {
     "name": "stdout",
     "output_type": "stream",
     "text": [
      "0.8715811158046103\n"
     ]
    },
    {
     "data": {
      "text/html": [
       "\n",
       "<div class=\"bk-root\">\n",
       "    <div class=\"bk-plotdiv\" id=\"c788d356-172e-4622-80d2-79232e98c587\"></div>\n",
       "</div>"
      ]
     },
     "metadata": {},
     "output_type": "display_data"
    },
    {
     "data": {
      "application/javascript": [
       "(function(root) {\n",
       "  function embed_document(root) {\n",
       "    \n",
       "  var docs_json = {\"16fd02bc-32d9-4b27-9684-66a6a9c2d462\":{\"roots\":{\"references\":[{\"attributes\":{\"line_alpha\":0.1,\"line_color\":\"#1f77b4\",\"x\":{\"field\":\"x\"},\"y\":{\"field\":\"y\"}},\"id\":\"e2de23c2-f751-4de3-b162-f02f41e6acd9\",\"type\":\"Line\"},{\"attributes\":{\"dimension\":1,\"plot\":{\"id\":\"6b17b744-e449-4f05-9c91-f98934d24e97\",\"subtype\":\"Figure\",\"type\":\"Plot\"},\"ticker\":{\"id\":\"7cca21f5-cdb7-4c9a-98e1-4e006dd224b9\",\"type\":\"BasicTicker\"}},\"id\":\"2de08c35-ffd8-489c-a233-3ccf138a7547\",\"type\":\"Grid\"},{\"attributes\":{\"data_source\":{\"id\":\"0994f2aa-8430-4ea1-9ecb-595555cc5b1a\",\"type\":\"ColumnDataSource\"},\"glyph\":{\"id\":\"f2f9f9cf-0454-4a56-88e8-6f37c446518a\",\"type\":\"Line\"},\"hover_glyph\":null,\"muted_glyph\":null,\"nonselection_glyph\":{\"id\":\"e2de23c2-f751-4de3-b162-f02f41e6acd9\",\"type\":\"Line\"},\"selection_glyph\":null,\"view\":{\"id\":\"9b225b50-94d6-4f38-a450-9f8c902c8f29\",\"type\":\"CDSView\"}},\"id\":\"657c29a0-eb51-478d-b942-204565823555\",\"type\":\"GlyphRenderer\"},{\"attributes\":{\"line_color\":\"#1f77b4\",\"x\":{\"field\":\"x\"},\"y\":{\"field\":\"y\"}},\"id\":\"f2f9f9cf-0454-4a56-88e8-6f37c446518a\",\"type\":\"Line\"},{\"attributes\":{},\"id\":\"e1c3f6f0-28b3-4bd9-8fb8-d69498e1161d\",\"type\":\"UnionRenderers\"},{\"attributes\":{\"bottom_units\":\"screen\",\"fill_alpha\":{\"value\":0.5},\"fill_color\":{\"value\":\"lightgrey\"},\"left_units\":\"screen\",\"level\":\"overlay\",\"line_alpha\":{\"value\":1.0},\"line_color\":{\"value\":\"black\"},\"line_dash\":[4,4],\"line_width\":{\"value\":2},\"plot\":null,\"render_mode\":\"css\",\"right_units\":\"screen\",\"top_units\":\"screen\"},\"id\":\"540bdec6-933a-495c-990a-d324b7c95e53\",\"type\":\"BoxAnnotation\"},{\"attributes\":{},\"id\":\"4c41fabf-af6f-4c18-af69-484679b6d228\",\"type\":\"PanTool\"},{\"attributes\":{\"source\":{\"id\":\"0994f2aa-8430-4ea1-9ecb-595555cc5b1a\",\"type\":\"ColumnDataSource\"}},\"id\":\"9b225b50-94d6-4f38-a450-9f8c902c8f29\",\"type\":\"CDSView\"},{\"attributes\":{},\"id\":\"8507301f-c1df-481f-993e-71de9f9a70c5\",\"type\":\"WheelZoomTool\"},{\"attributes\":{\"formatter\":{\"id\":\"b6b5151a-2fcf-4eb9-97ff-e53c91df8bd3\",\"type\":\"BasicTickFormatter\"},\"plot\":{\"id\":\"6b17b744-e449-4f05-9c91-f98934d24e97\",\"subtype\":\"Figure\",\"type\":\"Plot\"},\"ticker\":{\"id\":\"7cca21f5-cdb7-4c9a-98e1-4e006dd224b9\",\"type\":\"BasicTicker\"}},\"id\":\"95e3ee88-335e-40b9-b8cc-4f2b88ad47d0\",\"type\":\"LinearAxis\"},{\"attributes\":{\"overlay\":{\"id\":\"540bdec6-933a-495c-990a-d324b7c95e53\",\"type\":\"BoxAnnotation\"}},\"id\":\"095560d0-2eed-47bd-ab20-50db38c47252\",\"type\":\"BoxZoomTool\"},{\"attributes\":{\"below\":[{\"id\":\"2a830ece-60d2-4ea9-a88d-8a2e1efa9ce9\",\"type\":\"LinearAxis\"}],\"left\":[{\"id\":\"95e3ee88-335e-40b9-b8cc-4f2b88ad47d0\",\"type\":\"LinearAxis\"}],\"renderers\":[{\"id\":\"2a830ece-60d2-4ea9-a88d-8a2e1efa9ce9\",\"type\":\"LinearAxis\"},{\"id\":\"b2108c1d-5bcf-4aae-a13b-a64bfc555a15\",\"type\":\"Grid\"},{\"id\":\"95e3ee88-335e-40b9-b8cc-4f2b88ad47d0\",\"type\":\"LinearAxis\"},{\"id\":\"2de08c35-ffd8-489c-a233-3ccf138a7547\",\"type\":\"Grid\"},{\"id\":\"540bdec6-933a-495c-990a-d324b7c95e53\",\"type\":\"BoxAnnotation\"},{\"id\":\"f74fdd52-027e-4f24-9f8f-516fa081004c\",\"type\":\"Legend\"},{\"id\":\"657c29a0-eb51-478d-b942-204565823555\",\"type\":\"GlyphRenderer\"},{\"id\":\"5ec01c34-1217-44c5-ae31-067b9de57f83\",\"type\":\"GlyphRenderer\"}],\"title\":{\"id\":\"143405c6-6db9-492c-96a4-cb8a5cd74e84\",\"type\":\"Title\"},\"toolbar\":{\"id\":\"c27a78e7-0576-4d1c-8f40-ae0478b8dc29\",\"type\":\"Toolbar\"},\"x_range\":{\"id\":\"cabd58d2-3bf7-41b8-ba64-99cd88ba7a6f\",\"type\":\"DataRange1d\"},\"x_scale\":{\"id\":\"756866ae-7b8e-4a8b-a126-26699a504da4\",\"type\":\"LinearScale\"},\"y_range\":{\"id\":\"30d96cb0-f196-4449-9b1d-56cbe9430928\",\"type\":\"DataRange1d\"},\"y_scale\":{\"id\":\"0fb9e632-98d2-4dce-a4e8-9a895742e43e\",\"type\":\"LinearScale\"}},\"id\":\"6b17b744-e449-4f05-9c91-f98934d24e97\",\"subtype\":\"Figure\",\"type\":\"Plot\"},{\"attributes\":{},\"id\":\"e94080d8-94de-4721-822a-c4e81f6f5397\",\"type\":\"SaveTool\"},{\"attributes\":{},\"id\":\"e4d0612e-d5a0-4bc0-b30b-93f78592934e\",\"type\":\"ResetTool\"},{\"attributes\":{},\"id\":\"65705e15-2f5d-4ab9-a11a-3a06c6ba4711\",\"type\":\"HelpTool\"},{\"attributes\":{\"plot\":{\"id\":\"6b17b744-e449-4f05-9c91-f98934d24e97\",\"subtype\":\"Figure\",\"type\":\"Plot\"},\"ticker\":{\"id\":\"6ea07f72-c1eb-42ba-8b7e-fa9ae2eeec3c\",\"type\":\"BasicTicker\"}},\"id\":\"b2108c1d-5bcf-4aae-a13b-a64bfc555a15\",\"type\":\"Grid\"},{\"attributes\":{},\"id\":\"b6b5151a-2fcf-4eb9-97ff-e53c91df8bd3\",\"type\":\"BasicTickFormatter\"},{\"attributes\":{},\"id\":\"b020c65f-e26c-4da9-8254-f578fba62257\",\"type\":\"BasicTickFormatter\"},{\"attributes\":{\"plot\":null,\"text\":\"\"},\"id\":\"143405c6-6db9-492c-96a4-cb8a5cd74e84\",\"type\":\"Title\"},{\"attributes\":{},\"id\":\"7cca21f5-cdb7-4c9a-98e1-4e006dd224b9\",\"type\":\"BasicTicker\"},{\"attributes\":{\"label\":{\"value\":\"real\"},\"renderers\":[{\"id\":\"657c29a0-eb51-478d-b942-204565823555\",\"type\":\"GlyphRenderer\"}]},\"id\":\"36f31432-ec1f-4669-a105-446f55728ec5\",\"type\":\"LegendItem\"},{\"attributes\":{},\"id\":\"756866ae-7b8e-4a8b-a126-26699a504da4\",\"type\":\"LinearScale\"},{\"attributes\":{\"data_source\":{\"id\":\"c8c19848-e7ab-4840-8e04-3b5832e9ee09\",\"type\":\"ColumnDataSource\"},\"glyph\":{\"id\":\"fc0b83d2-1a1a-4c26-b250-1c064700dd6f\",\"type\":\"Line\"},\"hover_glyph\":null,\"muted_glyph\":null,\"nonselection_glyph\":{\"id\":\"b8bf270a-3165-46c4-abcb-c71ad582dad2\",\"type\":\"Line\"},\"selection_glyph\":null,\"view\":{\"id\":\"8b6d230b-8bd5-47ad-a11a-0e0ade443ff7\",\"type\":\"CDSView\"}},\"id\":\"5ec01c34-1217-44c5-ae31-067b9de57f83\",\"type\":\"GlyphRenderer\"},{\"attributes\":{\"callback\":null,\"data\":{\"x\":{\"__ndarray__\":\"AAAAAAEAAAACAAAAAwAAAAQAAAAFAAAABgAAAAcAAAAIAAAACQAAAAoAAAALAAAADAAAAA0AAAAOAAAADwAAABAAAAARAAAAEgAAABMAAAAUAAAAFQAAABYAAAAXAAAA\",\"dtype\":\"int32\",\"shape\":[24]},\"y\":{\"__ndarray__\":\"ZSAlP2UgJT+GtB8/tB8LP+wVwz5KO1E+fB6MPbChtDzAgf47wIH+O8CB/jsAOBU8ADgVPEA9tDxAPbQ8QD20PEA9tDxAPbQ8QD20PEA9tDzY32s9mA+OPphQ7T629B8/\",\"dtype\":\"float32\",\"shape\":[24]}},\"selected\":{\"id\":\"8297b565-2532-4e5a-8de7-7e7bd946c09e\",\"type\":\"Selection\"},\"selection_policy\":{\"id\":\"a52c8034-db2d-4e30-bdcd-a51a39e97a60\",\"type\":\"UnionRenderers\"}},\"id\":\"c8c19848-e7ab-4840-8e04-3b5832e9ee09\",\"type\":\"ColumnDataSource\"},{\"attributes\":{},\"id\":\"0fb9e632-98d2-4dce-a4e8-9a895742e43e\",\"type\":\"LinearScale\"},{\"attributes\":{\"line_alpha\":0.1,\"line_color\":\"#1f77b4\",\"x\":{\"field\":\"x\"},\"y\":{\"field\":\"y\"}},\"id\":\"b8bf270a-3165-46c4-abcb-c71ad582dad2\",\"type\":\"Line\"},{\"attributes\":{\"items\":[{\"id\":\"36f31432-ec1f-4669-a105-446f55728ec5\",\"type\":\"LegendItem\"},{\"id\":\"3021c5b9-de49-4fb9-a648-f80de7b4ec86\",\"type\":\"LegendItem\"}],\"plot\":{\"id\":\"6b17b744-e449-4f05-9c91-f98934d24e97\",\"subtype\":\"Figure\",\"type\":\"Plot\"}},\"id\":\"f74fdd52-027e-4f24-9f8f-516fa081004c\",\"type\":\"Legend\"},{\"attributes\":{\"line_color\":\"orange\",\"x\":{\"field\":\"x\"},\"y\":{\"field\":\"y\"}},\"id\":\"fc0b83d2-1a1a-4c26-b250-1c064700dd6f\",\"type\":\"Line\"},{\"attributes\":{\"callback\":null},\"id\":\"cabd58d2-3bf7-41b8-ba64-99cd88ba7a6f\",\"type\":\"DataRange1d\"},{\"attributes\":{},\"id\":\"6ea07f72-c1eb-42ba-8b7e-fa9ae2eeec3c\",\"type\":\"BasicTicker\"},{\"attributes\":{\"source\":{\"id\":\"c8c19848-e7ab-4840-8e04-3b5832e9ee09\",\"type\":\"ColumnDataSource\"}},\"id\":\"8b6d230b-8bd5-47ad-a11a-0e0ade443ff7\",\"type\":\"CDSView\"},{\"attributes\":{\"callback\":null},\"id\":\"30d96cb0-f196-4449-9b1d-56cbe9430928\",\"type\":\"DataRange1d\"},{\"attributes\":{},\"id\":\"99c257c0-3a69-4a5d-8e78-341c9a9d06f9\",\"type\":\"Selection\"},{\"attributes\":{\"label\":{\"value\":\"predicted_xgb\"},\"renderers\":[{\"id\":\"5ec01c34-1217-44c5-ae31-067b9de57f83\",\"type\":\"GlyphRenderer\"}]},\"id\":\"3021c5b9-de49-4fb9-a648-f80de7b4ec86\",\"type\":\"LegendItem\"},{\"attributes\":{\"formatter\":{\"id\":\"b020c65f-e26c-4da9-8254-f578fba62257\",\"type\":\"BasicTickFormatter\"},\"plot\":{\"id\":\"6b17b744-e449-4f05-9c91-f98934d24e97\",\"subtype\":\"Figure\",\"type\":\"Plot\"},\"ticker\":{\"id\":\"6ea07f72-c1eb-42ba-8b7e-fa9ae2eeec3c\",\"type\":\"BasicTicker\"}},\"id\":\"2a830ece-60d2-4ea9-a88d-8a2e1efa9ce9\",\"type\":\"LinearAxis\"},{\"attributes\":{},\"id\":\"a52c8034-db2d-4e30-bdcd-a51a39e97a60\",\"type\":\"UnionRenderers\"},{\"attributes\":{\"active_drag\":\"auto\",\"active_inspect\":\"auto\",\"active_scroll\":\"auto\",\"active_tap\":\"auto\",\"tools\":[{\"id\":\"4c41fabf-af6f-4c18-af69-484679b6d228\",\"type\":\"PanTool\"},{\"id\":\"8507301f-c1df-481f-993e-71de9f9a70c5\",\"type\":\"WheelZoomTool\"},{\"id\":\"095560d0-2eed-47bd-ab20-50db38c47252\",\"type\":\"BoxZoomTool\"},{\"id\":\"e94080d8-94de-4721-822a-c4e81f6f5397\",\"type\":\"SaveTool\"},{\"id\":\"e4d0612e-d5a0-4bc0-b30b-93f78592934e\",\"type\":\"ResetTool\"},{\"id\":\"65705e15-2f5d-4ab9-a11a-3a06c6ba4711\",\"type\":\"HelpTool\"}]},\"id\":\"c27a78e7-0576-4d1c-8f40-ae0478b8dc29\",\"type\":\"Toolbar\"},{\"attributes\":{},\"id\":\"8297b565-2532-4e5a-8de7-7e7bd946c09e\",\"type\":\"Selection\"},{\"attributes\":{\"callback\":null,\"data\":{\"x\":{\"__ndarray__\":\"AAAAAAEAAAACAAAAAwAAAAQAAAAFAAAABgAAAAcAAAAIAAAACQAAAAoAAAALAAAADAAAAA0AAAAOAAAADwAAABAAAAARAAAAEgAAABMAAAAUAAAAFQAAABYAAAAXAAAA\",\"dtype\":\"int32\",\"shape\":[24]},\"y\":{\"__ndarray__\":\"D1oH3CbU6j9/lxGzykTqPwIqoAIqoOQ/0efjpLSw3T9VFmVRFmXdP/q1xcGCks4/JQhPvaHotj8cMu+/y4iZPz1zZ6rZzSA/AAAAAAAAAAAAAAAAAAAAAAAAAAAAAAAAAAAAAAAAAAAAAAAAAAAAAAAAAAAAAAAAAAAAAAAAAAAAAAAAAAAAAAAAAAAAAAAAAAAAAAAAAAAAAAAAAAAAALA3FN1qR2A/wW1CjToPqj+Ub/mWb/m2P03yiyW/WMI/\",\"dtype\":\"float64\",\"shape\":[24]}},\"selected\":{\"id\":\"99c257c0-3a69-4a5d-8e78-341c9a9d06f9\",\"type\":\"Selection\"},\"selection_policy\":{\"id\":\"e1c3f6f0-28b3-4bd9-8fb8-d69498e1161d\",\"type\":\"UnionRenderers\"}},\"id\":\"0994f2aa-8430-4ea1-9ecb-595555cc5b1a\",\"type\":\"ColumnDataSource\"}],\"root_ids\":[\"6b17b744-e449-4f05-9c91-f98934d24e97\"]},\"title\":\"Bokeh Application\",\"version\":\"0.12.16\"}};\n",
       "  var render_items = [{\"docid\":\"16fd02bc-32d9-4b27-9684-66a6a9c2d462\",\"elementid\":\"c788d356-172e-4622-80d2-79232e98c587\",\"modelid\":\"6b17b744-e449-4f05-9c91-f98934d24e97\"}];\n",
       "  root.Bokeh.embed.embed_items_notebook(docs_json, render_items);\n",
       "\n",
       "  }\n",
       "  if (root.Bokeh !== undefined) {\n",
       "    embed_document(root);\n",
       "  } else {\n",
       "    var attempts = 0;\n",
       "    var timer = setInterval(function(root) {\n",
       "      if (root.Bokeh !== undefined) {\n",
       "        embed_document(root);\n",
       "        clearInterval(timer);\n",
       "      }\n",
       "      attempts++;\n",
       "      if (attempts > 100) {\n",
       "        console.log(\"Bokeh: ERROR: Unable to run BokehJS code because BokehJS library is missing\")\n",
       "        clearInterval(timer);\n",
       "      }\n",
       "    }, 10, root)\n",
       "  }\n",
       "})(window);"
      ],
      "application/vnd.bokehjs_exec.v0+json": ""
     },
     "metadata": {
      "application/vnd.bokehjs_exec.v0+json": {
       "id": "6b17b744-e449-4f05-9c91-f98934d24e97"
      }
     },
     "output_type": "display_data"
    },
    {
     "name": "stdout",
     "output_type": "stream",
     "text": [
      "0.6706764094999611\n"
     ]
    },
    {
     "data": {
      "text/html": [
       "\n",
       "<div class=\"bk-root\">\n",
       "    <div class=\"bk-plotdiv\" id=\"433b4fd0-8bb7-41a6-a75e-0e5a7dd7cac3\"></div>\n",
       "</div>"
      ]
     },
     "metadata": {},
     "output_type": "display_data"
    },
    {
     "data": {
      "application/javascript": [
       "(function(root) {\n",
       "  function embed_document(root) {\n",
       "    \n",
       "  var docs_json = {\"2a66c422-0d17-4ec9-b1bb-d5fd3c27f359\":{\"roots\":{\"references\":[{\"attributes\":{\"label\":{\"value\":\"real\"},\"renderers\":[{\"id\":\"aeadd6e5-4a1f-41d3-bf1b-d3cbc83e9df9\",\"type\":\"GlyphRenderer\"}]},\"id\":\"38d4c159-fb0c-452e-a7ef-c7a874e6258d\",\"type\":\"LegendItem\"},{\"attributes\":{\"label\":{\"value\":\"predicted_xgb\"},\"renderers\":[{\"id\":\"0f5e22ac-0f86-4706-bd40-f17cfe682470\",\"type\":\"GlyphRenderer\"}]},\"id\":\"78acac2f-d64e-47ca-aade-1bf5e6af6ac8\",\"type\":\"LegendItem\"},{\"attributes\":{},\"id\":\"546f30f0-10f2-4bb3-a306-f44eda2d86ce\",\"type\":\"Selection\"},{\"attributes\":{\"items\":[{\"id\":\"38d4c159-fb0c-452e-a7ef-c7a874e6258d\",\"type\":\"LegendItem\"},{\"id\":\"78acac2f-d64e-47ca-aade-1bf5e6af6ac8\",\"type\":\"LegendItem\"}],\"plot\":{\"id\":\"4b636a67-3561-432e-b4f4-9a3a2c9c6f74\",\"subtype\":\"Figure\",\"type\":\"Plot\"}},\"id\":\"b4c230a3-07fa-4a1f-a4bf-42a54dc4c7f2\",\"type\":\"Legend\"},{\"attributes\":{\"line_color\":\"orange\",\"x\":{\"field\":\"x\"},\"y\":{\"field\":\"y\"}},\"id\":\"65af0275-1dc7-420a-8794-0a254b4c04d3\",\"type\":\"Line\"},{\"attributes\":{\"below\":[{\"id\":\"e2c4842f-1275-4944-80e6-01c1c615479a\",\"type\":\"LinearAxis\"}],\"left\":[{\"id\":\"ebd80be0-43da-483a-a2c7-5b84e5e55a11\",\"type\":\"LinearAxis\"}],\"renderers\":[{\"id\":\"e2c4842f-1275-4944-80e6-01c1c615479a\",\"type\":\"LinearAxis\"},{\"id\":\"0a162468-9b4d-4660-9887-7a657539d5aa\",\"type\":\"Grid\"},{\"id\":\"ebd80be0-43da-483a-a2c7-5b84e5e55a11\",\"type\":\"LinearAxis\"},{\"id\":\"f74272f4-0b60-4280-badf-aeaf5e7e3b9d\",\"type\":\"Grid\"},{\"id\":\"2dccef4f-73f0-4ce8-a0e6-d41ed827cb86\",\"type\":\"BoxAnnotation\"},{\"id\":\"b4c230a3-07fa-4a1f-a4bf-42a54dc4c7f2\",\"type\":\"Legend\"},{\"id\":\"aeadd6e5-4a1f-41d3-bf1b-d3cbc83e9df9\",\"type\":\"GlyphRenderer\"},{\"id\":\"0f5e22ac-0f86-4706-bd40-f17cfe682470\",\"type\":\"GlyphRenderer\"}],\"title\":{\"id\":\"10c4b62b-f916-4cc8-b81f-6a52dbad92a3\",\"type\":\"Title\"},\"toolbar\":{\"id\":\"a2e505aa-57ee-4a58-aa43-23ddf5262628\",\"type\":\"Toolbar\"},\"x_range\":{\"id\":\"a74d3b92-af55-4a82-ad59-557571fe0943\",\"type\":\"DataRange1d\"},\"x_scale\":{\"id\":\"b76c78cf-db0d-4f09-9371-dc91beffd7a6\",\"type\":\"LinearScale\"},\"y_range\":{\"id\":\"af3c2e40-b90d-4d8e-b60d-fa3bd3d0fb2b\",\"type\":\"DataRange1d\"},\"y_scale\":{\"id\":\"11129ed5-5327-431c-83e7-fec4be4a260c\",\"type\":\"LinearScale\"}},\"id\":\"4b636a67-3561-432e-b4f4-9a3a2c9c6f74\",\"subtype\":\"Figure\",\"type\":\"Plot\"},{\"attributes\":{\"source\":{\"id\":\"4b99f299-0103-4052-8c1f-3f0e6ed35368\",\"type\":\"ColumnDataSource\"}},\"id\":\"9b6a2213-426a-47c0-adf1-d1fa0ce39a3a\",\"type\":\"CDSView\"},{\"attributes\":{\"data_source\":{\"id\":\"4b99f299-0103-4052-8c1f-3f0e6ed35368\",\"type\":\"ColumnDataSource\"},\"glyph\":{\"id\":\"65af0275-1dc7-420a-8794-0a254b4c04d3\",\"type\":\"Line\"},\"hover_glyph\":null,\"muted_glyph\":null,\"nonselection_glyph\":{\"id\":\"ae98c71e-63c0-4dbe-9a9c-84a27a0ae8b0\",\"type\":\"Line\"},\"selection_glyph\":null,\"view\":{\"id\":\"9b6a2213-426a-47c0-adf1-d1fa0ce39a3a\",\"type\":\"CDSView\"}},\"id\":\"0f5e22ac-0f86-4706-bd40-f17cfe682470\",\"type\":\"GlyphRenderer\"},{\"attributes\":{},\"id\":\"499aaabc-37cd-4915-be27-dbaddd86770e\",\"type\":\"Selection\"},{\"attributes\":{\"plot\":null,\"text\":\"\"},\"id\":\"10c4b62b-f916-4cc8-b81f-6a52dbad92a3\",\"type\":\"Title\"},{\"attributes\":{\"callback\":null,\"data\":{\"x\":{\"__ndarray__\":\"AAAAAAEAAAACAAAAAwAAAAQAAAAFAAAABgAAAAcAAAAIAAAACQAAAAoAAAALAAAADAAAAA0AAAAOAAAADwAAABAAAAARAAAAEgAAABMAAAAUAAAAFQAAABYAAAAXAAAA\",\"dtype\":\"int32\",\"shape\":[24]},\"y\":{\"__ndarray__\":\"MrYtPzK2LT9u2CU/7IwHP3CKwj5UJFA+kPCJPQDqqzzAgf47QOETPCCkDzwgpA88IKQPPCCkDzwAR+s7AEfrOwBH6zsAR+s7AEfrOwBH6zsYKi89UlZwPggLyD6uHBU/\",\"dtype\":\"float32\",\"shape\":[24]}},\"selected\":{\"id\":\"546f30f0-10f2-4bb3-a306-f44eda2d86ce\",\"type\":\"Selection\"},\"selection_policy\":{\"id\":\"ca6ee885-590b-4948-b380-a1106ccf0037\",\"type\":\"UnionRenderers\"}},\"id\":\"4b99f299-0103-4052-8c1f-3f0e6ed35368\",\"type\":\"ColumnDataSource\"},{\"attributes\":{\"source\":{\"id\":\"c03de8a1-6fe5-45d9-9103-a5d7aba0da7d\",\"type\":\"ColumnDataSource\"}},\"id\":\"af6a69c7-71b8-4dd9-a8e3-e94e9a0a7c4a\",\"type\":\"CDSView\"},{\"attributes\":{\"line_alpha\":0.1,\"line_color\":\"#1f77b4\",\"x\":{\"field\":\"x\"},\"y\":{\"field\":\"y\"}},\"id\":\"ae98c71e-63c0-4dbe-9a9c-84a27a0ae8b0\",\"type\":\"Line\"},{\"attributes\":{},\"id\":\"675f6f8a-e4eb-4672-a805-a7968a6fc414\",\"type\":\"BasicTickFormatter\"},{\"attributes\":{},\"id\":\"4e5f8c87-265e-4ebf-aac9-dec6716715cd\",\"type\":\"WheelZoomTool\"},{\"attributes\":{},\"id\":\"a5900c3b-ab0f-465d-971a-afab0722b838\",\"type\":\"BasicTickFormatter\"},{\"attributes\":{\"callback\":null,\"data\":{\"x\":{\"__ndarray__\":\"AAAAAAEAAAACAAAAAwAAAAQAAAAFAAAABgAAAAcAAAAIAAAACQAAAAoAAAALAAAADAAAAA0AAAAOAAAADwAAABAAAAARAAAAEgAAABMAAAAUAAAAFQAAABYAAAAXAAAA\",\"dtype\":\"int32\",\"shape\":[24]},\"y\":{\"__ndarray__\":\"uB6F61G42j/b3d3d3d3pPzL/jGkywOI/W5RFWZRF3T8UdR60DrjNP9y0gU4b6MQ/X5RFWZRFqT9g+FL8keyFPz1zZ6rZzTA/AAAAAAAAAAAAAAAAAAAAAAAAAAAAAAAAAAAAAAAAAAAAAAAAAAAAAAAAAAAAAAAAAAAAAAAAAAAAAAAAAAAAAAAAAAAAAAAAAAAAAAAAAAAAAAAAAAAAAGUp/kj2yoU/mecSyBpGqz+4FH8ke+XKP+TT1xYHC+Y/\",\"dtype\":\"float64\",\"shape\":[24]}},\"selected\":{\"id\":\"499aaabc-37cd-4915-be27-dbaddd86770e\",\"type\":\"Selection\"},\"selection_policy\":{\"id\":\"57e16152-8d78-4892-8328-8f0ec15f1164\",\"type\":\"UnionRenderers\"}},\"id\":\"c03de8a1-6fe5-45d9-9103-a5d7aba0da7d\",\"type\":\"ColumnDataSource\"},{\"attributes\":{\"overlay\":{\"id\":\"2dccef4f-73f0-4ce8-a0e6-d41ed827cb86\",\"type\":\"BoxAnnotation\"}},\"id\":\"5d04b322-212a-4ac3-895f-66ba3e1ac39a\",\"type\":\"BoxZoomTool\"},{\"attributes\":{\"bottom_units\":\"screen\",\"fill_alpha\":{\"value\":0.5},\"fill_color\":{\"value\":\"lightgrey\"},\"left_units\":\"screen\",\"level\":\"overlay\",\"line_alpha\":{\"value\":1.0},\"line_color\":{\"value\":\"black\"},\"line_dash\":[4,4],\"line_width\":{\"value\":2},\"plot\":null,\"render_mode\":\"css\",\"right_units\":\"screen\",\"top_units\":\"screen\"},\"id\":\"2dccef4f-73f0-4ce8-a0e6-d41ed827cb86\",\"type\":\"BoxAnnotation\"},{\"attributes\":{},\"id\":\"0fad967f-a3fe-4f71-bd1c-cf7d9c416997\",\"type\":\"PanTool\"},{\"attributes\":{},\"id\":\"41d7ac8f-b1b0-4948-b889-4865e7416072\",\"type\":\"SaveTool\"},{\"attributes\":{\"data_source\":{\"id\":\"c03de8a1-6fe5-45d9-9103-a5d7aba0da7d\",\"type\":\"ColumnDataSource\"},\"glyph\":{\"id\":\"dcd8c4cf-7750-4273-8626-0c6359962e29\",\"type\":\"Line\"},\"hover_glyph\":null,\"muted_glyph\":null,\"nonselection_glyph\":{\"id\":\"49f2f9db-d3fe-442e-a75c-f00d5320b8bf\",\"type\":\"Line\"},\"selection_glyph\":null,\"view\":{\"id\":\"af6a69c7-71b8-4dd9-a8e3-e94e9a0a7c4a\",\"type\":\"CDSView\"}},\"id\":\"aeadd6e5-4a1f-41d3-bf1b-d3cbc83e9df9\",\"type\":\"GlyphRenderer\"},{\"attributes\":{},\"id\":\"11129ed5-5327-431c-83e7-fec4be4a260c\",\"type\":\"LinearScale\"},{\"attributes\":{},\"id\":\"57e16152-8d78-4892-8328-8f0ec15f1164\",\"type\":\"UnionRenderers\"},{\"attributes\":{},\"id\":\"3a9663a5-57ee-47c6-a6aa-6945b62b6dae\",\"type\":\"ResetTool\"},{\"attributes\":{},\"id\":\"a9bf44f4-21a7-4ba6-8d01-463e7c510e85\",\"type\":\"HelpTool\"},{\"attributes\":{\"line_color\":\"#1f77b4\",\"x\":{\"field\":\"x\"},\"y\":{\"field\":\"y\"}},\"id\":\"dcd8c4cf-7750-4273-8626-0c6359962e29\",\"type\":\"Line\"},{\"attributes\":{\"dimension\":1,\"plot\":{\"id\":\"4b636a67-3561-432e-b4f4-9a3a2c9c6f74\",\"subtype\":\"Figure\",\"type\":\"Plot\"},\"ticker\":{\"id\":\"16a0f733-6bac-4c3b-bf51-41f98df4ba0c\",\"type\":\"BasicTicker\"}},\"id\":\"f74272f4-0b60-4280-badf-aeaf5e7e3b9d\",\"type\":\"Grid\"},{\"attributes\":{},\"id\":\"b76c78cf-db0d-4f09-9371-dc91beffd7a6\",\"type\":\"LinearScale\"},{\"attributes\":{\"line_alpha\":0.1,\"line_color\":\"#1f77b4\",\"x\":{\"field\":\"x\"},\"y\":{\"field\":\"y\"}},\"id\":\"49f2f9db-d3fe-442e-a75c-f00d5320b8bf\",\"type\":\"Line\"},{\"attributes\":{\"formatter\":{\"id\":\"675f6f8a-e4eb-4672-a805-a7968a6fc414\",\"type\":\"BasicTickFormatter\"},\"plot\":{\"id\":\"4b636a67-3561-432e-b4f4-9a3a2c9c6f74\",\"subtype\":\"Figure\",\"type\":\"Plot\"},\"ticker\":{\"id\":\"16a0f733-6bac-4c3b-bf51-41f98df4ba0c\",\"type\":\"BasicTicker\"}},\"id\":\"ebd80be0-43da-483a-a2c7-5b84e5e55a11\",\"type\":\"LinearAxis\"},{\"attributes\":{},\"id\":\"16a0f733-6bac-4c3b-bf51-41f98df4ba0c\",\"type\":\"BasicTicker\"},{\"attributes\":{\"formatter\":{\"id\":\"a5900c3b-ab0f-465d-971a-afab0722b838\",\"type\":\"BasicTickFormatter\"},\"plot\":{\"id\":\"4b636a67-3561-432e-b4f4-9a3a2c9c6f74\",\"subtype\":\"Figure\",\"type\":\"Plot\"},\"ticker\":{\"id\":\"e87b734e-d3d4-413b-8151-e22eed13a457\",\"type\":\"BasicTicker\"}},\"id\":\"e2c4842f-1275-4944-80e6-01c1c615479a\",\"type\":\"LinearAxis\"},{\"attributes\":{},\"id\":\"e87b734e-d3d4-413b-8151-e22eed13a457\",\"type\":\"BasicTicker\"},{\"attributes\":{\"callback\":null},\"id\":\"a74d3b92-af55-4a82-ad59-557571fe0943\",\"type\":\"DataRange1d\"},{\"attributes\":{\"callback\":null},\"id\":\"af3c2e40-b90d-4d8e-b60d-fa3bd3d0fb2b\",\"type\":\"DataRange1d\"},{\"attributes\":{},\"id\":\"ca6ee885-590b-4948-b380-a1106ccf0037\",\"type\":\"UnionRenderers\"},{\"attributes\":{\"active_drag\":\"auto\",\"active_inspect\":\"auto\",\"active_scroll\":\"auto\",\"active_tap\":\"auto\",\"tools\":[{\"id\":\"0fad967f-a3fe-4f71-bd1c-cf7d9c416997\",\"type\":\"PanTool\"},{\"id\":\"4e5f8c87-265e-4ebf-aac9-dec6716715cd\",\"type\":\"WheelZoomTool\"},{\"id\":\"5d04b322-212a-4ac3-895f-66ba3e1ac39a\",\"type\":\"BoxZoomTool\"},{\"id\":\"41d7ac8f-b1b0-4948-b889-4865e7416072\",\"type\":\"SaveTool\"},{\"id\":\"3a9663a5-57ee-47c6-a6aa-6945b62b6dae\",\"type\":\"ResetTool\"},{\"id\":\"a9bf44f4-21a7-4ba6-8d01-463e7c510e85\",\"type\":\"HelpTool\"}]},\"id\":\"a2e505aa-57ee-4a58-aa43-23ddf5262628\",\"type\":\"Toolbar\"},{\"attributes\":{\"plot\":{\"id\":\"4b636a67-3561-432e-b4f4-9a3a2c9c6f74\",\"subtype\":\"Figure\",\"type\":\"Plot\"},\"ticker\":{\"id\":\"e87b734e-d3d4-413b-8151-e22eed13a457\",\"type\":\"BasicTicker\"}},\"id\":\"0a162468-9b4d-4660-9887-7a657539d5aa\",\"type\":\"Grid\"}],\"root_ids\":[\"4b636a67-3561-432e-b4f4-9a3a2c9c6f74\"]},\"title\":\"Bokeh Application\",\"version\":\"0.12.16\"}};\n",
       "  var render_items = [{\"docid\":\"2a66c422-0d17-4ec9-b1bb-d5fd3c27f359\",\"elementid\":\"433b4fd0-8bb7-41a6-a75e-0e5a7dd7cac3\",\"modelid\":\"4b636a67-3561-432e-b4f4-9a3a2c9c6f74\"}];\n",
       "  root.Bokeh.embed.embed_items_notebook(docs_json, render_items);\n",
       "\n",
       "  }\n",
       "  if (root.Bokeh !== undefined) {\n",
       "    embed_document(root);\n",
       "  } else {\n",
       "    var attempts = 0;\n",
       "    var timer = setInterval(function(root) {\n",
       "      if (root.Bokeh !== undefined) {\n",
       "        embed_document(root);\n",
       "        clearInterval(timer);\n",
       "      }\n",
       "      attempts++;\n",
       "      if (attempts > 100) {\n",
       "        console.log(\"Bokeh: ERROR: Unable to run BokehJS code because BokehJS library is missing\")\n",
       "        clearInterval(timer);\n",
       "      }\n",
       "    }, 10, root)\n",
       "  }\n",
       "})(window);"
      ],
      "application/vnd.bokehjs_exec.v0+json": ""
     },
     "metadata": {
      "application/vnd.bokehjs_exec.v0+json": {
       "id": "4b636a67-3561-432e-b4f4-9a3a2c9c6f74"
      }
     },
     "output_type": "display_data"
    },
    {
     "name": "stdout",
     "output_type": "stream",
     "text": [
      "0.889562630778462\n"
     ]
    },
    {
     "data": {
      "text/html": [
       "\n",
       "<div class=\"bk-root\">\n",
       "    <div class=\"bk-plotdiv\" id=\"f78b13dc-f303-4c17-a6f9-a5cfd32daeb2\"></div>\n",
       "</div>"
      ]
     },
     "metadata": {},
     "output_type": "display_data"
    },
    {
     "data": {
      "application/javascript": [
       "(function(root) {\n",
       "  function embed_document(root) {\n",
       "    \n",
       "  var docs_json = {\"1bb54cdc-10a2-4358-bfb8-a245351ec46e\":{\"roots\":{\"references\":[{\"attributes\":{\"source\":{\"id\":\"e3a20004-39d8-4aa4-bbc0-52534224ed5e\",\"type\":\"ColumnDataSource\"}},\"id\":\"80d9f3d1-f52b-498a-a902-56fbff3a4b3b\",\"type\":\"CDSView\"},{\"attributes\":{},\"id\":\"f5f6165d-1c97-4ce9-8fa1-afe82d2181a3\",\"type\":\"Selection\"},{\"attributes\":{\"label\":{\"value\":\"predicted_xgb\"},\"renderers\":[{\"id\":\"1b2658d3-1f5e-4d09-bd21-89c2025ad9f1\",\"type\":\"GlyphRenderer\"}]},\"id\":\"a3005ea3-f182-42d9-b4f1-308bd316b7f3\",\"type\":\"LegendItem\"},{\"attributes\":{\"line_color\":\"#1f77b4\",\"x\":{\"field\":\"x\"},\"y\":{\"field\":\"y\"}},\"id\":\"955fa634-c16e-4f52-92b7-e5af460e3f46\",\"type\":\"Line\"},{\"attributes\":{},\"id\":\"c8c9d315-3a11-4dfd-b148-00db1456cc42\",\"type\":\"LinearScale\"},{\"attributes\":{\"data_source\":{\"id\":\"e3a20004-39d8-4aa4-bbc0-52534224ed5e\",\"type\":\"ColumnDataSource\"},\"glyph\":{\"id\":\"c7bf5e5f-d9f3-408f-a6ba-084e7ee082f3\",\"type\":\"Line\"},\"hover_glyph\":null,\"muted_glyph\":null,\"nonselection_glyph\":{\"id\":\"64d75279-37f0-4a1a-9e18-b6af26ac963c\",\"type\":\"Line\"},\"selection_glyph\":null,\"view\":{\"id\":\"80d9f3d1-f52b-498a-a902-56fbff3a4b3b\",\"type\":\"CDSView\"}},\"id\":\"1b2658d3-1f5e-4d09-bd21-89c2025ad9f1\",\"type\":\"GlyphRenderer\"},{\"attributes\":{\"callback\":null},\"id\":\"7f3c5304-d1b7-40f3-8562-3cd8de074059\",\"type\":\"DataRange1d\"},{\"attributes\":{\"line_color\":\"orange\",\"x\":{\"field\":\"x\"},\"y\":{\"field\":\"y\"}},\"id\":\"c7bf5e5f-d9f3-408f-a6ba-084e7ee082f3\",\"type\":\"Line\"},{\"attributes\":{\"line_alpha\":0.1,\"line_color\":\"#1f77b4\",\"x\":{\"field\":\"x\"},\"y\":{\"field\":\"y\"}},\"id\":\"64d75279-37f0-4a1a-9e18-b6af26ac963c\",\"type\":\"Line\"},{\"attributes\":{},\"id\":\"eb99f0a1-fd08-4b51-8bca-1dbc52267406\",\"type\":\"LinearScale\"},{\"attributes\":{\"callback\":null},\"id\":\"65c483ca-7272-47ef-b368-eecf593ebebf\",\"type\":\"DataRange1d\"},{\"attributes\":{\"callback\":null,\"data\":{\"x\":{\"__ndarray__\":\"AAAAAAEAAAACAAAAAwAAAAQAAAAFAAAABgAAAAcAAAAIAAAACQAAAAoAAAALAAAADAAAAA0AAAAOAAAADwAAABAAAAARAAAAEgAAABMAAAAUAAAAFQAAABYAAAAXAAAA\",\"dtype\":\"int32\",\"shape\":[24]},\"y\":{\"__ndarray__\":\"5ecmP/A0Kj+byCU/utMGP8QBxj6wXl4+SGWmPQDUFT2AcUE8YKsuPICiRDxAzCg8INUSPEDMKDxAzCg8QMwoPEDMKDxAzCg8QMwoPEDMKDxI9Ds9bWKHPvZD5z6+CR4/\",\"dtype\":\"float32\",\"shape\":[24]}},\"selected\":{\"id\":\"d1e17b8b-a25c-4ca8-88a2-9611e19b5ebb\",\"type\":\"Selection\"},\"selection_policy\":{\"id\":\"9e6a1f39-386e-464e-be22-33e9a334dea3\",\"type\":\"UnionRenderers\"}},\"id\":\"e3a20004-39d8-4aa4-bbc0-52534224ed5e\",\"type\":\"ColumnDataSource\"},{\"attributes\":{\"label\":{\"value\":\"real\"},\"renderers\":[{\"id\":\"1d20b22a-3f8e-4b1f-ace0-99bc49e32dbb\",\"type\":\"GlyphRenderer\"}]},\"id\":\"ee6de315-afac-43bf-bfa8-6424669e6f01\",\"type\":\"LegendItem\"},{\"attributes\":{\"items\":[{\"id\":\"ee6de315-afac-43bf-bfa8-6424669e6f01\",\"type\":\"LegendItem\"},{\"id\":\"a3005ea3-f182-42d9-b4f1-308bd316b7f3\",\"type\":\"LegendItem\"}],\"plot\":{\"id\":\"ba8a9f22-e554-4435-8b99-ceec1f5c0f50\",\"subtype\":\"Figure\",\"type\":\"Plot\"}},\"id\":\"7d73e686-fa4b-4312-87e6-fdb90c33cfda\",\"type\":\"Legend\"},{\"attributes\":{},\"id\":\"d1e17b8b-a25c-4ca8-88a2-9611e19b5ebb\",\"type\":\"Selection\"},{\"attributes\":{\"data_source\":{\"id\":\"19944f48-c266-49a6-829f-135f7c84d4c1\",\"type\":\"ColumnDataSource\"},\"glyph\":{\"id\":\"955fa634-c16e-4f52-92b7-e5af460e3f46\",\"type\":\"Line\"},\"hover_glyph\":null,\"muted_glyph\":null,\"nonselection_glyph\":{\"id\":\"25c4f448-71a8-4b28-831c-5ba81c1c1dfe\",\"type\":\"Line\"},\"selection_glyph\":null,\"view\":{\"id\":\"7c8e9fd4-9bb4-4ad4-91cc-6f9c81e12b83\",\"type\":\"CDSView\"}},\"id\":\"1d20b22a-3f8e-4b1f-ace0-99bc49e32dbb\",\"type\":\"GlyphRenderer\"},{\"attributes\":{\"below\":[{\"id\":\"ce384b44-9393-42be-b5de-3c71ddbeecdf\",\"type\":\"LinearAxis\"}],\"left\":[{\"id\":\"a006e209-af9c-4731-97e7-dd0b89ab4eb1\",\"type\":\"LinearAxis\"}],\"renderers\":[{\"id\":\"ce384b44-9393-42be-b5de-3c71ddbeecdf\",\"type\":\"LinearAxis\"},{\"id\":\"e4f1d7a8-d9a4-493f-8981-7dbbfb8c4c2f\",\"type\":\"Grid\"},{\"id\":\"a006e209-af9c-4731-97e7-dd0b89ab4eb1\",\"type\":\"LinearAxis\"},{\"id\":\"e775e454-807f-4423-9131-0bf80de3bd7e\",\"type\":\"Grid\"},{\"id\":\"32af3198-f107-4af7-8467-c61f955bf0aa\",\"type\":\"BoxAnnotation\"},{\"id\":\"7d73e686-fa4b-4312-87e6-fdb90c33cfda\",\"type\":\"Legend\"},{\"id\":\"1d20b22a-3f8e-4b1f-ace0-99bc49e32dbb\",\"type\":\"GlyphRenderer\"},{\"id\":\"1b2658d3-1f5e-4d09-bd21-89c2025ad9f1\",\"type\":\"GlyphRenderer\"}],\"title\":{\"id\":\"a0ca9562-4f65-4956-a795-06c234685ba3\",\"type\":\"Title\"},\"toolbar\":{\"id\":\"1c408e46-709c-4ea4-bc77-c347bf278522\",\"type\":\"Toolbar\"},\"x_range\":{\"id\":\"7f3c5304-d1b7-40f3-8562-3cd8de074059\",\"type\":\"DataRange1d\"},\"x_scale\":{\"id\":\"c8c9d315-3a11-4dfd-b148-00db1456cc42\",\"type\":\"LinearScale\"},\"y_range\":{\"id\":\"65c483ca-7272-47ef-b368-eecf593ebebf\",\"type\":\"DataRange1d\"},\"y_scale\":{\"id\":\"eb99f0a1-fd08-4b51-8bca-1dbc52267406\",\"type\":\"LinearScale\"}},\"id\":\"ba8a9f22-e554-4435-8b99-ceec1f5c0f50\",\"subtype\":\"Figure\",\"type\":\"Plot\"},{\"attributes\":{},\"id\":\"f549fe4e-3535-44aa-81d9-0a17b86c92c9\",\"type\":\"BasicTickFormatter\"},{\"attributes\":{\"plot\":null,\"text\":\"\"},\"id\":\"a0ca9562-4f65-4956-a795-06c234685ba3\",\"type\":\"Title\"},{\"attributes\":{},\"id\":\"ebb1574d-21c3-4b07-a2c9-f7b53a728c4d\",\"type\":\"HelpTool\"},{\"attributes\":{},\"id\":\"3fe1e40b-ee03-4170-8d43-0d4d48bea3cc\",\"type\":\"BasicTickFormatter\"},{\"attributes\":{},\"id\":\"d2ce6358-52d3-4afb-b0ef-955a03bbb337\",\"type\":\"ResetTool\"},{\"attributes\":{},\"id\":\"68e69781-0c11-4c8c-a780-43ca6b55c9cb\",\"type\":\"UnionRenderers\"},{\"attributes\":{\"callback\":null,\"data\":{\"x\":{\"__ndarray__\":\"AAAAAAEAAAACAAAAAwAAAAQAAAAFAAAABgAAAAcAAAAIAAAACQAAAAoAAAALAAAADAAAAA0AAAAOAAAADwAAABAAAAARAAAAEgAAABMAAAAUAAAAFQAAABYAAAAXAAAA\",\"dtype\":\"int32\",\"shape\":[24]},\"y\":{\"__ndarray__\":\"5tPXFgcL6j/a0pOjn2DoPyC5kRu5kec/iUmYhEmY5D+ve4dEFSHeP9NKrdRKrdA/2HnQOuA2sT9oko5PX1uMP9osm3/GNCk/AAAAAAAAAAAAAAAAAAAAAAAAAAAAAAAAAAAAAAAAAAAAAAAAAAAAAAAAAAAAAAAAAAAAAAAAAAAAAAAAAAAAAAAAAAAAAAAAAAAAAAAAAAAAAAAAAAAAAEMU3WpHEI4/+YEf+IEf0D8QO7ETO7HjP2d2MwQQzec/\",\"dtype\":\"float64\",\"shape\":[24]}},\"selected\":{\"id\":\"f5f6165d-1c97-4ce9-8fa1-afe82d2181a3\",\"type\":\"Selection\"},\"selection_policy\":{\"id\":\"68e69781-0c11-4c8c-a780-43ca6b55c9cb\",\"type\":\"UnionRenderers\"}},\"id\":\"19944f48-c266-49a6-829f-135f7c84d4c1\",\"type\":\"ColumnDataSource\"},{\"attributes\":{\"bottom_units\":\"screen\",\"fill_alpha\":{\"value\":0.5},\"fill_color\":{\"value\":\"lightgrey\"},\"left_units\":\"screen\",\"level\":\"overlay\",\"line_alpha\":{\"value\":1.0},\"line_color\":{\"value\":\"black\"},\"line_dash\":[4,4],\"line_width\":{\"value\":2},\"plot\":null,\"render_mode\":\"css\",\"right_units\":\"screen\",\"top_units\":\"screen\"},\"id\":\"32af3198-f107-4af7-8467-c61f955bf0aa\",\"type\":\"BoxAnnotation\"},{\"attributes\":{},\"id\":\"dddc2d0d-01ae-4424-b017-56eff661cfeb\",\"type\":\"PanTool\"},{\"attributes\":{\"source\":{\"id\":\"19944f48-c266-49a6-829f-135f7c84d4c1\",\"type\":\"ColumnDataSource\"}},\"id\":\"7c8e9fd4-9bb4-4ad4-91cc-6f9c81e12b83\",\"type\":\"CDSView\"},{\"attributes\":{},\"id\":\"d6866f61-3ed4-45e6-8419-53b9aa5db3c7\",\"type\":\"WheelZoomTool\"},{\"attributes\":{},\"id\":\"9e6a1f39-386e-464e-be22-33e9a334dea3\",\"type\":\"UnionRenderers\"},{\"attributes\":{\"overlay\":{\"id\":\"32af3198-f107-4af7-8467-c61f955bf0aa\",\"type\":\"BoxAnnotation\"}},\"id\":\"9bf24d34-7d39-4a00-bcbd-40f57b551405\",\"type\":\"BoxZoomTool\"},{\"attributes\":{},\"id\":\"7661a0cc-403f-4b7a-a39b-53056b1561e8\",\"type\":\"SaveTool\"},{\"attributes\":{\"line_alpha\":0.1,\"line_color\":\"#1f77b4\",\"x\":{\"field\":\"x\"},\"y\":{\"field\":\"y\"}},\"id\":\"25c4f448-71a8-4b28-831c-5ba81c1c1dfe\",\"type\":\"Line\"},{\"attributes\":{\"formatter\":{\"id\":\"3fe1e40b-ee03-4170-8d43-0d4d48bea3cc\",\"type\":\"BasicTickFormatter\"},\"plot\":{\"id\":\"ba8a9f22-e554-4435-8b99-ceec1f5c0f50\",\"subtype\":\"Figure\",\"type\":\"Plot\"},\"ticker\":{\"id\":\"1b670123-3a16-47da-ac36-c680b4e963f1\",\"type\":\"BasicTicker\"}},\"id\":\"a006e209-af9c-4731-97e7-dd0b89ab4eb1\",\"type\":\"LinearAxis\"},{\"attributes\":{},\"id\":\"1b670123-3a16-47da-ac36-c680b4e963f1\",\"type\":\"BasicTicker\"},{\"attributes\":{\"dimension\":1,\"plot\":{\"id\":\"ba8a9f22-e554-4435-8b99-ceec1f5c0f50\",\"subtype\":\"Figure\",\"type\":\"Plot\"},\"ticker\":{\"id\":\"1b670123-3a16-47da-ac36-c680b4e963f1\",\"type\":\"BasicTicker\"}},\"id\":\"e775e454-807f-4423-9131-0bf80de3bd7e\",\"type\":\"Grid\"},{\"attributes\":{\"formatter\":{\"id\":\"f549fe4e-3535-44aa-81d9-0a17b86c92c9\",\"type\":\"BasicTickFormatter\"},\"plot\":{\"id\":\"ba8a9f22-e554-4435-8b99-ceec1f5c0f50\",\"subtype\":\"Figure\",\"type\":\"Plot\"},\"ticker\":{\"id\":\"3025ebc9-1cc7-4ce6-b48f-72c8f669c555\",\"type\":\"BasicTicker\"}},\"id\":\"ce384b44-9393-42be-b5de-3c71ddbeecdf\",\"type\":\"LinearAxis\"},{\"attributes\":{},\"id\":\"3025ebc9-1cc7-4ce6-b48f-72c8f669c555\",\"type\":\"BasicTicker\"},{\"attributes\":{\"active_drag\":\"auto\",\"active_inspect\":\"auto\",\"active_scroll\":\"auto\",\"active_tap\":\"auto\",\"tools\":[{\"id\":\"dddc2d0d-01ae-4424-b017-56eff661cfeb\",\"type\":\"PanTool\"},{\"id\":\"d6866f61-3ed4-45e6-8419-53b9aa5db3c7\",\"type\":\"WheelZoomTool\"},{\"id\":\"9bf24d34-7d39-4a00-bcbd-40f57b551405\",\"type\":\"BoxZoomTool\"},{\"id\":\"7661a0cc-403f-4b7a-a39b-53056b1561e8\",\"type\":\"SaveTool\"},{\"id\":\"d2ce6358-52d3-4afb-b0ef-955a03bbb337\",\"type\":\"ResetTool\"},{\"id\":\"ebb1574d-21c3-4b07-a2c9-f7b53a728c4d\",\"type\":\"HelpTool\"}]},\"id\":\"1c408e46-709c-4ea4-bc77-c347bf278522\",\"type\":\"Toolbar\"},{\"attributes\":{\"plot\":{\"id\":\"ba8a9f22-e554-4435-8b99-ceec1f5c0f50\",\"subtype\":\"Figure\",\"type\":\"Plot\"},\"ticker\":{\"id\":\"3025ebc9-1cc7-4ce6-b48f-72c8f669c555\",\"type\":\"BasicTicker\"}},\"id\":\"e4f1d7a8-d9a4-493f-8981-7dbbfb8c4c2f\",\"type\":\"Grid\"}],\"root_ids\":[\"ba8a9f22-e554-4435-8b99-ceec1f5c0f50\"]},\"title\":\"Bokeh Application\",\"version\":\"0.12.16\"}};\n",
       "  var render_items = [{\"docid\":\"1bb54cdc-10a2-4358-bfb8-a245351ec46e\",\"elementid\":\"f78b13dc-f303-4c17-a6f9-a5cfd32daeb2\",\"modelid\":\"ba8a9f22-e554-4435-8b99-ceec1f5c0f50\"}];\n",
       "  root.Bokeh.embed.embed_items_notebook(docs_json, render_items);\n",
       "\n",
       "  }\n",
       "  if (root.Bokeh !== undefined) {\n",
       "    embed_document(root);\n",
       "  } else {\n",
       "    var attempts = 0;\n",
       "    var timer = setInterval(function(root) {\n",
       "      if (root.Bokeh !== undefined) {\n",
       "        embed_document(root);\n",
       "        clearInterval(timer);\n",
       "      }\n",
       "      attempts++;\n",
       "      if (attempts > 100) {\n",
       "        console.log(\"Bokeh: ERROR: Unable to run BokehJS code because BokehJS library is missing\")\n",
       "        clearInterval(timer);\n",
       "      }\n",
       "    }, 10, root)\n",
       "  }\n",
       "})(window);"
      ],
      "application/vnd.bokehjs_exec.v0+json": ""
     },
     "metadata": {
      "application/vnd.bokehjs_exec.v0+json": {
       "id": "ba8a9f22-e554-4435-8b99-ceec1f5c0f50"
      }
     },
     "output_type": "display_data"
    },
    {
     "name": "stdout",
     "output_type": "stream",
     "text": [
      "0.9379633625637315\n"
     ]
    },
    {
     "data": {
      "text/html": [
       "\n",
       "<div class=\"bk-root\">\n",
       "    <div class=\"bk-plotdiv\" id=\"aa55ef22-5a4b-4865-ae95-32c896d4d0d5\"></div>\n",
       "</div>"
      ]
     },
     "metadata": {},
     "output_type": "display_data"
    },
    {
     "data": {
      "application/javascript": [
       "(function(root) {\n",
       "  function embed_document(root) {\n",
       "    \n",
       "  var docs_json = {\"00c3b3fe-f9a8-433b-bd39-7b32f17311e2\":{\"roots\":{\"references\":[{\"attributes\":{\"items\":[{\"id\":\"fb19515a-942e-41d6-9f4c-091dc5b08089\",\"type\":\"LegendItem\"},{\"id\":\"53bfce1b-dd19-42b7-8849-97fc0b220152\",\"type\":\"LegendItem\"}],\"plot\":{\"id\":\"9882b960-9919-4ea7-a161-2e9a77fc6531\",\"subtype\":\"Figure\",\"type\":\"Plot\"}},\"id\":\"34804eba-f5af-4810-bf80-1a5fce90308b\",\"type\":\"Legend\"},{\"attributes\":{},\"id\":\"75adb75e-836a-4783-a1e8-741e7c3ff5ca\",\"type\":\"LinearScale\"},{\"attributes\":{\"callback\":null},\"id\":\"6f116acc-0e71-4f46-96b2-1ec575ea6edb\",\"type\":\"DataRange1d\"},{\"attributes\":{},\"id\":\"ccd04a98-407a-4cbe-b5fe-f45a9408e280\",\"type\":\"UnionRenderers\"},{\"attributes\":{\"plot\":{\"id\":\"9882b960-9919-4ea7-a161-2e9a77fc6531\",\"subtype\":\"Figure\",\"type\":\"Plot\"},\"ticker\":{\"id\":\"471d1224-ab86-4589-82cf-7d257e17abcf\",\"type\":\"BasicTicker\"}},\"id\":\"e3e23845-e4b2-4258-a4b9-cfa4a314408b\",\"type\":\"Grid\"},{\"attributes\":{\"label\":{\"value\":\"real\"},\"renderers\":[{\"id\":\"19e401a1-354e-4473-9e0d-31e0e901befd\",\"type\":\"GlyphRenderer\"}]},\"id\":\"fb19515a-942e-41d6-9f4c-091dc5b08089\",\"type\":\"LegendItem\"},{\"attributes\":{\"callback\":null,\"data\":{\"x\":{\"__ndarray__\":\"AAAAAAEAAAACAAAAAwAAAAQAAAAFAAAABgAAAAcAAAAIAAAACQAAAAoAAAALAAAADAAAAA0AAAAOAAAADwAAABAAAAARAAAAEgAAABMAAAAUAAAAFQAAABYAAAAXAAAA\",\"dtype\":\"int32\",\"shape\":[24]},\"y\":{\"__ndarray__\":\"cHQmP3B0Jj9KOB8/pZcDP5qJvz5ablE+nISMPTA6tjxA4RM8QOETPEDhEzxA4RM8QOETPEDhEzxA4RM8QOETPEDhEzxA4RM8QOETPEDhEzyIuTY9zmqHPvZD5z5cXRM/\",\"dtype\":\"float32\",\"shape\":[24]}},\"selected\":{\"id\":\"f6d479b5-9a68-43e4-b2fe-28dce1c3a9fa\",\"type\":\"Selection\"},\"selection_policy\":{\"id\":\"d79437b7-0d7c-40ff-8c4a-b2a1cdfaf3ea\",\"type\":\"UnionRenderers\"}},\"id\":\"db1bc13e-8253-4b84-abdf-3de4410cba8d\",\"type\":\"ColumnDataSource\"},{\"attributes\":{\"line_alpha\":0.1,\"line_color\":\"#1f77b4\",\"x\":{\"field\":\"x\"},\"y\":{\"field\":\"y\"}},\"id\":\"86aea33a-382f-439e-8680-53bd441b0231\",\"type\":\"Line\"},{\"attributes\":{\"line_color\":\"orange\",\"x\":{\"field\":\"x\"},\"y\":{\"field\":\"y\"}},\"id\":\"d99dc61b-d21a-401a-a238-92db330de966\",\"type\":\"Line\"},{\"attributes\":{\"source\":{\"id\":\"db1bc13e-8253-4b84-abdf-3de4410cba8d\",\"type\":\"ColumnDataSource\"}},\"id\":\"3be250ac-cf9b-47d8-8212-766b439d1176\",\"type\":\"CDSView\"},{\"attributes\":{\"data_source\":{\"id\":\"db1bc13e-8253-4b84-abdf-3de4410cba8d\",\"type\":\"ColumnDataSource\"},\"glyph\":{\"id\":\"d99dc61b-d21a-401a-a238-92db330de966\",\"type\":\"Line\"},\"hover_glyph\":null,\"muted_glyph\":null,\"nonselection_glyph\":{\"id\":\"86aea33a-382f-439e-8680-53bd441b0231\",\"type\":\"Line\"},\"selection_glyph\":null,\"view\":{\"id\":\"3be250ac-cf9b-47d8-8212-766b439d1176\",\"type\":\"CDSView\"}},\"id\":\"e44efff7-c566-432f-94ac-e85f86ec29db\",\"type\":\"GlyphRenderer\"},{\"attributes\":{},\"id\":\"471d1224-ab86-4589-82cf-7d257e17abcf\",\"type\":\"BasicTicker\"},{\"attributes\":{\"line_alpha\":0.1,\"line_color\":\"#1f77b4\",\"x\":{\"field\":\"x\"},\"y\":{\"field\":\"y\"}},\"id\":\"0e371809-e485-4a80-be87-004f8733c199\",\"type\":\"Line\"},{\"attributes\":{},\"id\":\"f6d479b5-9a68-43e4-b2fe-28dce1c3a9fa\",\"type\":\"Selection\"},{\"attributes\":{},\"id\":\"0481be53-e639-4ccf-bde4-bf39b098e8a0\",\"type\":\"Selection\"},{\"attributes\":{\"data_source\":{\"id\":\"906b25e1-f072-4fed-b7ac-230a4b6286ad\",\"type\":\"ColumnDataSource\"},\"glyph\":{\"id\":\"ec271f63-8969-4ade-8db2-550d22e7a69b\",\"type\":\"Line\"},\"hover_glyph\":null,\"muted_glyph\":null,\"nonselection_glyph\":{\"id\":\"0e371809-e485-4a80-be87-004f8733c199\",\"type\":\"Line\"},\"selection_glyph\":null,\"view\":{\"id\":\"b1b4be8a-ad85-4eed-a4b6-ee03a0fc2617\",\"type\":\"CDSView\"}},\"id\":\"19e401a1-354e-4473-9e0d-31e0e901befd\",\"type\":\"GlyphRenderer\"},{\"attributes\":{\"label\":{\"value\":\"predicted_xgb\"},\"renderers\":[{\"id\":\"e44efff7-c566-432f-94ac-e85f86ec29db\",\"type\":\"GlyphRenderer\"}]},\"id\":\"53bfce1b-dd19-42b7-8849-97fc0b220152\",\"type\":\"LegendItem\"},{\"attributes\":{\"source\":{\"id\":\"906b25e1-f072-4fed-b7ac-230a4b6286ad\",\"type\":\"ColumnDataSource\"}},\"id\":\"b1b4be8a-ad85-4eed-a4b6-ee03a0fc2617\",\"type\":\"CDSView\"},{\"attributes\":{\"below\":[{\"id\":\"5c157950-f337-4817-b88f-e559353bc3ad\",\"type\":\"LinearAxis\"}],\"left\":[{\"id\":\"081aa3f1-aa43-4eee-9801-f72ae7ada164\",\"type\":\"LinearAxis\"}],\"renderers\":[{\"id\":\"5c157950-f337-4817-b88f-e559353bc3ad\",\"type\":\"LinearAxis\"},{\"id\":\"e3e23845-e4b2-4258-a4b9-cfa4a314408b\",\"type\":\"Grid\"},{\"id\":\"081aa3f1-aa43-4eee-9801-f72ae7ada164\",\"type\":\"LinearAxis\"},{\"id\":\"65de021b-639f-4107-9f18-2552db5809e9\",\"type\":\"Grid\"},{\"id\":\"02ec37f4-26ad-478a-87f2-1ac2de5b628e\",\"type\":\"BoxAnnotation\"},{\"id\":\"34804eba-f5af-4810-bf80-1a5fce90308b\",\"type\":\"Legend\"},{\"id\":\"19e401a1-354e-4473-9e0d-31e0e901befd\",\"type\":\"GlyphRenderer\"},{\"id\":\"e44efff7-c566-432f-94ac-e85f86ec29db\",\"type\":\"GlyphRenderer\"}],\"title\":{\"id\":\"a1aa6080-af1a-468f-a44c-5f5d73b47ee5\",\"type\":\"Title\"},\"toolbar\":{\"id\":\"023faca2-1eb5-4cdd-8a75-8defeec0f165\",\"type\":\"Toolbar\"},\"x_range\":{\"id\":\"6f116acc-0e71-4f46-96b2-1ec575ea6edb\",\"type\":\"DataRange1d\"},\"x_scale\":{\"id\":\"6864e85d-87e8-4108-8e3e-2aae59055ff0\",\"type\":\"LinearScale\"},\"y_range\":{\"id\":\"56ab3b1c-503d-48b8-817d-d215b381a48b\",\"type\":\"DataRange1d\"},\"y_scale\":{\"id\":\"75adb75e-836a-4783-a1e8-741e7c3ff5ca\",\"type\":\"LinearScale\"}},\"id\":\"9882b960-9919-4ea7-a161-2e9a77fc6531\",\"subtype\":\"Figure\",\"type\":\"Plot\"},{\"attributes\":{},\"id\":\"1ee55a36-0331-44a3-8a0d-2a275eec6820\",\"type\":\"PanTool\"},{\"attributes\":{\"dimension\":1,\"plot\":{\"id\":\"9882b960-9919-4ea7-a161-2e9a77fc6531\",\"subtype\":\"Figure\",\"type\":\"Plot\"},\"ticker\":{\"id\":\"0523e166-ba05-4ee0-9896-8e49be111ab3\",\"type\":\"BasicTicker\"}},\"id\":\"65de021b-639f-4107-9f18-2552db5809e9\",\"type\":\"Grid\"},{\"attributes\":{\"formatter\":{\"id\":\"8a60ed55-c09b-4046-8fde-c9b27f7c1f51\",\"type\":\"BasicTickFormatter\"},\"plot\":{\"id\":\"9882b960-9919-4ea7-a161-2e9a77fc6531\",\"subtype\":\"Figure\",\"type\":\"Plot\"},\"ticker\":{\"id\":\"471d1224-ab86-4589-82cf-7d257e17abcf\",\"type\":\"BasicTicker\"}},\"id\":\"5c157950-f337-4817-b88f-e559353bc3ad\",\"type\":\"LinearAxis\"},{\"attributes\":{},\"id\":\"d79437b7-0d7c-40ff-8c4a-b2a1cdfaf3ea\",\"type\":\"UnionRenderers\"},{\"attributes\":{},\"id\":\"0523e166-ba05-4ee0-9896-8e49be111ab3\",\"type\":\"BasicTicker\"},{\"attributes\":{},\"id\":\"ac242179-08be-46df-b93f-abe83c28b421\",\"type\":\"ResetTool\"},{\"attributes\":{\"bottom_units\":\"screen\",\"fill_alpha\":{\"value\":0.5},\"fill_color\":{\"value\":\"lightgrey\"},\"left_units\":\"screen\",\"level\":\"overlay\",\"line_alpha\":{\"value\":1.0},\"line_color\":{\"value\":\"black\"},\"line_dash\":[4,4],\"line_width\":{\"value\":2},\"plot\":null,\"render_mode\":\"css\",\"right_units\":\"screen\",\"top_units\":\"screen\"},\"id\":\"02ec37f4-26ad-478a-87f2-1ac2de5b628e\",\"type\":\"BoxAnnotation\"},{\"attributes\":{},\"id\":\"8a60ed55-c09b-4046-8fde-c9b27f7c1f51\",\"type\":\"BasicTickFormatter\"},{\"attributes\":{\"formatter\":{\"id\":\"9c048b74-fd74-408a-a89a-4b342f280e6e\",\"type\":\"BasicTickFormatter\"},\"plot\":{\"id\":\"9882b960-9919-4ea7-a161-2e9a77fc6531\",\"subtype\":\"Figure\",\"type\":\"Plot\"},\"ticker\":{\"id\":\"0523e166-ba05-4ee0-9896-8e49be111ab3\",\"type\":\"BasicTicker\"}},\"id\":\"081aa3f1-aa43-4eee-9801-f72ae7ada164\",\"type\":\"LinearAxis\"},{\"attributes\":{},\"id\":\"2073bbc2-7051-4d79-9d71-80d67d35693c\",\"type\":\"HelpTool\"},{\"attributes\":{},\"id\":\"6864e85d-87e8-4108-8e3e-2aae59055ff0\",\"type\":\"LinearScale\"},{\"attributes\":{\"callback\":null},\"id\":\"56ab3b1c-503d-48b8-817d-d215b381a48b\",\"type\":\"DataRange1d\"},{\"attributes\":{\"active_drag\":\"auto\",\"active_inspect\":\"auto\",\"active_scroll\":\"auto\",\"active_tap\":\"auto\",\"tools\":[{\"id\":\"1ee55a36-0331-44a3-8a0d-2a275eec6820\",\"type\":\"PanTool\"},{\"id\":\"15d4ff71-cf56-4efe-96c2-b2a7e4976fe1\",\"type\":\"WheelZoomTool\"},{\"id\":\"31443fdb-3797-4357-9c14-765856235378\",\"type\":\"BoxZoomTool\"},{\"id\":\"9c5e0863-0265-480c-a4cd-6845eb8ae352\",\"type\":\"SaveTool\"},{\"id\":\"ac242179-08be-46df-b93f-abe83c28b421\",\"type\":\"ResetTool\"},{\"id\":\"2073bbc2-7051-4d79-9d71-80d67d35693c\",\"type\":\"HelpTool\"}]},\"id\":\"023faca2-1eb5-4cdd-8a75-8defeec0f165\",\"type\":\"Toolbar\"},{\"attributes\":{\"plot\":null,\"text\":\"\"},\"id\":\"a1aa6080-af1a-468f-a44c-5f5d73b47ee5\",\"type\":\"Title\"},{\"attributes\":{\"overlay\":{\"id\":\"02ec37f4-26ad-478a-87f2-1ac2de5b628e\",\"type\":\"BoxAnnotation\"}},\"id\":\"31443fdb-3797-4357-9c14-765856235378\",\"type\":\"BoxZoomTool\"},{\"attributes\":{\"line_color\":\"#1f77b4\",\"x\":{\"field\":\"x\"},\"y\":{\"field\":\"y\"}},\"id\":\"ec271f63-8969-4ade-8db2-550d22e7a69b\",\"type\":\"Line\"},{\"attributes\":{},\"id\":\"9c5e0863-0265-480c-a4cd-6845eb8ae352\",\"type\":\"SaveTool\"},{\"attributes\":{},\"id\":\"15d4ff71-cf56-4efe-96c2-b2a7e4976fe1\",\"type\":\"WheelZoomTool\"},{\"attributes\":{},\"id\":\"9c048b74-fd74-408a-a89a-4b342f280e6e\",\"type\":\"BasicTickFormatter\"},{\"attributes\":{\"callback\":null,\"data\":{\"x\":{\"__ndarray__\":\"AAAAAAEAAAACAAAAAwAAAAQAAAAFAAAABgAAAAcAAAAIAAAACQAAAAoAAAALAAAADAAAAA0AAAAOAAAADwAAABAAAAARAAAAEgAAABMAAAAUAAAAFQAAABYAAAAXAAAA\",\"dtype\":\"int32\",\"shape\":[24]},\"y\":{\"__ndarray__\":\"NXwp/kj26D8J3CbUqPPoP4cvxR/JXuc/PfADP/AD4T93u+reIVHdPyA4tpaeHM0/fn0+TkoLqz9eMDi2lp6MP9osm3/GNCk/AAAAAAAAAAAAAAAAAAAAAAAAAAAAAAAAAAAAAAAAAAAAAAAAAAAAAAAAAAAAAAAAAAAAAAAAAAAAAAAAAAAAAAAAAAAAAAAAAAAAAAAAAAAAAAAAAAAAAAxQARVQAWU/JqWFjQvsoz9fWxwsKOm4P1UWZVEWZcE/\",\"dtype\":\"float64\",\"shape\":[24]}},\"selected\":{\"id\":\"0481be53-e639-4ccf-bde4-bf39b098e8a0\",\"type\":\"Selection\"},\"selection_policy\":{\"id\":\"ccd04a98-407a-4cbe-b5fe-f45a9408e280\",\"type\":\"UnionRenderers\"}},\"id\":\"906b25e1-f072-4fed-b7ac-230a4b6286ad\",\"type\":\"ColumnDataSource\"}],\"root_ids\":[\"9882b960-9919-4ea7-a161-2e9a77fc6531\"]},\"title\":\"Bokeh Application\",\"version\":\"0.12.16\"}};\n",
       "  var render_items = [{\"docid\":\"00c3b3fe-f9a8-433b-bd39-7b32f17311e2\",\"elementid\":\"aa55ef22-5a4b-4865-ae95-32c896d4d0d5\",\"modelid\":\"9882b960-9919-4ea7-a161-2e9a77fc6531\"}];\n",
       "  root.Bokeh.embed.embed_items_notebook(docs_json, render_items);\n",
       "\n",
       "  }\n",
       "  if (root.Bokeh !== undefined) {\n",
       "    embed_document(root);\n",
       "  } else {\n",
       "    var attempts = 0;\n",
       "    var timer = setInterval(function(root) {\n",
       "      if (root.Bokeh !== undefined) {\n",
       "        embed_document(root);\n",
       "        clearInterval(timer);\n",
       "      }\n",
       "      attempts++;\n",
       "      if (attempts > 100) {\n",
       "        console.log(\"Bokeh: ERROR: Unable to run BokehJS code because BokehJS library is missing\")\n",
       "        clearInterval(timer);\n",
       "      }\n",
       "    }, 10, root)\n",
       "  }\n",
       "})(window);"
      ],
      "application/vnd.bokehjs_exec.v0+json": ""
     },
     "metadata": {
      "application/vnd.bokehjs_exec.v0+json": {
       "id": "9882b960-9919-4ea7-a161-2e9a77fc6531"
      }
     },
     "output_type": "display_data"
    },
    {
     "name": "stdout",
     "output_type": "stream",
     "text": [
      "0.7161265850786465\n"
     ]
    }
   ],
   "source": [
    "import numpy as np\n",
    "from bokeh.plotting import figure,show\n",
    "from bokeh.io import output_notebook\n",
    "output_notebook()\n",
    "from sklearn.metrics import explained_variance_score\n",
    "\n",
    "results = []\n",
    "y_tests = []\n",
    "y_preds = []\n",
    "\n",
    "for i in range(number_of_tests):\n",
    "    start = TRAIN_SIZE+size_of_prediction * i\n",
    "    end = TRAIN_SIZE+size_of_prediction * (i+1)\n",
    "    df_test = df[start:end] \n",
    "    X_test = df_test.drop(ROLLING_COLUMNS,axis=1)\n",
    "    y_test = df_test.POWER\n",
    "    y_pred = predict_model.predict(X_test, boosted_model)\n",
    "    p = figure()\n",
    "    p.line(np.arange(len(y_test)), y_test, legend=\"real\")\n",
    "    p.line(np.arange(len(y_pred)), y_pred, legend=\"predicted_xgb\", color=\"orange\")\n",
    "    show(p)\n",
    "    y_tests.extend(y_test)\n",
    "    y_preds.extend(y_pred)\n",
    "    print(explained_variance_score(y_pred, y_test))\n",
    "    results.append(explained_variance_score(y_pred, y_test))"
   ]
  },
  {
   "cell_type": "code",
   "execution_count": 6,
   "metadata": {
    "scrolled": true
   },
   "outputs": [
    {
     "data": {
      "text/html": [
       "\n",
       "<div class=\"bk-root\">\n",
       "    <div class=\"bk-plotdiv\" id=\"6a74bc0c-51d7-4f08-ba7c-9aa12957e610\"></div>\n",
       "</div>"
      ]
     },
     "metadata": {},
     "output_type": "display_data"
    },
    {
     "data": {
      "application/javascript": [
       "(function(root) {\n",
       "  function embed_document(root) {\n",
       "    \n",
       "  var docs_json = {\"d7a11a26-f003-4db4-bed1-0f6e236ad23d\":{\"roots\":{\"references\":[{\"attributes\":{\"label\":{\"value\":\"predicted\"},\"renderers\":[{\"id\":\"8cd9a3d7-a530-499e-8081-8e88a77f2e6f\",\"type\":\"GlyphRenderer\"}]},\"id\":\"a4d2693b-3300-40d9-a79b-c29a8d2a76a3\",\"type\":\"LegendItem\"},{\"attributes\":{},\"id\":\"8ef59cd4-e885-4959-8775-e82abcc876c1\",\"type\":\"ResetTool\"},{\"attributes\":{},\"id\":\"7b1c84c5-3c33-4dc7-b303-d4bd028846bd\",\"type\":\"BasicTicker\"},{\"attributes\":{\"plot\":{\"id\":\"7599a9f6-77d4-49d5-a542-e37c1ab566d4\",\"subtype\":\"Figure\",\"type\":\"Plot\"},\"ticker\":{\"id\":\"7b1c84c5-3c33-4dc7-b303-d4bd028846bd\",\"type\":\"BasicTicker\"}},\"id\":\"6e75ebdf-17d3-4c0c-8e55-c96c271a46b1\",\"type\":\"Grid\"},{\"attributes\":{\"formatter\":{\"id\":\"637f6d4b-f61a-4493-9680-7797ee33261f\",\"type\":\"BasicTickFormatter\"},\"plot\":{\"id\":\"7599a9f6-77d4-49d5-a542-e37c1ab566d4\",\"subtype\":\"Figure\",\"type\":\"Plot\"},\"ticker\":{\"id\":\"7b1c84c5-3c33-4dc7-b303-d4bd028846bd\",\"type\":\"BasicTicker\"}},\"id\":\"f05ea902-4349-4aee-a586-1451ba36c982\",\"type\":\"LinearAxis\"},{\"attributes\":{},\"id\":\"30c6c6a5-0f50-4f68-ae51-e92f00b93b69\",\"type\":\"WheelZoomTool\"},{\"attributes\":{\"source\":{\"id\":\"547762f5-b5af-436b-a5c6-54cb77d1613f\",\"type\":\"ColumnDataSource\"}},\"id\":\"1e395b86-5767-4100-b42b-f8b12c490ec7\",\"type\":\"CDSView\"},{\"attributes\":{},\"id\":\"88bc17cd-766d-489e-981e-7e3b08a5e757\",\"type\":\"HelpTool\"},{\"attributes\":{\"bottom_units\":\"screen\",\"fill_alpha\":{\"value\":0.5},\"fill_color\":{\"value\":\"lightgrey\"},\"left_units\":\"screen\",\"level\":\"overlay\",\"line_alpha\":{\"value\":1.0},\"line_color\":{\"value\":\"black\"},\"line_dash\":[4,4],\"line_width\":{\"value\":2},\"plot\":null,\"render_mode\":\"css\",\"right_units\":\"screen\",\"top_units\":\"screen\"},\"id\":\"d1ac4e77-2aed-48cf-9fcc-5a873fcaeecd\",\"type\":\"BoxAnnotation\"},{\"attributes\":{\"callback\":null,\"data\":{\"x\":{\"__ndarray__\":\"AAAAAAEAAAACAAAAAwAAAAQAAAAFAAAABgAAAAcAAAAIAAAACQAAAAoAAAALAAAADAAAAA0AAAAOAAAADwAAABAAAAARAAAAEgAAABMAAAAUAAAAFQAAABYAAAAXAAAAGAAAABkAAAAaAAAAGwAAABwAAAAdAAAAHgAAAB8AAAAgAAAAIQAAACIAAAAjAAAAJAAAACUAAAAmAAAAJwAAACgAAAApAAAAKgAAACsAAAAsAAAALQAAAC4AAAAvAAAAMAAAADEAAAAyAAAAMwAAADQAAAA1AAAANgAAADcAAAA4AAAAOQAAADoAAAA7AAAAPAAAAD0AAAA+AAAAPwAAAEAAAABBAAAAQgAAAEMAAABEAAAARQAAAEYAAABHAAAASAAAAEkAAABKAAAASwAAAEwAAABNAAAATgAAAE8AAABQAAAAUQAAAFIAAABTAAAAVAAAAFUAAABWAAAAVwAAAFgAAABZAAAAWgAAAFsAAABcAAAAXQAAAF4AAABfAAAAYAAAAGEAAABiAAAAYwAAAGQAAABlAAAAZgAAAGcAAABoAAAAaQAAAGoAAABrAAAAbAAAAG0AAABuAAAAbwAAAHAAAABxAAAAcgAAAHMAAAB0AAAAdQAAAHYAAAB3AAAAeAAAAHkAAAB6AAAAewAAAHwAAAB9AAAAfgAAAH8AAACAAAAAgQAAAIIAAACDAAAAhAAAAIUAAACGAAAAhwAAAIgAAACJAAAAigAAAIsAAACMAAAAjQAAAI4AAACPAAAAkAAAAJEAAACSAAAAkwAAAJQAAACVAAAAlgAAAJcAAACYAAAAmQAAAJoAAACbAAAAnAAAAJ0AAACeAAAAnwAAAKAAAAChAAAAogAAAKMAAACkAAAApQAAAKYAAACnAAAA\",\"dtype\":\"int32\",\"shape\":[168]},\"y\":[0.699358974358974,0.7936538461538459,0.705128205128205,0.5905128205128211,0.424807692307692,0.24705128205128196,0.0730128205128205,0.0173717948717949,0.000320512820512821,0.0,0.0,0.0,0.0,0.0,0.0,0.0,0.0,0.0,0.0,0.0,0.0166025641025641,0.20326923076923104,0.45403846153846206,0.331858974358974,0.4455128205128211,0.38782051282051294,0.38852564102564097,0.22025641025641002,0.0866025641025641,0.045,0.0305769230769231,0.0202564102564103,0.00019230769230769198,0.0,0.0,0.0,0.0,0.0,0.0,0.0,0.0,0.0,0.0,0.0,0.0176282051282051,0.28942307692307695,0.6619230769230771,0.8143589743589741,0.8622435897435899,0.837371794871795,0.762820512820513,0.650192307692308,0.484807692307692,0.265064102564103,0.0635897435897436,0.0137179487179487,0.000384615384615385,0.0,0.0,0.0,0.0,0.0,0.0,0.0,0.0,0.0,0.0,6.41025641025641e-05,0.0173717948717949,0.273782051282051,0.631794871794872,0.775769230769231,0.8383974358974359,0.8208974358974358,0.644551282051282,0.463910256410256,0.459294871794872,0.23884615384615399,0.0894871794871795,0.0249358974358974,0.00012820512820512802,0.0,0.0,0.0,0.0,0.0,0.0,0.0,0.0,0.0,0.0,0.0,0.00198717948717949,0.0508974358974359,0.0897435897435897,0.143333333333333,0.4175,0.808333333333333,0.585961538461538,0.45737179487179497,0.232179487179487,0.163333333333333,0.0493589743589744,0.0107051282051282,0.00025641025641025603,0.0,0.0,0.0,0.0,0.0,0.0,0.0,0.0,0.0,0.0,0.0,0.0106410256410256,0.0532692307692308,0.21012820512820496,0.6888461538461539,0.8138461538461541,0.7617948717948722,0.736538461538462,0.6435897435897441,0.470769230769231,0.260576923076923,0.0672435897435898,0.0138461538461538,0.00019230769230769198,0.0,0.0,0.0,0.0,0.0,0.0,0.0,0.0,0.0,0.0,0.0,0.0146794871794872,0.25192307692307697,0.615384615384615,0.7437820512820509,0.780064102564103,0.7797435897435899,0.7303205128205129,0.531730769230769,0.458076923076923,0.22743589743589698,0.0528205128205128,0.013974358974358999,0.00019230769230769198,0.0,0.0,0.0,0.0,0.0,0.0,0.0,0.0,0.0,0.0,0.0,0.00256410256410256,0.0389102564102564,0.0973076923076923,0.135897435897436]},\"selected\":{\"id\":\"0dc0c376-7d82-467e-8b12-1105ec2aa59b\",\"type\":\"Selection\"},\"selection_policy\":{\"id\":\"fc03b40f-aac3-4b4f-9bb8-845910c808be\",\"type\":\"UnionRenderers\"}},\"id\":\"547762f5-b5af-436b-a5c6-54cb77d1613f\",\"type\":\"ColumnDataSource\"},{\"attributes\":{\"callback\":null},\"id\":\"7d26dd45-bcff-41a0-ba56-faaaa7df56e5\",\"type\":\"DataRange1d\"},{\"attributes\":{},\"id\":\"637f6d4b-f61a-4493-9680-7797ee33261f\",\"type\":\"BasicTickFormatter\"},{\"attributes\":{\"line_color\":\"#1f77b4\",\"line_width\":2,\"x\":{\"field\":\"x\"},\"y\":{\"field\":\"y\"}},\"id\":\"60b02dc2-aa59-48e4-9893-7e16c87f9ceb\",\"type\":\"Line\"},{\"attributes\":{\"dimension\":1,\"plot\":{\"id\":\"7599a9f6-77d4-49d5-a542-e37c1ab566d4\",\"subtype\":\"Figure\",\"type\":\"Plot\"},\"ticker\":{\"id\":\"0e9b1d8b-ddca-437d-a6e1-c1b30dbc0afa\",\"type\":\"BasicTicker\"}},\"id\":\"99861803-b897-4104-87e6-b0fd7611c512\",\"type\":\"Grid\"},{\"attributes\":{},\"id\":\"0dc0c376-7d82-467e-8b12-1105ec2aa59b\",\"type\":\"Selection\"},{\"attributes\":{},\"id\":\"92fe9520-2a6e-4650-8ab9-4fe047cd935c\",\"type\":\"LinearScale\"},{\"attributes\":{\"overlay\":{\"id\":\"d1ac4e77-2aed-48cf-9fcc-5a873fcaeecd\",\"type\":\"BoxAnnotation\"}},\"id\":\"83a48e10-9e53-49b3-ba1e-eefeed2e7a49\",\"type\":\"BoxZoomTool\"},{\"attributes\":{},\"id\":\"840ba68e-49a4-46fa-9264-038ffacc25f3\",\"type\":\"SaveTool\"},{\"attributes\":{\"below\":[{\"id\":\"f05ea902-4349-4aee-a586-1451ba36c982\",\"type\":\"LinearAxis\"}],\"left\":[{\"id\":\"6ab5aac4-ca77-486f-bfc1-215e1363dba6\",\"type\":\"LinearAxis\"}],\"renderers\":[{\"id\":\"f05ea902-4349-4aee-a586-1451ba36c982\",\"type\":\"LinearAxis\"},{\"id\":\"6e75ebdf-17d3-4c0c-8e55-c96c271a46b1\",\"type\":\"Grid\"},{\"id\":\"6ab5aac4-ca77-486f-bfc1-215e1363dba6\",\"type\":\"LinearAxis\"},{\"id\":\"99861803-b897-4104-87e6-b0fd7611c512\",\"type\":\"Grid\"},{\"id\":\"d1ac4e77-2aed-48cf-9fcc-5a873fcaeecd\",\"type\":\"BoxAnnotation\"},{\"id\":\"9909f1fa-e40e-47cb-9797-91c9251410a1\",\"type\":\"Legend\"},{\"id\":\"480a9a6a-22f8-473d-a6c8-4f1137f8d129\",\"type\":\"GlyphRenderer\"},{\"id\":\"8cd9a3d7-a530-499e-8081-8e88a77f2e6f\",\"type\":\"GlyphRenderer\"}],\"title\":{\"id\":\"11a7fe0d-7524-4a57-9b41-594bc66d4d8a\",\"type\":\"Title\"},\"toolbar\":{\"id\":\"a2141b0d-0b3d-47c2-aef3-9efafb628835\",\"type\":\"Toolbar\"},\"x_range\":{\"id\":\"e1e81b22-d3f7-4499-a4e0-7b332b5ef3ad\",\"type\":\"DataRange1d\"},\"x_scale\":{\"id\":\"c769ec69-7fa7-4ad9-b1a3-9f1c2c66a5d2\",\"type\":\"LinearScale\"},\"y_range\":{\"id\":\"7d26dd45-bcff-41a0-ba56-faaaa7df56e5\",\"type\":\"DataRange1d\"},\"y_scale\":{\"id\":\"92fe9520-2a6e-4650-8ab9-4fe047cd935c\",\"type\":\"LinearScale\"}},\"id\":\"7599a9f6-77d4-49d5-a542-e37c1ab566d4\",\"subtype\":\"Figure\",\"type\":\"Plot\"},{\"attributes\":{},\"id\":\"b6843e60-c6a0-4d79-a8af-243ef97e8542\",\"type\":\"UnionRenderers\"},{\"attributes\":{\"callback\":null,\"data\":{\"x\":{\"__ndarray__\":\"AAAAAAEAAAACAAAAAwAAAAQAAAAFAAAABgAAAAcAAAAIAAAACQAAAAoAAAALAAAADAAAAA0AAAAOAAAADwAAABAAAAARAAAAEgAAABMAAAAUAAAAFQAAABYAAAAXAAAAGAAAABkAAAAaAAAAGwAAABwAAAAdAAAAHgAAAB8AAAAgAAAAIQAAACIAAAAjAAAAJAAAACUAAAAmAAAAJwAAACgAAAApAAAAKgAAACsAAAAsAAAALQAAAC4AAAAvAAAAMAAAADEAAAAyAAAAMwAAADQAAAA1AAAANgAAADcAAAA4AAAAOQAAADoAAAA7AAAAPAAAAD0AAAA+AAAAPwAAAEAAAABBAAAAQgAAAEMAAABEAAAARQAAAEYAAABHAAAASAAAAEkAAABKAAAASwAAAEwAAABNAAAATgAAAE8AAABQAAAAUQAAAFIAAABTAAAAVAAAAFUAAABWAAAAVwAAAFgAAABZAAAAWgAAAFsAAABcAAAAXQAAAF4AAABfAAAAYAAAAGEAAABiAAAAYwAAAGQAAABlAAAAZgAAAGcAAABoAAAAaQAAAGoAAABrAAAAbAAAAG0AAABuAAAAbwAAAHAAAABxAAAAcgAAAHMAAAB0AAAAdQAAAHYAAAB3AAAAeAAAAHkAAAB6AAAAewAAAHwAAAB9AAAAfgAAAH8AAACAAAAAgQAAAIIAAACDAAAAhAAAAIUAAACGAAAAhwAAAIgAAACJAAAAigAAAIsAAACMAAAAjQAAAI4AAACPAAAAkAAAAJEAAACSAAAAkwAAAJQAAACVAAAAlgAAAJcAAACYAAAAmQAAAJoAAACbAAAAnAAAAJ0AAACeAAAAnwAAAKAAAAChAAAAogAAAKMAAACkAAAApQAAAKYAAACnAAAA\",\"dtype\":\"int32\",\"shape\":[168]},\"y\":[0.6466808319091797,0.6466808319091797,0.6255035996437073,0.5347344875335693,0.38520288467407227,0.2061576247215271,0.07024741172790527,0.018975824117660522,0.005757153034210205,0.0023396313190460205,0.0023396313190460205,0.0032989084720611572,0.0032989084720611572,0.008266657590866089,0.006567627191543579,0.006567627191543579,0.006567627191543579,0.006567627191543579,0.006567627191543579,0.006567627191543579,0.054525285959243774,0.22425401210784912,0.37639856338500977,0.5983838438987732,0.6658704876899719,0.6658704876899719,0.6446932554244995,0.5278987884521484,0.3510048985481262,0.18504512310028076,0.05984663963317871,0.012138217687606812,0.0030754506587982178,0.0030754506587982178,0.005338907241821289,0.0072006285190582275,0.0072006285190582275,0.0072006285190582275,0.0072006285190582275,0.0072006285190582275,0.0072006285190582275,0.0072006285190582275,0.02054274082183838,0.02054274082183838,0.0640912652015686,0.26668280363082886,0.41989144682884216,0.5488731861114502,0.6026067733764648,0.6026067733764648,0.6049476265907288,0.5374022126197815,0.40076491236686707,0.21053117513656616,0.07995474338531494,0.030443042516708374,0.008486002683639526,0.006786972284317017,0.006786972284317017,0.006786972284317017,0.006786972284317017,0.006786972284317017,0.006786972284317017,0.006786972284317017,0.006786972284317017,0.006786972284317017,0.006786972284317017,0.006786972284317017,0.03726518154144287,0.26264092326164246,0.4744722843170166,0.5912280082702637,0.6450255513191223,0.6450255513191223,0.6238483190536499,0.5434525012969971,0.38102662563323975,0.20432773232460022,0.0684175193309784,0.022049754858016968,0.007766932249069214,0.007766932249069214,0.007766932249069214,0.009107589721679688,0.009107589721679688,0.02200186252593994,0.02200186252593994,0.02200186252593994,0.02200186252593994,0.02200186252593994,0.02200186252593994,0.02200186252593994,0.05758652091026306,0.2774627208709717,0.46350550651550293,0.6248277425765991,0.6785613298416138,0.6785613298416138,0.6478337049484253,0.529494047164917,0.3799624443054199,0.20326358079910278,0.06735336780548096,0.02098560333251953,0.007766932249069214,0.009025871753692627,0.008767157793045044,0.008767157793045044,0.008767157793045044,0.008767157793045044,0.0071800947189331055,0.0071800947189331055,0.0071800947189331055,0.0071800947189331055,0.0071800947189331055,0.0071800947189331055,0.042764753103256226,0.23470428586006165,0.39070916175842285,0.5824688673019409,0.6519759297370911,0.6648702621459961,0.6475922465324402,0.5266681909561157,0.38673222064971924,0.21715807914733887,0.08124786615371704,0.036579132080078125,0.011806845664978027,0.01066097617149353,0.012001633644104004,0.010302603244781494,0.00896194577217102,0.010302603244781494,0.010302603244781494,0.010302603244781494,0.010302603244781494,0.010302603244781494,0.010302603244781494,0.010302603244781494,0.045887261629104614,0.26442280411720276,0.4516903758049011,0.6173361539840698,0.6502141952514648,0.6502141952514648,0.6219526529312134,0.5140326619148254,0.37409669160842896,0.2045225203037262,0.06861230731010437,0.022244542837142944,0.009025871753692627,0.009025871753692627,0.009025871753692627,0.009025871753692627,0.009025871753692627,0.009025871753692627,0.009025871753692627,0.009025871753692627,0.009025871753692627,0.009025871753692627,0.009025871753692627,0.009025871753692627,0.04461053013801575,0.26448673009872437,0.4516903758049011,0.5756433010101318]},\"selected\":{\"id\":\"a0152ba9-7a59-4022-9bac-8757571487db\",\"type\":\"Selection\"},\"selection_policy\":{\"id\":\"b6843e60-c6a0-4d79-a8af-243ef97e8542\",\"type\":\"UnionRenderers\"}},\"id\":\"91e97839-26cc-4d5b-81b6-2b6492d2e54f\",\"type\":\"ColumnDataSource\"},{\"attributes\":{},\"id\":\"c769ec69-7fa7-4ad9-b1a3-9f1c2c66a5d2\",\"type\":\"LinearScale\"},{\"attributes\":{\"data_source\":{\"id\":\"547762f5-b5af-436b-a5c6-54cb77d1613f\",\"type\":\"ColumnDataSource\"},\"glyph\":{\"id\":\"60b02dc2-aa59-48e4-9893-7e16c87f9ceb\",\"type\":\"Line\"},\"hover_glyph\":null,\"muted_glyph\":null,\"nonselection_glyph\":{\"id\":\"8caa3232-74e6-4724-a1af-93500d4f2505\",\"type\":\"Line\"},\"selection_glyph\":null,\"view\":{\"id\":\"1e395b86-5767-4100-b42b-f8b12c490ec7\",\"type\":\"CDSView\"}},\"id\":\"480a9a6a-22f8-473d-a6c8-4f1137f8d129\",\"type\":\"GlyphRenderer\"},{\"attributes\":{\"line_alpha\":0.1,\"line_color\":\"#1f77b4\",\"line_width\":2,\"x\":{\"field\":\"x\"},\"y\":{\"field\":\"y\"}},\"id\":\"8caa3232-74e6-4724-a1af-93500d4f2505\",\"type\":\"Line\"},{\"attributes\":{\"formatter\":{\"id\":\"422c804a-0cb8-4281-a1de-77d7d87b3f06\",\"type\":\"BasicTickFormatter\"},\"plot\":{\"id\":\"7599a9f6-77d4-49d5-a542-e37c1ab566d4\",\"subtype\":\"Figure\",\"type\":\"Plot\"},\"ticker\":{\"id\":\"0e9b1d8b-ddca-437d-a6e1-c1b30dbc0afa\",\"type\":\"BasicTicker\"}},\"id\":\"6ab5aac4-ca77-486f-bfc1-215e1363dba6\",\"type\":\"LinearAxis\"},{\"attributes\":{},\"id\":\"0e9b1d8b-ddca-437d-a6e1-c1b30dbc0afa\",\"type\":\"BasicTicker\"},{\"attributes\":{\"active_drag\":\"auto\",\"active_inspect\":\"auto\",\"active_scroll\":\"auto\",\"active_tap\":\"auto\",\"tools\":[{\"id\":\"8fac5706-32d7-4339-95ed-316c6d1ec50e\",\"type\":\"PanTool\"},{\"id\":\"30c6c6a5-0f50-4f68-ae51-e92f00b93b69\",\"type\":\"WheelZoomTool\"},{\"id\":\"83a48e10-9e53-49b3-ba1e-eefeed2e7a49\",\"type\":\"BoxZoomTool\"},{\"id\":\"840ba68e-49a4-46fa-9264-038ffacc25f3\",\"type\":\"SaveTool\"},{\"id\":\"8ef59cd4-e885-4959-8775-e82abcc876c1\",\"type\":\"ResetTool\"},{\"id\":\"88bc17cd-766d-489e-981e-7e3b08a5e757\",\"type\":\"HelpTool\"}]},\"id\":\"a2141b0d-0b3d-47c2-aef3-9efafb628835\",\"type\":\"Toolbar\"},{\"attributes\":{\"plot\":null,\"text\":\"\"},\"id\":\"11a7fe0d-7524-4a57-9b41-594bc66d4d8a\",\"type\":\"Title\"},{\"attributes\":{\"line_alpha\":0.1,\"line_color\":\"#1f77b4\",\"line_width\":2,\"x\":{\"field\":\"x\"},\"y\":{\"field\":\"y\"}},\"id\":\"bbde5e16-1e36-4557-b2c7-018473b30952\",\"type\":\"Line\"},{\"attributes\":{\"label\":{\"value\":\"real\"},\"renderers\":[{\"id\":\"480a9a6a-22f8-473d-a6c8-4f1137f8d129\",\"type\":\"GlyphRenderer\"}]},\"id\":\"2d7c9e49-5095-4032-9b93-8b72c81b154b\",\"type\":\"LegendItem\"},{\"attributes\":{},\"id\":\"fc03b40f-aac3-4b4f-9bb8-845910c808be\",\"type\":\"UnionRenderers\"},{\"attributes\":{},\"id\":\"422c804a-0cb8-4281-a1de-77d7d87b3f06\",\"type\":\"BasicTickFormatter\"},{\"attributes\":{\"data_source\":{\"id\":\"91e97839-26cc-4d5b-81b6-2b6492d2e54f\",\"type\":\"ColumnDataSource\"},\"glyph\":{\"id\":\"bae8a005-06ce-46f6-b435-eb021b0d6ff7\",\"type\":\"Line\"},\"hover_glyph\":null,\"muted_glyph\":null,\"nonselection_glyph\":{\"id\":\"bbde5e16-1e36-4557-b2c7-018473b30952\",\"type\":\"Line\"},\"selection_glyph\":null,\"view\":{\"id\":\"2db88599-ec6a-4a7e-a699-4c7e961c602c\",\"type\":\"CDSView\"}},\"id\":\"8cd9a3d7-a530-499e-8081-8e88a77f2e6f\",\"type\":\"GlyphRenderer\"},{\"attributes\":{},\"id\":\"8fac5706-32d7-4339-95ed-316c6d1ec50e\",\"type\":\"PanTool\"},{\"attributes\":{\"line_color\":\"orange\",\"line_width\":2,\"x\":{\"field\":\"x\"},\"y\":{\"field\":\"y\"}},\"id\":\"bae8a005-06ce-46f6-b435-eb021b0d6ff7\",\"type\":\"Line\"},{\"attributes\":{\"items\":[{\"id\":\"2d7c9e49-5095-4032-9b93-8b72c81b154b\",\"type\":\"LegendItem\"},{\"id\":\"a4d2693b-3300-40d9-a79b-c29a8d2a76a3\",\"type\":\"LegendItem\"}],\"plot\":{\"id\":\"7599a9f6-77d4-49d5-a542-e37c1ab566d4\",\"subtype\":\"Figure\",\"type\":\"Plot\"}},\"id\":\"9909f1fa-e40e-47cb-9797-91c9251410a1\",\"type\":\"Legend\"},{\"attributes\":{},\"id\":\"a0152ba9-7a59-4022-9bac-8757571487db\",\"type\":\"Selection\"},{\"attributes\":{\"source\":{\"id\":\"91e97839-26cc-4d5b-81b6-2b6492d2e54f\",\"type\":\"ColumnDataSource\"}},\"id\":\"2db88599-ec6a-4a7e-a699-4c7e961c602c\",\"type\":\"CDSView\"},{\"attributes\":{\"callback\":null},\"id\":\"e1e81b22-d3f7-4499-a4e0-7b332b5ef3ad\",\"type\":\"DataRange1d\"}],\"root_ids\":[\"7599a9f6-77d4-49d5-a542-e37c1ab566d4\"]},\"title\":\"Bokeh Application\",\"version\":\"0.12.16\"}};\n",
       "  var render_items = [{\"docid\":\"d7a11a26-f003-4db4-bed1-0f6e236ad23d\",\"elementid\":\"6a74bc0c-51d7-4f08-ba7c-9aa12957e610\",\"modelid\":\"7599a9f6-77d4-49d5-a542-e37c1ab566d4\"}];\n",
       "  root.Bokeh.embed.embed_items_notebook(docs_json, render_items);\n",
       "\n",
       "  }\n",
       "  if (root.Bokeh !== undefined) {\n",
       "    embed_document(root);\n",
       "  } else {\n",
       "    var attempts = 0;\n",
       "    var timer = setInterval(function(root) {\n",
       "      if (root.Bokeh !== undefined) {\n",
       "        embed_document(root);\n",
       "        clearInterval(timer);\n",
       "      }\n",
       "      attempts++;\n",
       "      if (attempts > 100) {\n",
       "        console.log(\"Bokeh: ERROR: Unable to run BokehJS code because BokehJS library is missing\")\n",
       "        clearInterval(timer);\n",
       "      }\n",
       "    }, 10, root)\n",
       "  }\n",
       "})(window);"
      ],
      "application/vnd.bokehjs_exec.v0+json": ""
     },
     "metadata": {
      "application/vnd.bokehjs_exec.v0+json": {
       "id": "7599a9f6-77d4-49d5-a542-e37c1ab566d4"
      }
     },
     "output_type": "display_data"
    }
   ],
   "source": [
    "p = figure()\n",
    "p.line(np.arange(len(y_tests)), y_tests, legend=\"real\", line_width=2)\n",
    "p.line(np.arange(len(y_preds)), y_preds, legend=\"predicted\", color=\"orange\", line_width=2)\n",
    "show(p)"
   ]
  },
  {
   "cell_type": "code",
   "execution_count": 7,
   "metadata": {},
   "outputs": [
    {
     "data": {
      "text/html": [
       "\n",
       "<div class=\"bk-root\">\n",
       "    <div class=\"bk-plotdiv\" id=\"8388d61f-cbda-4bf2-a798-54dd6875de19\"></div>\n",
       "</div>"
      ]
     },
     "metadata": {},
     "output_type": "display_data"
    },
    {
     "data": {
      "application/javascript": [
       "(function(root) {\n",
       "  function embed_document(root) {\n",
       "    \n",
       "  var docs_json = {\"bedea993-a068-4ab2-89df-a95d8e0bcde2\":{\"roots\":{\"references\":[{\"attributes\":{},\"id\":\"31340d79-4c54-49e8-9a5a-cf6cef3ece68\",\"type\":\"BasicTickFormatter\"},{\"attributes\":{\"formatter\":{\"id\":\"31340d79-4c54-49e8-9a5a-cf6cef3ece68\",\"type\":\"BasicTickFormatter\"},\"plot\":{\"id\":\"3120a5d0-bbfa-4df1-a982-c35144fe8ddb\",\"subtype\":\"Figure\",\"type\":\"Plot\"},\"ticker\":{\"id\":\"3488cf0f-351e-4533-bd44-ff5ef6e0aae8\",\"type\":\"BasicTicker\"}},\"id\":\"277cc4bd-001e-4218-a336-0951bf67e848\",\"type\":\"LinearAxis\"},{\"attributes\":{\"formatter\":{\"id\":\"d3eb9db0-85d1-49db-8358-146b089f19f1\",\"type\":\"BasicTickFormatter\"},\"plot\":{\"id\":\"3120a5d0-bbfa-4df1-a982-c35144fe8ddb\",\"subtype\":\"Figure\",\"type\":\"Plot\"},\"ticker\":{\"id\":\"2d4d4eee-0724-4657-bff2-0ab4efd7b3a2\",\"type\":\"BasicTicker\"}},\"id\":\"61de7dd0-ffb9-4d60-b126-b45a9b80d1c2\",\"type\":\"LinearAxis\"},{\"attributes\":{},\"id\":\"2d4d4eee-0724-4657-bff2-0ab4efd7b3a2\",\"type\":\"BasicTicker\"},{\"attributes\":{\"dimension\":1,\"plot\":{\"id\":\"3120a5d0-bbfa-4df1-a982-c35144fe8ddb\",\"subtype\":\"Figure\",\"type\":\"Plot\"},\"ticker\":{\"id\":\"3488cf0f-351e-4533-bd44-ff5ef6e0aae8\",\"type\":\"BasicTicker\"}},\"id\":\"3a1331d8-b57f-4026-97a0-6d8d0c8183a6\",\"type\":\"Grid\"},{\"attributes\":{\"callback\":null},\"id\":\"7f2340bb-653f-46f9-aefa-fd6e8ff8cb9e\",\"type\":\"DataRange1d\"},{\"attributes\":{\"bottom_units\":\"screen\",\"fill_alpha\":{\"value\":0.5},\"fill_color\":{\"value\":\"lightgrey\"},\"left_units\":\"screen\",\"level\":\"overlay\",\"line_alpha\":{\"value\":1.0},\"line_color\":{\"value\":\"black\"},\"line_dash\":[4,4],\"line_width\":{\"value\":2},\"plot\":null,\"render_mode\":\"css\",\"right_units\":\"screen\",\"top_units\":\"screen\"},\"id\":\"20a7b379-d603-4e36-9796-9b9aa0bd37b1\",\"type\":\"BoxAnnotation\"},{\"attributes\":{},\"id\":\"9db04fd1-f04a-479c-b6b1-615c92f3b942\",\"type\":\"HelpTool\"},{\"attributes\":{},\"id\":\"4b666ccc-7cf1-4563-ab6f-6b7f6af42eb8\",\"type\":\"UnionRenderers\"},{\"attributes\":{},\"id\":\"9fd84c20-6115-4bec-bcf9-81a5312bbe9f\",\"type\":\"LinearScale\"},{\"attributes\":{},\"id\":\"ba1191f0-4cef-462a-ad28-96c13ce105b5\",\"type\":\"PanTool\"},{\"attributes\":{},\"id\":\"d919fea7-c36c-4378-a733-6571b38679c4\",\"type\":\"SaveTool\"},{\"attributes\":{},\"id\":\"6486de1e-c938-4d5a-840a-07a25f02e7a0\",\"type\":\"LinearScale\"},{\"attributes\":{\"items\":[{\"id\":\"3518f48a-f4e3-43e5-b3d4-e3e3a441b32b\",\"type\":\"LegendItem\"}],\"plot\":{\"id\":\"3120a5d0-bbfa-4df1-a982-c35144fe8ddb\",\"subtype\":\"Figure\",\"type\":\"Plot\"}},\"id\":\"ed11d1e0-9b15-4ec8-a483-5003b9996271\",\"type\":\"Legend\"},{\"attributes\":{\"label\":{\"value\":\"accuracy\"},\"renderers\":[{\"id\":\"0733a577-5954-475b-848b-510f1be76d5f\",\"type\":\"GlyphRenderer\"}]},\"id\":\"3518f48a-f4e3-43e5-b3d4-e3e3a441b32b\",\"type\":\"LegendItem\"},{\"attributes\":{\"callback\":null,\"data\":{\"x\":{\"__ndarray__\":\"AAAAAAEAAAACAAAAAwAAAAQAAAAFAAAABgAAAA==\",\"dtype\":\"int32\",\"shape\":[7]},\"y\":[0.9193161794316866,0.6831098527765695,0.8715811158046103,0.6706764094999611,0.889562630778462,0.9379633625637315,0.7161265850786465]},\"selected\":{\"id\":\"18151944-3e63-4ebe-832f-aaedf6bef18b\",\"type\":\"Selection\"},\"selection_policy\":{\"id\":\"4b666ccc-7cf1-4563-ab6f-6b7f6af42eb8\",\"type\":\"UnionRenderers\"}},\"id\":\"b9b6347f-f6b5-4e31-8e1a-8247df22f8f5\",\"type\":\"ColumnDataSource\"},{\"attributes\":{},\"id\":\"ef3c98bf-c716-42b4-8e94-4a6854da1cee\",\"type\":\"ResetTool\"},{\"attributes\":{},\"id\":\"18151944-3e63-4ebe-832f-aaedf6bef18b\",\"type\":\"Selection\"},{\"attributes\":{\"data_source\":{\"id\":\"b9b6347f-f6b5-4e31-8e1a-8247df22f8f5\",\"type\":\"ColumnDataSource\"},\"glyph\":{\"id\":\"737109f5-68f3-4d95-9bac-ba8bf841a04d\",\"type\":\"Line\"},\"hover_glyph\":null,\"muted_glyph\":null,\"nonselection_glyph\":{\"id\":\"316e8bb2-b445-450b-b30a-9e21fb1ff386\",\"type\":\"Line\"},\"selection_glyph\":null,\"view\":{\"id\":\"12d1d79a-e610-415f-8d4c-f8018bce158f\",\"type\":\"CDSView\"}},\"id\":\"0733a577-5954-475b-848b-510f1be76d5f\",\"type\":\"GlyphRenderer\"},{\"attributes\":{\"line_alpha\":0.1,\"line_color\":\"#1f77b4\",\"line_width\":2,\"x\":{\"field\":\"x\"},\"y\":{\"field\":\"y\"}},\"id\":\"316e8bb2-b445-450b-b30a-9e21fb1ff386\",\"type\":\"Line\"},{\"attributes\":{\"plot\":null,\"text\":\"\"},\"id\":\"53b8b95a-fb28-4bd3-9d5a-cbb5a3f59bd5\",\"type\":\"Title\"},{\"attributes\":{},\"id\":\"3488cf0f-351e-4533-bd44-ff5ef6e0aae8\",\"type\":\"BasicTicker\"},{\"attributes\":{\"below\":[{\"id\":\"61de7dd0-ffb9-4d60-b126-b45a9b80d1c2\",\"type\":\"LinearAxis\"}],\"left\":[{\"id\":\"277cc4bd-001e-4218-a336-0951bf67e848\",\"type\":\"LinearAxis\"}],\"renderers\":[{\"id\":\"61de7dd0-ffb9-4d60-b126-b45a9b80d1c2\",\"type\":\"LinearAxis\"},{\"id\":\"8b5ad1ae-6367-4f1f-9eea-a8bcb746f604\",\"type\":\"Grid\"},{\"id\":\"277cc4bd-001e-4218-a336-0951bf67e848\",\"type\":\"LinearAxis\"},{\"id\":\"3a1331d8-b57f-4026-97a0-6d8d0c8183a6\",\"type\":\"Grid\"},{\"id\":\"20a7b379-d603-4e36-9796-9b9aa0bd37b1\",\"type\":\"BoxAnnotation\"},{\"id\":\"ed11d1e0-9b15-4ec8-a483-5003b9996271\",\"type\":\"Legend\"},{\"id\":\"0733a577-5954-475b-848b-510f1be76d5f\",\"type\":\"GlyphRenderer\"}],\"title\":{\"id\":\"53b8b95a-fb28-4bd3-9d5a-cbb5a3f59bd5\",\"type\":\"Title\"},\"toolbar\":{\"id\":\"bce5a54f-335c-4a92-8378-d29cb3826585\",\"type\":\"Toolbar\"},\"x_range\":{\"id\":\"6f1d1df4-4ea8-4bf9-98c5-c2027c0d3958\",\"type\":\"DataRange1d\"},\"x_scale\":{\"id\":\"9fd84c20-6115-4bec-bcf9-81a5312bbe9f\",\"type\":\"LinearScale\"},\"y_range\":{\"id\":\"7f2340bb-653f-46f9-aefa-fd6e8ff8cb9e\",\"type\":\"DataRange1d\"},\"y_scale\":{\"id\":\"6486de1e-c938-4d5a-840a-07a25f02e7a0\",\"type\":\"LinearScale\"}},\"id\":\"3120a5d0-bbfa-4df1-a982-c35144fe8ddb\",\"subtype\":\"Figure\",\"type\":\"Plot\"},{\"attributes\":{},\"id\":\"9c91d1ba-06a0-4ce8-ae57-4084c1756e57\",\"type\":\"WheelZoomTool\"},{\"attributes\":{\"line_color\":\"green\",\"line_width\":2,\"x\":{\"field\":\"x\"},\"y\":{\"field\":\"y\"}},\"id\":\"737109f5-68f3-4d95-9bac-ba8bf841a04d\",\"type\":\"Line\"},{\"attributes\":{\"source\":{\"id\":\"b9b6347f-f6b5-4e31-8e1a-8247df22f8f5\",\"type\":\"ColumnDataSource\"}},\"id\":\"12d1d79a-e610-415f-8d4c-f8018bce158f\",\"type\":\"CDSView\"},{\"attributes\":{\"plot\":{\"id\":\"3120a5d0-bbfa-4df1-a982-c35144fe8ddb\",\"subtype\":\"Figure\",\"type\":\"Plot\"},\"ticker\":{\"id\":\"2d4d4eee-0724-4657-bff2-0ab4efd7b3a2\",\"type\":\"BasicTicker\"}},\"id\":\"8b5ad1ae-6367-4f1f-9eea-a8bcb746f604\",\"type\":\"Grid\"},{\"attributes\":{},\"id\":\"d3eb9db0-85d1-49db-8358-146b089f19f1\",\"type\":\"BasicTickFormatter\"},{\"attributes\":{\"active_drag\":\"auto\",\"active_inspect\":\"auto\",\"active_scroll\":\"auto\",\"active_tap\":\"auto\",\"tools\":[{\"id\":\"ba1191f0-4cef-462a-ad28-96c13ce105b5\",\"type\":\"PanTool\"},{\"id\":\"9c91d1ba-06a0-4ce8-ae57-4084c1756e57\",\"type\":\"WheelZoomTool\"},{\"id\":\"06d1c601-8e9d-4fe7-bcf8-423b00071a63\",\"type\":\"BoxZoomTool\"},{\"id\":\"d919fea7-c36c-4378-a733-6571b38679c4\",\"type\":\"SaveTool\"},{\"id\":\"ef3c98bf-c716-42b4-8e94-4a6854da1cee\",\"type\":\"ResetTool\"},{\"id\":\"9db04fd1-f04a-479c-b6b1-615c92f3b942\",\"type\":\"HelpTool\"}]},\"id\":\"bce5a54f-335c-4a92-8378-d29cb3826585\",\"type\":\"Toolbar\"},{\"attributes\":{\"overlay\":{\"id\":\"20a7b379-d603-4e36-9796-9b9aa0bd37b1\",\"type\":\"BoxAnnotation\"}},\"id\":\"06d1c601-8e9d-4fe7-bcf8-423b00071a63\",\"type\":\"BoxZoomTool\"},{\"attributes\":{\"callback\":null},\"id\":\"6f1d1df4-4ea8-4bf9-98c5-c2027c0d3958\",\"type\":\"DataRange1d\"}],\"root_ids\":[\"3120a5d0-bbfa-4df1-a982-c35144fe8ddb\"]},\"title\":\"Bokeh Application\",\"version\":\"0.12.16\"}};\n",
       "  var render_items = [{\"docid\":\"bedea993-a068-4ab2-89df-a95d8e0bcde2\",\"elementid\":\"8388d61f-cbda-4bf2-a798-54dd6875de19\",\"modelid\":\"3120a5d0-bbfa-4df1-a982-c35144fe8ddb\"}];\n",
       "  root.Bokeh.embed.embed_items_notebook(docs_json, render_items);\n",
       "\n",
       "  }\n",
       "  if (root.Bokeh !== undefined) {\n",
       "    embed_document(root);\n",
       "  } else {\n",
       "    var attempts = 0;\n",
       "    var timer = setInterval(function(root) {\n",
       "      if (root.Bokeh !== undefined) {\n",
       "        embed_document(root);\n",
       "        clearInterval(timer);\n",
       "      }\n",
       "      attempts++;\n",
       "      if (attempts > 100) {\n",
       "        console.log(\"Bokeh: ERROR: Unable to run BokehJS code because BokehJS library is missing\")\n",
       "        clearInterval(timer);\n",
       "      }\n",
       "    }, 10, root)\n",
       "  }\n",
       "})(window);"
      ],
      "application/vnd.bokehjs_exec.v0+json": ""
     },
     "metadata": {
      "application/vnd.bokehjs_exec.v0+json": {
       "id": "3120a5d0-bbfa-4df1-a982-c35144fe8ddb"
      }
     },
     "output_type": "display_data"
    }
   ],
   "source": [
    "p = figure()\n",
    "p.line(np.arange(len(results)), results, legend=\"accuracy\", line_width=2,color = \"green\")\n",
    "show(p)"
   ]
  },
  {
   "cell_type": "code",
   "execution_count": null,
   "metadata": {},
   "outputs": [],
   "source": [
    "# -*- coding: utf-8 -*-\n",
    "import pandas as pd\n",
    "import numpy as np\n",
    "import xgboost as xgb\n",
    "from sklearn.metrics import mean_absolute_error\n",
    "import matplotlib.pylab as plt\n",
    "import pandas as pd, numpy as np\n",
    "from sklearn.metrics import mean_absolute_error\n",
    "import xgboost as xgb\n",
    "from hyperopt import hp, tpe, STATUS_OK, Trials\n",
    "#from hyperopt.fmin import fmin\n",
    "\n",
    "def xgb_eval_mae(yhat, dtrain):\n",
    "    y = dtrain.get_label()\n",
    "    return 'mae', mean_absolute_error(np.exp(y), np.exp(yhat))\n",
    "\n",
    "def objective(space):\n",
    "\n",
    "    clf = xgb.XGBRegressor(n_estimators = space['n_estimators'],\n",
    "                           max_depth = space['max_depth'],\n",
    "                           min_child_weight = space['min_child_weight'],\n",
    "                           subsample = space['subsample'],\n",
    "                           learning_rate = space['learning_rate'],\n",
    "                           gamma = space['gamma'],\n",
    "                           colsample_bytree = space['colsample_bytree'],\n",
    "                           objective='reg:linear'\n",
    "                           )\n",
    "\n",
    "    eval_set  = [( X_train, y_train), ( X_test, y_valid)]\n",
    "\n",
    "    clf.fit(X_train,\n",
    "            y_train,\n",
    "            eval_set=eval_set,\n",
    "            eval_metric = 'mae')\n",
    "\n",
    "    pred = clf.predict(X_test)\n",
    "#   mae = mean_absolute_error(np.exp(y_valid), np.exp(pred))\n",
    "    mae = mean_absolute_error((y_valid), (pred))\n",
    "\n",
    "#    print \"SCORE:\", mae\n",
    "    return{'loss':mae, 'status': STATUS_OK }\n",
    "\n",
    "\n",
    "space ={\n",
    "        'max_depth': hp.choice('max_depth', np.arange(10, 30, dtype=int)),\n",
    "        'min_child_weight': hp.quniform ('min_child', 1, 20, 1),\n",
    "        'subsample': hp.uniform ('subsample', 0.8, 1),\n",
    "        'n_estimators' : hp.choice('n_estimators', np.arange(1000, 10000, 100, dtype=int)),\n",
    "        'learning_rate' : hp.quniform('learning_rate', 0.025, 0.5, 0.025),\n",
    "        'gamma' : hp.quniform('gamma', 0.5, 1, 0.05),\n",
    "        'colsample_bytree' : hp.quniform('colsample_bytree', 0.5, 1, 0.05)\n",
    "    }\n",
    "\n",
    "\n",
    "trials = Trials()\n",
    "best = fmin(fn=objective,\n",
    "            space=space,\n",
    "            algo=tpe.suggest,\n",
    "            max_evals=3, # change\n",
    "            trials=trials)\n",
    "\n",
    "print(best)"
   ]
  },
  {
   "cell_type": "code",
   "execution_count": null,
   "metadata": {},
   "outputs": [],
   "source": []
  }
 ],
 "metadata": {
  "kernelspec": {
   "display_name": "Python 3",
   "language": "python",
   "name": "python3"
  },
  "language_info": {
   "codemirror_mode": {
    "name": "ipython",
    "version": 3
   },
   "file_extension": ".py",
   "mimetype": "text/x-python",
   "name": "python",
   "nbconvert_exporter": "python",
   "pygments_lexer": "ipython3",
   "version": "3.6.5"
  }
 },
 "nbformat": 4,
 "nbformat_minor": 2
}
