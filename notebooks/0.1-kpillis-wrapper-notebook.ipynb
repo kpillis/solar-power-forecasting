{
 "cells": [
  {
   "cell_type": "code",
   "execution_count": 1,
   "metadata": {},
   "outputs": [],
   "source": [
    "from src.data import read_data,prepare_data\n",
    "from src.models import train_model,predict_model\n",
    "import pandas as pd\n",
    "pd.options.mode.chained_assignment = None"
   ]
  },
  {
   "cell_type": "code",
   "execution_count": 2,
   "metadata": {},
   "outputs": [],
   "source": [
    "PATH_TO_TRAIN = '../data/raw/train15.csv'\n",
    "PATH_TO_PREDICTORS = '../data/raw/predictors15.csv'\n",
    "\n",
    "ONE_DAY = 24\n",
    "ONE_WEEK = 7 * ONE_DAY\n",
    "ONE_MONTH = 30* ONE_DAY\n",
    "\n",
    "TRAIN_SIZE = 16 * ONE_MONTH\n",
    "number_of_tests = ONE_WEEK\n",
    "size_of_prediction = ONE_DAY\n",
    "TEST_SIZE = number_of_tests * size_of_prediction\n",
    "\n",
    "ROLLING_COLUMNS = ['POWER','VAR78', 'VAR79', 'VAR134', 'VAR157', 'VAR164', 'VAR165', 'VAR166', 'VAR167','VAR169', 'VAR175', 'VAR178', 'VAR228']\n",
    "ACCUMLATED_FEATURE_COLUMNS = ['VAR169', 'VAR175', 'VAR178', 'VAR228']\n",
    "\n",
    "df_original = read_data.read_data(PATH_TO_TRAIN,PATH_TO_PREDICTORS)\n",
    "\n",
    "df_cut = df_original[:TRAIN_SIZE + TEST_SIZE]\n",
    "\n",
    "intervals = []\n",
    "for i in range(1,31):\n",
    "    intervals.append(i*ONE_DAY)\n",
    "for i in range(1,5):\n",
    "    intervals.append(i*ONE_MONTH)"
   ]
  },
  {
   "cell_type": "code",
   "execution_count": 3,
   "metadata": {},
   "outputs": [
    {
     "ename": "TypeError",
     "evalue": "prepare() missing 2 required positional arguments: 'predict_interval' and 'rolling_intervals'",
     "output_type": "error",
     "traceback": [
      "\u001b[1;31m---------------------------------------------------------------------------\u001b[0m",
      "\u001b[1;31mTypeError\u001b[0m                                 Traceback (most recent call last)",
      "\u001b[1;32m<ipython-input-3-721a37e4b219>\u001b[0m in \u001b[0;36m<module>\u001b[1;34m()\u001b[0m\n\u001b[0;32m      1\u001b[0m \u001b[0mdf\u001b[0m \u001b[1;33m=\u001b[0m \u001b[0mdf_cut\u001b[0m\u001b[1;33m.\u001b[0m\u001b[0mcopy\u001b[0m\u001b[1;33m(\u001b[0m\u001b[1;33m)\u001b[0m\u001b[1;33m\u001b[0m\u001b[0m\n\u001b[1;32m----> 2\u001b[1;33m \u001b[0mdf\u001b[0m \u001b[1;33m=\u001b[0m \u001b[0mprepare_data\u001b[0m\u001b[1;33m.\u001b[0m\u001b[0mprepare\u001b[0m\u001b[1;33m(\u001b[0m\u001b[0mdf\u001b[0m\u001b[1;33m)\u001b[0m\u001b[1;33m\u001b[0m\u001b[0m\n\u001b[0m\u001b[0;32m      3\u001b[0m \u001b[0mdf\u001b[0m \u001b[1;33m=\u001b[0m \u001b[0mprepare_data\u001b[0m\u001b[1;33m.\u001b[0m\u001b[0mdissipate_features\u001b[0m\u001b[1;33m(\u001b[0m\u001b[0mdf\u001b[0m\u001b[1;33m,\u001b[0m \u001b[0mACCUMLATED_FEATURE_COLUMNS\u001b[0m\u001b[1;33m)\u001b[0m\u001b[1;33m\u001b[0m\u001b[0m\n\u001b[0;32m      4\u001b[0m \u001b[1;31m#df = prepare_data.add_rolling(df,[\"POWER\"], intervals, ONE_DAY)\u001b[0m\u001b[1;33m\u001b[0m\u001b[1;33m\u001b[0m\u001b[0m\n\u001b[0;32m      5\u001b[0m \u001b[1;31m#ROLLING_COLUMNS.remove(\"POWER\")\u001b[0m\u001b[1;33m\u001b[0m\u001b[1;33m\u001b[0m\u001b[0m\n",
      "\u001b[1;31mTypeError\u001b[0m: prepare() missing 2 required positional arguments: 'predict_interval' and 'rolling_intervals'"
     ]
    }
   ],
   "source": [
    "df = df_cut.copy()\n",
    "df = prepare_data.prepare(df)\n",
    "df = prepare_data.dissipate_features(df, ACCUMLATED_FEATURE_COLUMNS)\n",
    "#df = prepare_data.add_rolling(df,[\"POWER\"], intervals, ONE_DAY)\n",
    "#ROLLING_COLUMNS.remove(\"POWER\")\n",
    "df = prepare_data.add_rolling(df,ROLLING_COLUMNS, intervals, ONE_DAY)"
   ]
  },
  {
   "cell_type": "code",
   "execution_count": null,
   "metadata": {},
   "outputs": [],
   "source": [
    "df_train = df[:TRAIN_SIZE].dropna(axis=0)\n",
    "X_train = df_train.drop(ROLLING_COLUMNS,axis=1)\n",
    "y_train = df_train.POWER\n",
    "from xgboost import XGBRegressor\n",
    "boosted_model = train_model.train(X_train, y_train)"
   ]
  },
  {
   "cell_type": "code",
   "execution_count": null,
   "metadata": {
    "scrolled": true
   },
   "outputs": [],
   "source": [
    "import numpy as np\n",
    "from bokeh.plotting import figure,show\n",
    "from bokeh.io import output_notebook\n",
    "output_notebook()\n",
    "from sklearn.metrics import explained_variance_score\n",
    "\n",
    "results = []\n",
    "y_tests = []\n",
    "y_preds = []\n",
    "\n",
    "for i in range(number_of_tests):\n",
    "    start = TRAIN_SIZE+size_of_prediction * i\n",
    "    end = TRAIN_SIZE+size_of_prediction * (i+1)\n",
    "    df_test = df[start:end] \n",
    "    X_test = df_test.drop(ROLLING_COLUMNS,axis=1)\n",
    "    y_test = df_test.POWER\n",
    "    y_pred = predict_model.predict(X_test, boosted_model)\n",
    "#     p = figure()\n",
    "#     p.line(np.arange(len(y_test)), y_test, legend=\"real\")\n",
    "#     p.line(np.arange(len(y_pred)), y_pred, legend=\"predicted_xgb\", color=\"orange\")\n",
    "#     show(p)\n",
    "    y_tests.extend(y_test)\n",
    "    y_preds.extend(y_pred)\n",
    "    print(explained_variance_score(y_pred, y_test))\n",
    "    results.append(explained_variance_score(y_pred, y_test))"
   ]
  },
  {
   "cell_type": "code",
   "execution_count": null,
   "metadata": {
    "scrolled": true
   },
   "outputs": [],
   "source": [
    "p = figure()\n",
    "p.line(np.arange(7*ONE_DAY), y_tests[:7*ONE_DAY], legend=\"real\", line_width=2)\n",
    "p.line(np.arange(7*ONE_DAY), y_preds[:7*ONE_DAY], legend=\"predicted\", color=\"orange\", line_width=2)\n",
    "show(p)"
   ]
  },
  {
   "cell_type": "code",
   "execution_count": null,
   "metadata": {},
   "outputs": [],
   "source": [
    "p = figure()\n",
    "p.line(np.arange(len(results)), results, legend=\"accuracy\", line_width=2,color = \"green\")\n",
    "show(p)"
   ]
  },
  {
   "cell_type": "code",
   "execution_count": null,
   "metadata": {},
   "outputs": [],
   "source": [
    "# # -*- coding: utf-8 -*-\n",
    "# import pandas as pd\n",
    "# import numpy as np\n",
    "# import xgboost as xgb\n",
    "# from sklearn.metrics import mean_absolute_error\n",
    "# import matplotlib.pylab as plt\n",
    "# import pandas as pd, numpy as np\n",
    "# from sklearn.metrics import mean_absolute_error\n",
    "# import xgboost as xgb\n",
    "# from hyperopt import hp, tpe, STATUS_OK, Trials\n",
    "# from hyperopt.fmin import fmin\n",
    "\n",
    "# def xgb_eval_mae(yhat, dtrain):\n",
    "#     y = dtrain.get_label()\n",
    "#     return 'mae', mean_absolute_error(np.exp(y), np.exp(yhat))\n",
    "\n",
    "# def objective(space):\n",
    "\n",
    "#     clf = xgb.XGBRegressor(n_estimators = space['n_estimators'],\n",
    "#                            max_depth = space['max_depth'],\n",
    "#                            min_child_weight = space['min_child_weight'],\n",
    "#                            subsample = space['subsample'],\n",
    "#                            learning_rate = space['learning_rate'],\n",
    "#                            gamma = space['gamma'],\n",
    "#                            colsample_bytree = space['colsample_bytree'],\n",
    "#                            objective='reg:linear',\n",
    "#                            nthread=8\n",
    "#                            )\n",
    "\n",
    "#     eval_set  = [( X_train, y_train), ( X_test, y_test)]\n",
    "\n",
    "#     clf.fit(X_train,\n",
    "#             y_train,\n",
    "#             eval_set=eval_set,\n",
    "#             eval_metric = 'mae')\n",
    "\n",
    "#     pred = clf.predict(X_test)\n",
    "# #   mae = mean_absolute_error(np.exp(y_valid), np.exp(pred))\n",
    "#     mae = mean_absolute_error((y_test), (pred))\n",
    "\n",
    "#     print(\"SCORE:\", mae)\n",
    "#     return{'loss':mae, 'status': STATUS_OK }\n",
    "\n",
    "\n",
    "# space ={\n",
    "#         'max_depth': hp.choice('max_depth', np.arange(10, 30, dtype=int)),\n",
    "#         'min_child_weight': hp.quniform ('min_child', 1, 20, 1),\n",
    "#         'subsample': hp.uniform ('subsample', 0.8, 1),\n",
    "#         'n_estimators' : hp.choice('n_estimators', np.arange(1000, 10000, 100, dtype=int)),\n",
    "#         'learning_rate' : hp.quniform('learning_rate', 0.025, 0.5, 0.025),\n",
    "#         'gamma' : hp.quniform('gamma', 0.5, 1, 0.05),\n",
    "#         'colsample_bytree' : hp.quniform('colsample_bytree', 0.5, 1, 0.05)\n",
    "#     }\n",
    "\n",
    "# # space ={\n",
    "# #         'max_depth': hp.choice('max_depth', np.arange(10, 11, dtype=int)),\n",
    "# #         'min_child_weight': hp.quniform ('min_child', 1,2,1),\n",
    "# #         'subsample': hp.uniform ('subsample', 0.8,1),\n",
    "# #         'n_estimators' : hp.choice('n_estimators', np.arange(100, 1000, 10, dtype=int)),\n",
    "# #         'learning_rate' : hp.quniform('learning_rate', 0.025, 0.5, 0.025),\n",
    "# #         'gamma' : hp.quniform('gamma', 0.5, 1, 0.5),\n",
    "# #         'colsample_bytree' : hp.quniform('colsample_bytree', 0.5,1, 0.5)\n",
    "# #        }\n",
    "\n",
    "\n",
    "# trials = Trials()\n",
    "# best = fmin(fn=objective,\n",
    "#             space=space,\n",
    "#             algo=tpe.suggest,\n",
    "#             max_evals=3, # change\n",
    "#             trials=trials)\n",
    "\n",
    "# print(best)"
   ]
  },
  {
   "cell_type": "code",
   "execution_count": null,
   "metadata": {},
   "outputs": [],
   "source": [
    "#{'colsample_bytree': 1.0, 'gamma': 1.0, 'learning_rate': 0.45, 'max_depth': 0, 'min_child': 2.0, 'n_estimators': 32, 'subsample': 0.9025912497131673}\n",
    "#{'colsample_bytree': 0.9, 'gamma': 0.65, 'learning_rate': 0.5, 'max_depth': 1, 'min_child': 9.0, 'n_estimators': 45, 'subsample': 0.9474048013202294}"
   ]
  }
 ],
 "metadata": {
  "kernelspec": {
   "display_name": "Python 3",
   "language": "python",
   "name": "python3"
  },
  "language_info": {
   "codemirror_mode": {
    "name": "ipython",
    "version": 3
   },
   "file_extension": ".py",
   "mimetype": "text/x-python",
   "name": "python",
   "nbconvert_exporter": "python",
   "pygments_lexer": "ipython3",
   "version": "3.6.5"
  }
 },
 "nbformat": 4,
 "nbformat_minor": 2
}
